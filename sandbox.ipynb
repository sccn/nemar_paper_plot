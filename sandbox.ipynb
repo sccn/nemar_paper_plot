{
 "cells": [
  {
   "cell_type": "markdown",
   "metadata": {},
   "source": [
    "### Imports"
   ]
  },
  {
   "cell_type": "code",
   "execution_count": 7,
   "metadata": {},
   "outputs": [],
   "source": [
    "# imports\n",
    "\n",
    "import numpy as np\n",
    "import pandas as pd\n",
    "import seaborn as sns\n",
    "import matplotlib.pyplot as plt\n",
    "import plotly.express as px\n",
    "import plotly.graph_objects as go"
   ]
  },
  {
   "cell_type": "code",
   "execution_count": 8,
   "metadata": {},
   "outputs": [
    {
     "name": "stdout",
     "output_type": "stream",
     "text": [
      "df shape: (303, 70)\n"
     ]
    },
    {
     "name": "stderr",
     "output_type": "stream",
     "text": [
      "/var/folders/ds/qxmx4zy969v_twj4bz2m_zvw0000gn/T/ipykernel_14797/1718508708.py:6: FutureWarning:\n",
      "\n",
      "DataFrame.applymap has been deprecated. Use DataFrame.map instead.\n",
      "\n",
      "/var/folders/ds/qxmx4zy969v_twj4bz2m_zvw0000gn/T/ipykernel_14797/1718508708.py:7: FutureWarning:\n",
      "\n",
      "DataFrame.applymap has been deprecated. Use DataFrame.map instead.\n",
      "\n"
     ]
    },
    {
     "data": {
      "text/html": [
       "<div>\n",
       "<style scoped>\n",
       "    .dataframe tbody tr th:only-of-type {\n",
       "        vertical-align: middle;\n",
       "    }\n",
       "\n",
       "    .dataframe tbody tr th {\n",
       "        vertical-align: top;\n",
       "    }\n",
       "\n",
       "    .dataframe thead th {\n",
       "        text-align: right;\n",
       "    }\n",
       "</style>\n",
       "<table border=\"1\" class=\"dataframe\">\n",
       "  <thead>\n",
       "    <tr style=\"text-align: right;\">\n",
       "      <th></th>\n",
       "      <th>intern</th>\n",
       "      <th>DatasetID</th>\n",
       "      <th>Warning Message</th>\n",
       "      <th>Error Message</th>\n",
       "      <th>has_visualization</th>\n",
       "      <th>No papers linked - hard to find other data</th>\n",
       "      <th>Multiple Papers linked, none match NEMAR</th>\n",
       "      <th>HED anotation</th>\n",
       "      <th>Participants</th>\n",
       "      <th>Age range</th>\n",
       "      <th>...</th>\n",
       "      <th>Published date</th>\n",
       "      <th>Uploaded by</th>\n",
       "      <th>Date last update</th>\n",
       "      <th>Dataset DOI</th>\n",
       "      <th>References and links</th>\n",
       "      <th>License</th>\n",
       "      <th>On Brainlife.org</th>\n",
       "      <th>Funding</th>\n",
       "      <th>Ethics Approvals</th>\n",
       "      <th>IRB</th>\n",
       "    </tr>\n",
       "  </thead>\n",
       "  <tbody>\n",
       "    <tr>\n",
       "      <th>301</th>\n",
       "      <td>liz</td>\n",
       "      <td>ds003483</td>\n",
       "      <td>NaN</td>\n",
       "      <td>NaN</td>\n",
       "      <td>False</td>\n",
       "      <td>NaN</td>\n",
       "      <td>NaN</td>\n",
       "      <td>no</td>\n",
       "      <td>21</td>\n",
       "      <td>NaN</td>\n",
       "      <td>...</td>\n",
       "      <td>2021-01-24 10:37:19</td>\n",
       "      <td>luis fernando antón toro</td>\n",
       "      <td>NaN</td>\n",
       "      <td>10.18112/openneuro.ds003483.v1.0.2</td>\n",
       "      <td>NaN</td>\n",
       "      <td>cc0</td>\n",
       "      <td>true</td>\n",
       "      <td>NaN</td>\n",
       "      <td>NaN</td>\n",
       "      <td>NaN</td>\n",
       "    </tr>\n",
       "    <tr>\n",
       "      <th>302</th>\n",
       "      <td>liz</td>\n",
       "      <td>ds003352</td>\n",
       "      <td>please use the checkmaxfilter option before pr...</td>\n",
       "      <td>NaN</td>\n",
       "      <td>False</td>\n",
       "      <td>NaN</td>\n",
       "      <td>NaN</td>\n",
       "      <td>no</td>\n",
       "      <td>18</td>\n",
       "      <td>17-26</td>\n",
       "      <td>...</td>\n",
       "      <td>2020-11-03 21:07:28</td>\n",
       "      <td>conway lab</td>\n",
       "      <td>NaN</td>\n",
       "      <td>10.18112/openneuro.ds003352.v1.0.0</td>\n",
       "      <td>appelhoff, s., sanderson, m., brooks, t., vlie...</td>\n",
       "      <td>cc0</td>\n",
       "      <td>true</td>\n",
       "      <td>NaN</td>\n",
       "      <td>NaN</td>\n",
       "      <td>NaN</td>\n",
       "    </tr>\n",
       "    <tr>\n",
       "      <th>303</th>\n",
       "      <td>liz</td>\n",
       "      <td>ds002791</td>\n",
       "      <td>the dataset indicates it contains data epochs ...</td>\n",
       "      <td>NaN</td>\n",
       "      <td>False</td>\n",
       "      <td>NaN</td>\n",
       "      <td>NaN</td>\n",
       "      <td>no</td>\n",
       "      <td>23</td>\n",
       "      <td>19-40</td>\n",
       "      <td>...</td>\n",
       "      <td>2020-07-17 20:53:39</td>\n",
       "      <td>ahmad mheich</td>\n",
       "      <td>NaN</td>\n",
       "      <td>10.18112/openneuro.ds002791.v1.0.0</td>\n",
       "      <td>NaN</td>\n",
       "      <td>cc0</td>\n",
       "      <td>true</td>\n",
       "      <td>NaN</td>\n",
       "      <td>NaN</td>\n",
       "      <td>NaN</td>\n",
       "    </tr>\n",
       "    <tr>\n",
       "      <th>304</th>\n",
       "      <td>peter</td>\n",
       "      <td>ds005107</td>\n",
       "      <td>NaN</td>\n",
       "      <td>NaN</td>\n",
       "      <td>NaN</td>\n",
       "      <td>NaN</td>\n",
       "      <td>NaN</td>\n",
       "      <td>no</td>\n",
       "      <td>21</td>\n",
       "      <td>20-27</td>\n",
       "      <td>...</td>\n",
       "      <td>2024-06-26 6:05:45</td>\n",
       "      <td>wei xu</td>\n",
       "      <td>NaN</td>\n",
       "      <td>doi:10.18112/openneuro.ds005107.v1.0.3</td>\n",
       "      <td>NaN</td>\n",
       "      <td>cc0</td>\n",
       "      <td>false</td>\n",
       "      <td>NaN</td>\n",
       "      <td>NaN</td>\n",
       "      <td>NaN</td>\n",
       "    </tr>\n",
       "    <tr>\n",
       "      <th>305</th>\n",
       "      <td>peter</td>\n",
       "      <td>ds005274</td>\n",
       "      <td>NaN</td>\n",
       "      <td>NaN</td>\n",
       "      <td>NaN</td>\n",
       "      <td>NaN</td>\n",
       "      <td>NaN</td>\n",
       "      <td>no</td>\n",
       "      <td>22</td>\n",
       "      <td>20-26</td>\n",
       "      <td>...</td>\n",
       "      <td>2024-07-07 9:38:41</td>\n",
       "      <td>yukako ito</td>\n",
       "      <td>NaN</td>\n",
       "      <td>doi:10.18112/openneuro.ds005274.v1.0.0</td>\n",
       "      <td>NaN</td>\n",
       "      <td>cc0</td>\n",
       "      <td>false</td>\n",
       "      <td>NaN</td>\n",
       "      <td>NaN</td>\n",
       "      <td>NaN</td>\n",
       "    </tr>\n",
       "  </tbody>\n",
       "</table>\n",
       "<p>5 rows × 70 columns</p>\n",
       "</div>"
      ],
      "text/plain": [
       "    intern DatasetID                                    Warning Message  \\\n",
       "301    liz  ds003483                                                NaN   \n",
       "302    liz  ds003352  please use the checkmaxfilter option before pr...   \n",
       "303    liz  ds002791  the dataset indicates it contains data epochs ...   \n",
       "304  peter  ds005107                                                NaN   \n",
       "305  peter  ds005274                                                NaN   \n",
       "\n",
       "    Error Message has_visualization  \\\n",
       "301           NaN             False   \n",
       "302           NaN             False   \n",
       "303           NaN             False   \n",
       "304           NaN               NaN   \n",
       "305           NaN               NaN   \n",
       "\n",
       "    No papers linked - hard to find other data  \\\n",
       "301                                        NaN   \n",
       "302                                        NaN   \n",
       "303                                        NaN   \n",
       "304                                        NaN   \n",
       "305                                        NaN   \n",
       "\n",
       "    Multiple Papers linked, none match NEMAR HED anotation Participants  \\\n",
       "301                                      NaN            no           21   \n",
       "302                                      NaN            no           18   \n",
       "303                                      NaN            no           23   \n",
       "304                                      NaN            no           21   \n",
       "305                                      NaN            no           22   \n",
       "\n",
       "    Age range  ...       Published date               Uploaded by  \\\n",
       "301       NaN  ...  2021-01-24 10:37:19  luis fernando antón toro   \n",
       "302     17-26  ...  2020-11-03 21:07:28                conway lab   \n",
       "303     19-40  ...  2020-07-17 20:53:39              ahmad mheich   \n",
       "304     20-27  ...   2024-06-26 6:05:45                    wei xu   \n",
       "305     20-26  ...   2024-07-07 9:38:41                yukako ito   \n",
       "\n",
       "    Date last update                             Dataset DOI  \\\n",
       "301              NaN      10.18112/openneuro.ds003483.v1.0.2   \n",
       "302              NaN      10.18112/openneuro.ds003352.v1.0.0   \n",
       "303              NaN      10.18112/openneuro.ds002791.v1.0.0   \n",
       "304              NaN  doi:10.18112/openneuro.ds005107.v1.0.3   \n",
       "305              NaN  doi:10.18112/openneuro.ds005274.v1.0.0   \n",
       "\n",
       "                                  References and links License  \\\n",
       "301                                                NaN     cc0   \n",
       "302  appelhoff, s., sanderson, m., brooks, t., vlie...     cc0   \n",
       "303                                                NaN     cc0   \n",
       "304                                                NaN     cc0   \n",
       "305                                                NaN     cc0   \n",
       "\n",
       "    On Brainlife.org Funding Ethics Approvals  IRB  \n",
       "301             true     NaN              NaN  NaN  \n",
       "302             true     NaN              NaN  NaN  \n",
       "303             true     NaN              NaN  NaN  \n",
       "304            false     NaN              NaN  NaN  \n",
       "305            false     NaN              NaN  NaN  \n",
       "\n",
       "[5 rows x 70 columns]"
      ]
     },
     "execution_count": 8,
     "metadata": {},
     "output_type": "execute_result"
    }
   ],
   "source": [
    "# import, preprocess, and look over raw data\n",
    "\n",
    "df = pd.read_csv(\"data/data_11_26_2024.csv\")\n",
    "df = df.dropna(subset=['DatasetID'])\n",
    "df.replace(\"n/a\", \"\", inplace=True)\n",
    "df = df.applymap(lambda x: x.strip() if isinstance(x, str) else x)\n",
    "df = df.applymap(lambda x: x.lower() if isinstance(x, str) else x)\n",
    "df.rename(columns={'iEEG modality': 'iEEG Modality'}, inplace=True)\n",
    "# df.set_index('DatasetID', inplace=True)\n",
    "\n",
    "print(f'df shape: {df.shape}')\n",
    "df.tail()"
   ]
  },
  {
   "cell_type": "markdown",
   "metadata": {},
   "source": [
    "### Figure 1\n",
    "\n",
    "Modality x Modality of experiment x type of experiment \n",
    "\n",
    "Network chart start w main modality (EEG, MEG, IEGG) and then continue to break up (like figure 4 in other paper)"
   ]
  },
  {
   "cell_type": "code",
   "execution_count": 3,
   "metadata": {},
   "outputs": [
    {
     "ename": "KeyError",
     "evalue": "\"['iEEG modality'] not in index\"",
     "output_type": "error",
     "traceback": [
      "\u001b[0;31m---------------------------------------------------------------------------\u001b[0m",
      "\u001b[0;31mKeyError\u001b[0m                                  Traceback (most recent call last)",
      "Cell \u001b[0;32mIn[3], line 3\u001b[0m\n\u001b[1;32m      1\u001b[0m \u001b[38;5;28;01mimport\u001b[39;00m \u001b[38;5;21;01mnetworkx\u001b[39;00m \u001b[38;5;28;01mas\u001b[39;00m \u001b[38;5;21;01mnx\u001b[39;00m\n\u001b[0;32m----> 3\u001b[0m df_fig1 \u001b[38;5;241m=\u001b[39m \u001b[43mdf\u001b[49m\u001b[43m[\u001b[49m\u001b[43m[\u001b[49m\u001b[38;5;124;43m'\u001b[39;49m\u001b[38;5;124;43mEEG Modality\u001b[39;49m\u001b[38;5;124;43m'\u001b[39;49m\u001b[43m,\u001b[49m\u001b[43m \u001b[49m\u001b[38;5;124;43m'\u001b[39;49m\u001b[38;5;124;43mMEG Modality\u001b[39;49m\u001b[38;5;124;43m'\u001b[39;49m\u001b[43m,\u001b[49m\u001b[43m \u001b[49m\u001b[38;5;124;43m'\u001b[39;49m\u001b[38;5;124;43miEEG modality\u001b[39;49m\u001b[38;5;124;43m'\u001b[39;49m\u001b[43m,\u001b[49m\u001b[43m \u001b[49m\u001b[38;5;124;43m'\u001b[39;49m\u001b[38;5;124;43mFOR FIGURE - modality of exp\u001b[39;49m\u001b[38;5;124;43m'\u001b[39;49m\u001b[43m,\u001b[49m\u001b[43m \u001b[49m\u001b[38;5;124;43m'\u001b[39;49m\u001b[38;5;124;43mFOR FIGURE - type of exp\u001b[39;49m\u001b[38;5;124;43m'\u001b[39;49m\u001b[43m]\u001b[49m\u001b[43m]\u001b[49m\n\u001b[1;32m      4\u001b[0m primary_modalities \u001b[38;5;241m=\u001b[39m [\u001b[38;5;124m'\u001b[39m\u001b[38;5;124mEEG\u001b[39m\u001b[38;5;124m'\u001b[39m, \u001b[38;5;124m'\u001b[39m\u001b[38;5;124mMEG\u001b[39m\u001b[38;5;124m'\u001b[39m, \u001b[38;5;124m'\u001b[39m\u001b[38;5;124miEEG\u001b[39m\u001b[38;5;124m'\u001b[39m]\n\u001b[1;32m      6\u001b[0m modalities_fig8 \u001b[38;5;241m=\u001b[39m df[\u001b[38;5;124m'\u001b[39m\u001b[38;5;124mFOR FIGURE - modality of exp\u001b[39m\u001b[38;5;124m'\u001b[39m]\u001b[38;5;241m.\u001b[39munique()\n",
      "File \u001b[0;32m~/venv/lib/python3.12/site-packages/pandas/core/frame.py:4108\u001b[0m, in \u001b[0;36mDataFrame.__getitem__\u001b[0;34m(self, key)\u001b[0m\n\u001b[1;32m   4106\u001b[0m     \u001b[38;5;28;01mif\u001b[39;00m is_iterator(key):\n\u001b[1;32m   4107\u001b[0m         key \u001b[38;5;241m=\u001b[39m \u001b[38;5;28mlist\u001b[39m(key)\n\u001b[0;32m-> 4108\u001b[0m     indexer \u001b[38;5;241m=\u001b[39m \u001b[38;5;28;43mself\u001b[39;49m\u001b[38;5;241;43m.\u001b[39;49m\u001b[43mcolumns\u001b[49m\u001b[38;5;241;43m.\u001b[39;49m\u001b[43m_get_indexer_strict\u001b[49m\u001b[43m(\u001b[49m\u001b[43mkey\u001b[49m\u001b[43m,\u001b[49m\u001b[43m \u001b[49m\u001b[38;5;124;43m\"\u001b[39;49m\u001b[38;5;124;43mcolumns\u001b[39;49m\u001b[38;5;124;43m\"\u001b[39;49m\u001b[43m)\u001b[49m[\u001b[38;5;241m1\u001b[39m]\n\u001b[1;32m   4110\u001b[0m \u001b[38;5;66;03m# take() does not accept boolean indexers\u001b[39;00m\n\u001b[1;32m   4111\u001b[0m \u001b[38;5;28;01mif\u001b[39;00m \u001b[38;5;28mgetattr\u001b[39m(indexer, \u001b[38;5;124m\"\u001b[39m\u001b[38;5;124mdtype\u001b[39m\u001b[38;5;124m\"\u001b[39m, \u001b[38;5;28;01mNone\u001b[39;00m) \u001b[38;5;241m==\u001b[39m \u001b[38;5;28mbool\u001b[39m:\n",
      "File \u001b[0;32m~/venv/lib/python3.12/site-packages/pandas/core/indexes/base.py:6200\u001b[0m, in \u001b[0;36mIndex._get_indexer_strict\u001b[0;34m(self, key, axis_name)\u001b[0m\n\u001b[1;32m   6197\u001b[0m \u001b[38;5;28;01melse\u001b[39;00m:\n\u001b[1;32m   6198\u001b[0m     keyarr, indexer, new_indexer \u001b[38;5;241m=\u001b[39m \u001b[38;5;28mself\u001b[39m\u001b[38;5;241m.\u001b[39m_reindex_non_unique(keyarr)\n\u001b[0;32m-> 6200\u001b[0m \u001b[38;5;28;43mself\u001b[39;49m\u001b[38;5;241;43m.\u001b[39;49m\u001b[43m_raise_if_missing\u001b[49m\u001b[43m(\u001b[49m\u001b[43mkeyarr\u001b[49m\u001b[43m,\u001b[49m\u001b[43m \u001b[49m\u001b[43mindexer\u001b[49m\u001b[43m,\u001b[49m\u001b[43m \u001b[49m\u001b[43maxis_name\u001b[49m\u001b[43m)\u001b[49m\n\u001b[1;32m   6202\u001b[0m keyarr \u001b[38;5;241m=\u001b[39m \u001b[38;5;28mself\u001b[39m\u001b[38;5;241m.\u001b[39mtake(indexer)\n\u001b[1;32m   6203\u001b[0m \u001b[38;5;28;01mif\u001b[39;00m \u001b[38;5;28misinstance\u001b[39m(key, Index):\n\u001b[1;32m   6204\u001b[0m     \u001b[38;5;66;03m# GH 42790 - Preserve name from an Index\u001b[39;00m\n",
      "File \u001b[0;32m~/venv/lib/python3.12/site-packages/pandas/core/indexes/base.py:6252\u001b[0m, in \u001b[0;36mIndex._raise_if_missing\u001b[0;34m(self, key, indexer, axis_name)\u001b[0m\n\u001b[1;32m   6249\u001b[0m     \u001b[38;5;28;01mraise\u001b[39;00m \u001b[38;5;167;01mKeyError\u001b[39;00m(\u001b[38;5;124mf\u001b[39m\u001b[38;5;124m\"\u001b[39m\u001b[38;5;124mNone of [\u001b[39m\u001b[38;5;132;01m{\u001b[39;00mkey\u001b[38;5;132;01m}\u001b[39;00m\u001b[38;5;124m] are in the [\u001b[39m\u001b[38;5;132;01m{\u001b[39;00maxis_name\u001b[38;5;132;01m}\u001b[39;00m\u001b[38;5;124m]\u001b[39m\u001b[38;5;124m\"\u001b[39m)\n\u001b[1;32m   6251\u001b[0m not_found \u001b[38;5;241m=\u001b[39m \u001b[38;5;28mlist\u001b[39m(ensure_index(key)[missing_mask\u001b[38;5;241m.\u001b[39mnonzero()[\u001b[38;5;241m0\u001b[39m]]\u001b[38;5;241m.\u001b[39munique())\n\u001b[0;32m-> 6252\u001b[0m \u001b[38;5;28;01mraise\u001b[39;00m \u001b[38;5;167;01mKeyError\u001b[39;00m(\u001b[38;5;124mf\u001b[39m\u001b[38;5;124m\"\u001b[39m\u001b[38;5;132;01m{\u001b[39;00mnot_found\u001b[38;5;132;01m}\u001b[39;00m\u001b[38;5;124m not in index\u001b[39m\u001b[38;5;124m\"\u001b[39m)\n",
      "\u001b[0;31mKeyError\u001b[0m: \"['iEEG modality'] not in index\""
     ]
    }
   ],
   "source": [
    "import networkx as nx\n",
    "\n",
    "df_fig1 = df[['EEG Modality', 'MEG Modality', 'iEEG modality', 'FOR FIGURE - modality of exp', 'FOR FIGURE - type of exp']]\n",
    "primary_modalities = ['EEG', 'MEG', 'iEEG']\n",
    "\n",
    "modalities_fig8 = df['FOR FIGURE - modality of exp'].unique()\n",
    "\n",
    "# Create a directed graph for all primary modalities\n",
    "G_all = nx.DiGraph()\n",
    "\n",
    "# Add nodes for primary modalities\n",
    "for modality in primary_modalities:\n",
    "    G_all.add_node(modality)\n",
    "\n",
    "# Add nodes and edges for additional modalities\n",
    "for additional in modalities_fig8:\n",
    "    G_all.add_node(additional)\n",
    "    for modality in primary_modalities:\n",
    "        count = df_fig1[df_fig1['FOR FIGURE - modality of exp'].str.contains(str(additional), case=False, na=False)].shape[0]\n",
    "        if count > 0:\n",
    "            G_all.add_edge(modality, additional, weight=count)\n",
    "\n",
    "# Define colors for the nodes and edges\n",
    "node_colors = []\n",
    "edge_colors = []\n",
    "\n",
    "for node in G_all.nodes():\n",
    "    if node in primary_modalities:\n",
    "        if node == 'EEG':\n",
    "            node_colors.append('red')\n",
    "        elif node == 'MEG':\n",
    "            node_colors.append('blue')\n",
    "        elif node == 'iEEG':\n",
    "            node_colors.append('green')\n",
    "    else:\n",
    "        node_colors.append('#cccccc')\n",
    "\n",
    "for edge in G_all.edges():\n",
    "    if edge[0] == 'EEG':\n",
    "        edge_colors.append('red')\n",
    "    elif edge[0] == 'MEG':\n",
    "        edge_colors.append('blue')\n",
    "    elif edge[0] == 'iEEG':\n",
    "        edge_colors.append('green')\n",
    "    else:\n",
    "        edge_colors.append('gray')\n",
    "\n",
    "# Draw the combined graph with primary modalities in different locations\n",
    "pos_all = nx.spring_layout(G_all, seed=42)\n",
    "pos_all['EEG'] = [-0.5, 0]\n",
    "pos_all['MEG'] = [0.5, 0]\n",
    "pos_all['iEEG'] = [0, 0.5]\n",
    "\n",
    "plt.figure(figsize=(20, 15))\n",
    "nx.draw(G_all, \n",
    "        pos_all, \n",
    "        with_labels=True, \n",
    "        node_size=3000, \n",
    "        node_color=node_colors, \n",
    "        font_size=20, \n",
    "        font_weight=\"bold\", \n",
    "        edge_color=edge_colors,\n",
    "        alpha=0.5)\n",
    "labels_all = nx.get_edge_attributes(G_all, 'weight')\n",
    "nx.draw_networkx_edge_labels(G_all, pos_all, edge_labels=labels_all, font_size='20')\n",
    "plt.title(\"Network Diagram of EEG, MEG, iEEG and Additional Modalities\")\n",
    "plt.show()\n"
   ]
  },
  {
   "cell_type": "code",
   "execution_count": null,
   "metadata": {},
   "outputs": [
    {
     "data": {
      "application/vnd.plotly.v1+json": {
       "config": {
        "plotlyServerURL": "https://plot.ly"
       },
       "data": [
        {
         "link": {
          "source": [
           0,
           0,
           0,
           0,
           0,
           0,
           0,
           0,
           0,
           0,
           1,
           1,
           1,
           1,
           1,
           1,
           2,
           2,
           2,
           2,
           2,
           2,
           2,
           2,
           3,
           3,
           3,
           3,
           3,
           3,
           3,
           3,
           3,
           4,
           4,
           4,
           4,
           4,
           4,
           5,
           5,
           6,
           6,
           7,
           7,
           7,
           7,
           7,
           7,
           7,
           7,
           7,
           7,
           8,
           8,
           8,
           8,
           8,
           8,
           9,
           10,
           10,
           10,
           10,
           10,
           10,
           11,
           11,
           11,
           12,
           12,
           12,
           12,
           12,
           13,
           13
          ],
          "target": [
           3,
           4,
           5,
           6,
           7,
           8,
           10,
           11,
           12,
           13,
           3,
           4,
           5,
           7,
           8,
           11,
           3,
           4,
           5,
           7,
           8,
           9,
           12,
           13,
           14,
           15,
           16,
           17,
           18,
           20,
           21,
           22,
           23,
           15,
           16,
           17,
           18,
           21,
           22,
           16,
           19,
           15,
           17,
           14,
           15,
           16,
           17,
           18,
           19,
           20,
           21,
           22,
           23,
           14,
           15,
           16,
           17,
           19,
           22,
           19,
           14,
           15,
           17,
           18,
           19,
           22,
           14,
           19,
           22,
           16,
           18,
           19,
           21,
           22,
           16,
           20
          ],
          "value": [
           108,
           30,
           11,
           3,
           35,
           5,
           11,
           6,
           4,
           6,
           25,
           3,
           2,
           12,
           1,
           1,
           9,
           2,
           1,
           5,
           10,
           4,
           3,
           1,
           18,
           23,
           5,
           8,
           22,
           25,
           9,
           25,
           3,
           5,
           5,
           5,
           9,
           5,
           6,
           11,
           3,
           2,
           1,
           1,
           6,
           4,
           3,
           11,
           3,
           6,
           8,
           7,
           2,
           1,
           1,
           8,
           1,
           4,
           1,
           4,
           5,
           1,
           1,
           2,
           1,
           1,
           1,
           5,
           1,
           2,
           1,
           2,
           1,
           1,
           6,
           1
          ]
         },
         "node": {
          "label": [
           "EEG",
           "MEG",
           "iEEG",
           "visual",
           "multisensory",
           "resting state",
           "tactile",
           "auditory",
           "stimulation",
           "surgery",
           "modality_motor",
           "pharmaceutical",
           "modality_other",
           "sleep",
           "exp_motor",
           "perception",
           "neuroimaging",
           "learning",
           "attention",
           "clinical/intervention",
           "memory",
           "affect",
           "decision-making",
           "exp_other"
          ],
          "line": {
           "color": "black",
           "width": 0.5
          },
          "pad": 20,
          "thickness": 20
         },
         "type": "sankey"
        }
       ],
       "layout": {
        "font": {
         "size": 12
        },
        "template": {
         "data": {
          "bar": [
           {
            "error_x": {
             "color": "#2a3f5f"
            },
            "error_y": {
             "color": "#2a3f5f"
            },
            "marker": {
             "line": {
              "color": "#E5ECF6",
              "width": 0.5
             },
             "pattern": {
              "fillmode": "overlay",
              "size": 10,
              "solidity": 0.2
             }
            },
            "type": "bar"
           }
          ],
          "barpolar": [
           {
            "marker": {
             "line": {
              "color": "#E5ECF6",
              "width": 0.5
             },
             "pattern": {
              "fillmode": "overlay",
              "size": 10,
              "solidity": 0.2
             }
            },
            "type": "barpolar"
           }
          ],
          "carpet": [
           {
            "aaxis": {
             "endlinecolor": "#2a3f5f",
             "gridcolor": "white",
             "linecolor": "white",
             "minorgridcolor": "white",
             "startlinecolor": "#2a3f5f"
            },
            "baxis": {
             "endlinecolor": "#2a3f5f",
             "gridcolor": "white",
             "linecolor": "white",
             "minorgridcolor": "white",
             "startlinecolor": "#2a3f5f"
            },
            "type": "carpet"
           }
          ],
          "choropleth": [
           {
            "colorbar": {
             "outlinewidth": 0,
             "ticks": ""
            },
            "type": "choropleth"
           }
          ],
          "contour": [
           {
            "colorbar": {
             "outlinewidth": 0,
             "ticks": ""
            },
            "colorscale": [
             [
              0,
              "#0d0887"
             ],
             [
              0.1111111111111111,
              "#46039f"
             ],
             [
              0.2222222222222222,
              "#7201a8"
             ],
             [
              0.3333333333333333,
              "#9c179e"
             ],
             [
              0.4444444444444444,
              "#bd3786"
             ],
             [
              0.5555555555555556,
              "#d8576b"
             ],
             [
              0.6666666666666666,
              "#ed7953"
             ],
             [
              0.7777777777777778,
              "#fb9f3a"
             ],
             [
              0.8888888888888888,
              "#fdca26"
             ],
             [
              1,
              "#f0f921"
             ]
            ],
            "type": "contour"
           }
          ],
          "contourcarpet": [
           {
            "colorbar": {
             "outlinewidth": 0,
             "ticks": ""
            },
            "type": "contourcarpet"
           }
          ],
          "heatmap": [
           {
            "colorbar": {
             "outlinewidth": 0,
             "ticks": ""
            },
            "colorscale": [
             [
              0,
              "#0d0887"
             ],
             [
              0.1111111111111111,
              "#46039f"
             ],
             [
              0.2222222222222222,
              "#7201a8"
             ],
             [
              0.3333333333333333,
              "#9c179e"
             ],
             [
              0.4444444444444444,
              "#bd3786"
             ],
             [
              0.5555555555555556,
              "#d8576b"
             ],
             [
              0.6666666666666666,
              "#ed7953"
             ],
             [
              0.7777777777777778,
              "#fb9f3a"
             ],
             [
              0.8888888888888888,
              "#fdca26"
             ],
             [
              1,
              "#f0f921"
             ]
            ],
            "type": "heatmap"
           }
          ],
          "heatmapgl": [
           {
            "colorbar": {
             "outlinewidth": 0,
             "ticks": ""
            },
            "colorscale": [
             [
              0,
              "#0d0887"
             ],
             [
              0.1111111111111111,
              "#46039f"
             ],
             [
              0.2222222222222222,
              "#7201a8"
             ],
             [
              0.3333333333333333,
              "#9c179e"
             ],
             [
              0.4444444444444444,
              "#bd3786"
             ],
             [
              0.5555555555555556,
              "#d8576b"
             ],
             [
              0.6666666666666666,
              "#ed7953"
             ],
             [
              0.7777777777777778,
              "#fb9f3a"
             ],
             [
              0.8888888888888888,
              "#fdca26"
             ],
             [
              1,
              "#f0f921"
             ]
            ],
            "type": "heatmapgl"
           }
          ],
          "histogram": [
           {
            "marker": {
             "pattern": {
              "fillmode": "overlay",
              "size": 10,
              "solidity": 0.2
             }
            },
            "type": "histogram"
           }
          ],
          "histogram2d": [
           {
            "colorbar": {
             "outlinewidth": 0,
             "ticks": ""
            },
            "colorscale": [
             [
              0,
              "#0d0887"
             ],
             [
              0.1111111111111111,
              "#46039f"
             ],
             [
              0.2222222222222222,
              "#7201a8"
             ],
             [
              0.3333333333333333,
              "#9c179e"
             ],
             [
              0.4444444444444444,
              "#bd3786"
             ],
             [
              0.5555555555555556,
              "#d8576b"
             ],
             [
              0.6666666666666666,
              "#ed7953"
             ],
             [
              0.7777777777777778,
              "#fb9f3a"
             ],
             [
              0.8888888888888888,
              "#fdca26"
             ],
             [
              1,
              "#f0f921"
             ]
            ],
            "type": "histogram2d"
           }
          ],
          "histogram2dcontour": [
           {
            "colorbar": {
             "outlinewidth": 0,
             "ticks": ""
            },
            "colorscale": [
             [
              0,
              "#0d0887"
             ],
             [
              0.1111111111111111,
              "#46039f"
             ],
             [
              0.2222222222222222,
              "#7201a8"
             ],
             [
              0.3333333333333333,
              "#9c179e"
             ],
             [
              0.4444444444444444,
              "#bd3786"
             ],
             [
              0.5555555555555556,
              "#d8576b"
             ],
             [
              0.6666666666666666,
              "#ed7953"
             ],
             [
              0.7777777777777778,
              "#fb9f3a"
             ],
             [
              0.8888888888888888,
              "#fdca26"
             ],
             [
              1,
              "#f0f921"
             ]
            ],
            "type": "histogram2dcontour"
           }
          ],
          "mesh3d": [
           {
            "colorbar": {
             "outlinewidth": 0,
             "ticks": ""
            },
            "type": "mesh3d"
           }
          ],
          "parcoords": [
           {
            "line": {
             "colorbar": {
              "outlinewidth": 0,
              "ticks": ""
             }
            },
            "type": "parcoords"
           }
          ],
          "pie": [
           {
            "automargin": true,
            "type": "pie"
           }
          ],
          "scatter": [
           {
            "fillpattern": {
             "fillmode": "overlay",
             "size": 10,
             "solidity": 0.2
            },
            "type": "scatter"
           }
          ],
          "scatter3d": [
           {
            "line": {
             "colorbar": {
              "outlinewidth": 0,
              "ticks": ""
             }
            },
            "marker": {
             "colorbar": {
              "outlinewidth": 0,
              "ticks": ""
             }
            },
            "type": "scatter3d"
           }
          ],
          "scattercarpet": [
           {
            "marker": {
             "colorbar": {
              "outlinewidth": 0,
              "ticks": ""
             }
            },
            "type": "scattercarpet"
           }
          ],
          "scattergeo": [
           {
            "marker": {
             "colorbar": {
              "outlinewidth": 0,
              "ticks": ""
             }
            },
            "type": "scattergeo"
           }
          ],
          "scattergl": [
           {
            "marker": {
             "colorbar": {
              "outlinewidth": 0,
              "ticks": ""
             }
            },
            "type": "scattergl"
           }
          ],
          "scattermapbox": [
           {
            "marker": {
             "colorbar": {
              "outlinewidth": 0,
              "ticks": ""
             }
            },
            "type": "scattermapbox"
           }
          ],
          "scatterpolar": [
           {
            "marker": {
             "colorbar": {
              "outlinewidth": 0,
              "ticks": ""
             }
            },
            "type": "scatterpolar"
           }
          ],
          "scatterpolargl": [
           {
            "marker": {
             "colorbar": {
              "outlinewidth": 0,
              "ticks": ""
             }
            },
            "type": "scatterpolargl"
           }
          ],
          "scatterternary": [
           {
            "marker": {
             "colorbar": {
              "outlinewidth": 0,
              "ticks": ""
             }
            },
            "type": "scatterternary"
           }
          ],
          "surface": [
           {
            "colorbar": {
             "outlinewidth": 0,
             "ticks": ""
            },
            "colorscale": [
             [
              0,
              "#0d0887"
             ],
             [
              0.1111111111111111,
              "#46039f"
             ],
             [
              0.2222222222222222,
              "#7201a8"
             ],
             [
              0.3333333333333333,
              "#9c179e"
             ],
             [
              0.4444444444444444,
              "#bd3786"
             ],
             [
              0.5555555555555556,
              "#d8576b"
             ],
             [
              0.6666666666666666,
              "#ed7953"
             ],
             [
              0.7777777777777778,
              "#fb9f3a"
             ],
             [
              0.8888888888888888,
              "#fdca26"
             ],
             [
              1,
              "#f0f921"
             ]
            ],
            "type": "surface"
           }
          ],
          "table": [
           {
            "cells": {
             "fill": {
              "color": "#EBF0F8"
             },
             "line": {
              "color": "white"
             }
            },
            "header": {
             "fill": {
              "color": "#C8D4E3"
             },
             "line": {
              "color": "white"
             }
            },
            "type": "table"
           }
          ]
         },
         "layout": {
          "annotationdefaults": {
           "arrowcolor": "#2a3f5f",
           "arrowhead": 0,
           "arrowwidth": 1
          },
          "autotypenumbers": "strict",
          "coloraxis": {
           "colorbar": {
            "outlinewidth": 0,
            "ticks": ""
           }
          },
          "colorscale": {
           "diverging": [
            [
             0,
             "#8e0152"
            ],
            [
             0.1,
             "#c51b7d"
            ],
            [
             0.2,
             "#de77ae"
            ],
            [
             0.3,
             "#f1b6da"
            ],
            [
             0.4,
             "#fde0ef"
            ],
            [
             0.5,
             "#f7f7f7"
            ],
            [
             0.6,
             "#e6f5d0"
            ],
            [
             0.7,
             "#b8e186"
            ],
            [
             0.8,
             "#7fbc41"
            ],
            [
             0.9,
             "#4d9221"
            ],
            [
             1,
             "#276419"
            ]
           ],
           "sequential": [
            [
             0,
             "#0d0887"
            ],
            [
             0.1111111111111111,
             "#46039f"
            ],
            [
             0.2222222222222222,
             "#7201a8"
            ],
            [
             0.3333333333333333,
             "#9c179e"
            ],
            [
             0.4444444444444444,
             "#bd3786"
            ],
            [
             0.5555555555555556,
             "#d8576b"
            ],
            [
             0.6666666666666666,
             "#ed7953"
            ],
            [
             0.7777777777777778,
             "#fb9f3a"
            ],
            [
             0.8888888888888888,
             "#fdca26"
            ],
            [
             1,
             "#f0f921"
            ]
           ],
           "sequentialminus": [
            [
             0,
             "#0d0887"
            ],
            [
             0.1111111111111111,
             "#46039f"
            ],
            [
             0.2222222222222222,
             "#7201a8"
            ],
            [
             0.3333333333333333,
             "#9c179e"
            ],
            [
             0.4444444444444444,
             "#bd3786"
            ],
            [
             0.5555555555555556,
             "#d8576b"
            ],
            [
             0.6666666666666666,
             "#ed7953"
            ],
            [
             0.7777777777777778,
             "#fb9f3a"
            ],
            [
             0.8888888888888888,
             "#fdca26"
            ],
            [
             1,
             "#f0f921"
            ]
           ]
          },
          "colorway": [
           "#636efa",
           "#EF553B",
           "#00cc96",
           "#ab63fa",
           "#FFA15A",
           "#19d3f3",
           "#FF6692",
           "#B6E880",
           "#FF97FF",
           "#FECB52"
          ],
          "font": {
           "color": "#2a3f5f"
          },
          "geo": {
           "bgcolor": "white",
           "lakecolor": "white",
           "landcolor": "#E5ECF6",
           "showlakes": true,
           "showland": true,
           "subunitcolor": "white"
          },
          "hoverlabel": {
           "align": "left"
          },
          "hovermode": "closest",
          "mapbox": {
           "style": "light"
          },
          "paper_bgcolor": "white",
          "plot_bgcolor": "#E5ECF6",
          "polar": {
           "angularaxis": {
            "gridcolor": "white",
            "linecolor": "white",
            "ticks": ""
           },
           "bgcolor": "#E5ECF6",
           "radialaxis": {
            "gridcolor": "white",
            "linecolor": "white",
            "ticks": ""
           }
          },
          "scene": {
           "xaxis": {
            "backgroundcolor": "#E5ECF6",
            "gridcolor": "white",
            "gridwidth": 2,
            "linecolor": "white",
            "showbackground": true,
            "ticks": "",
            "zerolinecolor": "white"
           },
           "yaxis": {
            "backgroundcolor": "#E5ECF6",
            "gridcolor": "white",
            "gridwidth": 2,
            "linecolor": "white",
            "showbackground": true,
            "ticks": "",
            "zerolinecolor": "white"
           },
           "zaxis": {
            "backgroundcolor": "#E5ECF6",
            "gridcolor": "white",
            "gridwidth": 2,
            "linecolor": "white",
            "showbackground": true,
            "ticks": "",
            "zerolinecolor": "white"
           }
          },
          "shapedefaults": {
           "line": {
            "color": "#2a3f5f"
           }
          },
          "ternary": {
           "aaxis": {
            "gridcolor": "white",
            "linecolor": "white",
            "ticks": ""
           },
           "baxis": {
            "gridcolor": "white",
            "linecolor": "white",
            "ticks": ""
           },
           "bgcolor": "#E5ECF6",
           "caxis": {
            "gridcolor": "white",
            "linecolor": "white",
            "ticks": ""
           }
          },
          "title": {
           "x": 0.05
          },
          "xaxis": {
           "automargin": true,
           "gridcolor": "white",
           "linecolor": "white",
           "ticks": "",
           "title": {
            "standoff": 15
           },
           "zerolinecolor": "white",
           "zerolinewidth": 2
          },
          "yaxis": {
           "automargin": true,
           "gridcolor": "white",
           "linecolor": "white",
           "ticks": "",
           "title": {
            "standoff": 15
           },
           "zerolinecolor": "white",
           "zerolinewidth": 2
          }
         }
        },
        "title": {
         "text": "Sankey Diagram of Primary Modalities, Additional Modalities, and Types of Experiments"
        },
        "width": 800
       }
      }
     },
     "metadata": {},
     "output_type": "display_data"
    }
   ],
   "source": [
    "# Create lists for the nodes and links\n",
    "nodes = []\n",
    "node_indices = {}\n",
    "links = []\n",
    "index = 0\n",
    "\n",
    "# Add primary modalities to nodes\n",
    "for modality in primaryModalities_fig1:\n",
    "    nodes.append(modality)\n",
    "    node_indices[modality] = index\n",
    "    index += 1\n",
    "\n",
    "# Add additional modalities to nodes\n",
    "for additional in modalities_fig1:\n",
    "    if pd.notna(additional):\n",
    "        if additional in ['motor', 'other']:\n",
    "            additional = f\"modality_{additional}\"\n",
    "        nodes.append(additional)\n",
    "        node_indices[additional] = index\n",
    "        index += 1\n",
    "\n",
    "# Add types of experiments to nodes\n",
    "for exp_type in typeExp_fig1:\n",
    "    if pd.notna(exp_type):\n",
    "        if exp_type in ['motor', 'other']:\n",
    "            exp_type = f\"exp_{exp_type}\"\n",
    "        nodes.append(exp_type)\n",
    "        node_indices[exp_type] = index\n",
    "        index += 1\n",
    "\n",
    "# Create links between primary modalities and additional modalities\n",
    "for modality in primaryModalities_fig1:\n",
    "    for additional in modalities_fig1:\n",
    "        if pd.notna(additional):\n",
    "            additional_key = f\"modality_{additional}\" if additional in ['motor', 'other'] else additional\n",
    "            count = df_fig1[(df_fig1[f'{modality} Modality'] == 'x') & \n",
    "                            (df_fig1['FOR FIGURE - modality of exp'] == additional)].shape[0]\n",
    "            if count > 0:\n",
    "                links.append({\n",
    "                    'source': node_indices[modality],\n",
    "                    'target': node_indices[additional_key],\n",
    "                    'value': count\n",
    "                })\n",
    "\n",
    "# Create links between additional modalities and types of experiments\n",
    "for additional in modalities_fig1:\n",
    "    if pd.notna(additional):\n",
    "        additional_key = f\"modality_{additional}\" if additional in ['motor', 'other'] else additional\n",
    "        for exp_type in typeExp_fig1:\n",
    "            if pd.notna(exp_type):\n",
    "                exp_type_key = f\"exp_{exp_type}\" if exp_type in ['motor', 'other'] else exp_type\n",
    "                count = df_fig1[(df_fig1['FOR FIGURE - modality of exp'] == additional) & \n",
    "                                (df_fig1['FOR FIGURE - type of exp'] == exp_type)].shape[0]\n",
    "                if count > 0:\n",
    "                    links.append({\n",
    "                        'source': node_indices[additional_key],\n",
    "                        'target': node_indices[exp_type_key],\n",
    "                        'value': count\n",
    "                    })\n",
    "\n",
    "# Create the Sankey diagram\n",
    "fig = go.Figure(data=[go.Sankey(\n",
    "    node=dict(\n",
    "        pad=20,\n",
    "        thickness=20,\n",
    "        line=dict(color=\"black\", width=0.5),\n",
    "        label=nodes\n",
    "    ),\n",
    "    link=dict(\n",
    "        source=[link['source'] for link in links],\n",
    "        target=[link['target'] for link in links],\n",
    "        value=[link['value'] for link in links]\n",
    "    )\n",
    ")])\n",
    "\n",
    "fig.update_layout(\n",
    "    title_text=\"Sankey Diagram of Primary Modalities, Additional Modalities, and Types of Experiments\",\n",
    "    font=dict(size=12),\n",
    "    width=800  # Set the width to a smaller value to compress the figure horizontally\n",
    ")\n",
    "\n",
    "fig.show()\n",
    "\n",
    "# fourth column with "
   ]
  },
  {
   "cell_type": "markdown",
   "metadata": {},
   "source": [
    "### Figure 2\n",
    "\n",
    "Figure 2 - Modality x Additional Modality\n",
    "A network diagram or Sankey diagram displaying the connections between primary modality (e.g., EEG) and additional modalities (e.g., fMRI, behavioral). This can visually represent multi-modality studies and show how often additional methods were used\n"
   ]
  },
  {
   "cell_type": "code",
   "execution_count": 4,
   "metadata": {},
   "outputs": [
    {
     "ename": "KeyError",
     "evalue": "\"['iEEG modality'] not in index\"",
     "output_type": "error",
     "traceback": [
      "\u001b[0;31m---------------------------------------------------------------------------\u001b[0m",
      "\u001b[0;31mKeyError\u001b[0m                                  Traceback (most recent call last)",
      "Cell \u001b[0;32mIn[4], line 1\u001b[0m\n\u001b[0;32m----> 1\u001b[0m df_fig1 \u001b[38;5;241m=\u001b[39m \u001b[43mdf\u001b[49m\u001b[43m[\u001b[49m\u001b[43m[\u001b[49m\u001b[38;5;124;43m'\u001b[39;49m\u001b[38;5;124;43mEEG Modality\u001b[39;49m\u001b[38;5;124;43m'\u001b[39;49m\u001b[43m,\u001b[49m\u001b[43m \u001b[49m\n\u001b[1;32m      2\u001b[0m \u001b[43m              \u001b[49m\u001b[38;5;124;43m'\u001b[39;49m\u001b[38;5;124;43mMEG Modality\u001b[39;49m\u001b[38;5;124;43m'\u001b[39;49m\u001b[43m,\u001b[49m\u001b[43m \u001b[49m\n\u001b[1;32m      3\u001b[0m \u001b[43m              \u001b[49m\u001b[38;5;124;43m'\u001b[39;49m\u001b[38;5;124;43miEEG modality\u001b[39;49m\u001b[38;5;124;43m'\u001b[39;49m\u001b[43m,\u001b[49m\n\u001b[1;32m      4\u001b[0m \u001b[43m              \u001b[49m\u001b[38;5;124;43m'\u001b[39;49m\u001b[38;5;124;43mHas MRI\u001b[39;49m\u001b[38;5;124;43m'\u001b[39;49m\u001b[43m,\u001b[49m\n\u001b[1;32m      5\u001b[0m \u001b[43m              \u001b[49m\u001b[38;5;124;43m'\u001b[39;49m\u001b[38;5;124;43mHas EOG\u001b[39;49m\u001b[38;5;124;43m'\u001b[39;49m\u001b[43m,\u001b[49m\n\u001b[1;32m      6\u001b[0m \u001b[43m              \u001b[49m\u001b[38;5;124;43m'\u001b[39;49m\u001b[38;5;124;43mHas Behavioral\u001b[39;49m\u001b[38;5;124;43m'\u001b[39;49m\u001b[43m,\u001b[49m\n\u001b[1;32m      7\u001b[0m \u001b[43m              \u001b[49m\u001b[38;5;124;43m'\u001b[39;49m\u001b[38;5;124;43mHas fMRi\u001b[39;49m\u001b[38;5;124;43m'\u001b[39;49m\u001b[43m,\u001b[49m\n\u001b[1;32m      8\u001b[0m \u001b[43m              \u001b[49m\u001b[38;5;124;43m'\u001b[39;49m\u001b[38;5;124;43mHas EcOg\u001b[39;49m\u001b[38;5;124;43m'\u001b[39;49m\u001b[43m,\u001b[49m\n\u001b[1;32m      9\u001b[0m \u001b[43m              \u001b[49m\u001b[38;5;124;43m'\u001b[39;49m\u001b[38;5;124;43mHas DBS\u001b[39;49m\u001b[38;5;124;43m'\u001b[39;49m\u001b[43m,\u001b[49m\n\u001b[1;32m     10\u001b[0m \u001b[43m              \u001b[49m\u001b[38;5;124;43m'\u001b[39;49m\u001b[38;5;124;43mHas SMI\u001b[39;49m\u001b[38;5;124;43m'\u001b[39;49m\u001b[43m,\u001b[49m\n\u001b[1;32m     11\u001b[0m \u001b[43m              \u001b[49m\u001b[38;5;124;43m'\u001b[39;49m\u001b[38;5;124;43mHas EMG\u001b[39;49m\u001b[38;5;124;43m'\u001b[39;49m\u001b[43m,\u001b[49m\n\u001b[1;32m     12\u001b[0m \u001b[43m              \u001b[49m\u001b[38;5;124;43m'\u001b[39;49m\u001b[38;5;124;43mHas TMS\u001b[39;49m\u001b[38;5;124;43m'\u001b[39;49m\u001b[43m,\u001b[49m\n\u001b[1;32m     13\u001b[0m \u001b[43m              \u001b[49m\u001b[38;5;124;43m'\u001b[39;49m\u001b[38;5;124;43mHas ECG\u001b[39;49m\u001b[38;5;124;43m'\u001b[39;49m\u001b[43m,\u001b[49m\n\u001b[1;32m     14\u001b[0m \u001b[43m              \u001b[49m\u001b[38;5;124;43m'\u001b[39;49m\u001b[38;5;124;43mHas SEEG\u001b[39;49m\u001b[38;5;124;43m'\u001b[39;49m\u001b[43m,\u001b[49m\n\u001b[1;32m     15\u001b[0m \u001b[43m              \u001b[49m\u001b[38;5;124;43m'\u001b[39;49m\u001b[38;5;124;43mHas fNIRS\u001b[39;49m\u001b[38;5;124;43m'\u001b[39;49m\u001b[43m,\u001b[49m\n\u001b[1;32m     16\u001b[0m \u001b[43m              \u001b[49m\u001b[38;5;124;43m'\u001b[39;49m\u001b[38;5;124;43mHas Blood Tests\u001b[39;49m\u001b[38;5;124;43m'\u001b[39;49m\u001b[43m,\u001b[49m\n\u001b[1;32m     17\u001b[0m \u001b[43m              \u001b[49m\u001b[38;5;124;43m'\u001b[39;49m\u001b[38;5;124;43mEye tracking\u001b[39;49m\u001b[38;5;124;43m'\u001b[39;49m\u001b[43m,\u001b[49m\n\u001b[1;32m     18\u001b[0m \u001b[43m              \u001b[49m\u001b[38;5;124;43m'\u001b[39;49m\u001b[38;5;124;43mOther (put in name)\u001b[39;49m\u001b[38;5;124;43m'\u001b[39;49m\u001b[43m]\u001b[49m\u001b[43m]\u001b[49m\n\u001b[1;32m     20\u001b[0m df_fig1\u001b[38;5;241m.\u001b[39mrename(columns\u001b[38;5;241m=\u001b[39m{\n\u001b[1;32m     21\u001b[0m     \u001b[38;5;124m'\u001b[39m\u001b[38;5;124mEEG Modality\u001b[39m\u001b[38;5;124m'\u001b[39m: \u001b[38;5;124m'\u001b[39m\u001b[38;5;124mEEG\u001b[39m\u001b[38;5;124m'\u001b[39m,\n\u001b[1;32m     22\u001b[0m     \u001b[38;5;124m'\u001b[39m\u001b[38;5;124mMEG Modality\u001b[39m\u001b[38;5;124m'\u001b[39m: \u001b[38;5;124m'\u001b[39m\u001b[38;5;124mMEG\u001b[39m\u001b[38;5;124m'\u001b[39m,\n\u001b[0;32m   (...)\u001b[0m\n\u001b[1;32m     38\u001b[0m     \u001b[38;5;124m'\u001b[39m\u001b[38;5;124mOther (put in name)\u001b[39m\u001b[38;5;124m'\u001b[39m: \u001b[38;5;124m'\u001b[39m\u001b[38;5;124mOther\u001b[39m\u001b[38;5;124m'\u001b[39m\n\u001b[1;32m     39\u001b[0m }, inplace\u001b[38;5;241m=\u001b[39m\u001b[38;5;28;01mTrue\u001b[39;00m)\n\u001b[1;32m     41\u001b[0m \u001b[38;5;66;03m# Create dataframe of eeg as primary modality\u001b[39;00m\n",
      "File \u001b[0;32m~/venv/lib/python3.12/site-packages/pandas/core/frame.py:4108\u001b[0m, in \u001b[0;36mDataFrame.__getitem__\u001b[0;34m(self, key)\u001b[0m\n\u001b[1;32m   4106\u001b[0m     \u001b[38;5;28;01mif\u001b[39;00m is_iterator(key):\n\u001b[1;32m   4107\u001b[0m         key \u001b[38;5;241m=\u001b[39m \u001b[38;5;28mlist\u001b[39m(key)\n\u001b[0;32m-> 4108\u001b[0m     indexer \u001b[38;5;241m=\u001b[39m \u001b[38;5;28;43mself\u001b[39;49m\u001b[38;5;241;43m.\u001b[39;49m\u001b[43mcolumns\u001b[49m\u001b[38;5;241;43m.\u001b[39;49m\u001b[43m_get_indexer_strict\u001b[49m\u001b[43m(\u001b[49m\u001b[43mkey\u001b[49m\u001b[43m,\u001b[49m\u001b[43m \u001b[49m\u001b[38;5;124;43m\"\u001b[39;49m\u001b[38;5;124;43mcolumns\u001b[39;49m\u001b[38;5;124;43m\"\u001b[39;49m\u001b[43m)\u001b[49m[\u001b[38;5;241m1\u001b[39m]\n\u001b[1;32m   4110\u001b[0m \u001b[38;5;66;03m# take() does not accept boolean indexers\u001b[39;00m\n\u001b[1;32m   4111\u001b[0m \u001b[38;5;28;01mif\u001b[39;00m \u001b[38;5;28mgetattr\u001b[39m(indexer, \u001b[38;5;124m\"\u001b[39m\u001b[38;5;124mdtype\u001b[39m\u001b[38;5;124m\"\u001b[39m, \u001b[38;5;28;01mNone\u001b[39;00m) \u001b[38;5;241m==\u001b[39m \u001b[38;5;28mbool\u001b[39m:\n",
      "File \u001b[0;32m~/venv/lib/python3.12/site-packages/pandas/core/indexes/base.py:6200\u001b[0m, in \u001b[0;36mIndex._get_indexer_strict\u001b[0;34m(self, key, axis_name)\u001b[0m\n\u001b[1;32m   6197\u001b[0m \u001b[38;5;28;01melse\u001b[39;00m:\n\u001b[1;32m   6198\u001b[0m     keyarr, indexer, new_indexer \u001b[38;5;241m=\u001b[39m \u001b[38;5;28mself\u001b[39m\u001b[38;5;241m.\u001b[39m_reindex_non_unique(keyarr)\n\u001b[0;32m-> 6200\u001b[0m \u001b[38;5;28;43mself\u001b[39;49m\u001b[38;5;241;43m.\u001b[39;49m\u001b[43m_raise_if_missing\u001b[49m\u001b[43m(\u001b[49m\u001b[43mkeyarr\u001b[49m\u001b[43m,\u001b[49m\u001b[43m \u001b[49m\u001b[43mindexer\u001b[49m\u001b[43m,\u001b[49m\u001b[43m \u001b[49m\u001b[43maxis_name\u001b[49m\u001b[43m)\u001b[49m\n\u001b[1;32m   6202\u001b[0m keyarr \u001b[38;5;241m=\u001b[39m \u001b[38;5;28mself\u001b[39m\u001b[38;5;241m.\u001b[39mtake(indexer)\n\u001b[1;32m   6203\u001b[0m \u001b[38;5;28;01mif\u001b[39;00m \u001b[38;5;28misinstance\u001b[39m(key, Index):\n\u001b[1;32m   6204\u001b[0m     \u001b[38;5;66;03m# GH 42790 - Preserve name from an Index\u001b[39;00m\n",
      "File \u001b[0;32m~/venv/lib/python3.12/site-packages/pandas/core/indexes/base.py:6252\u001b[0m, in \u001b[0;36mIndex._raise_if_missing\u001b[0;34m(self, key, indexer, axis_name)\u001b[0m\n\u001b[1;32m   6249\u001b[0m     \u001b[38;5;28;01mraise\u001b[39;00m \u001b[38;5;167;01mKeyError\u001b[39;00m(\u001b[38;5;124mf\u001b[39m\u001b[38;5;124m\"\u001b[39m\u001b[38;5;124mNone of [\u001b[39m\u001b[38;5;132;01m{\u001b[39;00mkey\u001b[38;5;132;01m}\u001b[39;00m\u001b[38;5;124m] are in the [\u001b[39m\u001b[38;5;132;01m{\u001b[39;00maxis_name\u001b[38;5;132;01m}\u001b[39;00m\u001b[38;5;124m]\u001b[39m\u001b[38;5;124m\"\u001b[39m)\n\u001b[1;32m   6251\u001b[0m not_found \u001b[38;5;241m=\u001b[39m \u001b[38;5;28mlist\u001b[39m(ensure_index(key)[missing_mask\u001b[38;5;241m.\u001b[39mnonzero()[\u001b[38;5;241m0\u001b[39m]]\u001b[38;5;241m.\u001b[39munique())\n\u001b[0;32m-> 6252\u001b[0m \u001b[38;5;28;01mraise\u001b[39;00m \u001b[38;5;167;01mKeyError\u001b[39;00m(\u001b[38;5;124mf\u001b[39m\u001b[38;5;124m\"\u001b[39m\u001b[38;5;132;01m{\u001b[39;00mnot_found\u001b[38;5;132;01m}\u001b[39;00m\u001b[38;5;124m not in index\u001b[39m\u001b[38;5;124m\"\u001b[39m)\n",
      "\u001b[0;31mKeyError\u001b[0m: \"['iEEG modality'] not in index\""
     ]
    }
   ],
   "source": [
    "df_fig1 = df[['EEG Modality', \n",
    "              'MEG Modality', \n",
    "              'iEEG modality',\n",
    "              'Has MRI',\n",
    "              'Has EOG',\n",
    "              'Has Behavioral',\n",
    "              'Has fMRi',\n",
    "              'Has EcOg',\n",
    "              'Has DBS',\n",
    "              'Has SMI',\n",
    "              'Has EMG',\n",
    "              'Has TMS',\n",
    "              'Has ECG',\n",
    "              'Has SEEG',\n",
    "              'Has fNIRS',\n",
    "              'Has Blood Tests',\n",
    "              'Eye tracking',\n",
    "              'Other (put in name)']]\n",
    "\n",
    "df_fig1.rename(columns={\n",
    "    'EEG Modality': 'EEG',\n",
    "    'MEG Modality': 'MEG',\n",
    "    'iEEG modality': 'iEEG',\n",
    "    'Has MRI': 'MRI',\n",
    "    'Has EOG': 'EOG',\n",
    "    'Has Behavioral': 'Behavioral',\n",
    "    'Has fMRi': 'fMRI',\n",
    "    'Has EcOg': 'EcOg',\n",
    "    'Has DBS': 'DBS',\n",
    "    'Has SMI': 'SMI',\n",
    "    'Has EMG': 'EMG',\n",
    "    'Has TMS': 'TMS',\n",
    "    'Has ECG': 'ECG',\n",
    "    'Has SEEG': 'SEEG',\n",
    "    'Has fNIRS': 'fNIRS',\n",
    "    'Has Blood Tests': 'Blood Tests',\n",
    "    'Eye tracking': 'Eye Tracking',\n",
    "    'Other (put in name)': 'Other'\n",
    "}, inplace=True)\n",
    "\n",
    "# Create dataframe of eeg as primary modality\n",
    "df_fig1_eeg = df_fig1[df_fig1['EEG'] == 'X']\n",
    "df_fig1 = df_fig1[df_fig1['EEG'] != 'X']\n",
    "\n",
    "# Create dataframe of meg as primary modality\n",
    "df_fig1_meg = df_fig1[df_fig1['MEG'] == 'X']\n",
    "df_fig1 = df_fig1[df_fig1['MEG'] != 'X']\n",
    "\n",
    "# Create dataframe of ieeg as primary modality\n",
    "df_fig1_ieeg = df_fig1[df_fig1['iEEG'] == 'X']\n",
    "df_fig1 = df_fig1[df_fig1['iEEG'] != 'X']\n",
    "\n",
    "# Create a list of primary modalities and additional modalities\n",
    "primary_modalities = ['EEG', 'MEG', 'iEEG']\n",
    "additional_modalities = ['MRI', 'EOG', 'Behavioral', 'fMRI', 'EcOg', 'DBS', 'SMI', 'EMG', 'TMS', 'ECG', 'SEEG', 'fNIRS', 'Blood Tests', 'Eye Tracking', 'Other']\n",
    "\n",
    "# Initialize a dictionary to store the connections\n",
    "connections = {modality: {additional: 0 for additional in additional_modalities} for modality in primary_modalities}\n",
    "\n",
    "# Count the connections\n",
    "for modality in primary_modalities:\n",
    "    for additional in additional_modalities:\n",
    "        connections[modality][additional] = df_fig1_eeg[additional].notna().sum() if modality == 'EEG' else \\\n",
    "                                            df_fig1_meg[additional].notna().sum() if modality == 'MEG' else \\\n",
    "                                            df_fig1_ieeg[additional].notna().sum()\n",
    "\n",
    "# Create lists for the nodes and links\n",
    "nodes = []\n",
    "node_indices = {}\n",
    "links = []\n",
    "index = 0\n",
    "\n",
    "# Add primary modalities to nodes\n",
    "for modality in primary_modalities:\n",
    "    modality_connections = sum(connections[modality].values())\n",
    "    nodes.append(f\"{modality} ({modality_connections})\")\n",
    "    node_indices[modality] = index\n",
    "    index += 1\n",
    "\n",
    "# Add additional modalities to nodes\n",
    "for additional in additional_modalities:\n",
    "    nodes.append(additional)\n",
    "    node_indices[additional] = index\n",
    "    index += 1\n",
    "\n",
    "# Create links between primary modalities and additional modalities\n",
    "for modality in primary_modalities:\n",
    "    for additional in additional_modalities:\n",
    "        if connections[modality][additional] > 0:\n",
    "            links.append({\n",
    "                'source': node_indices[modality],\n",
    "                'target': node_indices[additional],\n",
    "                'value': connections[modality][additional]\n",
    "            })\n",
    "\n",
    "fig = go.Figure(data=[go.Sankey(\n",
    "    node=dict(\n",
    "        pad=20,\n",
    "        thickness=50,\n",
    "        line=dict(color=\"black\", width=1),\n",
    "        label=nodes,\n",
    "        color=\"black\"  # Set the font color to black\n",
    "    ),\n",
    "    link=dict(\n",
    "        source=[link['source'] for link in links],\n",
    "        target=[link['target'] for link in links],\n",
    "        value=[link['value'] for link in links],\n",
    "        color=\"rgba(0, 0, 0, 0.1)\"  # Increase transparency of the connections\n",
    "    )\n",
    ")])\n",
    "\n",
    "fig.update_layout(\n",
    "    title_text=\"Network Diagram of Modalities and Additional Modalities\",\n",
    "    font=dict(size=15, color=\"black\"),  # Set the font color to black\n",
    "    height=800  # Increase the height of the figure\n",
    ")\n",
    "fig.show()"
   ]
  },
  {
   "cell_type": "markdown",
   "metadata": {},
   "source": [
    "### Figure 3\n",
    "\n",
    "Figure 3 - Author country x # of datasets x authors from multiple institutions\n",
    "\n",
    "A world map showing the distribution of author countries. Use circles of varying sizes to represent the number of studies from each country, use heat map to show how many of those studies from each country were collaboration with another institution \n"
   ]
  },
  {
   "cell_type": "code",
   "execution_count": 31,
   "metadata": {},
   "outputs": [
    {
     "data": {
      "application/vnd.plotly.v1+json": {
       "config": {
        "plotlyServerURL": "https://plot.ly"
       },
       "data": [
        {
         "geo": "geo",
         "hovertemplate": "Count=%{marker.size}<br>Country=%{location}<extra></extra>",
         "legendgroup": "",
         "locationmode": "country names",
         "locations": [
          "argentina",
          "australia",
          "austria",
          "canada",
          "chile",
          "china",
          "colombia",
          "czechia",
          "denmark",
          "egypt",
          "england",
          "finland",
          "france",
          "germany",
          "greece",
          "hungary",
          "india",
          "iran",
          "ireland",
          "italy",
          "japan",
          "malaysia",
          "mexico",
          "minnesota",
          "netherlands",
          "norway",
          "poland",
          "portugal",
          "romania",
          "russia",
          "singapore",
          "south korea",
          "spain",
          "sweden",
          "switzerland",
          "united kingdom"
         ],
         "marker": {
          "color": "#636efa",
          "size": [
           2,
           15,
           1,
           5,
           2,
           13,
           2,
           1,
           3,
           1,
           1,
           1,
           17,
           16,
           2,
           2,
           2,
           5,
           1,
           1,
           6,
           1,
           2,
           1,
           7,
           1,
           4,
           1,
           1,
           4,
           1,
           1,
           4,
           3,
           14,
           24
          ],
          "sizemode": "area",
          "sizeref": 0.06,
          "symbol": "circle"
         },
         "mode": "markers",
         "name": "",
         "showlegend": false,
         "type": "scattergeo"
        }
       ],
       "layout": {
        "geo": {
         "center": {},
         "domain": {
          "x": [
           0,
           1
          ],
          "y": [
           0,
           1
          ]
         },
         "projection": {
          "type": "natural earth"
         }
        },
        "legend": {
         "itemsizing": "constant",
         "tracegroupgap": 0
        },
        "template": {
         "data": {
          "bar": [
           {
            "error_x": {
             "color": "#2a3f5f"
            },
            "error_y": {
             "color": "#2a3f5f"
            },
            "marker": {
             "line": {
              "color": "#E5ECF6",
              "width": 0.5
             },
             "pattern": {
              "fillmode": "overlay",
              "size": 10,
              "solidity": 0.2
             }
            },
            "type": "bar"
           }
          ],
          "barpolar": [
           {
            "marker": {
             "line": {
              "color": "#E5ECF6",
              "width": 0.5
             },
             "pattern": {
              "fillmode": "overlay",
              "size": 10,
              "solidity": 0.2
             }
            },
            "type": "barpolar"
           }
          ],
          "carpet": [
           {
            "aaxis": {
             "endlinecolor": "#2a3f5f",
             "gridcolor": "white",
             "linecolor": "white",
             "minorgridcolor": "white",
             "startlinecolor": "#2a3f5f"
            },
            "baxis": {
             "endlinecolor": "#2a3f5f",
             "gridcolor": "white",
             "linecolor": "white",
             "minorgridcolor": "white",
             "startlinecolor": "#2a3f5f"
            },
            "type": "carpet"
           }
          ],
          "choropleth": [
           {
            "colorbar": {
             "outlinewidth": 0,
             "ticks": ""
            },
            "type": "choropleth"
           }
          ],
          "contour": [
           {
            "colorbar": {
             "outlinewidth": 0,
             "ticks": ""
            },
            "colorscale": [
             [
              0,
              "#0d0887"
             ],
             [
              0.1111111111111111,
              "#46039f"
             ],
             [
              0.2222222222222222,
              "#7201a8"
             ],
             [
              0.3333333333333333,
              "#9c179e"
             ],
             [
              0.4444444444444444,
              "#bd3786"
             ],
             [
              0.5555555555555556,
              "#d8576b"
             ],
             [
              0.6666666666666666,
              "#ed7953"
             ],
             [
              0.7777777777777778,
              "#fb9f3a"
             ],
             [
              0.8888888888888888,
              "#fdca26"
             ],
             [
              1,
              "#f0f921"
             ]
            ],
            "type": "contour"
           }
          ],
          "contourcarpet": [
           {
            "colorbar": {
             "outlinewidth": 0,
             "ticks": ""
            },
            "type": "contourcarpet"
           }
          ],
          "heatmap": [
           {
            "colorbar": {
             "outlinewidth": 0,
             "ticks": ""
            },
            "colorscale": [
             [
              0,
              "#0d0887"
             ],
             [
              0.1111111111111111,
              "#46039f"
             ],
             [
              0.2222222222222222,
              "#7201a8"
             ],
             [
              0.3333333333333333,
              "#9c179e"
             ],
             [
              0.4444444444444444,
              "#bd3786"
             ],
             [
              0.5555555555555556,
              "#d8576b"
             ],
             [
              0.6666666666666666,
              "#ed7953"
             ],
             [
              0.7777777777777778,
              "#fb9f3a"
             ],
             [
              0.8888888888888888,
              "#fdca26"
             ],
             [
              1,
              "#f0f921"
             ]
            ],
            "type": "heatmap"
           }
          ],
          "heatmapgl": [
           {
            "colorbar": {
             "outlinewidth": 0,
             "ticks": ""
            },
            "colorscale": [
             [
              0,
              "#0d0887"
             ],
             [
              0.1111111111111111,
              "#46039f"
             ],
             [
              0.2222222222222222,
              "#7201a8"
             ],
             [
              0.3333333333333333,
              "#9c179e"
             ],
             [
              0.4444444444444444,
              "#bd3786"
             ],
             [
              0.5555555555555556,
              "#d8576b"
             ],
             [
              0.6666666666666666,
              "#ed7953"
             ],
             [
              0.7777777777777778,
              "#fb9f3a"
             ],
             [
              0.8888888888888888,
              "#fdca26"
             ],
             [
              1,
              "#f0f921"
             ]
            ],
            "type": "heatmapgl"
           }
          ],
          "histogram": [
           {
            "marker": {
             "pattern": {
              "fillmode": "overlay",
              "size": 10,
              "solidity": 0.2
             }
            },
            "type": "histogram"
           }
          ],
          "histogram2d": [
           {
            "colorbar": {
             "outlinewidth": 0,
             "ticks": ""
            },
            "colorscale": [
             [
              0,
              "#0d0887"
             ],
             [
              0.1111111111111111,
              "#46039f"
             ],
             [
              0.2222222222222222,
              "#7201a8"
             ],
             [
              0.3333333333333333,
              "#9c179e"
             ],
             [
              0.4444444444444444,
              "#bd3786"
             ],
             [
              0.5555555555555556,
              "#d8576b"
             ],
             [
              0.6666666666666666,
              "#ed7953"
             ],
             [
              0.7777777777777778,
              "#fb9f3a"
             ],
             [
              0.8888888888888888,
              "#fdca26"
             ],
             [
              1,
              "#f0f921"
             ]
            ],
            "type": "histogram2d"
           }
          ],
          "histogram2dcontour": [
           {
            "colorbar": {
             "outlinewidth": 0,
             "ticks": ""
            },
            "colorscale": [
             [
              0,
              "#0d0887"
             ],
             [
              0.1111111111111111,
              "#46039f"
             ],
             [
              0.2222222222222222,
              "#7201a8"
             ],
             [
              0.3333333333333333,
              "#9c179e"
             ],
             [
              0.4444444444444444,
              "#bd3786"
             ],
             [
              0.5555555555555556,
              "#d8576b"
             ],
             [
              0.6666666666666666,
              "#ed7953"
             ],
             [
              0.7777777777777778,
              "#fb9f3a"
             ],
             [
              0.8888888888888888,
              "#fdca26"
             ],
             [
              1,
              "#f0f921"
             ]
            ],
            "type": "histogram2dcontour"
           }
          ],
          "mesh3d": [
           {
            "colorbar": {
             "outlinewidth": 0,
             "ticks": ""
            },
            "type": "mesh3d"
           }
          ],
          "parcoords": [
           {
            "line": {
             "colorbar": {
              "outlinewidth": 0,
              "ticks": ""
             }
            },
            "type": "parcoords"
           }
          ],
          "pie": [
           {
            "automargin": true,
            "type": "pie"
           }
          ],
          "scatter": [
           {
            "fillpattern": {
             "fillmode": "overlay",
             "size": 10,
             "solidity": 0.2
            },
            "type": "scatter"
           }
          ],
          "scatter3d": [
           {
            "line": {
             "colorbar": {
              "outlinewidth": 0,
              "ticks": ""
             }
            },
            "marker": {
             "colorbar": {
              "outlinewidth": 0,
              "ticks": ""
             }
            },
            "type": "scatter3d"
           }
          ],
          "scattercarpet": [
           {
            "marker": {
             "colorbar": {
              "outlinewidth": 0,
              "ticks": ""
             }
            },
            "type": "scattercarpet"
           }
          ],
          "scattergeo": [
           {
            "marker": {
             "colorbar": {
              "outlinewidth": 0,
              "ticks": ""
             }
            },
            "type": "scattergeo"
           }
          ],
          "scattergl": [
           {
            "marker": {
             "colorbar": {
              "outlinewidth": 0,
              "ticks": ""
             }
            },
            "type": "scattergl"
           }
          ],
          "scattermapbox": [
           {
            "marker": {
             "colorbar": {
              "outlinewidth": 0,
              "ticks": ""
             }
            },
            "type": "scattermapbox"
           }
          ],
          "scatterpolar": [
           {
            "marker": {
             "colorbar": {
              "outlinewidth": 0,
              "ticks": ""
             }
            },
            "type": "scatterpolar"
           }
          ],
          "scatterpolargl": [
           {
            "marker": {
             "colorbar": {
              "outlinewidth": 0,
              "ticks": ""
             }
            },
            "type": "scatterpolargl"
           }
          ],
          "scatterternary": [
           {
            "marker": {
             "colorbar": {
              "outlinewidth": 0,
              "ticks": ""
             }
            },
            "type": "scatterternary"
           }
          ],
          "surface": [
           {
            "colorbar": {
             "outlinewidth": 0,
             "ticks": ""
            },
            "colorscale": [
             [
              0,
              "#0d0887"
             ],
             [
              0.1111111111111111,
              "#46039f"
             ],
             [
              0.2222222222222222,
              "#7201a8"
             ],
             [
              0.3333333333333333,
              "#9c179e"
             ],
             [
              0.4444444444444444,
              "#bd3786"
             ],
             [
              0.5555555555555556,
              "#d8576b"
             ],
             [
              0.6666666666666666,
              "#ed7953"
             ],
             [
              0.7777777777777778,
              "#fb9f3a"
             ],
             [
              0.8888888888888888,
              "#fdca26"
             ],
             [
              1,
              "#f0f921"
             ]
            ],
            "type": "surface"
           }
          ],
          "table": [
           {
            "cells": {
             "fill": {
              "color": "#EBF0F8"
             },
             "line": {
              "color": "white"
             }
            },
            "header": {
             "fill": {
              "color": "#C8D4E3"
             },
             "line": {
              "color": "white"
             }
            },
            "type": "table"
           }
          ]
         },
         "layout": {
          "annotationdefaults": {
           "arrowcolor": "#2a3f5f",
           "arrowhead": 0,
           "arrowwidth": 1
          },
          "autotypenumbers": "strict",
          "coloraxis": {
           "colorbar": {
            "outlinewidth": 0,
            "ticks": ""
           }
          },
          "colorscale": {
           "diverging": [
            [
             0,
             "#8e0152"
            ],
            [
             0.1,
             "#c51b7d"
            ],
            [
             0.2,
             "#de77ae"
            ],
            [
             0.3,
             "#f1b6da"
            ],
            [
             0.4,
             "#fde0ef"
            ],
            [
             0.5,
             "#f7f7f7"
            ],
            [
             0.6,
             "#e6f5d0"
            ],
            [
             0.7,
             "#b8e186"
            ],
            [
             0.8,
             "#7fbc41"
            ],
            [
             0.9,
             "#4d9221"
            ],
            [
             1,
             "#276419"
            ]
           ],
           "sequential": [
            [
             0,
             "#0d0887"
            ],
            [
             0.1111111111111111,
             "#46039f"
            ],
            [
             0.2222222222222222,
             "#7201a8"
            ],
            [
             0.3333333333333333,
             "#9c179e"
            ],
            [
             0.4444444444444444,
             "#bd3786"
            ],
            [
             0.5555555555555556,
             "#d8576b"
            ],
            [
             0.6666666666666666,
             "#ed7953"
            ],
            [
             0.7777777777777778,
             "#fb9f3a"
            ],
            [
             0.8888888888888888,
             "#fdca26"
            ],
            [
             1,
             "#f0f921"
            ]
           ],
           "sequentialminus": [
            [
             0,
             "#0d0887"
            ],
            [
             0.1111111111111111,
             "#46039f"
            ],
            [
             0.2222222222222222,
             "#7201a8"
            ],
            [
             0.3333333333333333,
             "#9c179e"
            ],
            [
             0.4444444444444444,
             "#bd3786"
            ],
            [
             0.5555555555555556,
             "#d8576b"
            ],
            [
             0.6666666666666666,
             "#ed7953"
            ],
            [
             0.7777777777777778,
             "#fb9f3a"
            ],
            [
             0.8888888888888888,
             "#fdca26"
            ],
            [
             1,
             "#f0f921"
            ]
           ]
          },
          "colorway": [
           "#636efa",
           "#EF553B",
           "#00cc96",
           "#ab63fa",
           "#FFA15A",
           "#19d3f3",
           "#FF6692",
           "#B6E880",
           "#FF97FF",
           "#FECB52"
          ],
          "font": {
           "color": "#2a3f5f"
          },
          "geo": {
           "bgcolor": "white",
           "lakecolor": "white",
           "landcolor": "#E5ECF6",
           "showlakes": true,
           "showland": true,
           "subunitcolor": "white"
          },
          "hoverlabel": {
           "align": "left"
          },
          "hovermode": "closest",
          "mapbox": {
           "style": "light"
          },
          "paper_bgcolor": "white",
          "plot_bgcolor": "#E5ECF6",
          "polar": {
           "angularaxis": {
            "gridcolor": "white",
            "linecolor": "white",
            "ticks": ""
           },
           "bgcolor": "#E5ECF6",
           "radialaxis": {
            "gridcolor": "white",
            "linecolor": "white",
            "ticks": ""
           }
          },
          "scene": {
           "xaxis": {
            "backgroundcolor": "#E5ECF6",
            "gridcolor": "white",
            "gridwidth": 2,
            "linecolor": "white",
            "showbackground": true,
            "ticks": "",
            "zerolinecolor": "white"
           },
           "yaxis": {
            "backgroundcolor": "#E5ECF6",
            "gridcolor": "white",
            "gridwidth": 2,
            "linecolor": "white",
            "showbackground": true,
            "ticks": "",
            "zerolinecolor": "white"
           },
           "zaxis": {
            "backgroundcolor": "#E5ECF6",
            "gridcolor": "white",
            "gridwidth": 2,
            "linecolor": "white",
            "showbackground": true,
            "ticks": "",
            "zerolinecolor": "white"
           }
          },
          "shapedefaults": {
           "line": {
            "color": "#2a3f5f"
           }
          },
          "ternary": {
           "aaxis": {
            "gridcolor": "white",
            "linecolor": "white",
            "ticks": ""
           },
           "baxis": {
            "gridcolor": "white",
            "linecolor": "white",
            "ticks": ""
           },
           "bgcolor": "#E5ECF6",
           "caxis": {
            "gridcolor": "white",
            "linecolor": "white",
            "ticks": ""
           }
          },
          "title": {
           "x": 0.05
          },
          "xaxis": {
           "automargin": true,
           "gridcolor": "white",
           "linecolor": "white",
           "ticks": "",
           "title": {
            "standoff": 15
           },
           "zerolinecolor": "white",
           "zerolinewidth": 2
          },
          "yaxis": {
           "automargin": true,
           "gridcolor": "white",
           "linecolor": "white",
           "ticks": "",
           "title": {
            "standoff": 15
           },
           "zerolinecolor": "white",
           "zerolinewidth": 2
          }
         }
        },
        "title": {
         "text": "World Map with Circles Representing Number of Studies"
        }
       }
      }
     },
     "metadata": {},
     "output_type": "display_data"
    },
    {
     "data": {
      "application/vnd.plotly.v1+json": {
       "config": {
        "plotlyServerURL": "https://plot.ly"
       },
       "data": [
        {
         "geo": "geo",
         "hovertemplate": "Count=%{marker.size}<br>Country=%{location}<extra></extra>",
         "legendgroup": "",
         "locationmode": "USA-states",
         "locations": [
          "AR",
          "CA",
          "FL",
          "GA",
          "IL",
          "IA",
          "MD",
          "MA",
          "MI",
          "MN",
          "MO",
          "NV",
          "NM",
          "NY",
          "NC",
          "OR",
          "PA",
          "SD",
          "TX",
          "VA",
          "WA"
         ],
         "marker": {
          "color": "#636efa",
          "size": [
           2,
           19,
           6,
           3,
           6,
           1,
           32,
           2,
           3,
           4,
           2,
           3,
           19,
           11,
           2,
           1,
           11,
           1,
           2,
           3,
           2
          ],
          "sizemode": "area",
          "sizeref": 0.08,
          "symbol": "circle"
         },
         "mode": "markers",
         "name": "",
         "showlegend": false,
         "type": "scattergeo"
        }
       ],
       "layout": {
        "geo": {
         "center": {},
         "domain": {
          "x": [
           0,
           1
          ],
          "y": [
           0,
           1
          ]
         },
         "projection": {
          "type": "albers usa"
         }
        },
        "legend": {
         "itemsizing": "constant",
         "tracegroupgap": 0
        },
        "template": {
         "data": {
          "bar": [
           {
            "error_x": {
             "color": "#2a3f5f"
            },
            "error_y": {
             "color": "#2a3f5f"
            },
            "marker": {
             "line": {
              "color": "#E5ECF6",
              "width": 0.5
             },
             "pattern": {
              "fillmode": "overlay",
              "size": 10,
              "solidity": 0.2
             }
            },
            "type": "bar"
           }
          ],
          "barpolar": [
           {
            "marker": {
             "line": {
              "color": "#E5ECF6",
              "width": 0.5
             },
             "pattern": {
              "fillmode": "overlay",
              "size": 10,
              "solidity": 0.2
             }
            },
            "type": "barpolar"
           }
          ],
          "carpet": [
           {
            "aaxis": {
             "endlinecolor": "#2a3f5f",
             "gridcolor": "white",
             "linecolor": "white",
             "minorgridcolor": "white",
             "startlinecolor": "#2a3f5f"
            },
            "baxis": {
             "endlinecolor": "#2a3f5f",
             "gridcolor": "white",
             "linecolor": "white",
             "minorgridcolor": "white",
             "startlinecolor": "#2a3f5f"
            },
            "type": "carpet"
           }
          ],
          "choropleth": [
           {
            "colorbar": {
             "outlinewidth": 0,
             "ticks": ""
            },
            "type": "choropleth"
           }
          ],
          "contour": [
           {
            "colorbar": {
             "outlinewidth": 0,
             "ticks": ""
            },
            "colorscale": [
             [
              0,
              "#0d0887"
             ],
             [
              0.1111111111111111,
              "#46039f"
             ],
             [
              0.2222222222222222,
              "#7201a8"
             ],
             [
              0.3333333333333333,
              "#9c179e"
             ],
             [
              0.4444444444444444,
              "#bd3786"
             ],
             [
              0.5555555555555556,
              "#d8576b"
             ],
             [
              0.6666666666666666,
              "#ed7953"
             ],
             [
              0.7777777777777778,
              "#fb9f3a"
             ],
             [
              0.8888888888888888,
              "#fdca26"
             ],
             [
              1,
              "#f0f921"
             ]
            ],
            "type": "contour"
           }
          ],
          "contourcarpet": [
           {
            "colorbar": {
             "outlinewidth": 0,
             "ticks": ""
            },
            "type": "contourcarpet"
           }
          ],
          "heatmap": [
           {
            "colorbar": {
             "outlinewidth": 0,
             "ticks": ""
            },
            "colorscale": [
             [
              0,
              "#0d0887"
             ],
             [
              0.1111111111111111,
              "#46039f"
             ],
             [
              0.2222222222222222,
              "#7201a8"
             ],
             [
              0.3333333333333333,
              "#9c179e"
             ],
             [
              0.4444444444444444,
              "#bd3786"
             ],
             [
              0.5555555555555556,
              "#d8576b"
             ],
             [
              0.6666666666666666,
              "#ed7953"
             ],
             [
              0.7777777777777778,
              "#fb9f3a"
             ],
             [
              0.8888888888888888,
              "#fdca26"
             ],
             [
              1,
              "#f0f921"
             ]
            ],
            "type": "heatmap"
           }
          ],
          "heatmapgl": [
           {
            "colorbar": {
             "outlinewidth": 0,
             "ticks": ""
            },
            "colorscale": [
             [
              0,
              "#0d0887"
             ],
             [
              0.1111111111111111,
              "#46039f"
             ],
             [
              0.2222222222222222,
              "#7201a8"
             ],
             [
              0.3333333333333333,
              "#9c179e"
             ],
             [
              0.4444444444444444,
              "#bd3786"
             ],
             [
              0.5555555555555556,
              "#d8576b"
             ],
             [
              0.6666666666666666,
              "#ed7953"
             ],
             [
              0.7777777777777778,
              "#fb9f3a"
             ],
             [
              0.8888888888888888,
              "#fdca26"
             ],
             [
              1,
              "#f0f921"
             ]
            ],
            "type": "heatmapgl"
           }
          ],
          "histogram": [
           {
            "marker": {
             "pattern": {
              "fillmode": "overlay",
              "size": 10,
              "solidity": 0.2
             }
            },
            "type": "histogram"
           }
          ],
          "histogram2d": [
           {
            "colorbar": {
             "outlinewidth": 0,
             "ticks": ""
            },
            "colorscale": [
             [
              0,
              "#0d0887"
             ],
             [
              0.1111111111111111,
              "#46039f"
             ],
             [
              0.2222222222222222,
              "#7201a8"
             ],
             [
              0.3333333333333333,
              "#9c179e"
             ],
             [
              0.4444444444444444,
              "#bd3786"
             ],
             [
              0.5555555555555556,
              "#d8576b"
             ],
             [
              0.6666666666666666,
              "#ed7953"
             ],
             [
              0.7777777777777778,
              "#fb9f3a"
             ],
             [
              0.8888888888888888,
              "#fdca26"
             ],
             [
              1,
              "#f0f921"
             ]
            ],
            "type": "histogram2d"
           }
          ],
          "histogram2dcontour": [
           {
            "colorbar": {
             "outlinewidth": 0,
             "ticks": ""
            },
            "colorscale": [
             [
              0,
              "#0d0887"
             ],
             [
              0.1111111111111111,
              "#46039f"
             ],
             [
              0.2222222222222222,
              "#7201a8"
             ],
             [
              0.3333333333333333,
              "#9c179e"
             ],
             [
              0.4444444444444444,
              "#bd3786"
             ],
             [
              0.5555555555555556,
              "#d8576b"
             ],
             [
              0.6666666666666666,
              "#ed7953"
             ],
             [
              0.7777777777777778,
              "#fb9f3a"
             ],
             [
              0.8888888888888888,
              "#fdca26"
             ],
             [
              1,
              "#f0f921"
             ]
            ],
            "type": "histogram2dcontour"
           }
          ],
          "mesh3d": [
           {
            "colorbar": {
             "outlinewidth": 0,
             "ticks": ""
            },
            "type": "mesh3d"
           }
          ],
          "parcoords": [
           {
            "line": {
             "colorbar": {
              "outlinewidth": 0,
              "ticks": ""
             }
            },
            "type": "parcoords"
           }
          ],
          "pie": [
           {
            "automargin": true,
            "type": "pie"
           }
          ],
          "scatter": [
           {
            "fillpattern": {
             "fillmode": "overlay",
             "size": 10,
             "solidity": 0.2
            },
            "type": "scatter"
           }
          ],
          "scatter3d": [
           {
            "line": {
             "colorbar": {
              "outlinewidth": 0,
              "ticks": ""
             }
            },
            "marker": {
             "colorbar": {
              "outlinewidth": 0,
              "ticks": ""
             }
            },
            "type": "scatter3d"
           }
          ],
          "scattercarpet": [
           {
            "marker": {
             "colorbar": {
              "outlinewidth": 0,
              "ticks": ""
             }
            },
            "type": "scattercarpet"
           }
          ],
          "scattergeo": [
           {
            "marker": {
             "colorbar": {
              "outlinewidth": 0,
              "ticks": ""
             }
            },
            "type": "scattergeo"
           }
          ],
          "scattergl": [
           {
            "marker": {
             "colorbar": {
              "outlinewidth": 0,
              "ticks": ""
             }
            },
            "type": "scattergl"
           }
          ],
          "scattermapbox": [
           {
            "marker": {
             "colorbar": {
              "outlinewidth": 0,
              "ticks": ""
             }
            },
            "type": "scattermapbox"
           }
          ],
          "scatterpolar": [
           {
            "marker": {
             "colorbar": {
              "outlinewidth": 0,
              "ticks": ""
             }
            },
            "type": "scatterpolar"
           }
          ],
          "scatterpolargl": [
           {
            "marker": {
             "colorbar": {
              "outlinewidth": 0,
              "ticks": ""
             }
            },
            "type": "scatterpolargl"
           }
          ],
          "scatterternary": [
           {
            "marker": {
             "colorbar": {
              "outlinewidth": 0,
              "ticks": ""
             }
            },
            "type": "scatterternary"
           }
          ],
          "surface": [
           {
            "colorbar": {
             "outlinewidth": 0,
             "ticks": ""
            },
            "colorscale": [
             [
              0,
              "#0d0887"
             ],
             [
              0.1111111111111111,
              "#46039f"
             ],
             [
              0.2222222222222222,
              "#7201a8"
             ],
             [
              0.3333333333333333,
              "#9c179e"
             ],
             [
              0.4444444444444444,
              "#bd3786"
             ],
             [
              0.5555555555555556,
              "#d8576b"
             ],
             [
              0.6666666666666666,
              "#ed7953"
             ],
             [
              0.7777777777777778,
              "#fb9f3a"
             ],
             [
              0.8888888888888888,
              "#fdca26"
             ],
             [
              1,
              "#f0f921"
             ]
            ],
            "type": "surface"
           }
          ],
          "table": [
           {
            "cells": {
             "fill": {
              "color": "#EBF0F8"
             },
             "line": {
              "color": "white"
             }
            },
            "header": {
             "fill": {
              "color": "#C8D4E3"
             },
             "line": {
              "color": "white"
             }
            },
            "type": "table"
           }
          ]
         },
         "layout": {
          "annotationdefaults": {
           "arrowcolor": "#2a3f5f",
           "arrowhead": 0,
           "arrowwidth": 1
          },
          "autotypenumbers": "strict",
          "coloraxis": {
           "colorbar": {
            "outlinewidth": 0,
            "ticks": ""
           }
          },
          "colorscale": {
           "diverging": [
            [
             0,
             "#8e0152"
            ],
            [
             0.1,
             "#c51b7d"
            ],
            [
             0.2,
             "#de77ae"
            ],
            [
             0.3,
             "#f1b6da"
            ],
            [
             0.4,
             "#fde0ef"
            ],
            [
             0.5,
             "#f7f7f7"
            ],
            [
             0.6,
             "#e6f5d0"
            ],
            [
             0.7,
             "#b8e186"
            ],
            [
             0.8,
             "#7fbc41"
            ],
            [
             0.9,
             "#4d9221"
            ],
            [
             1,
             "#276419"
            ]
           ],
           "sequential": [
            [
             0,
             "#0d0887"
            ],
            [
             0.1111111111111111,
             "#46039f"
            ],
            [
             0.2222222222222222,
             "#7201a8"
            ],
            [
             0.3333333333333333,
             "#9c179e"
            ],
            [
             0.4444444444444444,
             "#bd3786"
            ],
            [
             0.5555555555555556,
             "#d8576b"
            ],
            [
             0.6666666666666666,
             "#ed7953"
            ],
            [
             0.7777777777777778,
             "#fb9f3a"
            ],
            [
             0.8888888888888888,
             "#fdca26"
            ],
            [
             1,
             "#f0f921"
            ]
           ],
           "sequentialminus": [
            [
             0,
             "#0d0887"
            ],
            [
             0.1111111111111111,
             "#46039f"
            ],
            [
             0.2222222222222222,
             "#7201a8"
            ],
            [
             0.3333333333333333,
             "#9c179e"
            ],
            [
             0.4444444444444444,
             "#bd3786"
            ],
            [
             0.5555555555555556,
             "#d8576b"
            ],
            [
             0.6666666666666666,
             "#ed7953"
            ],
            [
             0.7777777777777778,
             "#fb9f3a"
            ],
            [
             0.8888888888888888,
             "#fdca26"
            ],
            [
             1,
             "#f0f921"
            ]
           ]
          },
          "colorway": [
           "#636efa",
           "#EF553B",
           "#00cc96",
           "#ab63fa",
           "#FFA15A",
           "#19d3f3",
           "#FF6692",
           "#B6E880",
           "#FF97FF",
           "#FECB52"
          ],
          "font": {
           "color": "#2a3f5f"
          },
          "geo": {
           "bgcolor": "white",
           "lakecolor": "white",
           "landcolor": "#E5ECF6",
           "showlakes": true,
           "showland": true,
           "subunitcolor": "white"
          },
          "hoverlabel": {
           "align": "left"
          },
          "hovermode": "closest",
          "mapbox": {
           "style": "light"
          },
          "paper_bgcolor": "white",
          "plot_bgcolor": "#E5ECF6",
          "polar": {
           "angularaxis": {
            "gridcolor": "white",
            "linecolor": "white",
            "ticks": ""
           },
           "bgcolor": "#E5ECF6",
           "radialaxis": {
            "gridcolor": "white",
            "linecolor": "white",
            "ticks": ""
           }
          },
          "scene": {
           "xaxis": {
            "backgroundcolor": "#E5ECF6",
            "gridcolor": "white",
            "gridwidth": 2,
            "linecolor": "white",
            "showbackground": true,
            "ticks": "",
            "zerolinecolor": "white"
           },
           "yaxis": {
            "backgroundcolor": "#E5ECF6",
            "gridcolor": "white",
            "gridwidth": 2,
            "linecolor": "white",
            "showbackground": true,
            "ticks": "",
            "zerolinecolor": "white"
           },
           "zaxis": {
            "backgroundcolor": "#E5ECF6",
            "gridcolor": "white",
            "gridwidth": 2,
            "linecolor": "white",
            "showbackground": true,
            "ticks": "",
            "zerolinecolor": "white"
           }
          },
          "shapedefaults": {
           "line": {
            "color": "#2a3f5f"
           }
          },
          "ternary": {
           "aaxis": {
            "gridcolor": "white",
            "linecolor": "white",
            "ticks": ""
           },
           "baxis": {
            "gridcolor": "white",
            "linecolor": "white",
            "ticks": ""
           },
           "bgcolor": "#E5ECF6",
           "caxis": {
            "gridcolor": "white",
            "linecolor": "white",
            "ticks": ""
           }
          },
          "title": {
           "x": 0.05
          },
          "xaxis": {
           "automargin": true,
           "gridcolor": "white",
           "linecolor": "white",
           "ticks": "",
           "title": {
            "standoff": 15
           },
           "zerolinecolor": "white",
           "zerolinewidth": 2
          },
          "yaxis": {
           "automargin": true,
           "gridcolor": "white",
           "linecolor": "white",
           "ticks": "",
           "title": {
            "standoff": 15
           },
           "zerolinecolor": "white",
           "zerolinewidth": 2
          }
         }
        },
        "title": {
         "text": "US Map with Circles Representing Number of Studies"
        }
       }
      }
     },
     "metadata": {},
     "output_type": "display_data"
    }
   ],
   "source": [
    "# '''\n",
    "# US has so many studies that it's hard to see the other countries on the map.\n",
    "# Removing US to see the other countries alone. \n",
    "# Creating plot with international countries excluding US. \n",
    "# '''\n",
    "\n",
    "# # create dataframe for number of studies from each country\n",
    "# countries = df['Author country']\n",
    "# countries = countries.astype(str)\n",
    "# countries = countries.str.strip().str.lower().str.replace('.', '')\n",
    "# replacements = {\n",
    "#     \"usa\": \"united states\",\n",
    "#     \"uk\": \"united kingdom\",\n",
    "#     \"romani\": \"romania\",\n",
    "#     'the netherlands': 'netherlands'\n",
    "# }\n",
    "# countries.replace(replacements, inplace=True)\n",
    "\n",
    "# # calculate df without US\n",
    "# countries_noUS = countries[countries != 'united states']\n",
    "# unique_countries_noUS, counts_noUS = np.unique(countries_noUS, return_counts=True)\n",
    "# country_counts_df = pd.DataFrame({\n",
    "#     'Country': unique_countries_noUS,\n",
    "#     'Count': counts_noUS\n",
    "# })\n",
    "\n",
    "# Create a plotly scatter_geo plot\n",
    "fig3_noUS = px.scatter_geo(country_counts_df, locations=\"Country\", locationmode='country names',\n",
    "                     size=\"Count\", projection=\"natural earth\",\n",
    "                     title=\"World Map with Circles Representing Number of Studies\",\n",
    "                     color_continuous_scale=\"Viridis\")\n",
    "fig3_noUS.show()\n",
    "\n",
    "'''\n",
    "Now, create a plot with only the US to see the distribution of studies within the US.\n",
    "'''\n",
    "\n",
    "usa = df[['Author country', 'First author state']]\n",
    "usa = usa.map(lambda x: x.strip().lower().replace('.', ''))\n",
    "usa.replace({\"usa\": \"united states\"}, inplace=True)\n",
    "usa = usa[usa['Author country'] == 'united states']\n",
    "\n",
    "city_replacements = {\n",
    "    'chicago': 'illinois',\n",
    "    'pittsburgh': 'pennsylvania',\n",
    "}\n",
    "usa.replace(city_replacements, inplace=True)\n",
    "\n",
    "states_unique, states_counts = np.unique(usa['First author state'], return_counts=True)\n",
    "states_counts = states_counts.astype(int)\n",
    "\n",
    "usa_counts_df = pd.DataFrame({\n",
    "    'Country': states_unique,\n",
    "    'Count': states_counts\n",
    "})\n",
    "# Dictionary to convert state names to abbreviations\n",
    "state_abbrev = {\n",
    "    'alabama': 'AL', 'alaska': 'AK', 'arizona': 'AZ', 'arkansas': 'AR', 'california': 'CA',\n",
    "    'colorado': 'CO', 'connecticut': 'CT', 'delaware': 'DE', 'florida': 'FL', 'georgia': 'GA',\n",
    "    'hawaii': 'HI', 'idaho': 'ID', 'illinois': 'IL', 'indiana': 'IN', 'iowa': 'IA',\n",
    "    'kansas': 'KS', 'kentucky': 'KY', 'louisiana': 'LA', 'maine': 'ME', 'maryland': 'MD',\n",
    "    'massachusetts': 'MA', 'michigan': 'MI', 'minnesota': 'MN', 'mississippi': 'MS', 'missouri': 'MO',\n",
    "    'montana': 'MT', 'nebraska': 'NE', 'nevada': 'NV', 'new hampshire': 'NH', 'new jersey': 'NJ',\n",
    "    'new mexico': 'NM', 'new york': 'NY', 'north carolina': 'NC', 'north dakota': 'ND', 'ohio': 'OH',\n",
    "    'oklahoma': 'OK', 'oregon': 'OR', 'pennsylvania': 'PA', 'rhode island': 'RI', 'south carolina': 'SC',\n",
    "    'south dakota': 'SD', 'tennessee': 'TN', 'texas': 'TX', 'utah': 'UT', 'vermont': 'VT',\n",
    "    'virginia': 'VA', 'washington': 'WA', 'west virginia': 'WV', 'wisconsin': 'WI', 'wyoming': 'WY'\n",
    "}\n",
    "# Convert state names to abbreviations\n",
    "usa_counts_df['Country'] = usa_counts_df['Country'].map(state_abbrev).fillna(usa_counts_df['Country'])\n",
    "\n",
    "\n",
    "fig3_us = px.scatter_geo(usa_counts_df, locations=\"Country\", locationmode='USA-states',\n",
    "                     size=\"Count\", projection=\"albers usa\",\n",
    "                     title=\"US Map with Circles Representing Number of Studies\",\n",
    "                     color_continuous_scale=\"Viridis\")\n",
    "fig3_us.show()"
   ]
  },
  {
   "cell_type": "markdown",
   "metadata": {},
   "source": [
    "### Figure 4\n",
    "\n",
    "Figure 4 - Published date x number of datasets x modality\n",
    "\n",
    "A line graph showing the number of publications over time, segmented by modality"
   ]
  },
  {
   "cell_type": "code",
   "execution_count": null,
   "metadata": {},
   "outputs": [
    {
     "name": "stderr",
     "output_type": "stream",
     "text": [
      "/var/folders/ds/qxmx4zy969v_twj4bz2m_zvw0000gn/T/ipykernel_67247/2501609782.py:21: SettingWithCopyWarning:\n",
      "\n",
      "\n",
      "A value is trying to be set on a copy of a slice from a DataFrame\n",
      "\n",
      "See the caveats in the documentation: https://pandas.pydata.org/pandas-docs/stable/user_guide/indexing.html#returning-a-view-versus-a-copy\n",
      "\n",
      "/var/folders/ds/qxmx4zy969v_twj4bz2m_zvw0000gn/T/ipykernel_67247/2501609782.py:55: UserWarning:\n",
      "\n",
      "Could not infer format, so each element will be parsed individually, falling back to `dateutil`. To ensure parsing is consistent and as-expected, please specify a format.\n",
      "\n",
      "/var/folders/ds/qxmx4zy969v_twj4bz2m_zvw0000gn/T/ipykernel_67247/2501609782.py:55: UserWarning:\n",
      "\n",
      "Could not infer format, so each element will be parsed individually, falling back to `dateutil`. To ensure parsing is consistent and as-expected, please specify a format.\n",
      "\n",
      "/var/folders/ds/qxmx4zy969v_twj4bz2m_zvw0000gn/T/ipykernel_67247/2501609782.py:55: UserWarning:\n",
      "\n",
      "Could not infer format, so each element will be parsed individually, falling back to `dateutil`. To ensure parsing is consistent and as-expected, please specify a format.\n",
      "\n",
      "/var/folders/ds/qxmx4zy969v_twj4bz2m_zvw0000gn/T/ipykernel_67247/2501609782.py:55: UserWarning:\n",
      "\n",
      "Could not infer format, so each element will be parsed individually, falling back to `dateutil`. To ensure parsing is consistent and as-expected, please specify a format.\n",
      "\n",
      "/var/folders/ds/qxmx4zy969v_twj4bz2m_zvw0000gn/T/ipykernel_67247/2501609782.py:55: UserWarning:\n",
      "\n",
      "Could not infer format, so each element will be parsed individually, falling back to `dateutil`. To ensure parsing is consistent and as-expected, please specify a format.\n",
      "\n",
      "/var/folders/ds/qxmx4zy969v_twj4bz2m_zvw0000gn/T/ipykernel_67247/2501609782.py:55: UserWarning:\n",
      "\n",
      "Could not infer format, so each element will be parsed individually, falling back to `dateutil`. To ensure parsing is consistent and as-expected, please specify a format.\n",
      "\n",
      "/var/folders/ds/qxmx4zy969v_twj4bz2m_zvw0000gn/T/ipykernel_67247/2501609782.py:55: UserWarning:\n",
      "\n",
      "Could not infer format, so each element will be parsed individually, falling back to `dateutil`. To ensure parsing is consistent and as-expected, please specify a format.\n",
      "\n",
      "/var/folders/ds/qxmx4zy969v_twj4bz2m_zvw0000gn/T/ipykernel_67247/2501609782.py:55: UserWarning:\n",
      "\n",
      "Could not infer format, so each element will be parsed individually, falling back to `dateutil`. To ensure parsing is consistent and as-expected, please specify a format.\n",
      "\n",
      "/var/folders/ds/qxmx4zy969v_twj4bz2m_zvw0000gn/T/ipykernel_67247/2501609782.py:55: UserWarning:\n",
      "\n",
      "Could not infer format, so each element will be parsed individually, falling back to `dateutil`. To ensure parsing is consistent and as-expected, please specify a format.\n",
      "\n",
      "/var/folders/ds/qxmx4zy969v_twj4bz2m_zvw0000gn/T/ipykernel_67247/2501609782.py:55: UserWarning:\n",
      "\n",
      "Could not infer format, so each element will be parsed individually, falling back to `dateutil`. To ensure parsing is consistent and as-expected, please specify a format.\n",
      "\n",
      "/var/folders/ds/qxmx4zy969v_twj4bz2m_zvw0000gn/T/ipykernel_67247/2501609782.py:55: UserWarning:\n",
      "\n",
      "Could not infer format, so each element will be parsed individually, falling back to `dateutil`. To ensure parsing is consistent and as-expected, please specify a format.\n",
      "\n",
      "/var/folders/ds/qxmx4zy969v_twj4bz2m_zvw0000gn/T/ipykernel_67247/2501609782.py:55: UserWarning:\n",
      "\n",
      "Could not infer format, so each element will be parsed individually, falling back to `dateutil`. To ensure parsing is consistent and as-expected, please specify a format.\n",
      "\n",
      "/var/folders/ds/qxmx4zy969v_twj4bz2m_zvw0000gn/T/ipykernel_67247/2501609782.py:55: UserWarning:\n",
      "\n",
      "Could not infer format, so each element will be parsed individually, falling back to `dateutil`. To ensure parsing is consistent and as-expected, please specify a format.\n",
      "\n",
      "/var/folders/ds/qxmx4zy969v_twj4bz2m_zvw0000gn/T/ipykernel_67247/2501609782.py:55: UserWarning:\n",
      "\n",
      "Could not infer format, so each element will be parsed individually, falling back to `dateutil`. To ensure parsing is consistent and as-expected, please specify a format.\n",
      "\n",
      "/var/folders/ds/qxmx4zy969v_twj4bz2m_zvw0000gn/T/ipykernel_67247/2501609782.py:55: UserWarning:\n",
      "\n",
      "Could not infer format, so each element will be parsed individually, falling back to `dateutil`. To ensure parsing is consistent and as-expected, please specify a format.\n",
      "\n",
      "/var/folders/ds/qxmx4zy969v_twj4bz2m_zvw0000gn/T/ipykernel_67247/2501609782.py:55: UserWarning:\n",
      "\n",
      "Could not infer format, so each element will be parsed individually, falling back to `dateutil`. To ensure parsing is consistent and as-expected, please specify a format.\n",
      "\n",
      "/var/folders/ds/qxmx4zy969v_twj4bz2m_zvw0000gn/T/ipykernel_67247/2501609782.py:55: UserWarning:\n",
      "\n",
      "Could not infer format, so each element will be parsed individually, falling back to `dateutil`. To ensure parsing is consistent and as-expected, please specify a format.\n",
      "\n"
     ]
    },
    {
     "data": {
      "application/vnd.plotly.v1+json": {
       "config": {
        "plotlyServerURL": "https://plot.ly"
       },
       "data": [
        {
         "mode": "lines",
         "name": "EEG",
         "type": "scatter",
         "x": [
          "2019-03-08T05:11:00",
          "2019-03-08T05:11:00",
          "2019-03-09T00:48:00",
          "2019-05-28T11:48:00",
          "2019-06-07T19:41:00",
          "2019-08-02T15:03:00",
          "2019-08-22T14:07:00",
          "2019-08-24T11:03:00",
          "2019-10-03T05:24:00",
          "2019-12-04T14:40:00",
          "2019-12-04T14:48:00",
          "2020-02-21T19:41:00",
          "2020-03-19T13:15:00",
          "2020-04-09T00:50:00",
          "2020-04-09T00:54:00",
          "2020-04-21T23:09:00",
          "2020-04-24T15:25:00",
          "2020-04-24T15:27:00",
          "2020-04-24T15:28:00",
          "2020-04-24T15:29:00",
          "2020-04-24T15:31:00",
          "2020-04-24T18:49:00",
          "2020-05-06T05:35:00",
          "2020-06-29T23:47:00",
          "2020-07-10T00:05:00",
          "2020-07-17T20:53:00",
          "2020-07-17T20:54:00",
          "2020-08-19T00:37:00",
          "2020-10-01T05:10:00",
          "2020-10-13T00:43:00",
          "2020-10-13T00:44:00",
          "2020-11-12T07:14:00",
          "2020-11-22T09:06:00",
          "2020-12-08T22:53:00",
          "2020-12-08T23:04:00",
          "2021-01-04T22:45:00",
          "2021-01-18T19:50:00",
          "2021-01-27T18:22:00",
          "2021-02-05T20:07:00",
          "2021-02-05T21:40:00",
          "2021-02-08T22:26:00",
          "2021-02-12T17:59:00",
          "2021-02-15T18:10:00",
          "2021-02-16T18:03:00",
          "2021-02-17T17:12:00",
          "2021-02-19T22:38:00",
          "2021-02-22T20:47:00",
          "2021-02-26T13:26:00",
          "2021-03-06T01:41:00",
          "2021-03-11T07:46:00",
          "2021-03-20T08:07:00",
          "2021-03-26T13:31:00",
          "2021-04-17T19:51:00",
          "2021-04-20T02:21:00",
          "2021-05-20T16:20:00",
          "2021-05-20T17:51:00",
          "2021-06-10T08:35:00",
          "2021-06-15T17:10:00",
          "2021-07-10T22:21:00",
          "2021-07-12T19:38:00",
          "2021-07-23T00:06:00",
          "2021-08-08T03:26:00",
          "2021-08-17T16:50:00",
          "2021-08-19T13:50:00",
          "2021-08-24T07:53:00",
          "2021-08-25T12:12:00",
          "2021-09-17T19:50:00",
          "2021-09-20T13:44:00",
          "2021-09-25T10:34:00",
          "2021-09-28T20:17:00",
          "2021-09-28T20:17:00",
          "2021-09-28T20:20:00",
          "2021-09-29T17:02:00",
          "2021-09-29T17:02:00",
          "2021-10-01T03:34:00",
          "2021-10-19T13:51:00",
          "2021-10-20T08:50:00",
          "2021-11-12T05:57:00",
          "2021-11-12T06:37:00",
          "2021-11-15T12:45:00",
          "2022-01-03T18:38:00",
          "2022-01-20T13:46:00",
          "2022-01-24T19:04:00",
          "2022-01-24T19:05:00",
          "2022-01-26T19:34:00",
          "2022-02-01T20:21:00",
          "2022-02-09T07:00:00",
          "2022-02-09T22:18:00",
          "2022-02-15T02:13:00",
          "2022-02-15T04:52:00",
          "2022-02-24T03:20:00",
          "2022-02-25T03:17:00",
          "2022-03-13T21:32:00",
          "2022-03-18T01:48:00",
          "2022-03-30T09:29:00",
          "2022-04-14T17:41:00",
          "2022-04-29T20:29:00",
          "2022-05-04T22:55:00",
          "2022-05-04T22:56:00",
          "2022-05-04T22:56:00",
          "2022-05-04T22:57:00",
          "2022-05-04T22:57:00",
          "2022-05-04T22:58:00",
          "2022-05-05T13:49:00",
          "2022-05-06T12:42:00",
          "2022-05-15T17:04:00",
          "2022-06-07T15:05:00",
          "2022-06-13T08:35:00",
          "2022-06-14T15:45:00",
          "2022-06-14T18:40:00",
          "2022-06-16T23:23:00",
          "2022-06-17T10:33:00",
          "2022-07-11T11:47:00",
          "2022-07-27T17:15:00",
          "2022-08-17T09:52:00",
          "2022-09-07T12:52:00",
          "2022-09-13T14:57:00",
          "2022-10-15T16:44:00",
          "2022-10-27T05:10:00",
          "2022-10-27T16:57:00",
          "2022-11-28T17:08:00",
          "2022-12-01T08:29:00",
          "2022-12-06T03:04:00",
          "2022-12-12T17:34:00",
          "2022-12-15T12:45:00",
          "2022-12-15T13:00:00",
          "2022-12-15T16:24:00",
          "2023-01-20T15:17:00",
          "2023-01-24T22:01:00",
          "2023-01-25T12:35:00",
          "2023-01-25T16:30:00",
          "2023-01-26T05:19:00",
          "2023-01-26T05:19:00",
          "2023-02-03T09:56:00",
          "2023-02-06T14:16:00",
          "2023-02-08T16:28:00",
          "2023-02-16T23:40:00",
          "2023-02-17T08:53:00",
          "2023-03-04T01:33:00",
          "2023-03-06T17:31:00",
          "2023-03-07T18:35:00",
          "2023-03-16T16:17:00",
          "2023-03-17T15:10:00",
          "2023-03-30T17:04:00",
          "2023-04-02T15:14:00",
          "2023-04-21T16:15:00",
          "2023-04-26T06:43:00",
          "2023-04-26T11:21:00",
          "2023-05-04T00:31:00",
          "2023-05-24T17:04:00",
          "2023-05-25T10:59:00",
          "2023-05-25T16:05:00",
          "2023-05-25T16:41:00",
          "2023-05-25T16:55:00",
          "2023-06-01T03:00:00",
          "2023-06-01T11:51:00",
          "2023-06-07T21:22:00",
          "2023-06-09T21:11:00",
          "2023-06-13T03:10:00",
          "2023-06-13T21:09:00",
          "2023-07-05T00:22:00",
          "2023-07-11T22:03:00",
          "2023-07-21T19:05:00",
          "2023-07-28T15:58:00",
          "2023-07-31T17:42:00",
          "2023-08-02T22:50:00",
          "2023-08-05T03:11:00",
          "2023-08-05T16:56:00",
          "2023-08-05T16:56:00",
          "2023-08-07T12:06:00",
          "2023-08-23T16:36:00",
          "2023-09-13T16:26:00",
          "2023-09-14T07:37:00",
          "2023-09-25T03:48:00",
          "2023-10-02T13:59:00",
          "2023-10-12T13:01:00",
          "2023-10-19T10:58:00",
          "2023-10-26T00:01:00",
          "2023-10-26T00:01:00",
          "2023-10-30T04:20:00",
          "2023-11-12T22:23:00",
          "2023-11-13T17:59:00",
          "2023-11-13T18:17:00",
          "2023-11-13T19:01:00",
          "2023-11-13T19:24:00",
          "2023-11-23T17:52:00",
          "2023-12-20T10:28:00",
          "2023-12-20T15:06:00",
          "2023-12-21T12:36:00",
          "2024-02-03T04:43:00",
          "2024-02-08T18:15:00",
          "2024-02-12T14:43:00",
          "2024-02-18T10:39:00",
          "2024-02-18T10:39:00",
          "2024-02-23T13:49:00",
          "2024-02-28T05:59:00",
          "2024-03-11T00:31:00",
          "2024-03-20T18:56:00",
          "2024-03-24T01:05:00",
          "2024-03-25T18:16:00",
          "2024-04-09T21:19:00",
          "2024-04-18T07:47:00",
          "2024-04-19T22:01:00",
          "2024-04-26T05:35:00",
          "2024-04-29T20:16:00",
          "2024-05-02T19:42:00",
          "2024-05-10T18:56:00",
          "2024-05-10T18:56:00",
          "2024-05-23T16:20:00",
          "2024-05-24T08:20:00",
          "2024-05-28T06:57:00",
          "2024-06-01T19:05:00",
          "2024-06-05T14:38:00",
          "2024-06-17T18:11:00",
          "2024-06-22T16:40:00",
          "2024-06-28T11:20:00",
          "2024-06-28T23:25:00",
          "2024-07-03T13:13:00",
          "2024-07-04T08:07:00",
          "2024-07-07T09:38:00",
          "2024-07-15T19:31:00"
         ],
         "y": [
          1,
          2,
          3,
          4,
          5,
          6,
          7,
          8,
          9,
          10,
          11,
          12,
          13,
          14,
          15,
          16,
          17,
          18,
          19,
          20,
          21,
          22,
          23,
          24,
          25,
          26,
          27,
          28,
          29,
          30,
          31,
          32,
          33,
          34,
          35,
          36,
          37,
          38,
          39,
          40,
          41,
          42,
          43,
          44,
          45,
          46,
          47,
          48,
          49,
          50,
          51,
          52,
          53,
          54,
          55,
          56,
          57,
          58,
          59,
          60,
          61,
          62,
          63,
          64,
          65,
          66,
          67,
          68,
          69,
          70,
          71,
          72,
          73,
          74,
          75,
          76,
          77,
          78,
          79,
          80,
          81,
          82,
          83,
          84,
          85,
          86,
          87,
          88,
          89,
          90,
          91,
          92,
          93,
          94,
          95,
          96,
          97,
          98,
          99,
          100,
          101,
          102,
          103,
          104,
          105,
          106,
          107,
          108,
          109,
          110,
          111,
          112,
          113,
          114,
          115,
          116,
          117,
          118,
          119,
          120,
          121,
          122,
          123,
          124,
          125,
          126,
          127,
          128,
          129,
          130,
          131,
          132,
          133,
          134,
          135,
          136,
          137,
          138,
          139,
          140,
          141,
          142,
          143,
          144,
          145,
          146,
          147,
          148,
          149,
          150,
          151,
          152,
          153,
          154,
          155,
          156,
          157,
          158,
          159,
          160,
          161,
          162,
          163,
          164,
          165,
          166,
          167,
          168,
          169,
          170,
          171,
          172,
          173,
          174,
          175,
          176,
          177,
          178,
          179,
          180,
          181,
          182,
          183,
          184,
          185,
          186,
          187,
          188,
          189,
          190,
          191,
          192,
          193,
          194,
          195,
          196,
          197,
          198,
          199,
          200,
          201,
          202,
          203,
          204,
          205,
          206,
          207,
          208,
          209,
          210,
          211,
          212,
          213,
          214,
          215,
          216,
          217,
          218,
          219,
          220,
          221
         ]
        },
        {
         "mode": "lines",
         "name": "MEG",
         "type": "scatter",
         "x": [
          "2018-03-30T10:34:00",
          "2018-03-30T13:14:00",
          "2018-03-30T14:58:00",
          "2018-03-30T18:40:00",
          "2019-06-28T18:20:00",
          "2020-02-18T20:21:00",
          "2020-05-15T07:08:00",
          "2020-08-31T07:30:00",
          "2020-09-07T08:38:00",
          "2020-11-03T21:07:00",
          "2020-11-20T20:41:00",
          "2020-11-20T20:41:00",
          "2020-11-30T21:41:00",
          "2021-01-24T10:37:00",
          "2021-03-16T21:47:00",
          "2021-05-16T07:35:00",
          "2021-05-20T17:51:00",
          "2021-06-05T23:01:00",
          "2021-06-23T07:43:00",
          "2021-07-13T12:17:00",
          "2022-02-08T02:58:00",
          "2022-04-11T13:09:00",
          "2022-04-22T19:51:00",
          "2022-05-02T14:15:00",
          "2022-08-02T18:33:00",
          "2022-08-05T19:55:00",
          "2022-08-05T19:55:00",
          "2022-08-05T19:55:00",
          "2022-08-05T19:55:00",
          "2022-08-05T19:55:00",
          "2022-08-05T19:55:00",
          "2022-08-05T19:55:00",
          "2022-08-05T19:55:00",
          "2022-08-05T19:55:00",
          "2022-09-26T16:19:00",
          "2022-10-07T15:21:00",
          "2022-11-08T11:21:00",
          "2022-11-30T17:54:00",
          "2023-01-05T14:14:00",
          "2023-01-23T14:29:00",
          "2023-07-07T16:31:00",
          "2023-11-02T20:12:00",
          "2023-11-02T20:12:00",
          "2023-12-21T17:05:00",
          "2024-03-06T18:07:00",
          "2024-04-09T14:11:00",
          "2024-06-08T10:01:00",
          "2024-06-12T15:58:00",
          "2024-06-25T16:13:00",
          "2024-06-26T06:05:00"
         ],
         "y": [
          1,
          2,
          3,
          4,
          5,
          6,
          7,
          8,
          9,
          10,
          11,
          12,
          13,
          14,
          15,
          16,
          17,
          18,
          19,
          20,
          21,
          22,
          23,
          24,
          25,
          26,
          27,
          28,
          29,
          30,
          31,
          32,
          33,
          34,
          35,
          36,
          37,
          38,
          39,
          40,
          41,
          42,
          43,
          44,
          45,
          46,
          47,
          48,
          49,
          50
         ]
        },
        {
         "mode": "lines",
         "name": "iEEG",
         "type": "scatter",
         "x": [
          "2020-05-18T16:49:00",
          "2020-08-17T06:46:00",
          "2020-11-11T18:39:00",
          "2020-12-02T21:03:00",
          "2021-03-10T15:56:00",
          "2021-06-13T20:10:00",
          "2021-06-13T20:10:00",
          "2021-06-23T18:53:00",
          "2021-08-06T02:20:00",
          "2021-10-16T12:00:00",
          "2021-10-22T12:45:00",
          "2022-07-06T15:43:00",
          "2022-08-04T18:02:00",
          "2023-02-08T00:47:00",
          "2023-02-23T19:33:00",
          "2023-04-07T11:11:00",
          "2023-05-17T20:25:00",
          "2023-06-30T21:13:00",
          "2023-07-31T08:40:00",
          "2023-08-16T13:32:00",
          "2023-08-18T13:22:00",
          "2023-09-13T16:26:00",
          "2023-09-22T19:54:00",
          "2023-10-10T22:55:00",
          "2023-10-20T00:10:00",
          "2023-11-23T04:12:00",
          "2023-11-29T20:55:00",
          "2024-01-30T13:49:00",
          "2024-02-26T01:22:00",
          "2024-03-05T16:27:00",
          "2024-03-07T19:23:00",
          "2024-04-03T22:24:00",
          "2024-04-10T22:04:00",
          "2024-05-13T17:39:00",
          "2024-05-22T11:05:00"
         ],
         "y": [
          1,
          2,
          3,
          4,
          5,
          6,
          7,
          8,
          9,
          10,
          11,
          12,
          13,
          14,
          15,
          16,
          17,
          18,
          19,
          20,
          21,
          22,
          23,
          24,
          25,
          26,
          27,
          28,
          29,
          30,
          31,
          32,
          33,
          34,
          35
         ]
        },
        {
         "mode": "lines",
         "name": "MRI",
         "type": "scatter",
         "x": [
          "2018-03-30T10:34:00",
          "2018-03-30T13:14:00",
          "2018-03-30T14:58:00",
          "2018-03-30T18:40:00",
          "2019-03-08T05:11:00",
          "2019-03-08T05:11:00",
          "2019-06-28T18:20:00",
          "2019-08-22T14:07:00",
          "2019-12-04T14:40:00",
          "2019-12-04T14:48:00",
          "2020-02-18T20:21:00",
          "2020-02-21T19:41:00",
          "2020-04-21T23:09:00",
          "2020-05-18T16:49:00",
          "2020-08-17T06:46:00",
          "2020-08-31T07:30:00",
          "2020-11-20T20:41:00",
          "2020-11-20T20:41:00",
          "2020-11-22T09:06:00",
          "2020-11-30T21:41:00",
          "2021-03-11T07:46:00",
          "2021-03-16T21:47:00",
          "2021-03-26T13:31:00",
          "2021-05-16T07:35:00",
          "2021-05-20T17:51:00",
          "2021-06-13T20:10:00",
          "2021-06-13T20:10:00",
          "2021-08-06T02:20:00",
          "2021-08-17T16:50:00",
          "2021-10-22T12:45:00",
          "2022-02-15T02:13:00",
          "2022-04-11T13:09:00",
          "2022-04-22T19:51:00",
          "2022-05-02T14:15:00",
          "2022-07-06T15:43:00",
          "2022-08-05T19:55:00",
          "2022-08-05T19:55:00",
          "2022-08-05T19:55:00",
          "2022-08-05T19:55:00",
          "2022-08-05T19:55:00",
          "2022-08-05T19:55:00",
          "2022-08-05T19:55:00",
          "2022-08-05T19:55:00",
          "2022-08-05T19:55:00",
          "2022-11-30T17:54:00",
          "2023-01-05T14:14:00",
          "2023-02-08T00:47:00",
          "2023-03-30T17:04:00",
          "2023-04-26T11:21:00",
          "2023-06-30T21:13:00",
          "2023-07-31T17:42:00",
          "2023-08-16T13:32:00",
          "2023-10-30T04:20:00",
          "2023-11-02T20:12:00",
          "2023-11-02T20:12:00",
          "2024-02-18T10:39:00",
          "2024-02-18T10:39:00",
          "2024-02-26T01:22:00",
          "2024-03-05T16:27:00",
          "2024-05-22T11:05:00",
          "2024-05-23T16:20:00",
          "2024-06-08T10:01:00",
          "2024-06-25T16:13:00"
         ],
         "y": [
          1,
          2,
          3,
          4,
          5,
          6,
          7,
          8,
          9,
          10,
          11,
          12,
          13,
          14,
          15,
          16,
          17,
          18,
          19,
          20,
          21,
          22,
          23,
          24,
          25,
          26,
          27,
          28,
          29,
          30,
          31,
          32,
          33,
          34,
          35,
          36,
          37,
          38,
          39,
          40,
          41,
          42,
          43,
          44,
          45,
          46,
          47,
          48,
          49,
          50,
          51,
          52,
          53,
          54,
          55,
          56,
          57,
          58,
          59,
          60,
          61,
          62,
          63
         ]
        },
        {
         "mode": "lines",
         "name": "EOG",
         "type": "scatter",
         "x": [
          "2020-11-30T21:41:00",
          "2021-06-23T07:43:00",
          "2021-07-23T00:06:00",
          "2022-01-03T18:38:00",
          "2022-01-20T13:46:00",
          "2022-01-24T19:04:00",
          "2022-01-24T19:05:00",
          "2022-02-01T20:21:00",
          "2022-04-22T19:51:00",
          "2022-05-04T22:55:00",
          "2022-05-04T22:56:00",
          "2022-05-04T22:56:00",
          "2022-05-04T22:57:00",
          "2022-05-04T22:57:00",
          "2022-05-04T22:58:00",
          "2022-06-16T23:23:00"
         ],
         "y": [
          1,
          2,
          3,
          4,
          5,
          6,
          7,
          8,
          9,
          10,
          11,
          12,
          13,
          14,
          15,
          16
         ]
        },
        {
         "mode": "lines",
         "name": "Behavioral",
         "type": "scatter",
         "x": [
          "2018-03-30T13:14:00",
          "2018-03-30T14:58:00",
          "2019-03-08T05:11:00",
          "2019-03-08T05:11:00",
          "2019-06-07T19:41:00",
          "2019-08-24T11:03:00",
          "2020-02-18T20:21:00",
          "2020-03-19T13:15:00",
          "2021-03-11T07:46:00",
          "2021-05-20T17:51:00",
          "2021-06-05T23:01:00",
          "2021-08-24T07:53:00",
          "2021-08-25T12:12:00",
          "2021-09-25T10:34:00",
          "2021-09-29T17:02:00",
          "2021-10-19T13:51:00",
          "2022-01-03T18:38:00",
          "2022-01-20T13:46:00",
          "2022-01-24T19:04:00",
          "2022-01-24T19:05:00",
          "2022-02-01T20:21:00",
          "2022-03-13T21:32:00",
          "2022-04-11T13:09:00",
          "2022-04-29T20:29:00",
          "2022-05-04T22:55:00",
          "2022-05-04T22:56:00",
          "2022-05-04T22:56:00",
          "2022-05-04T22:57:00",
          "2022-05-04T22:57:00",
          "2022-05-04T22:58:00",
          "2022-05-05T13:49:00",
          "2022-06-07T15:05:00",
          "2022-06-14T15:45:00",
          "2022-06-17T10:33:00",
          "2022-09-07T12:52:00",
          "2022-09-13T14:57:00",
          "2022-10-07T15:21:00",
          "2022-12-01T08:29:00",
          "2022-12-15T13:00:00",
          "2023-02-08T00:47:00",
          "2023-03-17T15:10:00",
          "2023-05-24T17:04:00",
          "2023-06-01T03:00:00",
          "2023-06-13T03:10:00",
          "2023-08-05T03:11:00",
          "2023-08-07T12:06:00",
          "2023-08-23T16:36:00",
          "2023-10-10T22:55:00",
          "2023-10-20T00:10:00",
          "2023-10-30T04:20:00",
          "2023-11-29T20:55:00",
          "2023-12-20T10:28:00",
          "2024-03-20T18:56:00",
          "2024-04-03T22:24:00",
          "2024-04-09T21:19:00",
          "2024-05-10T18:56:00",
          "2024-05-10T18:56:00",
          "2024-05-28T06:57:00",
          "2024-06-05T14:38:00",
          "2024-06-25T16:13:00",
          "2024-06-26T06:05:00",
          "2024-06-28T11:20:00",
          "2024-07-04T08:07:00"
         ],
         "y": [
          1,
          2,
          3,
          4,
          5,
          6,
          7,
          8,
          9,
          10,
          11,
          12,
          13,
          14,
          15,
          16,
          17,
          18,
          19,
          20,
          21,
          22,
          23,
          24,
          25,
          26,
          27,
          28,
          29,
          30,
          31,
          32,
          33,
          34,
          35,
          36,
          37,
          38,
          39,
          40,
          41,
          42,
          43,
          44,
          45,
          46,
          47,
          48,
          49,
          50,
          51,
          52,
          53,
          54,
          55,
          56,
          57,
          58,
          59,
          60,
          61,
          62,
          63
         ]
        },
        {
         "mode": "lines",
         "name": "fMRI",
         "type": "scatter",
         "x": [
          "2020-04-24T18:49:00",
          "2021-08-17T16:50:00",
          "2022-04-11T13:09:00",
          "2022-08-05T19:55:00",
          "2022-08-05T19:55:00",
          "2022-08-05T19:55:00",
          "2022-08-05T19:55:00",
          "2022-08-05T19:55:00",
          "2022-08-05T19:55:00",
          "2022-08-05T19:55:00",
          "2022-08-05T19:55:00",
          "2022-08-05T19:55:00",
          "2024-02-26T01:22:00",
          "2024-05-23T16:20:00"
         ],
         "y": [
          1,
          2,
          3,
          4,
          5,
          6,
          7,
          8,
          9,
          10,
          11,
          12,
          13,
          14
         ]
        },
        {
         "mode": "lines",
         "name": "EcOg",
         "type": "scatter",
         "x": [
          "2021-10-16T12:00:00",
          "2021-10-22T12:45:00",
          "2022-08-04T18:02:00"
         ],
         "y": [
          1,
          2,
          3
         ]
        },
        {
         "mode": "lines",
         "name": "DBS",
         "type": "scatter",
         "x": [
          "2019-03-08T05:11:00",
          "2019-03-08T05:11:00"
         ],
         "y": [
          1,
          2
         ]
        },
        {
         "mode": "lines",
         "name": "SMI",
         "type": "scatter",
         "x": [
          "2022-04-29T20:29:00",
          "2022-05-04T22:55:00",
          "2022-05-04T22:56:00",
          "2022-05-04T22:56:00",
          "2022-05-04T22:57:00",
          "2022-05-04T22:57:00",
          "2022-05-04T22:58:00",
          "2022-05-05T13:49:00"
         ],
         "y": [
          1,
          2,
          3,
          4,
          5,
          6,
          7,
          8
         ]
        },
        {
         "mode": "lines",
         "name": "EMG",
         "type": "scatter",
         "x": [
          "2019-05-28T11:48:00",
          "2019-06-07T19:41:00",
          "2019-08-02T15:03:00",
          "2019-08-22T14:07:00",
          "2021-07-23T00:06:00",
          "2021-08-08T03:26:00",
          "2021-09-20T13:44:00",
          "2022-01-24T19:04:00",
          "2022-01-24T19:05:00"
         ],
         "y": [
          1,
          2,
          3,
          4,
          5,
          6,
          7,
          8,
          9
         ]
        },
        {
         "mode": "lines",
         "name": "TMS",
         "type": "scatter",
         "x": [
          "2019-08-02T15:03:00",
          "2019-08-22T14:07:00",
          "2022-02-15T02:13:00"
         ],
         "y": [
          1,
          2,
          3
         ]
        },
        {
         "mode": "lines",
         "name": "ECG",
         "type": "scatter",
         "x": [
          "2019-05-28T11:48:00",
          "2020-11-30T21:41:00",
          "2021-06-23T07:43:00",
          "2021-08-08T03:26:00",
          "2021-09-25T10:34:00",
          "2021-10-16T12:00:00",
          "2021-10-19T13:51:00",
          "2021-10-22T12:45:00",
          "2022-01-24T19:04:00",
          "2022-01-24T19:05:00",
          "2022-02-24T03:20:00",
          "2023-05-17T20:25:00"
         ],
         "y": [
          1,
          2,
          3,
          4,
          5,
          6,
          7,
          8,
          9,
          10,
          11,
          12
         ]
        },
        {
         "mode": "lines",
         "name": "SEEG",
         "type": "scatter",
         "x": [
          "2021-08-06T02:20:00",
          "2021-10-16T12:00:00",
          "2021-10-22T12:45:00",
          "2022-08-04T18:02:00",
          "2023-05-17T20:25:00"
         ],
         "y": [
          1,
          2,
          3,
          4,
          5
         ]
        },
        {
         "mode": "lines",
         "name": "fNIRS",
         "type": "scatter",
         "x": [
          "2022-02-15T04:52:00"
         ],
         "y": [
          1
         ]
        },
        {
         "mode": "lines",
         "name": "Blood Tests",
         "type": "scatter",
         "x": [
          "2022-08-05T19:55:00",
          "2022-08-05T19:55:00",
          "2022-08-05T19:55:00",
          "2022-08-05T19:55:00",
          "2022-08-05T19:55:00",
          "2022-08-05T19:55:00",
          "2022-08-05T19:55:00",
          "2022-08-05T19:55:00",
          "2022-08-05T19:55:00",
          "2024-02-18T10:39:00",
          "2024-02-18T10:39:00"
         ],
         "y": [
          1,
          2,
          3,
          4,
          5,
          6,
          7,
          8,
          9,
          10,
          11
         ]
        },
        {
         "mode": "lines",
         "name": "Eye Tracking",
         "type": "scatter",
         "x": [
          "2019-08-24T11:03:00",
          "2021-07-12T19:38:00",
          "2023-06-01T11:51:00",
          "2023-08-05T03:11:00",
          "2024-05-28T06:57:00"
         ],
         "y": [
          1,
          2,
          3,
          4,
          5
         ]
        },
        {
         "mode": "lines",
         "name": "Other",
         "type": "scatter",
         "x": [
          "2019-05-28T11:48:00",
          "2020-04-24T15:27:00",
          "2020-04-24T15:28:00",
          "2020-11-30T21:41:00",
          "2021-03-11T07:46:00",
          "2021-07-12T19:38:00",
          "2021-07-23T00:06:00",
          "2021-08-06T02:20:00",
          "2021-08-08T03:26:00",
          "2021-08-19T13:50:00",
          "2021-09-29T17:02:00",
          "2021-10-19T13:51:00",
          "2022-01-24T19:04:00",
          "2022-01-24T19:05:00",
          "2022-02-09T22:18:00",
          "2022-02-15T02:13:00",
          "2022-02-24T03:20:00",
          "2022-03-30T09:29:00",
          "2023-02-03T09:56:00",
          "2023-02-17T08:53:00",
          "2023-03-30T17:04:00",
          "2023-05-25T16:41:00",
          "2023-05-25T16:55:00",
          "2023-06-01T11:51:00",
          "2023-06-09T21:11:00",
          "2023-06-30T21:13:00",
          "2023-07-05T00:22:00",
          "2023-07-21T19:05:00",
          "2023-07-31T17:42:00",
          "2023-08-05T16:56:00",
          "2023-09-25T03:48:00",
          "2023-10-19T10:58:00",
          "2023-11-12T22:23:00",
          "2024-02-28T05:59:00",
          "2024-06-08T10:01:00",
          "2024-06-25T16:13:00"
         ],
         "y": [
          1,
          2,
          3,
          4,
          5,
          6,
          7,
          8,
          9,
          10,
          11,
          12,
          13,
          14,
          15,
          16,
          17,
          18,
          19,
          20,
          21,
          22,
          23,
          24,
          25,
          26,
          27,
          28,
          29,
          30,
          31,
          32,
          33,
          34,
          35,
          36
         ]
        }
       ],
       "layout": {
        "template": {
         "data": {
          "bar": [
           {
            "error_x": {
             "color": "#2a3f5f"
            },
            "error_y": {
             "color": "#2a3f5f"
            },
            "marker": {
             "line": {
              "color": "#E5ECF6",
              "width": 0.5
             },
             "pattern": {
              "fillmode": "overlay",
              "size": 10,
              "solidity": 0.2
             }
            },
            "type": "bar"
           }
          ],
          "barpolar": [
           {
            "marker": {
             "line": {
              "color": "#E5ECF6",
              "width": 0.5
             },
             "pattern": {
              "fillmode": "overlay",
              "size": 10,
              "solidity": 0.2
             }
            },
            "type": "barpolar"
           }
          ],
          "carpet": [
           {
            "aaxis": {
             "endlinecolor": "#2a3f5f",
             "gridcolor": "white",
             "linecolor": "white",
             "minorgridcolor": "white",
             "startlinecolor": "#2a3f5f"
            },
            "baxis": {
             "endlinecolor": "#2a3f5f",
             "gridcolor": "white",
             "linecolor": "white",
             "minorgridcolor": "white",
             "startlinecolor": "#2a3f5f"
            },
            "type": "carpet"
           }
          ],
          "choropleth": [
           {
            "colorbar": {
             "outlinewidth": 0,
             "ticks": ""
            },
            "type": "choropleth"
           }
          ],
          "contour": [
           {
            "colorbar": {
             "outlinewidth": 0,
             "ticks": ""
            },
            "colorscale": [
             [
              0,
              "#0d0887"
             ],
             [
              0.1111111111111111,
              "#46039f"
             ],
             [
              0.2222222222222222,
              "#7201a8"
             ],
             [
              0.3333333333333333,
              "#9c179e"
             ],
             [
              0.4444444444444444,
              "#bd3786"
             ],
             [
              0.5555555555555556,
              "#d8576b"
             ],
             [
              0.6666666666666666,
              "#ed7953"
             ],
             [
              0.7777777777777778,
              "#fb9f3a"
             ],
             [
              0.8888888888888888,
              "#fdca26"
             ],
             [
              1,
              "#f0f921"
             ]
            ],
            "type": "contour"
           }
          ],
          "contourcarpet": [
           {
            "colorbar": {
             "outlinewidth": 0,
             "ticks": ""
            },
            "type": "contourcarpet"
           }
          ],
          "heatmap": [
           {
            "colorbar": {
             "outlinewidth": 0,
             "ticks": ""
            },
            "colorscale": [
             [
              0,
              "#0d0887"
             ],
             [
              0.1111111111111111,
              "#46039f"
             ],
             [
              0.2222222222222222,
              "#7201a8"
             ],
             [
              0.3333333333333333,
              "#9c179e"
             ],
             [
              0.4444444444444444,
              "#bd3786"
             ],
             [
              0.5555555555555556,
              "#d8576b"
             ],
             [
              0.6666666666666666,
              "#ed7953"
             ],
             [
              0.7777777777777778,
              "#fb9f3a"
             ],
             [
              0.8888888888888888,
              "#fdca26"
             ],
             [
              1,
              "#f0f921"
             ]
            ],
            "type": "heatmap"
           }
          ],
          "heatmapgl": [
           {
            "colorbar": {
             "outlinewidth": 0,
             "ticks": ""
            },
            "colorscale": [
             [
              0,
              "#0d0887"
             ],
             [
              0.1111111111111111,
              "#46039f"
             ],
             [
              0.2222222222222222,
              "#7201a8"
             ],
             [
              0.3333333333333333,
              "#9c179e"
             ],
             [
              0.4444444444444444,
              "#bd3786"
             ],
             [
              0.5555555555555556,
              "#d8576b"
             ],
             [
              0.6666666666666666,
              "#ed7953"
             ],
             [
              0.7777777777777778,
              "#fb9f3a"
             ],
             [
              0.8888888888888888,
              "#fdca26"
             ],
             [
              1,
              "#f0f921"
             ]
            ],
            "type": "heatmapgl"
           }
          ],
          "histogram": [
           {
            "marker": {
             "pattern": {
              "fillmode": "overlay",
              "size": 10,
              "solidity": 0.2
             }
            },
            "type": "histogram"
           }
          ],
          "histogram2d": [
           {
            "colorbar": {
             "outlinewidth": 0,
             "ticks": ""
            },
            "colorscale": [
             [
              0,
              "#0d0887"
             ],
             [
              0.1111111111111111,
              "#46039f"
             ],
             [
              0.2222222222222222,
              "#7201a8"
             ],
             [
              0.3333333333333333,
              "#9c179e"
             ],
             [
              0.4444444444444444,
              "#bd3786"
             ],
             [
              0.5555555555555556,
              "#d8576b"
             ],
             [
              0.6666666666666666,
              "#ed7953"
             ],
             [
              0.7777777777777778,
              "#fb9f3a"
             ],
             [
              0.8888888888888888,
              "#fdca26"
             ],
             [
              1,
              "#f0f921"
             ]
            ],
            "type": "histogram2d"
           }
          ],
          "histogram2dcontour": [
           {
            "colorbar": {
             "outlinewidth": 0,
             "ticks": ""
            },
            "colorscale": [
             [
              0,
              "#0d0887"
             ],
             [
              0.1111111111111111,
              "#46039f"
             ],
             [
              0.2222222222222222,
              "#7201a8"
             ],
             [
              0.3333333333333333,
              "#9c179e"
             ],
             [
              0.4444444444444444,
              "#bd3786"
             ],
             [
              0.5555555555555556,
              "#d8576b"
             ],
             [
              0.6666666666666666,
              "#ed7953"
             ],
             [
              0.7777777777777778,
              "#fb9f3a"
             ],
             [
              0.8888888888888888,
              "#fdca26"
             ],
             [
              1,
              "#f0f921"
             ]
            ],
            "type": "histogram2dcontour"
           }
          ],
          "mesh3d": [
           {
            "colorbar": {
             "outlinewidth": 0,
             "ticks": ""
            },
            "type": "mesh3d"
           }
          ],
          "parcoords": [
           {
            "line": {
             "colorbar": {
              "outlinewidth": 0,
              "ticks": ""
             }
            },
            "type": "parcoords"
           }
          ],
          "pie": [
           {
            "automargin": true,
            "type": "pie"
           }
          ],
          "scatter": [
           {
            "fillpattern": {
             "fillmode": "overlay",
             "size": 10,
             "solidity": 0.2
            },
            "type": "scatter"
           }
          ],
          "scatter3d": [
           {
            "line": {
             "colorbar": {
              "outlinewidth": 0,
              "ticks": ""
             }
            },
            "marker": {
             "colorbar": {
              "outlinewidth": 0,
              "ticks": ""
             }
            },
            "type": "scatter3d"
           }
          ],
          "scattercarpet": [
           {
            "marker": {
             "colorbar": {
              "outlinewidth": 0,
              "ticks": ""
             }
            },
            "type": "scattercarpet"
           }
          ],
          "scattergeo": [
           {
            "marker": {
             "colorbar": {
              "outlinewidth": 0,
              "ticks": ""
             }
            },
            "type": "scattergeo"
           }
          ],
          "scattergl": [
           {
            "marker": {
             "colorbar": {
              "outlinewidth": 0,
              "ticks": ""
             }
            },
            "type": "scattergl"
           }
          ],
          "scattermapbox": [
           {
            "marker": {
             "colorbar": {
              "outlinewidth": 0,
              "ticks": ""
             }
            },
            "type": "scattermapbox"
           }
          ],
          "scatterpolar": [
           {
            "marker": {
             "colorbar": {
              "outlinewidth": 0,
              "ticks": ""
             }
            },
            "type": "scatterpolar"
           }
          ],
          "scatterpolargl": [
           {
            "marker": {
             "colorbar": {
              "outlinewidth": 0,
              "ticks": ""
             }
            },
            "type": "scatterpolargl"
           }
          ],
          "scatterternary": [
           {
            "marker": {
             "colorbar": {
              "outlinewidth": 0,
              "ticks": ""
             }
            },
            "type": "scatterternary"
           }
          ],
          "surface": [
           {
            "colorbar": {
             "outlinewidth": 0,
             "ticks": ""
            },
            "colorscale": [
             [
              0,
              "#0d0887"
             ],
             [
              0.1111111111111111,
              "#46039f"
             ],
             [
              0.2222222222222222,
              "#7201a8"
             ],
             [
              0.3333333333333333,
              "#9c179e"
             ],
             [
              0.4444444444444444,
              "#bd3786"
             ],
             [
              0.5555555555555556,
              "#d8576b"
             ],
             [
              0.6666666666666666,
              "#ed7953"
             ],
             [
              0.7777777777777778,
              "#fb9f3a"
             ],
             [
              0.8888888888888888,
              "#fdca26"
             ],
             [
              1,
              "#f0f921"
             ]
            ],
            "type": "surface"
           }
          ],
          "table": [
           {
            "cells": {
             "fill": {
              "color": "#EBF0F8"
             },
             "line": {
              "color": "white"
             }
            },
            "header": {
             "fill": {
              "color": "#C8D4E3"
             },
             "line": {
              "color": "white"
             }
            },
            "type": "table"
           }
          ]
         },
         "layout": {
          "annotationdefaults": {
           "arrowcolor": "#2a3f5f",
           "arrowhead": 0,
           "arrowwidth": 1
          },
          "autotypenumbers": "strict",
          "coloraxis": {
           "colorbar": {
            "outlinewidth": 0,
            "ticks": ""
           }
          },
          "colorscale": {
           "diverging": [
            [
             0,
             "#8e0152"
            ],
            [
             0.1,
             "#c51b7d"
            ],
            [
             0.2,
             "#de77ae"
            ],
            [
             0.3,
             "#f1b6da"
            ],
            [
             0.4,
             "#fde0ef"
            ],
            [
             0.5,
             "#f7f7f7"
            ],
            [
             0.6,
             "#e6f5d0"
            ],
            [
             0.7,
             "#b8e186"
            ],
            [
             0.8,
             "#7fbc41"
            ],
            [
             0.9,
             "#4d9221"
            ],
            [
             1,
             "#276419"
            ]
           ],
           "sequential": [
            [
             0,
             "#0d0887"
            ],
            [
             0.1111111111111111,
             "#46039f"
            ],
            [
             0.2222222222222222,
             "#7201a8"
            ],
            [
             0.3333333333333333,
             "#9c179e"
            ],
            [
             0.4444444444444444,
             "#bd3786"
            ],
            [
             0.5555555555555556,
             "#d8576b"
            ],
            [
             0.6666666666666666,
             "#ed7953"
            ],
            [
             0.7777777777777778,
             "#fb9f3a"
            ],
            [
             0.8888888888888888,
             "#fdca26"
            ],
            [
             1,
             "#f0f921"
            ]
           ],
           "sequentialminus": [
            [
             0,
             "#0d0887"
            ],
            [
             0.1111111111111111,
             "#46039f"
            ],
            [
             0.2222222222222222,
             "#7201a8"
            ],
            [
             0.3333333333333333,
             "#9c179e"
            ],
            [
             0.4444444444444444,
             "#bd3786"
            ],
            [
             0.5555555555555556,
             "#d8576b"
            ],
            [
             0.6666666666666666,
             "#ed7953"
            ],
            [
             0.7777777777777778,
             "#fb9f3a"
            ],
            [
             0.8888888888888888,
             "#fdca26"
            ],
            [
             1,
             "#f0f921"
            ]
           ]
          },
          "colorway": [
           "#636efa",
           "#EF553B",
           "#00cc96",
           "#ab63fa",
           "#FFA15A",
           "#19d3f3",
           "#FF6692",
           "#B6E880",
           "#FF97FF",
           "#FECB52"
          ],
          "font": {
           "color": "#2a3f5f"
          },
          "geo": {
           "bgcolor": "white",
           "lakecolor": "white",
           "landcolor": "#E5ECF6",
           "showlakes": true,
           "showland": true,
           "subunitcolor": "white"
          },
          "hoverlabel": {
           "align": "left"
          },
          "hovermode": "closest",
          "mapbox": {
           "style": "light"
          },
          "paper_bgcolor": "white",
          "plot_bgcolor": "#E5ECF6",
          "polar": {
           "angularaxis": {
            "gridcolor": "white",
            "linecolor": "white",
            "ticks": ""
           },
           "bgcolor": "#E5ECF6",
           "radialaxis": {
            "gridcolor": "white",
            "linecolor": "white",
            "ticks": ""
           }
          },
          "scene": {
           "xaxis": {
            "backgroundcolor": "#E5ECF6",
            "gridcolor": "white",
            "gridwidth": 2,
            "linecolor": "white",
            "showbackground": true,
            "ticks": "",
            "zerolinecolor": "white"
           },
           "yaxis": {
            "backgroundcolor": "#E5ECF6",
            "gridcolor": "white",
            "gridwidth": 2,
            "linecolor": "white",
            "showbackground": true,
            "ticks": "",
            "zerolinecolor": "white"
           },
           "zaxis": {
            "backgroundcolor": "#E5ECF6",
            "gridcolor": "white",
            "gridwidth": 2,
            "linecolor": "white",
            "showbackground": true,
            "ticks": "",
            "zerolinecolor": "white"
           }
          },
          "shapedefaults": {
           "line": {
            "color": "#2a3f5f"
           }
          },
          "ternary": {
           "aaxis": {
            "gridcolor": "white",
            "linecolor": "white",
            "ticks": ""
           },
           "baxis": {
            "gridcolor": "white",
            "linecolor": "white",
            "ticks": ""
           },
           "bgcolor": "#E5ECF6",
           "caxis": {
            "gridcolor": "white",
            "linecolor": "white",
            "ticks": ""
           }
          },
          "title": {
           "x": 0.05
          },
          "xaxis": {
           "automargin": true,
           "gridcolor": "white",
           "linecolor": "white",
           "ticks": "",
           "title": {
            "standoff": 15
           },
           "zerolinecolor": "white",
           "zerolinewidth": 2
          },
          "yaxis": {
           "automargin": true,
           "gridcolor": "white",
           "linecolor": "white",
           "ticks": "",
           "title": {
            "standoff": 15
           },
           "zerolinecolor": "white",
           "zerolinewidth": 2
          }
         }
        },
        "title": {
         "text": "Cumulative Publications Over Time for All Modalities"
        },
        "xaxis": {
         "title": {
          "text": "Published Date"
         }
        },
        "yaxis": {
         "title": {
          "text": "Cumulative Number of Publications"
         }
        }
       }
      }
     },
     "metadata": {},
     "output_type": "display_data"
    }
   ],
   "source": [
    "df_fig4 = df[['EEG Modality', \n",
    "              'MEG Modality', \n",
    "              'iEEG modality',\n",
    "              'Has MRI',\n",
    "              'Has EOG',\n",
    "              'Has Behavioral',\n",
    "              'Has fMRi',\n",
    "              'Has EcOg',\n",
    "              'Has DBS',\n",
    "              'Has SMI',\n",
    "              'Has EMG',\n",
    "              'Has TMS',\n",
    "              'Has ECG',\n",
    "              'Has SEEG',\n",
    "              'Has fNIRS',\n",
    "              'Has Blood Tests',\n",
    "              'Eye tracking',\n",
    "              'Other (put in name)',\n",
    "              'Published date']]\n",
    "\n",
    "df_fig4.rename(columns={\n",
    "    'EEG Modality': 'EEG',\n",
    "    'MEG Modality': 'MEG',\n",
    "    'iEEG modality': 'iEEG',\n",
    "    'Has MRI': 'MRI',\n",
    "    'Has EOG': 'EOG',\n",
    "    'Has Behavioral': 'Behavioral',\n",
    "    'Has fMRi': 'fMRI',\n",
    "    'Has EcOg': 'EcOg',\n",
    "    'Has DBS': 'DBS',\n",
    "    'Has SMI': 'SMI',\n",
    "    'Has EMG': 'EMG',\n",
    "    'Has TMS': 'TMS',\n",
    "    'Has ECG': 'ECG',\n",
    "    'Has SEEG': 'SEEG',\n",
    "    'Has fNIRS': 'fNIRS',\n",
    "    'Has Blood Tests': 'Blood Tests',\n",
    "    'Eye tracking': 'Eye Tracking',\n",
    "    'Other (put in name)': 'Other'\n",
    "}, inplace=True)\n",
    "\n",
    "# Initialize the dictionary with empty dataframes\n",
    "dfs_by_modalities = {col: pd.DataFrame(columns=df_fig4.columns) for col in df_fig4.columns if col != 'Published date'}\n",
    "\n",
    "# Populate the dataframes\n",
    "for index, row in df_fig4.iterrows():\n",
    "    for col in dfs_by_modalities.keys():\n",
    "        if pd.notna(row[col]):\n",
    "            dfs_by_modalities[col].loc[len(dfs_by_modalities[col])] = row\n",
    "\n",
    "dfs_by_modalities['EEG'].head()\n",
    "\n",
    "# Convert 'Published date' to datetime for sorting\n",
    "for modality, modality_df in dfs_by_modalities.items():\n",
    "    modality_df['Published date'] = pd.to_datetime(modality_df['Published date'])\n",
    "    dfs_by_modalities[modality] = modality_df.sort_values(by='Published date')\n",
    "\n",
    "    # Create a cumulative count of publications over time for each modality\n",
    "    dfs_by_modalities[modality]['Cumulative Publications'] = range(1, len(modality_df) + 1)\n",
    "\n",
    "# Create a plotly line graph for all modalities\n",
    "fig4 = go.Figure()\n",
    "\n",
    "for modality, modality_df in dfs_by_modalities.items():\n",
    "    fig4.add_trace(go.Scatter(\n",
    "        x=modality_df['Published date'],\n",
    "        y=modality_df['Cumulative Publications'],\n",
    "        mode='lines',\n",
    "        name=modality\n",
    "    ))\n",
    "\n",
    "fig4.update_layout(\n",
    "    title='Cumulative Publications Over Time for All Modalities',\n",
    "    xaxis_title='Published Date',\n",
    "    yaxis_title='Cumulative Number of Publications'\n",
    ")\n",
    "\n",
    "fig4.show()\n",
    "\n",
    "# denote that all of the data is combination - like mri is eeg-mri\n",
    "# denote this is over evolution of nemar/openneuro, thats how old database is\n",
    "# take top 3 eeg/meg/ieeg on one plot, and then the other modalities on another plot"
   ]
  },
  {
   "cell_type": "markdown",
   "metadata": {},
   "source": [
    "### Figure 5\n",
    "\n",
    "add histogram of additioanl main modalities over itme\n",
    "\n",
    "Figure 5 - EEG channel histogram (see which are most common)"
   ]
  },
  {
   "cell_type": "code",
   "execution_count": null,
   "metadata": {},
   "outputs": [
    {
     "data": {
      "application/vnd.plotly.v1+json": {
       "config": {
        "plotlyServerURL": "https://plot.ly"
       },
       "data": [
        {
         "alignmentgroup": "True",
         "bingroup": "x",
         "hovertemplate": "variable=EEG channels<br>value=%{x}<br>count=%{y}<extra></extra>",
         "legendgroup": "EEG channels",
         "marker": {
          "color": "#636efa",
          "pattern": {
           "shape": ""
          }
         },
         "name": "EEG channels",
         "nbinsx": 260,
         "offsetgroup": "EEG channels",
         "orientation": "v",
         "showlegend": true,
         "type": "histogram",
         "x": [
          17,
          60,
          60,
          60,
          60,
          63,
          64,
          30,
          108,
          64,
          30,
          32,
          63,
          63,
          256,
          32,
          70,
          32,
          40,
          68,
          33,
          224,
          64,
          64,
          19,
          19,
          16,
          64,
          64,
          64,
          64,
          128,
          64,
          64,
          47,
          64,
          64,
          64,
          64,
          64,
          23,
          64,
          64,
          35,
          32,
          64,
          70,
          19,
          32,
          61,
          61,
          21,
          32,
          128,
          128,
          64,
          120,
          129,
          32,
          129,
          64,
          19,
          19,
          21,
          19,
          15,
          127,
          64,
          63,
          63,
          64,
          128,
          128,
          61,
          61,
          64,
          64,
          128,
          64,
          3,
          18,
          64,
          63,
          129,
          18,
          64,
          64,
          64,
          63,
          63,
          64,
          256,
          69,
          64,
          256,
          64,
          64,
          64,
          64,
          31,
          61,
          128,
          31,
          64,
          129,
          64,
          37,
          2,
          0,
          31,
          31,
          64,
          129,
          66,
          124,
          60,
          60,
          28,
          64,
          34,
          64,
          34,
          63,
          64,
          68,
          4,
          4,
          125,
          128,
          129,
          129,
          129,
          129,
          122,
          79,
          60,
          65,
          19,
          120,
          64,
          64,
          62,
          63,
          63,
          21,
          63,
          63,
          63,
          24,
          64,
          128,
          64,
          127,
          21,
          68,
          129,
          64,
          128,
          64,
          65,
          63,
          63,
          8,
          32,
          128,
          128,
          129,
          120,
          63,
          58,
          128,
          65,
          8,
          64,
          61,
          64,
          63,
          63,
          32,
          64,
          64,
          64,
          61,
          6,
          59,
          63,
          59,
          64,
          64,
          19,
          19,
          32,
          32,
          32,
          30,
          64,
          64,
          64,
          64,
          63,
          257,
          256,
          257,
          63,
          2,
          160,
          62,
          62,
          62,
          99,
          19,
          34,
          32,
          58,
          66,
          64,
          64,
          128,
          61,
          64,
          256,
          6
         ],
         "xaxis": "x",
         "yaxis": "y"
        }
       ],
       "layout": {
        "barmode": "relative",
        "legend": {
         "title": {
          "text": "variable"
         },
         "tracegroupgap": 0
        },
        "template": {
         "data": {
          "bar": [
           {
            "error_x": {
             "color": "#2a3f5f"
            },
            "error_y": {
             "color": "#2a3f5f"
            },
            "marker": {
             "line": {
              "color": "#E5ECF6",
              "width": 0.5
             },
             "pattern": {
              "fillmode": "overlay",
              "size": 10,
              "solidity": 0.2
             }
            },
            "type": "bar"
           }
          ],
          "barpolar": [
           {
            "marker": {
             "line": {
              "color": "#E5ECF6",
              "width": 0.5
             },
             "pattern": {
              "fillmode": "overlay",
              "size": 10,
              "solidity": 0.2
             }
            },
            "type": "barpolar"
           }
          ],
          "carpet": [
           {
            "aaxis": {
             "endlinecolor": "#2a3f5f",
             "gridcolor": "white",
             "linecolor": "white",
             "minorgridcolor": "white",
             "startlinecolor": "#2a3f5f"
            },
            "baxis": {
             "endlinecolor": "#2a3f5f",
             "gridcolor": "white",
             "linecolor": "white",
             "minorgridcolor": "white",
             "startlinecolor": "#2a3f5f"
            },
            "type": "carpet"
           }
          ],
          "choropleth": [
           {
            "colorbar": {
             "outlinewidth": 0,
             "ticks": ""
            },
            "type": "choropleth"
           }
          ],
          "contour": [
           {
            "colorbar": {
             "outlinewidth": 0,
             "ticks": ""
            },
            "colorscale": [
             [
              0,
              "#0d0887"
             ],
             [
              0.1111111111111111,
              "#46039f"
             ],
             [
              0.2222222222222222,
              "#7201a8"
             ],
             [
              0.3333333333333333,
              "#9c179e"
             ],
             [
              0.4444444444444444,
              "#bd3786"
             ],
             [
              0.5555555555555556,
              "#d8576b"
             ],
             [
              0.6666666666666666,
              "#ed7953"
             ],
             [
              0.7777777777777778,
              "#fb9f3a"
             ],
             [
              0.8888888888888888,
              "#fdca26"
             ],
             [
              1,
              "#f0f921"
             ]
            ],
            "type": "contour"
           }
          ],
          "contourcarpet": [
           {
            "colorbar": {
             "outlinewidth": 0,
             "ticks": ""
            },
            "type": "contourcarpet"
           }
          ],
          "heatmap": [
           {
            "colorbar": {
             "outlinewidth": 0,
             "ticks": ""
            },
            "colorscale": [
             [
              0,
              "#0d0887"
             ],
             [
              0.1111111111111111,
              "#46039f"
             ],
             [
              0.2222222222222222,
              "#7201a8"
             ],
             [
              0.3333333333333333,
              "#9c179e"
             ],
             [
              0.4444444444444444,
              "#bd3786"
             ],
             [
              0.5555555555555556,
              "#d8576b"
             ],
             [
              0.6666666666666666,
              "#ed7953"
             ],
             [
              0.7777777777777778,
              "#fb9f3a"
             ],
             [
              0.8888888888888888,
              "#fdca26"
             ],
             [
              1,
              "#f0f921"
             ]
            ],
            "type": "heatmap"
           }
          ],
          "heatmapgl": [
           {
            "colorbar": {
             "outlinewidth": 0,
             "ticks": ""
            },
            "colorscale": [
             [
              0,
              "#0d0887"
             ],
             [
              0.1111111111111111,
              "#46039f"
             ],
             [
              0.2222222222222222,
              "#7201a8"
             ],
             [
              0.3333333333333333,
              "#9c179e"
             ],
             [
              0.4444444444444444,
              "#bd3786"
             ],
             [
              0.5555555555555556,
              "#d8576b"
             ],
             [
              0.6666666666666666,
              "#ed7953"
             ],
             [
              0.7777777777777778,
              "#fb9f3a"
             ],
             [
              0.8888888888888888,
              "#fdca26"
             ],
             [
              1,
              "#f0f921"
             ]
            ],
            "type": "heatmapgl"
           }
          ],
          "histogram": [
           {
            "marker": {
             "pattern": {
              "fillmode": "overlay",
              "size": 10,
              "solidity": 0.2
             }
            },
            "type": "histogram"
           }
          ],
          "histogram2d": [
           {
            "colorbar": {
             "outlinewidth": 0,
             "ticks": ""
            },
            "colorscale": [
             [
              0,
              "#0d0887"
             ],
             [
              0.1111111111111111,
              "#46039f"
             ],
             [
              0.2222222222222222,
              "#7201a8"
             ],
             [
              0.3333333333333333,
              "#9c179e"
             ],
             [
              0.4444444444444444,
              "#bd3786"
             ],
             [
              0.5555555555555556,
              "#d8576b"
             ],
             [
              0.6666666666666666,
              "#ed7953"
             ],
             [
              0.7777777777777778,
              "#fb9f3a"
             ],
             [
              0.8888888888888888,
              "#fdca26"
             ],
             [
              1,
              "#f0f921"
             ]
            ],
            "type": "histogram2d"
           }
          ],
          "histogram2dcontour": [
           {
            "colorbar": {
             "outlinewidth": 0,
             "ticks": ""
            },
            "colorscale": [
             [
              0,
              "#0d0887"
             ],
             [
              0.1111111111111111,
              "#46039f"
             ],
             [
              0.2222222222222222,
              "#7201a8"
             ],
             [
              0.3333333333333333,
              "#9c179e"
             ],
             [
              0.4444444444444444,
              "#bd3786"
             ],
             [
              0.5555555555555556,
              "#d8576b"
             ],
             [
              0.6666666666666666,
              "#ed7953"
             ],
             [
              0.7777777777777778,
              "#fb9f3a"
             ],
             [
              0.8888888888888888,
              "#fdca26"
             ],
             [
              1,
              "#f0f921"
             ]
            ],
            "type": "histogram2dcontour"
           }
          ],
          "mesh3d": [
           {
            "colorbar": {
             "outlinewidth": 0,
             "ticks": ""
            },
            "type": "mesh3d"
           }
          ],
          "parcoords": [
           {
            "line": {
             "colorbar": {
              "outlinewidth": 0,
              "ticks": ""
             }
            },
            "type": "parcoords"
           }
          ],
          "pie": [
           {
            "automargin": true,
            "type": "pie"
           }
          ],
          "scatter": [
           {
            "fillpattern": {
             "fillmode": "overlay",
             "size": 10,
             "solidity": 0.2
            },
            "type": "scatter"
           }
          ],
          "scatter3d": [
           {
            "line": {
             "colorbar": {
              "outlinewidth": 0,
              "ticks": ""
             }
            },
            "marker": {
             "colorbar": {
              "outlinewidth": 0,
              "ticks": ""
             }
            },
            "type": "scatter3d"
           }
          ],
          "scattercarpet": [
           {
            "marker": {
             "colorbar": {
              "outlinewidth": 0,
              "ticks": ""
             }
            },
            "type": "scattercarpet"
           }
          ],
          "scattergeo": [
           {
            "marker": {
             "colorbar": {
              "outlinewidth": 0,
              "ticks": ""
             }
            },
            "type": "scattergeo"
           }
          ],
          "scattergl": [
           {
            "marker": {
             "colorbar": {
              "outlinewidth": 0,
              "ticks": ""
             }
            },
            "type": "scattergl"
           }
          ],
          "scattermapbox": [
           {
            "marker": {
             "colorbar": {
              "outlinewidth": 0,
              "ticks": ""
             }
            },
            "type": "scattermapbox"
           }
          ],
          "scatterpolar": [
           {
            "marker": {
             "colorbar": {
              "outlinewidth": 0,
              "ticks": ""
             }
            },
            "type": "scatterpolar"
           }
          ],
          "scatterpolargl": [
           {
            "marker": {
             "colorbar": {
              "outlinewidth": 0,
              "ticks": ""
             }
            },
            "type": "scatterpolargl"
           }
          ],
          "scatterternary": [
           {
            "marker": {
             "colorbar": {
              "outlinewidth": 0,
              "ticks": ""
             }
            },
            "type": "scatterternary"
           }
          ],
          "surface": [
           {
            "colorbar": {
             "outlinewidth": 0,
             "ticks": ""
            },
            "colorscale": [
             [
              0,
              "#0d0887"
             ],
             [
              0.1111111111111111,
              "#46039f"
             ],
             [
              0.2222222222222222,
              "#7201a8"
             ],
             [
              0.3333333333333333,
              "#9c179e"
             ],
             [
              0.4444444444444444,
              "#bd3786"
             ],
             [
              0.5555555555555556,
              "#d8576b"
             ],
             [
              0.6666666666666666,
              "#ed7953"
             ],
             [
              0.7777777777777778,
              "#fb9f3a"
             ],
             [
              0.8888888888888888,
              "#fdca26"
             ],
             [
              1,
              "#f0f921"
             ]
            ],
            "type": "surface"
           }
          ],
          "table": [
           {
            "cells": {
             "fill": {
              "color": "#EBF0F8"
             },
             "line": {
              "color": "white"
             }
            },
            "header": {
             "fill": {
              "color": "#C8D4E3"
             },
             "line": {
              "color": "white"
             }
            },
            "type": "table"
           }
          ]
         },
         "layout": {
          "annotationdefaults": {
           "arrowcolor": "#2a3f5f",
           "arrowhead": 0,
           "arrowwidth": 1
          },
          "autotypenumbers": "strict",
          "coloraxis": {
           "colorbar": {
            "outlinewidth": 0,
            "ticks": ""
           }
          },
          "colorscale": {
           "diverging": [
            [
             0,
             "#8e0152"
            ],
            [
             0.1,
             "#c51b7d"
            ],
            [
             0.2,
             "#de77ae"
            ],
            [
             0.3,
             "#f1b6da"
            ],
            [
             0.4,
             "#fde0ef"
            ],
            [
             0.5,
             "#f7f7f7"
            ],
            [
             0.6,
             "#e6f5d0"
            ],
            [
             0.7,
             "#b8e186"
            ],
            [
             0.8,
             "#7fbc41"
            ],
            [
             0.9,
             "#4d9221"
            ],
            [
             1,
             "#276419"
            ]
           ],
           "sequential": [
            [
             0,
             "#0d0887"
            ],
            [
             0.1111111111111111,
             "#46039f"
            ],
            [
             0.2222222222222222,
             "#7201a8"
            ],
            [
             0.3333333333333333,
             "#9c179e"
            ],
            [
             0.4444444444444444,
             "#bd3786"
            ],
            [
             0.5555555555555556,
             "#d8576b"
            ],
            [
             0.6666666666666666,
             "#ed7953"
            ],
            [
             0.7777777777777778,
             "#fb9f3a"
            ],
            [
             0.8888888888888888,
             "#fdca26"
            ],
            [
             1,
             "#f0f921"
            ]
           ],
           "sequentialminus": [
            [
             0,
             "#0d0887"
            ],
            [
             0.1111111111111111,
             "#46039f"
            ],
            [
             0.2222222222222222,
             "#7201a8"
            ],
            [
             0.3333333333333333,
             "#9c179e"
            ],
            [
             0.4444444444444444,
             "#bd3786"
            ],
            [
             0.5555555555555556,
             "#d8576b"
            ],
            [
             0.6666666666666666,
             "#ed7953"
            ],
            [
             0.7777777777777778,
             "#fb9f3a"
            ],
            [
             0.8888888888888888,
             "#fdca26"
            ],
            [
             1,
             "#f0f921"
            ]
           ]
          },
          "colorway": [
           "#636efa",
           "#EF553B",
           "#00cc96",
           "#ab63fa",
           "#FFA15A",
           "#19d3f3",
           "#FF6692",
           "#B6E880",
           "#FF97FF",
           "#FECB52"
          ],
          "font": {
           "color": "#2a3f5f"
          },
          "geo": {
           "bgcolor": "white",
           "lakecolor": "white",
           "landcolor": "#E5ECF6",
           "showlakes": true,
           "showland": true,
           "subunitcolor": "white"
          },
          "hoverlabel": {
           "align": "left"
          },
          "hovermode": "closest",
          "mapbox": {
           "style": "light"
          },
          "paper_bgcolor": "white",
          "plot_bgcolor": "#E5ECF6",
          "polar": {
           "angularaxis": {
            "gridcolor": "white",
            "linecolor": "white",
            "ticks": ""
           },
           "bgcolor": "#E5ECF6",
           "radialaxis": {
            "gridcolor": "white",
            "linecolor": "white",
            "ticks": ""
           }
          },
          "scene": {
           "xaxis": {
            "backgroundcolor": "#E5ECF6",
            "gridcolor": "white",
            "gridwidth": 2,
            "linecolor": "white",
            "showbackground": true,
            "ticks": "",
            "zerolinecolor": "white"
           },
           "yaxis": {
            "backgroundcolor": "#E5ECF6",
            "gridcolor": "white",
            "gridwidth": 2,
            "linecolor": "white",
            "showbackground": true,
            "ticks": "",
            "zerolinecolor": "white"
           },
           "zaxis": {
            "backgroundcolor": "#E5ECF6",
            "gridcolor": "white",
            "gridwidth": 2,
            "linecolor": "white",
            "showbackground": true,
            "ticks": "",
            "zerolinecolor": "white"
           }
          },
          "shapedefaults": {
           "line": {
            "color": "#2a3f5f"
           }
          },
          "ternary": {
           "aaxis": {
            "gridcolor": "white",
            "linecolor": "white",
            "ticks": ""
           },
           "baxis": {
            "gridcolor": "white",
            "linecolor": "white",
            "ticks": ""
           },
           "bgcolor": "#E5ECF6",
           "caxis": {
            "gridcolor": "white",
            "linecolor": "white",
            "ticks": ""
           }
          },
          "title": {
           "x": 0.05
          },
          "xaxis": {
           "automargin": true,
           "gridcolor": "white",
           "linecolor": "white",
           "ticks": "",
           "title": {
            "standoff": 15
           },
           "zerolinecolor": "white",
           "zerolinewidth": 2
          },
          "yaxis": {
           "automargin": true,
           "gridcolor": "white",
           "linecolor": "white",
           "ticks": "",
           "title": {
            "standoff": 15
           },
           "zerolinecolor": "white",
           "zerolinewidth": 2
          }
         }
        },
        "title": {
         "text": "Histogram of EEG Channels"
        },
        "xaxis": {
         "anchor": "y",
         "categoryorder": "category ascending",
         "domain": [
          0,
          1
         ],
         "dtick": 5,
         "tickangle": 45,
         "title": {
          "text": "Number of EEG Channels"
         }
        },
        "yaxis": {
         "anchor": "x",
         "domain": [
          0,
          1
         ],
         "title": {
          "text": "Frequency"
         }
        }
       }
      }
     },
     "metadata": {},
     "output_type": "display_data"
    }
   ],
   "source": [
    "df_eeg_channels = df['EEG channels']\n",
    "df_eeg_channels.replace(\"n/a\", \"\", inplace=True)\n",
    "df_eeg_channels.dropna()\n",
    "\n",
    "# Convert the EEG channels to numeric, forcing errors to NaN\n",
    "df_eeg_channels = pd.to_numeric(df_eeg_channels, errors='coerce')\n",
    "\n",
    "# Drop NaN values\n",
    "df_eeg_channels.dropna(inplace=True)\n",
    "\n",
    "# Create a plotly histogram\n",
    "fig = px.histogram(df_eeg_channels, nbins=260, title='Histogram of EEG Channels')\n",
    "fig.update_layout(\n",
    "    xaxis_title='Number of EEG Channels',\n",
    "    yaxis_title='Frequency',\n",
    "    xaxis=dict(categoryorder='category ascending', tickangle=45, dtick=5)\n",
    ")\n",
    "fig.show()\n",
    "\n",
    "# make it log\n",
    "# collapse the areas with no data\n",
    "# color code part of the bar based on proportion of EOG data\n"
   ]
  },
  {
   "cell_type": "markdown",
   "metadata": {},
   "source": [
    "### Figure 7\n",
    "\n",
    "Figure 7: # of participants x age range x type of subjects \n",
    "Bubble chart or grouped bar chart (X-axis Age range, Y-axis: Number of subjects, Grouped Bars: Type of subjects (e.g., clinical vs. healthy))\n",
    "\n"
   ]
  },
  {
   "cell_type": "code",
   "execution_count": 58,
   "metadata": {},
   "outputs": [
    {
     "data": {
      "text/html": [
       "<div>\n",
       "<style scoped>\n",
       "    .dataframe tbody tr th:only-of-type {\n",
       "        vertical-align: middle;\n",
       "    }\n",
       "\n",
       "    .dataframe tbody tr th {\n",
       "        vertical-align: top;\n",
       "    }\n",
       "\n",
       "    .dataframe thead th {\n",
       "        text-align: right;\n",
       "    }\n",
       "</style>\n",
       "<table border=\"1\" class=\"dataframe\">\n",
       "  <thead>\n",
       "    <tr style=\"text-align: right;\">\n",
       "      <th></th>\n",
       "      <th>Age range</th>\n",
       "      <th>Type of subjects</th>\n",
       "      <th>Participants</th>\n",
       "    </tr>\n",
       "  </thead>\n",
       "  <tbody>\n",
       "    <tr>\n",
       "      <th>3</th>\n",
       "      <td>19 - 29</td>\n",
       "      <td>Healthy</td>\n",
       "      <td>32</td>\n",
       "    </tr>\n",
       "    <tr>\n",
       "      <th>4</th>\n",
       "      <td>NaN</td>\n",
       "      <td>Healthy, right-handed, normal or corrected vis...</td>\n",
       "      <td>1</td>\n",
       "    </tr>\n",
       "    <tr>\n",
       "      <th>5</th>\n",
       "      <td>23-31</td>\n",
       "      <td>Healthy</td>\n",
       "      <td>16</td>\n",
       "    </tr>\n",
       "    <tr>\n",
       "      <th>6</th>\n",
       "      <td>21-35</td>\n",
       "      <td>NaN</td>\n",
       "      <td>5</td>\n",
       "    </tr>\n",
       "    <tr>\n",
       "      <th>7</th>\n",
       "      <td>NaN</td>\n",
       "      <td>Treatment Resistant Depression w DBS</td>\n",
       "      <td>14</td>\n",
       "    </tr>\n",
       "  </tbody>\n",
       "</table>\n",
       "</div>"
      ],
      "text/plain": [
       "  Age range                                   Type of subjects Participants\n",
       "3   19 - 29                                            Healthy           32\n",
       "4       NaN  Healthy, right-handed, normal or corrected vis...            1\n",
       "5     23-31                                            Healthy           16\n",
       "6     21-35                                                NaN            5\n",
       "7       NaN               Treatment Resistant Depression w DBS           14"
      ]
     },
     "execution_count": 58,
     "metadata": {},
     "output_type": "execute_result"
    }
   ],
   "source": [
    "df_fig7 = df[['Age range',\n",
    "             'Type of subjects',\n",
    "             'Participants']]\n",
    "\n",
    "df_fig7.head()"
   ]
  },
  {
   "cell_type": "markdown",
   "metadata": {},
   "source": [
    "age histogram of all the ages\n",
    "only consider teh age ranges once for each df number"
   ]
  },
  {
   "cell_type": "markdown",
   "metadata": {},
   "source": [
    "### Figure 8\n",
    "\n",
    "Figure 8: Publish date x # subjects x modality of experiment (visual, audio, etc)\n",
    "Like figure 7 in other paper\n"
   ]
  },
  {
   "cell_type": "code",
   "execution_count": 18,
   "metadata": {},
   "outputs": [
    {
     "data": {
      "application/vnd.plotly.v1+json": {
       "config": {
        "plotlyServerURL": "https://plot.ly"
       },
       "data": [
        {
         "alignmentgroup": "True",
         "boxpoints": "all",
         "fillcolor": "rgba(255,255,255,0)",
         "hoveron": "points",
         "hovertemplate": "Participants=%{x}<br>Modality=%{y}<extra></extra>",
         "legendgroup": "",
         "line": {
          "color": "rgba(255,255,255,0)"
         },
         "marker": {
          "color": "#636efa"
         },
         "name": "",
         "offsetgroup": "",
         "orientation": "h",
         "pointpos": 0,
         "showlegend": false,
         "type": "box",
         "x": [
          1,
          1,
          1,
          1,
          1,
          1,
          1,
          1,
          1,
          1,
          1,
          1,
          1,
          1,
          1,
          2,
          2,
          3,
          4,
          4,
          5,
          6,
          7,
          7,
          7,
          8,
          8,
          9,
          9,
          9,
          9,
          10,
          10,
          10,
          10,
          10,
          10,
          10,
          10,
          10,
          11,
          11,
          11,
          11,
          11,
          12,
          12,
          12,
          12,
          12,
          13,
          13,
          13,
          13,
          13,
          13,
          13,
          13,
          13,
          14,
          14,
          14,
          14,
          14,
          14,
          14,
          15,
          16,
          16,
          16,
          16,
          17,
          17,
          17,
          17,
          17,
          17,
          17,
          17,
          18,
          18,
          18,
          18,
          18,
          18,
          18,
          18,
          18,
          18,
          19,
          19,
          19,
          19,
          20,
          20,
          20,
          20,
          20,
          20,
          20,
          20,
          20,
          20,
          20,
          20,
          20,
          20,
          20,
          20,
          20,
          20,
          21,
          21,
          21,
          21,
          21,
          21,
          21,
          21,
          21,
          21,
          21,
          21,
          21,
          21,
          21,
          22,
          22,
          22,
          22,
          22,
          23,
          23,
          23,
          23,
          24,
          24,
          24,
          24,
          24,
          24,
          24,
          24,
          24,
          25,
          25,
          25,
          25,
          25,
          25,
          25,
          26,
          26,
          26,
          27,
          27,
          28,
          28,
          29,
          29,
          30,
          30,
          30,
          30,
          30,
          30,
          30,
          30,
          31,
          31,
          31,
          32,
          32,
          32,
          32,
          33,
          33,
          34,
          34,
          34,
          34,
          35,
          36,
          36,
          37,
          38,
          39,
          40,
          40,
          40,
          40,
          40,
          40,
          40,
          41,
          42,
          42,
          42,
          44,
          45,
          45,
          45,
          45,
          45,
          45,
          47,
          48,
          48,
          48,
          48,
          49,
          49,
          49,
          50,
          50,
          50,
          50,
          50,
          50,
          51,
          52,
          52,
          53,
          53,
          53,
          54,
          56,
          56,
          56,
          56,
          57,
          57,
          57,
          58,
          58,
          60,
          60,
          61,
          62,
          62,
          62,
          62,
          63,
          63,
          63,
          63,
          65,
          71,
          72,
          73,
          74,
          75,
          79,
          79,
          79,
          79,
          80,
          91,
          96,
          103,
          109,
          109,
          109,
          110,
          118,
          122,
          122,
          139,
          146,
          146,
          147,
          156,
          156,
          165,
          172,
          182,
          258,
          280,
          364,
          2951
         ],
         "x0": " ",
         "xaxis": "x",
         "y": [
          "visual",
          "visual",
          "audio",
          "audio",
          "audio",
          "visual",
          "motor",
          "audio",
          "visual",
          "visual",
          "audio",
          "visual",
          "visual",
          "audio",
          "motor",
          "motor",
          "visual",
          "audio",
          "visual",
          "visual",
          "audio",
          "visual",
          "motor",
          "visual",
          "visual",
          "visual",
          "audio",
          "audio",
          "visual",
          "audio",
          "visual",
          "visual",
          "visual",
          "visual",
          "visual",
          "visual",
          "visual",
          "audio",
          "audio",
          "motor",
          "visual",
          "visual",
          "visual",
          "visual",
          "audio",
          "audio",
          "visual",
          "visual",
          "visual",
          "audio",
          "audio",
          "audio",
          "visual",
          "visual",
          "audio",
          "audio",
          "audio",
          "audio",
          "visual",
          "visual",
          "visual",
          "visual",
          "visual",
          "visual",
          "visual",
          "visual",
          "audio",
          "visual",
          "visual",
          "visual",
          "visual",
          "visual",
          "audio",
          "visual",
          "visual",
          "visual",
          "motor",
          "visual",
          "visual",
          "audio",
          "visual",
          "audio",
          "visual",
          "visual",
          "motor",
          "visual",
          "visual",
          "visual",
          "visual",
          "audio",
          "audio",
          "visual",
          "audio",
          "audio",
          "visual",
          "visual",
          "visual",
          "audio",
          "audio",
          "audio",
          "motor",
          "visual",
          "visual",
          "audio",
          "audio",
          "visual",
          "visual",
          "visual",
          "visual",
          "visual",
          "visual",
          "audio",
          "visual",
          "visual",
          "motor",
          "visual",
          "visual",
          "audio",
          "visual",
          "visual",
          "visual",
          "audio",
          "visual",
          "audio",
          "visual",
          "visual",
          "visual",
          "visual",
          "visual",
          "visual",
          "audio",
          "visual",
          "visual",
          "visual",
          "drug",
          "visual",
          "visual",
          "visual",
          "visual",
          "visual",
          "audio",
          "audio",
          "visual",
          "motor",
          "visual",
          "visual",
          "visual",
          "visual",
          "audio",
          "visual",
          "motor",
          "audio",
          "visual",
          "visual",
          "visual",
          "drug",
          "visual",
          "visual",
          "audio",
          "visual",
          "visual",
          "visual",
          "motor",
          "visual",
          "audio",
          "visual",
          "visual",
          "visual",
          "audio",
          "visual",
          "audio",
          "audio",
          "motor",
          "visual",
          "visual",
          "visual",
          "visual",
          "audio",
          "visual",
          "visual",
          "audio",
          "audio",
          "visual",
          "audio",
          "visual",
          "visual",
          "visual",
          "visual",
          "visual",
          "visual",
          "visual",
          "audio",
          "audio",
          "audio",
          "audio",
          "visual",
          "visual",
          "visual",
          "audio",
          "visual",
          "audio",
          "visual",
          "visual",
          "visual",
          "visual",
          "visual",
          "visual",
          "audio",
          "visual",
          "visual",
          "audio",
          "visual",
          "visual",
          "visual",
          "visual",
          "audio",
          "visual",
          "audio",
          "audio",
          "visual",
          "visual",
          "audio",
          "visual",
          "visual",
          "audio",
          "visual",
          "visual",
          "audio",
          "visual",
          "visual",
          "visual",
          "visual",
          "audio",
          "audio",
          "audio",
          "audio",
          "audio",
          "visual",
          "visual",
          "visual",
          "audio",
          "visual",
          "audio",
          "audio",
          "visual",
          "visual",
          "audio",
          "visual",
          "audio",
          "visual",
          "audio",
          "audio",
          "audio",
          "audio",
          "visual",
          "visual",
          "visual",
          "visual",
          "audio",
          "visual",
          "visual",
          "audio",
          "visual",
          "drug",
          "visual",
          "visual",
          "visual",
          "visual",
          "visual",
          "audio",
          "visual",
          "visual",
          "visual",
          "visual",
          "visual",
          "visual",
          "visual",
          "visual",
          "visual",
          "visual"
         ],
         "y0": " ",
         "yaxis": "y"
        }
       ],
       "layout": {
        "boxmode": "overlay",
        "legend": {
         "tracegroupgap": 0
        },
        "template": {
         "data": {
          "bar": [
           {
            "error_x": {
             "color": "#2a3f5f"
            },
            "error_y": {
             "color": "#2a3f5f"
            },
            "marker": {
             "line": {
              "color": "#E5ECF6",
              "width": 0.5
             },
             "pattern": {
              "fillmode": "overlay",
              "size": 10,
              "solidity": 0.2
             }
            },
            "type": "bar"
           }
          ],
          "barpolar": [
           {
            "marker": {
             "line": {
              "color": "#E5ECF6",
              "width": 0.5
             },
             "pattern": {
              "fillmode": "overlay",
              "size": 10,
              "solidity": 0.2
             }
            },
            "type": "barpolar"
           }
          ],
          "carpet": [
           {
            "aaxis": {
             "endlinecolor": "#2a3f5f",
             "gridcolor": "white",
             "linecolor": "white",
             "minorgridcolor": "white",
             "startlinecolor": "#2a3f5f"
            },
            "baxis": {
             "endlinecolor": "#2a3f5f",
             "gridcolor": "white",
             "linecolor": "white",
             "minorgridcolor": "white",
             "startlinecolor": "#2a3f5f"
            },
            "type": "carpet"
           }
          ],
          "choropleth": [
           {
            "colorbar": {
             "outlinewidth": 0,
             "ticks": ""
            },
            "type": "choropleth"
           }
          ],
          "contour": [
           {
            "colorbar": {
             "outlinewidth": 0,
             "ticks": ""
            },
            "colorscale": [
             [
              0,
              "#0d0887"
             ],
             [
              0.1111111111111111,
              "#46039f"
             ],
             [
              0.2222222222222222,
              "#7201a8"
             ],
             [
              0.3333333333333333,
              "#9c179e"
             ],
             [
              0.4444444444444444,
              "#bd3786"
             ],
             [
              0.5555555555555556,
              "#d8576b"
             ],
             [
              0.6666666666666666,
              "#ed7953"
             ],
             [
              0.7777777777777778,
              "#fb9f3a"
             ],
             [
              0.8888888888888888,
              "#fdca26"
             ],
             [
              1,
              "#f0f921"
             ]
            ],
            "type": "contour"
           }
          ],
          "contourcarpet": [
           {
            "colorbar": {
             "outlinewidth": 0,
             "ticks": ""
            },
            "type": "contourcarpet"
           }
          ],
          "heatmap": [
           {
            "colorbar": {
             "outlinewidth": 0,
             "ticks": ""
            },
            "colorscale": [
             [
              0,
              "#0d0887"
             ],
             [
              0.1111111111111111,
              "#46039f"
             ],
             [
              0.2222222222222222,
              "#7201a8"
             ],
             [
              0.3333333333333333,
              "#9c179e"
             ],
             [
              0.4444444444444444,
              "#bd3786"
             ],
             [
              0.5555555555555556,
              "#d8576b"
             ],
             [
              0.6666666666666666,
              "#ed7953"
             ],
             [
              0.7777777777777778,
              "#fb9f3a"
             ],
             [
              0.8888888888888888,
              "#fdca26"
             ],
             [
              1,
              "#f0f921"
             ]
            ],
            "type": "heatmap"
           }
          ],
          "heatmapgl": [
           {
            "colorbar": {
             "outlinewidth": 0,
             "ticks": ""
            },
            "colorscale": [
             [
              0,
              "#0d0887"
             ],
             [
              0.1111111111111111,
              "#46039f"
             ],
             [
              0.2222222222222222,
              "#7201a8"
             ],
             [
              0.3333333333333333,
              "#9c179e"
             ],
             [
              0.4444444444444444,
              "#bd3786"
             ],
             [
              0.5555555555555556,
              "#d8576b"
             ],
             [
              0.6666666666666666,
              "#ed7953"
             ],
             [
              0.7777777777777778,
              "#fb9f3a"
             ],
             [
              0.8888888888888888,
              "#fdca26"
             ],
             [
              1,
              "#f0f921"
             ]
            ],
            "type": "heatmapgl"
           }
          ],
          "histogram": [
           {
            "marker": {
             "pattern": {
              "fillmode": "overlay",
              "size": 10,
              "solidity": 0.2
             }
            },
            "type": "histogram"
           }
          ],
          "histogram2d": [
           {
            "colorbar": {
             "outlinewidth": 0,
             "ticks": ""
            },
            "colorscale": [
             [
              0,
              "#0d0887"
             ],
             [
              0.1111111111111111,
              "#46039f"
             ],
             [
              0.2222222222222222,
              "#7201a8"
             ],
             [
              0.3333333333333333,
              "#9c179e"
             ],
             [
              0.4444444444444444,
              "#bd3786"
             ],
             [
              0.5555555555555556,
              "#d8576b"
             ],
             [
              0.6666666666666666,
              "#ed7953"
             ],
             [
              0.7777777777777778,
              "#fb9f3a"
             ],
             [
              0.8888888888888888,
              "#fdca26"
             ],
             [
              1,
              "#f0f921"
             ]
            ],
            "type": "histogram2d"
           }
          ],
          "histogram2dcontour": [
           {
            "colorbar": {
             "outlinewidth": 0,
             "ticks": ""
            },
            "colorscale": [
             [
              0,
              "#0d0887"
             ],
             [
              0.1111111111111111,
              "#46039f"
             ],
             [
              0.2222222222222222,
              "#7201a8"
             ],
             [
              0.3333333333333333,
              "#9c179e"
             ],
             [
              0.4444444444444444,
              "#bd3786"
             ],
             [
              0.5555555555555556,
              "#d8576b"
             ],
             [
              0.6666666666666666,
              "#ed7953"
             ],
             [
              0.7777777777777778,
              "#fb9f3a"
             ],
             [
              0.8888888888888888,
              "#fdca26"
             ],
             [
              1,
              "#f0f921"
             ]
            ],
            "type": "histogram2dcontour"
           }
          ],
          "mesh3d": [
           {
            "colorbar": {
             "outlinewidth": 0,
             "ticks": ""
            },
            "type": "mesh3d"
           }
          ],
          "parcoords": [
           {
            "line": {
             "colorbar": {
              "outlinewidth": 0,
              "ticks": ""
             }
            },
            "type": "parcoords"
           }
          ],
          "pie": [
           {
            "automargin": true,
            "type": "pie"
           }
          ],
          "scatter": [
           {
            "fillpattern": {
             "fillmode": "overlay",
             "size": 10,
             "solidity": 0.2
            },
            "type": "scatter"
           }
          ],
          "scatter3d": [
           {
            "line": {
             "colorbar": {
              "outlinewidth": 0,
              "ticks": ""
             }
            },
            "marker": {
             "colorbar": {
              "outlinewidth": 0,
              "ticks": ""
             }
            },
            "type": "scatter3d"
           }
          ],
          "scattercarpet": [
           {
            "marker": {
             "colorbar": {
              "outlinewidth": 0,
              "ticks": ""
             }
            },
            "type": "scattercarpet"
           }
          ],
          "scattergeo": [
           {
            "marker": {
             "colorbar": {
              "outlinewidth": 0,
              "ticks": ""
             }
            },
            "type": "scattergeo"
           }
          ],
          "scattergl": [
           {
            "marker": {
             "colorbar": {
              "outlinewidth": 0,
              "ticks": ""
             }
            },
            "type": "scattergl"
           }
          ],
          "scattermapbox": [
           {
            "marker": {
             "colorbar": {
              "outlinewidth": 0,
              "ticks": ""
             }
            },
            "type": "scattermapbox"
           }
          ],
          "scatterpolar": [
           {
            "marker": {
             "colorbar": {
              "outlinewidth": 0,
              "ticks": ""
             }
            },
            "type": "scatterpolar"
           }
          ],
          "scatterpolargl": [
           {
            "marker": {
             "colorbar": {
              "outlinewidth": 0,
              "ticks": ""
             }
            },
            "type": "scatterpolargl"
           }
          ],
          "scatterternary": [
           {
            "marker": {
             "colorbar": {
              "outlinewidth": 0,
              "ticks": ""
             }
            },
            "type": "scatterternary"
           }
          ],
          "surface": [
           {
            "colorbar": {
             "outlinewidth": 0,
             "ticks": ""
            },
            "colorscale": [
             [
              0,
              "#0d0887"
             ],
             [
              0.1111111111111111,
              "#46039f"
             ],
             [
              0.2222222222222222,
              "#7201a8"
             ],
             [
              0.3333333333333333,
              "#9c179e"
             ],
             [
              0.4444444444444444,
              "#bd3786"
             ],
             [
              0.5555555555555556,
              "#d8576b"
             ],
             [
              0.6666666666666666,
              "#ed7953"
             ],
             [
              0.7777777777777778,
              "#fb9f3a"
             ],
             [
              0.8888888888888888,
              "#fdca26"
             ],
             [
              1,
              "#f0f921"
             ]
            ],
            "type": "surface"
           }
          ],
          "table": [
           {
            "cells": {
             "fill": {
              "color": "#EBF0F8"
             },
             "line": {
              "color": "white"
             }
            },
            "header": {
             "fill": {
              "color": "#C8D4E3"
             },
             "line": {
              "color": "white"
             }
            },
            "type": "table"
           }
          ]
         },
         "layout": {
          "annotationdefaults": {
           "arrowcolor": "#2a3f5f",
           "arrowhead": 0,
           "arrowwidth": 1
          },
          "autotypenumbers": "strict",
          "coloraxis": {
           "colorbar": {
            "outlinewidth": 0,
            "ticks": ""
           }
          },
          "colorscale": {
           "diverging": [
            [
             0,
             "#8e0152"
            ],
            [
             0.1,
             "#c51b7d"
            ],
            [
             0.2,
             "#de77ae"
            ],
            [
             0.3,
             "#f1b6da"
            ],
            [
             0.4,
             "#fde0ef"
            ],
            [
             0.5,
             "#f7f7f7"
            ],
            [
             0.6,
             "#e6f5d0"
            ],
            [
             0.7,
             "#b8e186"
            ],
            [
             0.8,
             "#7fbc41"
            ],
            [
             0.9,
             "#4d9221"
            ],
            [
             1,
             "#276419"
            ]
           ],
           "sequential": [
            [
             0,
             "#0d0887"
            ],
            [
             0.1111111111111111,
             "#46039f"
            ],
            [
             0.2222222222222222,
             "#7201a8"
            ],
            [
             0.3333333333333333,
             "#9c179e"
            ],
            [
             0.4444444444444444,
             "#bd3786"
            ],
            [
             0.5555555555555556,
             "#d8576b"
            ],
            [
             0.6666666666666666,
             "#ed7953"
            ],
            [
             0.7777777777777778,
             "#fb9f3a"
            ],
            [
             0.8888888888888888,
             "#fdca26"
            ],
            [
             1,
             "#f0f921"
            ]
           ],
           "sequentialminus": [
            [
             0,
             "#0d0887"
            ],
            [
             0.1111111111111111,
             "#46039f"
            ],
            [
             0.2222222222222222,
             "#7201a8"
            ],
            [
             0.3333333333333333,
             "#9c179e"
            ],
            [
             0.4444444444444444,
             "#bd3786"
            ],
            [
             0.5555555555555556,
             "#d8576b"
            ],
            [
             0.6666666666666666,
             "#ed7953"
            ],
            [
             0.7777777777777778,
             "#fb9f3a"
            ],
            [
             0.8888888888888888,
             "#fdca26"
            ],
            [
             1,
             "#f0f921"
            ]
           ]
          },
          "colorway": [
           "#636efa",
           "#EF553B",
           "#00cc96",
           "#ab63fa",
           "#FFA15A",
           "#19d3f3",
           "#FF6692",
           "#B6E880",
           "#FF97FF",
           "#FECB52"
          ],
          "font": {
           "color": "#2a3f5f"
          },
          "geo": {
           "bgcolor": "white",
           "lakecolor": "white",
           "landcolor": "#E5ECF6",
           "showlakes": true,
           "showland": true,
           "subunitcolor": "white"
          },
          "hoverlabel": {
           "align": "left"
          },
          "hovermode": "closest",
          "mapbox": {
           "style": "light"
          },
          "paper_bgcolor": "white",
          "plot_bgcolor": "#E5ECF6",
          "polar": {
           "angularaxis": {
            "gridcolor": "white",
            "linecolor": "white",
            "ticks": ""
           },
           "bgcolor": "#E5ECF6",
           "radialaxis": {
            "gridcolor": "white",
            "linecolor": "white",
            "ticks": ""
           }
          },
          "scene": {
           "xaxis": {
            "backgroundcolor": "#E5ECF6",
            "gridcolor": "white",
            "gridwidth": 2,
            "linecolor": "white",
            "showbackground": true,
            "ticks": "",
            "zerolinecolor": "white"
           },
           "yaxis": {
            "backgroundcolor": "#E5ECF6",
            "gridcolor": "white",
            "gridwidth": 2,
            "linecolor": "white",
            "showbackground": true,
            "ticks": "",
            "zerolinecolor": "white"
           },
           "zaxis": {
            "backgroundcolor": "#E5ECF6",
            "gridcolor": "white",
            "gridwidth": 2,
            "linecolor": "white",
            "showbackground": true,
            "ticks": "",
            "zerolinecolor": "white"
           }
          },
          "shapedefaults": {
           "line": {
            "color": "#2a3f5f"
           }
          },
          "ternary": {
           "aaxis": {
            "gridcolor": "white",
            "linecolor": "white",
            "ticks": ""
           },
           "baxis": {
            "gridcolor": "white",
            "linecolor": "white",
            "ticks": ""
           },
           "bgcolor": "#E5ECF6",
           "caxis": {
            "gridcolor": "white",
            "linecolor": "white",
            "ticks": ""
           }
          },
          "title": {
           "x": 0.05
          },
          "xaxis": {
           "automargin": true,
           "gridcolor": "white",
           "linecolor": "white",
           "ticks": "",
           "title": {
            "standoff": 15
           },
           "zerolinecolor": "white",
           "zerolinewidth": 2
          },
          "yaxis": {
           "automargin": true,
           "gridcolor": "white",
           "linecolor": "white",
           "ticks": "",
           "title": {
            "standoff": 15
           },
           "zerolinecolor": "white",
           "zerolinewidth": 2
          }
         }
        },
        "title": {
         "text": "Participants by Modality"
        },
        "xaxis": {
         "anchor": "y",
         "domain": [
          0,
          1
         ],
         "title": {
          "text": "Participants"
         }
        },
        "yaxis": {
         "anchor": "x",
         "domain": [
          0,
          1
         ],
         "title": {
          "text": "Modality"
         }
        }
       }
      }
     },
     "metadata": {},
     "output_type": "display_data"
    },
    {
     "data": {
      "application/vnd.plotly.v1+json": {
       "config": {
        "plotlyServerURL": "https://plot.ly"
       },
       "data": [
        {
         "alignmentgroup": "True",
         "boxpoints": "all",
         "fillcolor": "rgba(255,255,255,0)",
         "hoveron": "points",
         "hovertemplate": "Participants=%{x}<br>Modality=%{y}<extra></extra>",
         "legendgroup": "",
         "line": {
          "color": "rgba(255,255,255,0)"
         },
         "marker": {
          "color": "#636efa"
         },
         "name": "",
         "offsetgroup": "",
         "orientation": "h",
         "pointpos": 0,
         "showlegend": false,
         "type": "box",
         "x": [
          1,
          1,
          1,
          1,
          1,
          1,
          1,
          1,
          1,
          1,
          1,
          1,
          1,
          1,
          1,
          2,
          2,
          3,
          4,
          4,
          5,
          6,
          7,
          7,
          7,
          8,
          8,
          9,
          9,
          9,
          9,
          10,
          10,
          10,
          10,
          10,
          10,
          10,
          10,
          10,
          11,
          11,
          11,
          11,
          11,
          12,
          12,
          12,
          12,
          12,
          13,
          13,
          13,
          13,
          13,
          13,
          13,
          13,
          13,
          14,
          14,
          14,
          14,
          14,
          14,
          14,
          15,
          16,
          16,
          16,
          16,
          17,
          17,
          17,
          17,
          17,
          17,
          17,
          17,
          18,
          18,
          18,
          18,
          18,
          18,
          18,
          18,
          18,
          18,
          19,
          19,
          19,
          19,
          20,
          20,
          20,
          20,
          20,
          20,
          20,
          20,
          20,
          20,
          20,
          20,
          20,
          20,
          20,
          20,
          20,
          20,
          21,
          21,
          21,
          21,
          21,
          21,
          21,
          21,
          21,
          21,
          21,
          21,
          21,
          21,
          21,
          22,
          22,
          22,
          22,
          22,
          23,
          23,
          23,
          23,
          24,
          24,
          24,
          24,
          24,
          24,
          24,
          24,
          24,
          25,
          25,
          25,
          25,
          25,
          25,
          25,
          26,
          26,
          26,
          27,
          27,
          28,
          28,
          29,
          29,
          30,
          30,
          30,
          30,
          30,
          30,
          30,
          30,
          31,
          31,
          31,
          32,
          32,
          32,
          32,
          33,
          33,
          34,
          34,
          34,
          34,
          35,
          36,
          36,
          37,
          38,
          39,
          40,
          40,
          40,
          40,
          40,
          40,
          40,
          41,
          42,
          42,
          42,
          44,
          45,
          45,
          45,
          45,
          45,
          45,
          47,
          48,
          48,
          48,
          48,
          49,
          49,
          49,
          50,
          50,
          50,
          50,
          50,
          50,
          51,
          52,
          52,
          53,
          53,
          53,
          54,
          56,
          56,
          56,
          56,
          57,
          57,
          57,
          58,
          58,
          60,
          60,
          61,
          62,
          62,
          62,
          62,
          63,
          63,
          63,
          63,
          65,
          71,
          72,
          73,
          74,
          75,
          79,
          79,
          79,
          79,
          80,
          91,
          96,
          103,
          109,
          109,
          109,
          110,
          118,
          122,
          122,
          139,
          146,
          146,
          147,
          156,
          156,
          165,
          172,
          182,
          258,
          280,
          364
         ],
         "x0": " ",
         "xaxis": "x",
         "y": [
          "audio",
          "visual",
          "visual",
          "audio",
          "visual",
          "visual",
          "motor",
          "audio",
          "visual",
          "audio",
          "audio",
          "visual",
          "audio",
          "visual",
          "motor",
          "visual",
          "motor",
          "audio",
          "visual",
          "visual",
          "audio",
          "visual",
          "visual",
          "motor",
          "visual",
          "audio",
          "visual",
          "visual",
          "audio",
          "visual",
          "audio",
          "audio",
          "visual",
          "visual",
          "audio",
          "visual",
          "motor",
          "visual",
          "visual",
          "visual",
          "visual",
          "visual",
          "visual",
          "visual",
          "audio",
          "visual",
          "audio",
          "visual",
          "visual",
          "audio",
          "audio",
          "visual",
          "audio",
          "audio",
          "audio",
          "visual",
          "visual",
          "audio",
          "audio",
          "visual",
          "visual",
          "visual",
          "visual",
          "visual",
          "visual",
          "visual",
          "audio",
          "visual",
          "visual",
          "visual",
          "visual",
          "visual",
          "visual",
          "visual",
          "visual",
          "audio",
          "motor",
          "visual",
          "visual",
          "visual",
          "audio",
          "visual",
          "visual",
          "visual",
          "motor",
          "visual",
          "visual",
          "audio",
          "visual",
          "audio",
          "visual",
          "audio",
          "audio",
          "audio",
          "visual",
          "audio",
          "visual",
          "visual",
          "visual",
          "visual",
          "visual",
          "audio",
          "audio",
          "visual",
          "audio",
          "audio",
          "motor",
          "visual",
          "visual",
          "visual",
          "visual",
          "visual",
          "visual",
          "audio",
          "motor",
          "visual",
          "visual",
          "audio",
          "visual",
          "visual",
          "audio",
          "audio",
          "visual",
          "visual",
          "visual",
          "visual",
          "visual",
          "visual",
          "visual",
          "visual",
          "audio",
          "visual",
          "visual",
          "visual",
          "drug",
          "motor",
          "audio",
          "visual",
          "visual",
          "visual",
          "visual",
          "audio",
          "visual",
          "visual",
          "visual",
          "motor",
          "visual",
          "visual",
          "visual",
          "audio",
          "visual",
          "visual",
          "visual",
          "audio",
          "visual",
          "drug",
          "visual",
          "visual",
          "visual",
          "audio",
          "motor",
          "audio",
          "visual",
          "visual",
          "visual",
          "visual",
          "visual",
          "visual",
          "audio",
          "audio",
          "visual",
          "audio",
          "visual",
          "visual",
          "motor",
          "visual",
          "visual",
          "audio",
          "visual",
          "visual",
          "audio",
          "audio",
          "visual",
          "audio",
          "visual",
          "visual",
          "visual",
          "visual",
          "audio",
          "audio",
          "audio",
          "visual",
          "visual",
          "visual",
          "audio",
          "visual",
          "visual",
          "visual",
          "audio",
          "visual",
          "visual",
          "visual",
          "visual",
          "visual",
          "audio",
          "visual",
          "visual",
          "audio",
          "visual",
          "visual",
          "audio",
          "visual",
          "visual",
          "audio",
          "audio",
          "audio",
          "visual",
          "visual",
          "visual",
          "visual",
          "audio",
          "visual",
          "visual",
          "audio",
          "visual",
          "visual",
          "visual",
          "audio",
          "visual",
          "visual",
          "visual",
          "visual",
          "audio",
          "audio",
          "audio",
          "audio",
          "audio",
          "visual",
          "visual",
          "visual",
          "audio",
          "visual",
          "visual",
          "visual",
          "audio",
          "audio",
          "audio",
          "visual",
          "audio",
          "visual",
          "audio",
          "audio",
          "audio",
          "visual",
          "visual",
          "audio",
          "visual",
          "visual",
          "audio",
          "visual",
          "visual",
          "visual",
          "audio",
          "drug",
          "visual",
          "visual",
          "visual",
          "visual",
          "audio",
          "visual",
          "visual",
          "visual",
          "visual",
          "visual",
          "visual",
          "visual",
          "visual",
          "visual",
          "visual"
         ],
         "y0": " ",
         "yaxis": "y"
        }
       ],
       "layout": {
        "boxmode": "overlay",
        "legend": {
         "tracegroupgap": 0
        },
        "template": {
         "data": {
          "bar": [
           {
            "error_x": {
             "color": "#2a3f5f"
            },
            "error_y": {
             "color": "#2a3f5f"
            },
            "marker": {
             "line": {
              "color": "#E5ECF6",
              "width": 0.5
             },
             "pattern": {
              "fillmode": "overlay",
              "size": 10,
              "solidity": 0.2
             }
            },
            "type": "bar"
           }
          ],
          "barpolar": [
           {
            "marker": {
             "line": {
              "color": "#E5ECF6",
              "width": 0.5
             },
             "pattern": {
              "fillmode": "overlay",
              "size": 10,
              "solidity": 0.2
             }
            },
            "type": "barpolar"
           }
          ],
          "carpet": [
           {
            "aaxis": {
             "endlinecolor": "#2a3f5f",
             "gridcolor": "white",
             "linecolor": "white",
             "minorgridcolor": "white",
             "startlinecolor": "#2a3f5f"
            },
            "baxis": {
             "endlinecolor": "#2a3f5f",
             "gridcolor": "white",
             "linecolor": "white",
             "minorgridcolor": "white",
             "startlinecolor": "#2a3f5f"
            },
            "type": "carpet"
           }
          ],
          "choropleth": [
           {
            "colorbar": {
             "outlinewidth": 0,
             "ticks": ""
            },
            "type": "choropleth"
           }
          ],
          "contour": [
           {
            "colorbar": {
             "outlinewidth": 0,
             "ticks": ""
            },
            "colorscale": [
             [
              0,
              "#0d0887"
             ],
             [
              0.1111111111111111,
              "#46039f"
             ],
             [
              0.2222222222222222,
              "#7201a8"
             ],
             [
              0.3333333333333333,
              "#9c179e"
             ],
             [
              0.4444444444444444,
              "#bd3786"
             ],
             [
              0.5555555555555556,
              "#d8576b"
             ],
             [
              0.6666666666666666,
              "#ed7953"
             ],
             [
              0.7777777777777778,
              "#fb9f3a"
             ],
             [
              0.8888888888888888,
              "#fdca26"
             ],
             [
              1,
              "#f0f921"
             ]
            ],
            "type": "contour"
           }
          ],
          "contourcarpet": [
           {
            "colorbar": {
             "outlinewidth": 0,
             "ticks": ""
            },
            "type": "contourcarpet"
           }
          ],
          "heatmap": [
           {
            "colorbar": {
             "outlinewidth": 0,
             "ticks": ""
            },
            "colorscale": [
             [
              0,
              "#0d0887"
             ],
             [
              0.1111111111111111,
              "#46039f"
             ],
             [
              0.2222222222222222,
              "#7201a8"
             ],
             [
              0.3333333333333333,
              "#9c179e"
             ],
             [
              0.4444444444444444,
              "#bd3786"
             ],
             [
              0.5555555555555556,
              "#d8576b"
             ],
             [
              0.6666666666666666,
              "#ed7953"
             ],
             [
              0.7777777777777778,
              "#fb9f3a"
             ],
             [
              0.8888888888888888,
              "#fdca26"
             ],
             [
              1,
              "#f0f921"
             ]
            ],
            "type": "heatmap"
           }
          ],
          "heatmapgl": [
           {
            "colorbar": {
             "outlinewidth": 0,
             "ticks": ""
            },
            "colorscale": [
             [
              0,
              "#0d0887"
             ],
             [
              0.1111111111111111,
              "#46039f"
             ],
             [
              0.2222222222222222,
              "#7201a8"
             ],
             [
              0.3333333333333333,
              "#9c179e"
             ],
             [
              0.4444444444444444,
              "#bd3786"
             ],
             [
              0.5555555555555556,
              "#d8576b"
             ],
             [
              0.6666666666666666,
              "#ed7953"
             ],
             [
              0.7777777777777778,
              "#fb9f3a"
             ],
             [
              0.8888888888888888,
              "#fdca26"
             ],
             [
              1,
              "#f0f921"
             ]
            ],
            "type": "heatmapgl"
           }
          ],
          "histogram": [
           {
            "marker": {
             "pattern": {
              "fillmode": "overlay",
              "size": 10,
              "solidity": 0.2
             }
            },
            "type": "histogram"
           }
          ],
          "histogram2d": [
           {
            "colorbar": {
             "outlinewidth": 0,
             "ticks": ""
            },
            "colorscale": [
             [
              0,
              "#0d0887"
             ],
             [
              0.1111111111111111,
              "#46039f"
             ],
             [
              0.2222222222222222,
              "#7201a8"
             ],
             [
              0.3333333333333333,
              "#9c179e"
             ],
             [
              0.4444444444444444,
              "#bd3786"
             ],
             [
              0.5555555555555556,
              "#d8576b"
             ],
             [
              0.6666666666666666,
              "#ed7953"
             ],
             [
              0.7777777777777778,
              "#fb9f3a"
             ],
             [
              0.8888888888888888,
              "#fdca26"
             ],
             [
              1,
              "#f0f921"
             ]
            ],
            "type": "histogram2d"
           }
          ],
          "histogram2dcontour": [
           {
            "colorbar": {
             "outlinewidth": 0,
             "ticks": ""
            },
            "colorscale": [
             [
              0,
              "#0d0887"
             ],
             [
              0.1111111111111111,
              "#46039f"
             ],
             [
              0.2222222222222222,
              "#7201a8"
             ],
             [
              0.3333333333333333,
              "#9c179e"
             ],
             [
              0.4444444444444444,
              "#bd3786"
             ],
             [
              0.5555555555555556,
              "#d8576b"
             ],
             [
              0.6666666666666666,
              "#ed7953"
             ],
             [
              0.7777777777777778,
              "#fb9f3a"
             ],
             [
              0.8888888888888888,
              "#fdca26"
             ],
             [
              1,
              "#f0f921"
             ]
            ],
            "type": "histogram2dcontour"
           }
          ],
          "mesh3d": [
           {
            "colorbar": {
             "outlinewidth": 0,
             "ticks": ""
            },
            "type": "mesh3d"
           }
          ],
          "parcoords": [
           {
            "line": {
             "colorbar": {
              "outlinewidth": 0,
              "ticks": ""
             }
            },
            "type": "parcoords"
           }
          ],
          "pie": [
           {
            "automargin": true,
            "type": "pie"
           }
          ],
          "scatter": [
           {
            "fillpattern": {
             "fillmode": "overlay",
             "size": 10,
             "solidity": 0.2
            },
            "type": "scatter"
           }
          ],
          "scatter3d": [
           {
            "line": {
             "colorbar": {
              "outlinewidth": 0,
              "ticks": ""
             }
            },
            "marker": {
             "colorbar": {
              "outlinewidth": 0,
              "ticks": ""
             }
            },
            "type": "scatter3d"
           }
          ],
          "scattercarpet": [
           {
            "marker": {
             "colorbar": {
              "outlinewidth": 0,
              "ticks": ""
             }
            },
            "type": "scattercarpet"
           }
          ],
          "scattergeo": [
           {
            "marker": {
             "colorbar": {
              "outlinewidth": 0,
              "ticks": ""
             }
            },
            "type": "scattergeo"
           }
          ],
          "scattergl": [
           {
            "marker": {
             "colorbar": {
              "outlinewidth": 0,
              "ticks": ""
             }
            },
            "type": "scattergl"
           }
          ],
          "scattermapbox": [
           {
            "marker": {
             "colorbar": {
              "outlinewidth": 0,
              "ticks": ""
             }
            },
            "type": "scattermapbox"
           }
          ],
          "scatterpolar": [
           {
            "marker": {
             "colorbar": {
              "outlinewidth": 0,
              "ticks": ""
             }
            },
            "type": "scatterpolar"
           }
          ],
          "scatterpolargl": [
           {
            "marker": {
             "colorbar": {
              "outlinewidth": 0,
              "ticks": ""
             }
            },
            "type": "scatterpolargl"
           }
          ],
          "scatterternary": [
           {
            "marker": {
             "colorbar": {
              "outlinewidth": 0,
              "ticks": ""
             }
            },
            "type": "scatterternary"
           }
          ],
          "surface": [
           {
            "colorbar": {
             "outlinewidth": 0,
             "ticks": ""
            },
            "colorscale": [
             [
              0,
              "#0d0887"
             ],
             [
              0.1111111111111111,
              "#46039f"
             ],
             [
              0.2222222222222222,
              "#7201a8"
             ],
             [
              0.3333333333333333,
              "#9c179e"
             ],
             [
              0.4444444444444444,
              "#bd3786"
             ],
             [
              0.5555555555555556,
              "#d8576b"
             ],
             [
              0.6666666666666666,
              "#ed7953"
             ],
             [
              0.7777777777777778,
              "#fb9f3a"
             ],
             [
              0.8888888888888888,
              "#fdca26"
             ],
             [
              1,
              "#f0f921"
             ]
            ],
            "type": "surface"
           }
          ],
          "table": [
           {
            "cells": {
             "fill": {
              "color": "#EBF0F8"
             },
             "line": {
              "color": "white"
             }
            },
            "header": {
             "fill": {
              "color": "#C8D4E3"
             },
             "line": {
              "color": "white"
             }
            },
            "type": "table"
           }
          ]
         },
         "layout": {
          "annotationdefaults": {
           "arrowcolor": "#2a3f5f",
           "arrowhead": 0,
           "arrowwidth": 1
          },
          "autotypenumbers": "strict",
          "coloraxis": {
           "colorbar": {
            "outlinewidth": 0,
            "ticks": ""
           }
          },
          "colorscale": {
           "diverging": [
            [
             0,
             "#8e0152"
            ],
            [
             0.1,
             "#c51b7d"
            ],
            [
             0.2,
             "#de77ae"
            ],
            [
             0.3,
             "#f1b6da"
            ],
            [
             0.4,
             "#fde0ef"
            ],
            [
             0.5,
             "#f7f7f7"
            ],
            [
             0.6,
             "#e6f5d0"
            ],
            [
             0.7,
             "#b8e186"
            ],
            [
             0.8,
             "#7fbc41"
            ],
            [
             0.9,
             "#4d9221"
            ],
            [
             1,
             "#276419"
            ]
           ],
           "sequential": [
            [
             0,
             "#0d0887"
            ],
            [
             0.1111111111111111,
             "#46039f"
            ],
            [
             0.2222222222222222,
             "#7201a8"
            ],
            [
             0.3333333333333333,
             "#9c179e"
            ],
            [
             0.4444444444444444,
             "#bd3786"
            ],
            [
             0.5555555555555556,
             "#d8576b"
            ],
            [
             0.6666666666666666,
             "#ed7953"
            ],
            [
             0.7777777777777778,
             "#fb9f3a"
            ],
            [
             0.8888888888888888,
             "#fdca26"
            ],
            [
             1,
             "#f0f921"
            ]
           ],
           "sequentialminus": [
            [
             0,
             "#0d0887"
            ],
            [
             0.1111111111111111,
             "#46039f"
            ],
            [
             0.2222222222222222,
             "#7201a8"
            ],
            [
             0.3333333333333333,
             "#9c179e"
            ],
            [
             0.4444444444444444,
             "#bd3786"
            ],
            [
             0.5555555555555556,
             "#d8576b"
            ],
            [
             0.6666666666666666,
             "#ed7953"
            ],
            [
             0.7777777777777778,
             "#fb9f3a"
            ],
            [
             0.8888888888888888,
             "#fdca26"
            ],
            [
             1,
             "#f0f921"
            ]
           ]
          },
          "colorway": [
           "#636efa",
           "#EF553B",
           "#00cc96",
           "#ab63fa",
           "#FFA15A",
           "#19d3f3",
           "#FF6692",
           "#B6E880",
           "#FF97FF",
           "#FECB52"
          ],
          "font": {
           "color": "#2a3f5f"
          },
          "geo": {
           "bgcolor": "white",
           "lakecolor": "white",
           "landcolor": "#E5ECF6",
           "showlakes": true,
           "showland": true,
           "subunitcolor": "white"
          },
          "hoverlabel": {
           "align": "left"
          },
          "hovermode": "closest",
          "mapbox": {
           "style": "light"
          },
          "paper_bgcolor": "white",
          "plot_bgcolor": "#E5ECF6",
          "polar": {
           "angularaxis": {
            "gridcolor": "white",
            "linecolor": "white",
            "ticks": ""
           },
           "bgcolor": "#E5ECF6",
           "radialaxis": {
            "gridcolor": "white",
            "linecolor": "white",
            "ticks": ""
           }
          },
          "scene": {
           "xaxis": {
            "backgroundcolor": "#E5ECF6",
            "gridcolor": "white",
            "gridwidth": 2,
            "linecolor": "white",
            "showbackground": true,
            "ticks": "",
            "zerolinecolor": "white"
           },
           "yaxis": {
            "backgroundcolor": "#E5ECF6",
            "gridcolor": "white",
            "gridwidth": 2,
            "linecolor": "white",
            "showbackground": true,
            "ticks": "",
            "zerolinecolor": "white"
           },
           "zaxis": {
            "backgroundcolor": "#E5ECF6",
            "gridcolor": "white",
            "gridwidth": 2,
            "linecolor": "white",
            "showbackground": true,
            "ticks": "",
            "zerolinecolor": "white"
           }
          },
          "shapedefaults": {
           "line": {
            "color": "#2a3f5f"
           }
          },
          "ternary": {
           "aaxis": {
            "gridcolor": "white",
            "linecolor": "white",
            "ticks": ""
           },
           "baxis": {
            "gridcolor": "white",
            "linecolor": "white",
            "ticks": ""
           },
           "bgcolor": "#E5ECF6",
           "caxis": {
            "gridcolor": "white",
            "linecolor": "white",
            "ticks": ""
           }
          },
          "title": {
           "x": 0.05
          },
          "xaxis": {
           "automargin": true,
           "gridcolor": "white",
           "linecolor": "white",
           "ticks": "",
           "title": {
            "standoff": 15
           },
           "zerolinecolor": "white",
           "zerolinewidth": 2
          },
          "yaxis": {
           "automargin": true,
           "gridcolor": "white",
           "linecolor": "white",
           "ticks": "",
           "title": {
            "standoff": 15
           },
           "zerolinecolor": "white",
           "zerolinewidth": 2
          }
         }
        },
        "title": {
         "text": "Participants by Modality (Without Outlier)"
        },
        "xaxis": {
         "anchor": "y",
         "domain": [
          0,
          1
         ],
         "title": {
          "text": "Participants"
         }
        },
        "yaxis": {
         "anchor": "x",
         "domain": [
          0,
          1
         ],
         "title": {
          "text": "Modality"
         }
        }
       }
      }
     },
     "metadata": {},
     "output_type": "display_data"
    }
   ],
   "source": [
    "df_fig8 = df[['Published date',\n",
    "              'Participants',\n",
    "              'Modality of experiment']]\n",
    "\n",
    "modalities_fig8 = ['visual', \n",
    "                   'audio',\n",
    "                   'motor',\n",
    "                   'drug',\n",
    "                   ]\n",
    "\n",
    "# Initialize the dictionary with empty dataframes\n",
    "dfs_by_modalities_fig8 = {modality: pd.DataFrame(columns=df_fig8.columns) for modality in modalities_fig8}\n",
    "\n",
    "# Populate the dataframes\n",
    "for index, row in df_fig8.iterrows():\n",
    "    for modality in modalities_fig8:\n",
    "        if modality in str(row['Modality of experiment']).lower():\n",
    "            dfs_by_modalities_fig8[modality].loc[len(dfs_by_modalities_fig8[modality])] = row\n",
    "\n",
    "# Combine all dataframes in dfs_by_modalities_fig8 into a single dataframe\n",
    "combined_df = pd.concat(dfs_by_modalities_fig8.values(), keys=dfs_by_modalities_fig8.keys()).reset_index(level=0).rename(columns={'level_0': 'Modality'})\n",
    "\n",
    "# Convert Participants to numeric for sorting\n",
    "combined_df['Participants'] = pd.to_numeric(combined_df['Participants'], errors='coerce')\n",
    "\n",
    "# Create the strip plot with sorted x-axis\n",
    "fig_strip = px.strip(combined_df.sort_values(by='Participants'), x='Participants', y='Modality', title='Participants by Modality', stripmode='overlay')\n",
    "\n",
    "# Show the plot\n",
    "fig_strip.show()\n",
    "\n",
    "# Filter out the outlier\n",
    "filtered_combined_df = combined_df[combined_df['Participants'] != 2951]\n",
    "\n",
    "# Create the second strip plot without the outlier\n",
    "fig_strip_no_outlier = px.strip(filtered_combined_df.sort_values(by='Participants'), \n",
    "                                x='Participants', y='Modality', \n",
    "                                title='Participants by Modality (Without Outlier)', \n",
    "                                stripmode='overlay')\n",
    "\n",
    "# Show the plot\n",
    "fig_strip_no_outlier.show()"
   ]
  }
 ],
 "metadata": {
  "kernelspec": {
   "display_name": "venv",
   "language": "python",
   "name": "python3"
  },
  "language_info": {
   "codemirror_mode": {
    "name": "ipython",
    "version": 3
   },
   "file_extension": ".py",
   "mimetype": "text/x-python",
   "name": "python",
   "nbconvert_exporter": "python",
   "pygments_lexer": "ipython3",
   "version": "3.12.7"
  }
 },
 "nbformat": 4,
 "nbformat_minor": 2
}
