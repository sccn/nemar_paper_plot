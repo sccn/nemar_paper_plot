{
 "cells": [
  {
   "cell_type": "markdown",
   "metadata": {},
   "source": [
    "### Imports"
   ]
  },
  {
   "cell_type": "code",
   "execution_count": 2,
   "metadata": {},
   "outputs": [],
   "source": [
    "# imports\n",
    "\n",
    "import numpy as np\n",
    "import pandas as pd\n",
    "import seaborn as sns\n",
    "import matplotlib.pyplot as plt\n",
    "import plotly.express as px\n",
    "import plotly.graph_objects as go"
   ]
  },
  {
   "cell_type": "code",
   "execution_count": 103,
   "metadata": {},
   "outputs": [
    {
     "name": "stdout",
     "output_type": "stream",
     "text": [
      "df shape: (303, 71)\n"
     ]
    },
    {
     "name": "stderr",
     "output_type": "stream",
     "text": [
      "/var/folders/ds/qxmx4zy969v_twj4bz2m_zvw0000gn/T/ipykernel_9738/1056757959.py:6: FutureWarning:\n",
      "\n",
      "DataFrame.applymap has been deprecated. Use DataFrame.map instead.\n",
      "\n",
      "/var/folders/ds/qxmx4zy969v_twj4bz2m_zvw0000gn/T/ipykernel_9738/1056757959.py:7: FutureWarning:\n",
      "\n",
      "DataFrame.applymap has been deprecated. Use DataFrame.map instead.\n",
      "\n"
     ]
    },
    {
     "data": {
      "text/html": [
       "<div>\n",
       "<style scoped>\n",
       "    .dataframe tbody tr th:only-of-type {\n",
       "        vertical-align: middle;\n",
       "    }\n",
       "\n",
       "    .dataframe tbody tr th {\n",
       "        vertical-align: top;\n",
       "    }\n",
       "\n",
       "    .dataframe thead th {\n",
       "        text-align: right;\n",
       "    }\n",
       "</style>\n",
       "<table border=\"1\" class=\"dataframe\">\n",
       "  <thead>\n",
       "    <tr style=\"text-align: right;\">\n",
       "      <th></th>\n",
       "      <th>intern</th>\n",
       "      <th>DatasetID</th>\n",
       "      <th>Warning Message</th>\n",
       "      <th>Error Message</th>\n",
       "      <th>has_visualization</th>\n",
       "      <th>No papers linked - hard to find other data</th>\n",
       "      <th>Multiple Papers linked, none match NEMAR</th>\n",
       "      <th>HED anotation</th>\n",
       "      <th>Participants</th>\n",
       "      <th>Age range</th>\n",
       "      <th>...</th>\n",
       "      <th>Published date</th>\n",
       "      <th>Uploaded by</th>\n",
       "      <th>Date last update</th>\n",
       "      <th>Dataset DOI</th>\n",
       "      <th>References and links</th>\n",
       "      <th>License</th>\n",
       "      <th>On Brainlife.org</th>\n",
       "      <th>Funding</th>\n",
       "      <th>Ethics Approvals</th>\n",
       "      <th>IRB</th>\n",
       "    </tr>\n",
       "  </thead>\n",
       "  <tbody>\n",
       "    <tr>\n",
       "      <th>301</th>\n",
       "      <td>liz</td>\n",
       "      <td>ds003483</td>\n",
       "      <td>NaN</td>\n",
       "      <td>NaN</td>\n",
       "      <td>False</td>\n",
       "      <td>NaN</td>\n",
       "      <td>NaN</td>\n",
       "      <td>no</td>\n",
       "      <td>21</td>\n",
       "      <td>NaN</td>\n",
       "      <td>...</td>\n",
       "      <td>1/24/21 10:37</td>\n",
       "      <td>luis fernando antón toro</td>\n",
       "      <td>NaN</td>\n",
       "      <td>10.18112/openneuro.ds003483.v1.0.2</td>\n",
       "      <td>NaN</td>\n",
       "      <td>cc0</td>\n",
       "      <td>true</td>\n",
       "      <td>NaN</td>\n",
       "      <td>NaN</td>\n",
       "      <td>NaN</td>\n",
       "    </tr>\n",
       "    <tr>\n",
       "      <th>302</th>\n",
       "      <td>liz</td>\n",
       "      <td>ds003352</td>\n",
       "      <td>please use the checkmaxfilter option before pr...</td>\n",
       "      <td>NaN</td>\n",
       "      <td>False</td>\n",
       "      <td>NaN</td>\n",
       "      <td>NaN</td>\n",
       "      <td>no</td>\n",
       "      <td>18</td>\n",
       "      <td>17-26</td>\n",
       "      <td>...</td>\n",
       "      <td>11/3/20 21:07</td>\n",
       "      <td>conway lab</td>\n",
       "      <td>NaN</td>\n",
       "      <td>10.18112/openneuro.ds003352.v1.0.0</td>\n",
       "      <td>appelhoff, s., sanderson, m., brooks, t., vlie...</td>\n",
       "      <td>cc0</td>\n",
       "      <td>true</td>\n",
       "      <td>NaN</td>\n",
       "      <td>NaN</td>\n",
       "      <td>NaN</td>\n",
       "    </tr>\n",
       "    <tr>\n",
       "      <th>303</th>\n",
       "      <td>liz</td>\n",
       "      <td>ds002791</td>\n",
       "      <td>the dataset indicates it contains data epochs ...</td>\n",
       "      <td>NaN</td>\n",
       "      <td>False</td>\n",
       "      <td>NaN</td>\n",
       "      <td>NaN</td>\n",
       "      <td>no</td>\n",
       "      <td>23</td>\n",
       "      <td>19-40</td>\n",
       "      <td>...</td>\n",
       "      <td>7/17/20 20:53</td>\n",
       "      <td>ahmad mheich</td>\n",
       "      <td>NaN</td>\n",
       "      <td>10.18112/openneuro.ds002791.v1.0.0</td>\n",
       "      <td>NaN</td>\n",
       "      <td>cc0</td>\n",
       "      <td>true</td>\n",
       "      <td>NaN</td>\n",
       "      <td>NaN</td>\n",
       "      <td>NaN</td>\n",
       "    </tr>\n",
       "    <tr>\n",
       "      <th>304</th>\n",
       "      <td>peter</td>\n",
       "      <td>ds005107</td>\n",
       "      <td>NaN</td>\n",
       "      <td>NaN</td>\n",
       "      <td>NaN</td>\n",
       "      <td>NaN</td>\n",
       "      <td>NaN</td>\n",
       "      <td>no</td>\n",
       "      <td>21</td>\n",
       "      <td>20-27</td>\n",
       "      <td>...</td>\n",
       "      <td>6/26/24 6:05</td>\n",
       "      <td>wei xu</td>\n",
       "      <td>NaN</td>\n",
       "      <td>doi:10.18112/openneuro.ds005107.v1.0.3</td>\n",
       "      <td>NaN</td>\n",
       "      <td>cc0</td>\n",
       "      <td>false</td>\n",
       "      <td>NaN</td>\n",
       "      <td>NaN</td>\n",
       "      <td>NaN</td>\n",
       "    </tr>\n",
       "    <tr>\n",
       "      <th>305</th>\n",
       "      <td>peter</td>\n",
       "      <td>ds005274</td>\n",
       "      <td>NaN</td>\n",
       "      <td>NaN</td>\n",
       "      <td>NaN</td>\n",
       "      <td>NaN</td>\n",
       "      <td>NaN</td>\n",
       "      <td>no</td>\n",
       "      <td>22</td>\n",
       "      <td>20-26</td>\n",
       "      <td>...</td>\n",
       "      <td>7/7/24 9:38</td>\n",
       "      <td>yukako ito</td>\n",
       "      <td>NaN</td>\n",
       "      <td>doi:10.18112/openneuro.ds005274.v1.0.0</td>\n",
       "      <td>NaN</td>\n",
       "      <td>cc0</td>\n",
       "      <td>false</td>\n",
       "      <td>NaN</td>\n",
       "      <td>NaN</td>\n",
       "      <td>NaN</td>\n",
       "    </tr>\n",
       "  </tbody>\n",
       "</table>\n",
       "<p>5 rows × 71 columns</p>\n",
       "</div>"
      ],
      "text/plain": [
       "    intern DatasetID                                    Warning Message  \\\n",
       "301    liz  ds003483                                                NaN   \n",
       "302    liz  ds003352  please use the checkmaxfilter option before pr...   \n",
       "303    liz  ds002791  the dataset indicates it contains data epochs ...   \n",
       "304  peter  ds005107                                                NaN   \n",
       "305  peter  ds005274                                                NaN   \n",
       "\n",
       "    Error Message has_visualization  \\\n",
       "301           NaN             False   \n",
       "302           NaN             False   \n",
       "303           NaN             False   \n",
       "304           NaN               NaN   \n",
       "305           NaN               NaN   \n",
       "\n",
       "    No papers linked - hard to find other data  \\\n",
       "301                                        NaN   \n",
       "302                                        NaN   \n",
       "303                                        NaN   \n",
       "304                                        NaN   \n",
       "305                                        NaN   \n",
       "\n",
       "    Multiple Papers linked, none match NEMAR HED anotation Participants  \\\n",
       "301                                      NaN            no           21   \n",
       "302                                      NaN            no           18   \n",
       "303                                      NaN            no           23   \n",
       "304                                      NaN            no           21   \n",
       "305                                      NaN            no           22   \n",
       "\n",
       "    Age range  ... Published date               Uploaded by Date last update  \\\n",
       "301       NaN  ...  1/24/21 10:37  luis fernando antón toro              NaN   \n",
       "302     17-26  ...  11/3/20 21:07                conway lab              NaN   \n",
       "303     19-40  ...  7/17/20 20:53              ahmad mheich              NaN   \n",
       "304     20-27  ...   6/26/24 6:05                    wei xu              NaN   \n",
       "305     20-26  ...    7/7/24 9:38                yukako ito              NaN   \n",
       "\n",
       "                                Dataset DOI  \\\n",
       "301      10.18112/openneuro.ds003483.v1.0.2   \n",
       "302      10.18112/openneuro.ds003352.v1.0.0   \n",
       "303      10.18112/openneuro.ds002791.v1.0.0   \n",
       "304  doi:10.18112/openneuro.ds005107.v1.0.3   \n",
       "305  doi:10.18112/openneuro.ds005274.v1.0.0   \n",
       "\n",
       "                                  References and links License  \\\n",
       "301                                                NaN     cc0   \n",
       "302  appelhoff, s., sanderson, m., brooks, t., vlie...     cc0   \n",
       "303                                                NaN     cc0   \n",
       "304                                                NaN     cc0   \n",
       "305                                                NaN     cc0   \n",
       "\n",
       "    On Brainlife.org Funding Ethics Approvals  IRB  \n",
       "301             true     NaN              NaN  NaN  \n",
       "302             true     NaN              NaN  NaN  \n",
       "303             true     NaN              NaN  NaN  \n",
       "304            false     NaN              NaN  NaN  \n",
       "305            false     NaN              NaN  NaN  \n",
       "\n",
       "[5 rows x 71 columns]"
      ]
     },
     "execution_count": 103,
     "metadata": {},
     "output_type": "execute_result"
    }
   ],
   "source": [
    "# import, preprocess, and look over raw data\n",
    "\n",
    "df = pd.read_csv(\"data/data_01_05_2025.csv\")\n",
    "df = df.dropna(subset=['DatasetID'])\n",
    "df.replace(\"n/a\", \"\", inplace=True)\n",
    "df = df.applymap(lambda x: x.strip() if isinstance(x, str) else x)\n",
    "df = df.applymap(lambda x: x.lower() if isinstance(x, str) else x)\n",
    "df.rename(columns={'iEEG modality': 'iEEG Modality'}, inplace=True)\n",
    "# df.set_index('DatasetID', inplace=True)\n",
    "\n",
    "print(f'df shape: {df.shape}')\n",
    "df.tail()"
   ]
  },
  {
   "cell_type": "markdown",
   "metadata": {},
   "source": [
    "### Figure 1\n",
    "\n",
    "Modality x Modality of experiment x type of experiment \n",
    "\n",
    "Network chart start w main modality (EEG, MEG, IEGG) and then continue to break up (like figure 4 in other paper)"
   ]
  },
  {
   "cell_type": "code",
   "execution_count": 172,
   "metadata": {},
   "outputs": [
    {
     "data": {
      "application/vnd.plotly.v1+json": {
       "config": {
        "plotlyServerURL": "https://plot.ly"
       },
       "data": [
        {
         "link": {
          "source": [
           0,
           0,
           0,
           0,
           0,
           0,
           0,
           0,
           1,
           1,
           1,
           1,
           1,
           2,
           2,
           2,
           2,
           2,
           2,
           2,
           3,
           3,
           3,
           3,
           3,
           3,
           3,
           3,
           3,
           4,
           4,
           4,
           4,
           4,
           4,
           4,
           4,
           5,
           5,
           5,
           5,
           5,
           6,
           6,
           7,
           7,
           7,
           7,
           7,
           7,
           7,
           7,
           7,
           8,
           8,
           8,
           8,
           8,
           8,
           9,
           9,
           9,
           10,
           10,
           10,
           11,
           11,
           11
          ],
          "target": [
           3,
           4,
           5,
           6,
           7,
           8,
           9,
           11,
           3,
           4,
           5,
           7,
           8,
           3,
           4,
           5,
           7,
           9,
           10,
           11,
           13,
           14,
           16,
           17,
           18,
           19,
           20,
           21,
           23,
           14,
           16,
           17,
           18,
           19,
           20,
           21,
           23,
           14,
           15,
           16,
           18,
           23,
           14,
           16,
           13,
           14,
           16,
           17,
           18,
           19,
           20,
           21,
           23,
           13,
           14,
           16,
           17,
           18,
           21,
           18,
           19,
           22,
           15,
           18,
           23,
           18,
           20,
           23
          ],
          "value": [
           108,
           37,
           15,
           3,
           36,
           12,
           5,
           2,
           22,
           6,
           2,
           11,
           1,
           9,
           2,
           8,
           5,
           2,
           6,
           3,
           14,
           25,
           9,
           25,
           4,
           24,
           10,
           25,
           2,
           8,
           7,
           12,
           2,
           1,
           5,
           8,
           2,
           1,
           10,
           1,
           12,
           1,
           2,
           1,
           1,
           8,
           3,
           13,
           3,
           6,
           8,
           7,
           2,
           6,
           2,
           1,
           2,
           1,
           1,
           2,
           1,
           4,
           1,
           3,
           2,
           1,
           1,
           3
          ]
         },
         "node": {
          "label": [
           "Main Modality: EEG",
           "Main Modality: MEG",
           "Main Modality: iEEG",
           "Modality of Experiment: visual",
           "Modality of Experiment: multisensory",
           "Modality of Experiment: resting state",
           "Modality of Experiment: tactile",
           "Modality of Experiment: auditory",
           "Modality of Experiment: motor",
           "Modality of Experiment: sleep",
           "Modality of Experiment: anasthesia",
           "Modality of Experiment: other",
           "Modality of Experiment: nan",
           "Type of Experiment: motor",
           "Type of Experiment: perception",
           "Type of Experiment: resting state",
           "Type of Experiment: learning",
           "Type of Experiment: attention",
           "Type of Experiment: clinical/intervention",
           "Type of Experiment: memory",
           "Type of Experiment: affect",
           "Type of Experiment: decision-making",
           "Type of Experiment: sleep",
           "Type of Experiment: other",
           "Type of Experiment: nan"
          ],
          "line": {
           "color": "black",
           "width": 0.5
          },
          "pad": 20,
          "thickness": 20
         },
         "type": "sankey"
        }
       ],
       "layout": {
        "font": {
         "size": 12
        },
        "template": {
         "data": {
          "bar": [
           {
            "error_x": {
             "color": "#2a3f5f"
            },
            "error_y": {
             "color": "#2a3f5f"
            },
            "marker": {
             "line": {
              "color": "#E5ECF6",
              "width": 0.5
             },
             "pattern": {
              "fillmode": "overlay",
              "size": 10,
              "solidity": 0.2
             }
            },
            "type": "bar"
           }
          ],
          "barpolar": [
           {
            "marker": {
             "line": {
              "color": "#E5ECF6",
              "width": 0.5
             },
             "pattern": {
              "fillmode": "overlay",
              "size": 10,
              "solidity": 0.2
             }
            },
            "type": "barpolar"
           }
          ],
          "carpet": [
           {
            "aaxis": {
             "endlinecolor": "#2a3f5f",
             "gridcolor": "white",
             "linecolor": "white",
             "minorgridcolor": "white",
             "startlinecolor": "#2a3f5f"
            },
            "baxis": {
             "endlinecolor": "#2a3f5f",
             "gridcolor": "white",
             "linecolor": "white",
             "minorgridcolor": "white",
             "startlinecolor": "#2a3f5f"
            },
            "type": "carpet"
           }
          ],
          "choropleth": [
           {
            "colorbar": {
             "outlinewidth": 0,
             "ticks": ""
            },
            "type": "choropleth"
           }
          ],
          "contour": [
           {
            "colorbar": {
             "outlinewidth": 0,
             "ticks": ""
            },
            "colorscale": [
             [
              0,
              "#0d0887"
             ],
             [
              0.1111111111111111,
              "#46039f"
             ],
             [
              0.2222222222222222,
              "#7201a8"
             ],
             [
              0.3333333333333333,
              "#9c179e"
             ],
             [
              0.4444444444444444,
              "#bd3786"
             ],
             [
              0.5555555555555556,
              "#d8576b"
             ],
             [
              0.6666666666666666,
              "#ed7953"
             ],
             [
              0.7777777777777778,
              "#fb9f3a"
             ],
             [
              0.8888888888888888,
              "#fdca26"
             ],
             [
              1,
              "#f0f921"
             ]
            ],
            "type": "contour"
           }
          ],
          "contourcarpet": [
           {
            "colorbar": {
             "outlinewidth": 0,
             "ticks": ""
            },
            "type": "contourcarpet"
           }
          ],
          "heatmap": [
           {
            "colorbar": {
             "outlinewidth": 0,
             "ticks": ""
            },
            "colorscale": [
             [
              0,
              "#0d0887"
             ],
             [
              0.1111111111111111,
              "#46039f"
             ],
             [
              0.2222222222222222,
              "#7201a8"
             ],
             [
              0.3333333333333333,
              "#9c179e"
             ],
             [
              0.4444444444444444,
              "#bd3786"
             ],
             [
              0.5555555555555556,
              "#d8576b"
             ],
             [
              0.6666666666666666,
              "#ed7953"
             ],
             [
              0.7777777777777778,
              "#fb9f3a"
             ],
             [
              0.8888888888888888,
              "#fdca26"
             ],
             [
              1,
              "#f0f921"
             ]
            ],
            "type": "heatmap"
           }
          ],
          "heatmapgl": [
           {
            "colorbar": {
             "outlinewidth": 0,
             "ticks": ""
            },
            "colorscale": [
             [
              0,
              "#0d0887"
             ],
             [
              0.1111111111111111,
              "#46039f"
             ],
             [
              0.2222222222222222,
              "#7201a8"
             ],
             [
              0.3333333333333333,
              "#9c179e"
             ],
             [
              0.4444444444444444,
              "#bd3786"
             ],
             [
              0.5555555555555556,
              "#d8576b"
             ],
             [
              0.6666666666666666,
              "#ed7953"
             ],
             [
              0.7777777777777778,
              "#fb9f3a"
             ],
             [
              0.8888888888888888,
              "#fdca26"
             ],
             [
              1,
              "#f0f921"
             ]
            ],
            "type": "heatmapgl"
           }
          ],
          "histogram": [
           {
            "marker": {
             "pattern": {
              "fillmode": "overlay",
              "size": 10,
              "solidity": 0.2
             }
            },
            "type": "histogram"
           }
          ],
          "histogram2d": [
           {
            "colorbar": {
             "outlinewidth": 0,
             "ticks": ""
            },
            "colorscale": [
             [
              0,
              "#0d0887"
             ],
             [
              0.1111111111111111,
              "#46039f"
             ],
             [
              0.2222222222222222,
              "#7201a8"
             ],
             [
              0.3333333333333333,
              "#9c179e"
             ],
             [
              0.4444444444444444,
              "#bd3786"
             ],
             [
              0.5555555555555556,
              "#d8576b"
             ],
             [
              0.6666666666666666,
              "#ed7953"
             ],
             [
              0.7777777777777778,
              "#fb9f3a"
             ],
             [
              0.8888888888888888,
              "#fdca26"
             ],
             [
              1,
              "#f0f921"
             ]
            ],
            "type": "histogram2d"
           }
          ],
          "histogram2dcontour": [
           {
            "colorbar": {
             "outlinewidth": 0,
             "ticks": ""
            },
            "colorscale": [
             [
              0,
              "#0d0887"
             ],
             [
              0.1111111111111111,
              "#46039f"
             ],
             [
              0.2222222222222222,
              "#7201a8"
             ],
             [
              0.3333333333333333,
              "#9c179e"
             ],
             [
              0.4444444444444444,
              "#bd3786"
             ],
             [
              0.5555555555555556,
              "#d8576b"
             ],
             [
              0.6666666666666666,
              "#ed7953"
             ],
             [
              0.7777777777777778,
              "#fb9f3a"
             ],
             [
              0.8888888888888888,
              "#fdca26"
             ],
             [
              1,
              "#f0f921"
             ]
            ],
            "type": "histogram2dcontour"
           }
          ],
          "mesh3d": [
           {
            "colorbar": {
             "outlinewidth": 0,
             "ticks": ""
            },
            "type": "mesh3d"
           }
          ],
          "parcoords": [
           {
            "line": {
             "colorbar": {
              "outlinewidth": 0,
              "ticks": ""
             }
            },
            "type": "parcoords"
           }
          ],
          "pie": [
           {
            "automargin": true,
            "type": "pie"
           }
          ],
          "scatter": [
           {
            "fillpattern": {
             "fillmode": "overlay",
             "size": 10,
             "solidity": 0.2
            },
            "type": "scatter"
           }
          ],
          "scatter3d": [
           {
            "line": {
             "colorbar": {
              "outlinewidth": 0,
              "ticks": ""
             }
            },
            "marker": {
             "colorbar": {
              "outlinewidth": 0,
              "ticks": ""
             }
            },
            "type": "scatter3d"
           }
          ],
          "scattercarpet": [
           {
            "marker": {
             "colorbar": {
              "outlinewidth": 0,
              "ticks": ""
             }
            },
            "type": "scattercarpet"
           }
          ],
          "scattergeo": [
           {
            "marker": {
             "colorbar": {
              "outlinewidth": 0,
              "ticks": ""
             }
            },
            "type": "scattergeo"
           }
          ],
          "scattergl": [
           {
            "marker": {
             "colorbar": {
              "outlinewidth": 0,
              "ticks": ""
             }
            },
            "type": "scattergl"
           }
          ],
          "scattermapbox": [
           {
            "marker": {
             "colorbar": {
              "outlinewidth": 0,
              "ticks": ""
             }
            },
            "type": "scattermapbox"
           }
          ],
          "scatterpolar": [
           {
            "marker": {
             "colorbar": {
              "outlinewidth": 0,
              "ticks": ""
             }
            },
            "type": "scatterpolar"
           }
          ],
          "scatterpolargl": [
           {
            "marker": {
             "colorbar": {
              "outlinewidth": 0,
              "ticks": ""
             }
            },
            "type": "scatterpolargl"
           }
          ],
          "scatterternary": [
           {
            "marker": {
             "colorbar": {
              "outlinewidth": 0,
              "ticks": ""
             }
            },
            "type": "scatterternary"
           }
          ],
          "surface": [
           {
            "colorbar": {
             "outlinewidth": 0,
             "ticks": ""
            },
            "colorscale": [
             [
              0,
              "#0d0887"
             ],
             [
              0.1111111111111111,
              "#46039f"
             ],
             [
              0.2222222222222222,
              "#7201a8"
             ],
             [
              0.3333333333333333,
              "#9c179e"
             ],
             [
              0.4444444444444444,
              "#bd3786"
             ],
             [
              0.5555555555555556,
              "#d8576b"
             ],
             [
              0.6666666666666666,
              "#ed7953"
             ],
             [
              0.7777777777777778,
              "#fb9f3a"
             ],
             [
              0.8888888888888888,
              "#fdca26"
             ],
             [
              1,
              "#f0f921"
             ]
            ],
            "type": "surface"
           }
          ],
          "table": [
           {
            "cells": {
             "fill": {
              "color": "#EBF0F8"
             },
             "line": {
              "color": "white"
             }
            },
            "header": {
             "fill": {
              "color": "#C8D4E3"
             },
             "line": {
              "color": "white"
             }
            },
            "type": "table"
           }
          ]
         },
         "layout": {
          "annotationdefaults": {
           "arrowcolor": "#2a3f5f",
           "arrowhead": 0,
           "arrowwidth": 1
          },
          "autotypenumbers": "strict",
          "coloraxis": {
           "colorbar": {
            "outlinewidth": 0,
            "ticks": ""
           }
          },
          "colorscale": {
           "diverging": [
            [
             0,
             "#8e0152"
            ],
            [
             0.1,
             "#c51b7d"
            ],
            [
             0.2,
             "#de77ae"
            ],
            [
             0.3,
             "#f1b6da"
            ],
            [
             0.4,
             "#fde0ef"
            ],
            [
             0.5,
             "#f7f7f7"
            ],
            [
             0.6,
             "#e6f5d0"
            ],
            [
             0.7,
             "#b8e186"
            ],
            [
             0.8,
             "#7fbc41"
            ],
            [
             0.9,
             "#4d9221"
            ],
            [
             1,
             "#276419"
            ]
           ],
           "sequential": [
            [
             0,
             "#0d0887"
            ],
            [
             0.1111111111111111,
             "#46039f"
            ],
            [
             0.2222222222222222,
             "#7201a8"
            ],
            [
             0.3333333333333333,
             "#9c179e"
            ],
            [
             0.4444444444444444,
             "#bd3786"
            ],
            [
             0.5555555555555556,
             "#d8576b"
            ],
            [
             0.6666666666666666,
             "#ed7953"
            ],
            [
             0.7777777777777778,
             "#fb9f3a"
            ],
            [
             0.8888888888888888,
             "#fdca26"
            ],
            [
             1,
             "#f0f921"
            ]
           ],
           "sequentialminus": [
            [
             0,
             "#0d0887"
            ],
            [
             0.1111111111111111,
             "#46039f"
            ],
            [
             0.2222222222222222,
             "#7201a8"
            ],
            [
             0.3333333333333333,
             "#9c179e"
            ],
            [
             0.4444444444444444,
             "#bd3786"
            ],
            [
             0.5555555555555556,
             "#d8576b"
            ],
            [
             0.6666666666666666,
             "#ed7953"
            ],
            [
             0.7777777777777778,
             "#fb9f3a"
            ],
            [
             0.8888888888888888,
             "#fdca26"
            ],
            [
             1,
             "#f0f921"
            ]
           ]
          },
          "colorway": [
           "#636efa",
           "#EF553B",
           "#00cc96",
           "#ab63fa",
           "#FFA15A",
           "#19d3f3",
           "#FF6692",
           "#B6E880",
           "#FF97FF",
           "#FECB52"
          ],
          "font": {
           "color": "#2a3f5f"
          },
          "geo": {
           "bgcolor": "white",
           "lakecolor": "white",
           "landcolor": "#E5ECF6",
           "showlakes": true,
           "showland": true,
           "subunitcolor": "white"
          },
          "hoverlabel": {
           "align": "left"
          },
          "hovermode": "closest",
          "mapbox": {
           "style": "light"
          },
          "paper_bgcolor": "white",
          "plot_bgcolor": "#E5ECF6",
          "polar": {
           "angularaxis": {
            "gridcolor": "white",
            "linecolor": "white",
            "ticks": ""
           },
           "bgcolor": "#E5ECF6",
           "radialaxis": {
            "gridcolor": "white",
            "linecolor": "white",
            "ticks": ""
           }
          },
          "scene": {
           "xaxis": {
            "backgroundcolor": "#E5ECF6",
            "gridcolor": "white",
            "gridwidth": 2,
            "linecolor": "white",
            "showbackground": true,
            "ticks": "",
            "zerolinecolor": "white"
           },
           "yaxis": {
            "backgroundcolor": "#E5ECF6",
            "gridcolor": "white",
            "gridwidth": 2,
            "linecolor": "white",
            "showbackground": true,
            "ticks": "",
            "zerolinecolor": "white"
           },
           "zaxis": {
            "backgroundcolor": "#E5ECF6",
            "gridcolor": "white",
            "gridwidth": 2,
            "linecolor": "white",
            "showbackground": true,
            "ticks": "",
            "zerolinecolor": "white"
           }
          },
          "shapedefaults": {
           "line": {
            "color": "#2a3f5f"
           }
          },
          "ternary": {
           "aaxis": {
            "gridcolor": "white",
            "linecolor": "white",
            "ticks": ""
           },
           "baxis": {
            "gridcolor": "white",
            "linecolor": "white",
            "ticks": ""
           },
           "bgcolor": "#E5ECF6",
           "caxis": {
            "gridcolor": "white",
            "linecolor": "white",
            "ticks": ""
           }
          },
          "title": {
           "x": 0.05
          },
          "xaxis": {
           "automargin": true,
           "gridcolor": "white",
           "linecolor": "white",
           "ticks": "",
           "title": {
            "standoff": 15
           },
           "zerolinecolor": "white",
           "zerolinewidth": 2
          },
          "yaxis": {
           "automargin": true,
           "gridcolor": "white",
           "linecolor": "white",
           "ticks": "",
           "title": {
            "standoff": 15
           },
           "zerolinecolor": "white",
           "zerolinewidth": 2
          }
         }
        },
        "title": {
         "text": "Sankey Diagram of Primary Modalities, Additional Modalities, and Types of Experiments"
        },
        "width": 1200
       }
      }
     },
     "metadata": {},
     "output_type": "display_data"
    }
   ],
   "source": [
    "LABEL_MAINMODALITY = 'Main Modality:'\n",
    "LABEL_MODALITYOFEXP = 'Modality of Experiment:'\n",
    "LABEL_TYPEOFEXP = 'Type of Experiment:'\n",
    "\n",
    "df_fig1 = df[['EEG Modality', 'MEG Modality', 'iEEG Modality', 'FOR FIGURE - modality of exp', 'FOR FIGURE - type of exp']]\n",
    "\n",
    "mainModality_types = ['EEG', 'MEG', 'iEEG']\n",
    "modalityOfExp_types = df['FOR FIGURE - modality of exp'].unique()\n",
    "typeOfExp_types = df['FOR FIGURE - type of exp'].unique()\n",
    "\n",
    "# Create lists for the nodes and links\n",
    "nodes = []\n",
    "node_indices = {}\n",
    "links = []\n",
    "index = 0\n",
    "\n",
    "# Add primary modalities to nodes\n",
    "for mainModality in mainModality_types:\n",
    "    mainModality = f\"{LABEL_MAINMODALITY} {mainModality}\"\n",
    "    nodes.append(mainModality)\n",
    "    node_indices[mainModality] = index\n",
    "    index += 1\n",
    "\n",
    "# Add additional modalities to nodes\n",
    "for modalityOfExp in modalityOfExp_types:\n",
    "    modalityOfExp = f\"{LABEL_MODALITYOFEXP} {modalityOfExp}\"\n",
    "    nodes.append(modalityOfExp)\n",
    "    node_indices[modalityOfExp] = index\n",
    "    index += 1\n",
    "\n",
    "# Add types of experiments to nodes\n",
    "for typeOfExp in typeOfExp_types:\n",
    "    typeOfExp = f\"{LABEL_TYPEOFEXP} {typeOfExp}\"\n",
    "    nodes.append(typeOfExp)\n",
    "    node_indices[typeOfExp] = index\n",
    "    index += 1\n",
    "\n",
    "# Create links between primary modalities and additional modalities\n",
    "for mainModality in mainModality_types:\n",
    "    mainModalityKey = f\"{LABEL_MAINMODALITY} {mainModality}\"\n",
    "    for modalityOfExp in modalityOfExp_types:\n",
    "        if pd.notna(modalityOfExp):\n",
    "            modalityOfExpKey = f\"{LABEL_MODALITYOFEXP} {modalityOfExp}\"\n",
    "            count = df_fig1[(df_fig1[f'{mainModality} Modality'] == 'x') & \n",
    "                            (df_fig1['FOR FIGURE - modality of exp'] == modalityOfExp)].shape[0]\n",
    "            if count > 0:\n",
    "                links.append({\n",
    "                    'source': node_indices[mainModalityKey],\n",
    "                    'target': node_indices[modalityOfExpKey],\n",
    "                    'value': count\n",
    "                })\n",
    "\n",
    "# Create links between additional modalities and types of experiments\n",
    "for modalityOfExp in modalityOfExp_types:\n",
    "    if pd.notna(modalityOfExp):\n",
    "        modalityOfExpKey = f\"{LABEL_MODALITYOFEXP} {modalityOfExp}\"\n",
    "        for typeOfExp in typeOfExp_types:\n",
    "            if pd.notna(typeOfExp):\n",
    "                typeOfExpKey = f\"{LABEL_TYPEOFEXP} {typeOfExp}\"\n",
    "                count = df_fig1[(df_fig1['FOR FIGURE - modality of exp'] == modalityOfExp) & \n",
    "                                (df_fig1['FOR FIGURE - type of exp'] == typeOfExp)].shape[0]\n",
    "                if count > 0:\n",
    "                    links.append({\n",
    "                        'source': node_indices[modalityOfExpKey],\n",
    "                        'target': node_indices[typeOfExpKey],\n",
    "                        'value': count\n",
    "                    })\n",
    "\n",
    "# Create the Sankey diagram\n",
    "fig = go.Figure(data=[go.Sankey(\n",
    "    node=dict(\n",
    "        pad=20,\n",
    "        thickness=20,\n",
    "        line=dict(color=\"black\", width=0.5),\n",
    "        label=nodes\n",
    "    ),\n",
    "    link=dict(\n",
    "        source=[link['source'] for link in links],\n",
    "        target=[link['target'] for link in links],\n",
    "        value=[link['value'] for link in links]\n",
    "    )\n",
    ")])\n",
    "\n",
    "fig.update_layout(\n",
    "    title_text=\"Sankey Diagram of Primary Modalities, Additional Modalities, and Types of Experiments\",\n",
    "    font=dict(size=12),\n",
    "    width=1200  # Set the width to a smaller value to compress the figure horizontally\n",
    ")\n",
    "\n",
    "fig.show()\n",
    "\n",
    "# fourth column with "
   ]
  },
  {
   "cell_type": "markdown",
   "metadata": {},
   "source": [
    "### Figure 2\n",
    "\n",
    "Figure 2 - Modality x Additional Modality\n",
    "A network diagram or Sankey diagram displaying the connections between primary modality (e.g., EEG) and additional modalities (e.g., fMRI, behavioral). This can visually represent multi-modality studies and show how often additional methods were used\n"
   ]
  },
  {
   "cell_type": "code",
   "execution_count": 64,
   "metadata": {},
   "outputs": [
    {
     "name": "stderr",
     "output_type": "stream",
     "text": [
      "/var/folders/ds/qxmx4zy969v_twj4bz2m_zvw0000gn/T/ipykernel_9738/863119495.py:22: SettingWithCopyWarning:\n",
      "\n",
      "\n",
      "A value is trying to be set on a copy of a slice from a DataFrame\n",
      "\n",
      "See the caveats in the documentation: https://pandas.pydata.org/pandas-docs/stable/user_guide/indexing.html#returning-a-view-versus-a-copy\n",
      "\n"
     ]
    },
    {
     "data": {
      "image/png": "[encoded data removed]",
      "text/plain": [
       "<Figure size 2700x800 with 3 Axes>"
      ]
     },
     "metadata": {},
     "output_type": "display_data"
    }
   ],
   "source": [
    "import networkx as nx\n",
    "\n",
    "df_fig2 = df[['EEG Modality', \n",
    "              'MEG Modality', \n",
    "              'iEEG Modality',\n",
    "              'Has MRI',\n",
    "              'Has EOG',\n",
    "              'Has Behavioral',\n",
    "              'Has fMRi',\n",
    "              'Has EcOg',\n",
    "              'Has DBS',\n",
    "              'Has SMI',\n",
    "              'Has EMG',\n",
    "              'Has TMS',\n",
    "              'Has ECG',\n",
    "              'Has SEEG',\n",
    "              'Has fNIRS',\n",
    "              'Has Blood Tests',\n",
    "              'Eye tracking',\n",
    "              'Other (put in name)']]\n",
    "\n",
    "df_fig2.rename(columns={\n",
    "    'EEG Modality': 'EEG',\n",
    "    'MEG Modality': 'MEG',\n",
    "    'iEEG Modality': 'iEEG',\n",
    "    'Has MRI': 'MRI',\n",
    "    'Has EOG': 'EOG',\n",
    "    'Has Behavioral': 'Behavioral',\n",
    "    'Has fMRi': 'fMRI',\n",
    "    'Has EcOg': 'EcOg',\n",
    "    'Has DBS': 'DBS',\n",
    "    'Has SMI': 'SMI',\n",
    "    'Has EMG': 'EMG',\n",
    "    'Has TMS': 'TMS',\n",
    "    'Has ECG': 'ECG',\n",
    "    'Has SEEG': 'SEEG',\n",
    "    'Has fNIRS': 'fNIRS',\n",
    "    'Has Blood Tests': 'Blood Tests',\n",
    "    'Eye tracking': 'Eye Tracking',\n",
    "    'Other (put in name)': 'Other'\n",
    "}, inplace=True)\n",
    "\n",
    "df_fig2_primaryModalities = ['EEG', 'MEG', 'iEEG']\n",
    "df_fig2_additionalModalities = ['MRI', \n",
    "                                'EOG', \n",
    "                                'Behavioral', \n",
    "                                'fMRI', \n",
    "                                'EcOg', \n",
    "                                'DBS', \n",
    "                                'SMI', \n",
    "                                'EMG', \n",
    "                                'TMS', \n",
    "                                'ECG', \n",
    "                                'SEEG', \n",
    "                                'fNIRS', \n",
    "                                'Blood Tests', \n",
    "                                'Eye Tracking', \n",
    "                                'Other']\n",
    "\n",
    "# Create a directed graph for EEG\n",
    "G_EEG = nx.DiGraph()\n",
    "\n",
    "# Add the start node for EEG\n",
    "start_node_EEG = 'EEG'\n",
    "G_EEG.add_node(start_node_EEG)\n",
    "\n",
    "# Add the end nodes and edges with weights for EEG\n",
    "for modality in df_fig2_additionalModalities:\n",
    "    G_EEG.add_node(modality)\n",
    "    weight = df_fig2[(df_fig2[start_node_EEG] == 'x') & (df_fig2[modality] == 'x')].shape[0]\n",
    "    if weight > 0:\n",
    "        G_EEG.add_edge(start_node_EEG, modality, weight=weight)\n",
    "\n",
    "# Create a directed graph for MEG\n",
    "G_MEG = nx.DiGraph()\n",
    "\n",
    "# Add the start node for MEG\n",
    "start_node_MEG = 'MEG'\n",
    "G_MEG.add_node(start_node_MEG)\n",
    "\n",
    "# Add the end nodes and edges with weights for MEG\n",
    "for modality in df_fig2_additionalModalities:\n",
    "    G_MEG.add_node(modality)\n",
    "    weight = df_fig2[(df_fig2[start_node_MEG] == 'x') & (df_fig2[modality] == 'x')].shape[0]\n",
    "    if weight > 0:\n",
    "        G_MEG.add_edge(start_node_MEG, modality, weight=weight)\n",
    "\n",
    "# Create a directed graph for iEEG\n",
    "G_iEEG = nx.DiGraph()\n",
    "\n",
    "# Add the start node for iEEG\n",
    "start_node_iEEG = 'iEEG'\n",
    "G_iEEG.add_node(start_node_iEEG)\n",
    "\n",
    "# Add the end nodes and edges with weights for iEEG\n",
    "for modality in df_fig2_additionalModalities:\n",
    "    G_iEEG.add_node(modality)\n",
    "    weight = df_fig2[(df_fig2[start_node_iEEG] == 'x') & (df_fig2[modality] == 'x')].shape[0]\n",
    "    if weight > 0:\n",
    "        G_iEEG.add_edge(start_node_iEEG, modality, weight=weight)\n",
    "\n",
    "# Draw the graphs side by side\n",
    "fig, axes = plt.subplots(1, 3, figsize=(27, 8))\n",
    "\n",
    "# Function to create circular layout with start node in the center\n",
    "def circular_layout_with_center(G, start_node):\n",
    "    pos = nx.circular_layout(G)\n",
    "    pos[start_node] = [0, 0]  # Place the start node in the center\n",
    "    return pos\n",
    "\n",
    "# Draw the EEG graph\n",
    "pos_EEG = circular_layout_with_center(G_EEG, start_node_EEG)\n",
    "edges_EEG = G_EEG.edges(data=True)\n",
    "weights_EEG = [edge[2]['weight'] for edge in edges_EEG]\n",
    "\n",
    "nx.draw(G_EEG, pos_EEG, with_labels=True, node_size=4000, node_color='skyblue', font_size=12, font_weight='bold', edge_color=(weights_EEG), edge_cmap=plt.cm.Blues, width=4, ax=axes[0])\n",
    "axes[0].set_title('Network Graph of EEG and Additional Modalities')\n",
    "\n",
    "# Draw the MEG graph\n",
    "pos_MEG = circular_layout_with_center(G_MEG, start_node_MEG)\n",
    "edges_MEG = G_MEG.edges(data=True)\n",
    "weights_MEG = [edge[2]['weight'] for edge in edges_MEG]\n",
    "\n",
    "nx.draw(G_MEG, pos_MEG, with_labels=True, node_size=4000, node_color='skyblue', font_size=12, font_weight='bold', edge_color=weights_MEG, edge_cmap=plt.cm.Blues, width=4, ax=axes[1])\n",
    "axes[1].set_title('Network Graph of MEG and Additional Modalities')\n",
    "\n",
    "# Draw the iEEG graph\n",
    "pos_iEEG = circular_layout_with_center(G_iEEG, start_node_iEEG)\n",
    "edges_iEEG = G_iEEG.edges(data=True)\n",
    "weights_iEEG = [edge[2]['weight'] for edge in edges_iEEG]\n",
    "\n",
    "nx.draw(G_iEEG, pos_iEEG, with_labels=True, node_size=4000, node_color='skyblue', font_size=12, font_weight='bold', edge_color=weights_iEEG, edge_cmap=plt.cm.Blues, width=4, ax=axes[2])\n",
    "axes[2].set_title('Network Graph of iEEG and Additional Modalities')\n",
    "\n",
    "plt.gcf().subplots_adjust(bottom=0.15) \n",
    "\n",
    "plt.show()\n"
   ]
  },
  {
   "cell_type": "markdown",
   "metadata": {},
   "source": [
    "### Figure 3\n",
    "\n",
    "Figure 3 - Author country x # of datasets x authors from multiple institutions\n",
    "\n",
    "A world map showing the distribution of author countries. Use circles of varying sizes to represent the number of studies from each country, use heat map to show how many of those studies from each country were collaboration with another institution \n"
   ]
  },
  {
   "cell_type": "code",
   "execution_count": 237,
   "metadata": {},
   "outputs": [
    {
     "data": {
      "application/vnd.plotly.v1+json": {
       "config": {
        "plotlyServerURL": "https://plot.ly"
       },
       "data": [
        {
         "geo": "geo",
         "hovertemplate": "Count=%{marker.size}<br>Country=%{location}<extra></extra>",
         "legendgroup": "",
         "locationmode": "country names",
         "locations": [
          "argentina",
          "australia",
          "austria",
          "canada",
          "chile",
          "china",
          "colombia",
          "czechia",
          "denmark",
          "egypt",
          "england",
          "finland",
          "france",
          "germany",
          "greece",
          "hungary",
          "india",
          "iran",
          "ireland",
          "italy",
          "japan",
          "malaysia",
          "mexico",
          "minnesota",
          "netherlands",
          "norway",
          "poland",
          "portugal",
          "romania",
          "russia",
          "singapore",
          "south korea",
          "spain",
          "sweden",
          "switzerland",
          "united kingdom"
         ],
         "marker": {
          "color": "#636efa",
          "size": [
           2,
           15,
           1,
           5,
           2,
           13,
           2,
           1,
           3,
           1,
           1,
           1,
           17,
           16,
           2,
           2,
           2,
           5,
           1,
           1,
           6,
           1,
           2,
           1,
           7,
           1,
           4,
           1,
           1,
           4,
           1,
           1,
           4,
           3,
           14,
           24
          ],
          "sizemode": "area",
          "sizeref": 0.06,
          "symbol": "circle"
         },
         "mode": "markers",
         "name": "",
         "showlegend": false,
         "type": "scattergeo"
        }
       ],
       "layout": {
        "geo": {
         "center": {},
         "domain": {
          "x": [
           0,
           1
          ],
          "y": [
           0,
           1
          ]
         },
         "projection": {
          "type": "natural earth"
         }
        },
        "legend": {
         "itemsizing": "constant",
         "tracegroupgap": 0
        },
        "template": {
         "data": {
          "bar": [
           {
            "error_x": {
             "color": "#2a3f5f"
            },
            "error_y": {
             "color": "#2a3f5f"
            },
            "marker": {
             "line": {
              "color": "#E5ECF6",
              "width": 0.5
             },
             "pattern": {
              "fillmode": "overlay",
              "size": 10,
              "solidity": 0.2
             }
            },
            "type": "bar"
           }
          ],
          "barpolar": [
           {
            "marker": {
             "line": {
              "color": "#E5ECF6",
              "width": 0.5
             },
             "pattern": {
              "fillmode": "overlay",
              "size": 10,
              "solidity": 0.2
             }
            },
            "type": "barpolar"
           }
          ],
          "carpet": [
           {
            "aaxis": {
             "endlinecolor": "#2a3f5f",
             "gridcolor": "white",
             "linecolor": "white",
             "minorgridcolor": "white",
             "startlinecolor": "#2a3f5f"
            },
            "baxis": {
             "endlinecolor": "#2a3f5f",
             "gridcolor": "white",
             "linecolor": "white",
             "minorgridcolor": "white",
             "startlinecolor": "#2a3f5f"
            },
            "type": "carpet"
           }
          ],
          "choropleth": [
           {
            "colorbar": {
             "outlinewidth": 0,
             "ticks": ""
            },
            "type": "choropleth"
           }
          ],
          "contour": [
           {
            "colorbar": {
             "outlinewidth": 0,
             "ticks": ""
            },
            "colorscale": [
             [
              0,
              "#0d0887"
             ],
             [
              0.1111111111111111,
              "#46039f"
             ],
             [
              0.2222222222222222,
              "#7201a8"
             ],
             [
              0.3333333333333333,
              "#9c179e"
             ],
             [
              0.4444444444444444,
              "#bd3786"
             ],
             [
              0.5555555555555556,
              "#d8576b"
             ],
             [
              0.6666666666666666,
              "#ed7953"
             ],
             [
              0.7777777777777778,
              "#fb9f3a"
             ],
             [
              0.8888888888888888,
              "#fdca26"
             ],
             [
              1,
              "#f0f921"
             ]
            ],
            "type": "contour"
           }
          ],
          "contourcarpet": [
           {
            "colorbar": {
             "outlinewidth": 0,
             "ticks": ""
            },
            "type": "contourcarpet"
           }
          ],
          "heatmap": [
           {
            "colorbar": {
             "outlinewidth": 0,
             "ticks": ""
            },
            "colorscale": [
             [
              0,
              "#0d0887"
             ],
             [
              0.1111111111111111,
              "#46039f"
             ],
             [
              0.2222222222222222,
              "#7201a8"
             ],
             [
              0.3333333333333333,
              "#9c179e"
             ],
             [
              0.4444444444444444,
              "#bd3786"
             ],
             [
              0.5555555555555556,
              "#d8576b"
             ],
             [
              0.6666666666666666,
              "#ed7953"
             ],
             [
              0.7777777777777778,
              "#fb9f3a"
             ],
             [
              0.8888888888888888,
              "#fdca26"
             ],
             [
              1,
              "#f0f921"
             ]
            ],
            "type": "heatmap"
           }
          ],
          "heatmapgl": [
           {
            "colorbar": {
             "outlinewidth": 0,
             "ticks": ""
            },
            "colorscale": [
             [
              0,
              "#0d0887"
             ],
             [
              0.1111111111111111,
              "#46039f"
             ],
             [
              0.2222222222222222,
              "#7201a8"
             ],
             [
              0.3333333333333333,
              "#9c179e"
             ],
             [
              0.4444444444444444,
              "#bd3786"
             ],
             [
              0.5555555555555556,
              "#d8576b"
             ],
             [
              0.6666666666666666,
              "#ed7953"
             ],
             [
              0.7777777777777778,
              "#fb9f3a"
             ],
             [
              0.8888888888888888,
              "#fdca26"
             ],
             [
              1,
              "#f0f921"
             ]
            ],
            "type": "heatmapgl"
           }
          ],
          "histogram": [
           {
            "marker": {
             "pattern": {
              "fillmode": "overlay",
              "size": 10,
              "solidity": 0.2
             }
            },
            "type": "histogram"
           }
          ],
          "histogram2d": [
           {
            "colorbar": {
             "outlinewidth": 0,
             "ticks": ""
            },
            "colorscale": [
             [
              0,
              "#0d0887"
             ],
             [
              0.1111111111111111,
              "#46039f"
             ],
             [
              0.2222222222222222,
              "#7201a8"
             ],
             [
              0.3333333333333333,
              "#9c179e"
             ],
             [
              0.4444444444444444,
              "#bd3786"
             ],
             [
              0.5555555555555556,
              "#d8576b"
             ],
             [
              0.6666666666666666,
              "#ed7953"
             ],
             [
              0.7777777777777778,
              "#fb9f3a"
             ],
             [
              0.8888888888888888,
              "#fdca26"
             ],
             [
              1,
              "#f0f921"
             ]
            ],
            "type": "histogram2d"
           }
          ],
          "histogram2dcontour": [
           {
            "colorbar": {
             "outlinewidth": 0,
             "ticks": ""
            },
            "colorscale": [
             [
              0,
              "#0d0887"
             ],
             [
              0.1111111111111111,
              "#46039f"
             ],
             [
              0.2222222222222222,
              "#7201a8"
             ],
             [
              0.3333333333333333,
              "#9c179e"
             ],
             [
              0.4444444444444444,
              "#bd3786"
             ],
             [
              0.5555555555555556,
              "#d8576b"
             ],
             [
              0.6666666666666666,
              "#ed7953"
             ],
             [
              0.7777777777777778,
              "#fb9f3a"
             ],
             [
              0.8888888888888888,
              "#fdca26"
             ],
             [
              1,
              "#f0f921"
             ]
            ],
            "type": "histogram2dcontour"
           }
          ],
          "mesh3d": [
           {
            "colorbar": {
             "outlinewidth": 0,
             "ticks": ""
            },
            "type": "mesh3d"
           }
          ],
          "parcoords": [
           {
            "line": {
             "colorbar": {
              "outlinewidth": 0,
              "ticks": ""
             }
            },
            "type": "parcoords"
           }
          ],
          "pie": [
           {
            "automargin": true,
            "type": "pie"
           }
          ],
          "scatter": [
           {
            "fillpattern": {
             "fillmode": "overlay",
             "size": 10,
             "solidity": 0.2
            },
            "type": "scatter"
           }
          ],
          "scatter3d": [
           {
            "line": {
             "colorbar": {
              "outlinewidth": 0,
              "ticks": ""
             }
            },
            "marker": {
             "colorbar": {
              "outlinewidth": 0,
              "ticks": ""
             }
            },
            "type": "scatter3d"
           }
          ],
          "scattercarpet": [
           {
            "marker": {
             "colorbar": {
              "outlinewidth": 0,
              "ticks": ""
             }
            },
            "type": "scattercarpet"
           }
          ],
          "scattergeo": [
           {
            "marker": {
             "colorbar": {
              "outlinewidth": 0,
              "ticks": ""
             }
            },
            "type": "scattergeo"
           }
          ],
          "scattergl": [
           {
            "marker": {
             "colorbar": {
              "outlinewidth": 0,
              "ticks": ""
             }
            },
            "type": "scattergl"
           }
          ],
          "scattermapbox": [
           {
            "marker": {
             "colorbar": {
              "outlinewidth": 0,
              "ticks": ""
             }
            },
            "type": "scattermapbox"
           }
          ],
          "scatterpolar": [
           {
            "marker": {
             "colorbar": {
              "outlinewidth": 0,
              "ticks": ""
             }
            },
            "type": "scatterpolar"
           }
          ],
          "scatterpolargl": [
           {
            "marker": {
             "colorbar": {
              "outlinewidth": 0,
              "ticks": ""
             }
            },
            "type": "scatterpolargl"
           }
          ],
          "scatterternary": [
           {
            "marker": {
             "colorbar": {
              "outlinewidth": 0,
              "ticks": ""
             }
            },
            "type": "scatterternary"
           }
          ],
          "surface": [
           {
            "colorbar": {
             "outlinewidth": 0,
             "ticks": ""
            },
            "colorscale": [
             [
              0,
              "#0d0887"
             ],
             [
              0.1111111111111111,
              "#46039f"
             ],
             [
              0.2222222222222222,
              "#7201a8"
             ],
             [
              0.3333333333333333,
              "#9c179e"
             ],
             [
              0.4444444444444444,
              "#bd3786"
             ],
             [
              0.5555555555555556,
              "#d8576b"
             ],
             [
              0.6666666666666666,
              "#ed7953"
             ],
             [
              0.7777777777777778,
              "#fb9f3a"
             ],
             [
              0.8888888888888888,
              "#fdca26"
             ],
             [
              1,
              "#f0f921"
             ]
            ],
            "type": "surface"
           }
          ],
          "table": [
           {
            "cells": {
             "fill": {
              "color": "#EBF0F8"
             },
             "line": {
              "color": "white"
             }
            },
            "header": {
             "fill": {
              "color": "#C8D4E3"
             },
             "line": {
              "color": "white"
             }
            },
            "type": "table"
           }
          ]
         },
         "layout": {
          "annotationdefaults": {
           "arrowcolor": "#2a3f5f",
           "arrowhead": 0,
           "arrowwidth": 1
          },
          "autotypenumbers": "strict",
          "coloraxis": {
           "colorbar": {
            "outlinewidth": 0,
            "ticks": ""
           }
          },
          "colorscale": {
           "diverging": [
            [
             0,
             "#8e0152"
            ],
            [
             0.1,
             "#c51b7d"
            ],
            [
             0.2,
             "#de77ae"
            ],
            [
             0.3,
             "#f1b6da"
            ],
            [
             0.4,
             "#fde0ef"
            ],
            [
             0.5,
             "#f7f7f7"
            ],
            [
             0.6,
             "#e6f5d0"
            ],
            [
             0.7,
             "#b8e186"
            ],
            [
             0.8,
             "#7fbc41"
            ],
            [
             0.9,
             "#4d9221"
            ],
            [
             1,
             "#276419"
            ]
           ],
           "sequential": [
            [
             0,
             "#0d0887"
            ],
            [
             0.1111111111111111,
             "#46039f"
            ],
            [
             0.2222222222222222,
             "#7201a8"
            ],
            [
             0.3333333333333333,
             "#9c179e"
            ],
            [
             0.4444444444444444,
             "#bd3786"
            ],
            [
             0.5555555555555556,
             "#d8576b"
            ],
            [
             0.6666666666666666,
             "#ed7953"
            ],
            [
             0.7777777777777778,
             "#fb9f3a"
            ],
            [
             0.8888888888888888,
             "#fdca26"
            ],
            [
             1,
             "#f0f921"
            ]
           ],
           "sequentialminus": [
            [
             0,
             "#0d0887"
            ],
            [
             0.1111111111111111,
             "#46039f"
            ],
            [
             0.2222222222222222,
             "#7201a8"
            ],
            [
             0.3333333333333333,
             "#9c179e"
            ],
            [
             0.4444444444444444,
             "#bd3786"
            ],
            [
             0.5555555555555556,
             "#d8576b"
            ],
            [
             0.6666666666666666,
             "#ed7953"
            ],
            [
             0.7777777777777778,
             "#fb9f3a"
            ],
            [
             0.8888888888888888,
             "#fdca26"
            ],
            [
             1,
             "#f0f921"
            ]
           ]
          },
          "colorway": [
           "#636efa",
           "#EF553B",
           "#00cc96",
           "#ab63fa",
           "#FFA15A",
           "#19d3f3",
           "#FF6692",
           "#B6E880",
           "#FF97FF",
           "#FECB52"
          ],
          "font": {
           "color": "#2a3f5f"
          },
          "geo": {
           "bgcolor": "white",
           "lakecolor": "white",
           "landcolor": "#E5ECF6",
           "showlakes": true,
           "showland": true,
           "subunitcolor": "white"
          },
          "hoverlabel": {
           "align": "left"
          },
          "hovermode": "closest",
          "mapbox": {
           "style": "light"
          },
          "paper_bgcolor": "white",
          "plot_bgcolor": "#E5ECF6",
          "polar": {
           "angularaxis": {
            "gridcolor": "white",
            "linecolor": "white",
            "ticks": ""
           },
           "bgcolor": "#E5ECF6",
           "radialaxis": {
            "gridcolor": "white",
            "linecolor": "white",
            "ticks": ""
           }
          },
          "scene": {
           "xaxis": {
            "backgroundcolor": "#E5ECF6",
            "gridcolor": "white",
            "gridwidth": 2,
            "linecolor": "white",
            "showbackground": true,
            "ticks": "",
            "zerolinecolor": "white"
           },
           "yaxis": {
            "backgroundcolor": "#E5ECF6",
            "gridcolor": "white",
            "gridwidth": 2,
            "linecolor": "white",
            "showbackground": true,
            "ticks": "",
            "zerolinecolor": "white"
           },
           "zaxis": {
            "backgroundcolor": "#E5ECF6",
            "gridcolor": "white",
            "gridwidth": 2,
            "linecolor": "white",
            "showbackground": true,
            "ticks": "",
            "zerolinecolor": "white"
           }
          },
          "shapedefaults": {
           "line": {
            "color": "#2a3f5f"
           }
          },
          "ternary": {
           "aaxis": {
            "gridcolor": "white",
            "linecolor": "white",
            "ticks": ""
           },
           "baxis": {
            "gridcolor": "white",
            "linecolor": "white",
            "ticks": ""
           },
           "bgcolor": "#E5ECF6",
           "caxis": {
            "gridcolor": "white",
            "linecolor": "white",
            "ticks": ""
           }
          },
          "title": {
           "x": 0.05
          },
          "xaxis": {
           "automargin": true,
           "gridcolor": "white",
           "linecolor": "white",
           "ticks": "",
           "title": {
            "standoff": 15
           },
           "zerolinecolor": "white",
           "zerolinewidth": 2
          },
          "yaxis": {
           "automargin": true,
           "gridcolor": "white",
           "linecolor": "white",
           "ticks": "",
           "title": {
            "standoff": 15
           },
           "zerolinecolor": "white",
           "zerolinewidth": 2
          }
         }
        },
        "title": {
         "text": "World Map with Circles Representing Number of Studies"
        }
       }
      }
     },
     "metadata": {},
     "output_type": "display_data"
    },
    {
     "data": {
      "application/vnd.plotly.v1+json": {
       "config": {
        "plotlyServerURL": "https://plot.ly"
       },
       "data": [
        {
         "geo": "geo",
         "hovertemplate": "Count=%{marker.size}<br>Country=%{location}<extra></extra>",
         "legendgroup": "",
         "locationmode": "USA-states",
         "locations": [
          "AR",
          "CA",
          "FL",
          "GA",
          "IL",
          "IA",
          "MD",
          "MA",
          "MI",
          "MN",
          "MO",
          "NV",
          "NM",
          "NY",
          "NC",
          "OR",
          "PA",
          "SD",
          "TX",
          "VA",
          "WA"
         ],
         "marker": {
          "color": "#636efa",
          "size": [
           2,
           19,
           6,
           3,
           6,
           1,
           32,
           2,
           3,
           4,
           2,
           3,
           19,
           11,
           2,
           1,
           11,
           1,
           2,
           3,
           2
          ],
          "sizemode": "area",
          "sizeref": 0.08,
          "symbol": "circle"
         },
         "mode": "markers",
         "name": "",
         "showlegend": false,
         "type": "scattergeo"
        }
       ],
       "layout": {
        "geo": {
         "center": {},
         "domain": {
          "x": [
           0,
           1
          ],
          "y": [
           0,
           1
          ]
         },
         "projection": {
          "type": "albers usa"
         }
        },
        "legend": {
         "itemsizing": "constant",
         "tracegroupgap": 0
        },
        "template": {
         "data": {
          "bar": [
           {
            "error_x": {
             "color": "#2a3f5f"
            },
            "error_y": {
             "color": "#2a3f5f"
            },
            "marker": {
             "line": {
              "color": "#E5ECF6",
              "width": 0.5
             },
             "pattern": {
              "fillmode": "overlay",
              "size": 10,
              "solidity": 0.2
             }
            },
            "type": "bar"
           }
          ],
          "barpolar": [
           {
            "marker": {
             "line": {
              "color": "#E5ECF6",
              "width": 0.5
             },
             "pattern": {
              "fillmode": "overlay",
              "size": 10,
              "solidity": 0.2
             }
            },
            "type": "barpolar"
           }
          ],
          "carpet": [
           {
            "aaxis": {
             "endlinecolor": "#2a3f5f",
             "gridcolor": "white",
             "linecolor": "white",
             "minorgridcolor": "white",
             "startlinecolor": "#2a3f5f"
            },
            "baxis": {
             "endlinecolor": "#2a3f5f",
             "gridcolor": "white",
             "linecolor": "white",
             "minorgridcolor": "white",
             "startlinecolor": "#2a3f5f"
            },
            "type": "carpet"
           }
          ],
          "choropleth": [
           {
            "colorbar": {
             "outlinewidth": 0,
             "ticks": ""
            },
            "type": "choropleth"
           }
          ],
          "contour": [
           {
            "colorbar": {
             "outlinewidth": 0,
             "ticks": ""
            },
            "colorscale": [
             [
              0,
              "#0d0887"
             ],
             [
              0.1111111111111111,
              "#46039f"
             ],
             [
              0.2222222222222222,
              "#7201a8"
             ],
             [
              0.3333333333333333,
              "#9c179e"
             ],
             [
              0.4444444444444444,
              "#bd3786"
             ],
             [
              0.5555555555555556,
              "#d8576b"
             ],
             [
              0.6666666666666666,
              "#ed7953"
             ],
             [
              0.7777777777777778,
              "#fb9f3a"
             ],
             [
              0.8888888888888888,
              "#fdca26"
             ],
             [
              1,
              "#f0f921"
             ]
            ],
            "type": "contour"
           }
          ],
          "contourcarpet": [
           {
            "colorbar": {
             "outlinewidth": 0,
             "ticks": ""
            },
            "type": "contourcarpet"
           }
          ],
          "heatmap": [
           {
            "colorbar": {
             "outlinewidth": 0,
             "ticks": ""
            },
            "colorscale": [
             [
              0,
              "#0d0887"
             ],
             [
              0.1111111111111111,
              "#46039f"
             ],
             [
              0.2222222222222222,
              "#7201a8"
             ],
             [
              0.3333333333333333,
              "#9c179e"
             ],
             [
              0.4444444444444444,
              "#bd3786"
             ],
             [
              0.5555555555555556,
              "#d8576b"
             ],
             [
              0.6666666666666666,
              "#ed7953"
             ],
             [
              0.7777777777777778,
              "#fb9f3a"
             ],
             [
              0.8888888888888888,
              "#fdca26"
             ],
             [
              1,
              "#f0f921"
             ]
            ],
            "type": "heatmap"
           }
          ],
          "heatmapgl": [
           {
            "colorbar": {
             "outlinewidth": 0,
             "ticks": ""
            },
            "colorscale": [
             [
              0,
              "#0d0887"
             ],
             [
              0.1111111111111111,
              "#46039f"
             ],
             [
              0.2222222222222222,
              "#7201a8"
             ],
             [
              0.3333333333333333,
              "#9c179e"
             ],
             [
              0.4444444444444444,
              "#bd3786"
             ],
             [
              0.5555555555555556,
              "#d8576b"
             ],
             [
              0.6666666666666666,
              "#ed7953"
             ],
             [
              0.7777777777777778,
              "#fb9f3a"
             ],
             [
              0.8888888888888888,
              "#fdca26"
             ],
             [
              1,
              "#f0f921"
             ]
            ],
            "type": "heatmapgl"
           }
          ],
          "histogram": [
           {
            "marker": {
             "pattern": {
              "fillmode": "overlay",
              "size": 10,
              "solidity": 0.2
             }
            },
            "type": "histogram"
           }
          ],
          "histogram2d": [
           {
            "colorbar": {
             "outlinewidth": 0,
             "ticks": ""
            },
            "colorscale": [
             [
              0,
              "#0d0887"
             ],
             [
              0.1111111111111111,
              "#46039f"
             ],
             [
              0.2222222222222222,
              "#7201a8"
             ],
             [
              0.3333333333333333,
              "#9c179e"
             ],
             [
              0.4444444444444444,
              "#bd3786"
             ],
             [
              0.5555555555555556,
              "#d8576b"
             ],
             [
              0.6666666666666666,
              "#ed7953"
             ],
             [
              0.7777777777777778,
              "#fb9f3a"
             ],
             [
              0.8888888888888888,
              "#fdca26"
             ],
             [
              1,
              "#f0f921"
             ]
            ],
            "type": "histogram2d"
           }
          ],
          "histogram2dcontour": [
           {
            "colorbar": {
             "outlinewidth": 0,
             "ticks": ""
            },
            "colorscale": [
             [
              0,
              "#0d0887"
             ],
             [
              0.1111111111111111,
              "#46039f"
             ],
             [
              0.2222222222222222,
              "#7201a8"
             ],
             [
              0.3333333333333333,
              "#9c179e"
             ],
             [
              0.4444444444444444,
              "#bd3786"
             ],
             [
              0.5555555555555556,
              "#d8576b"
             ],
             [
              0.6666666666666666,
              "#ed7953"
             ],
             [
              0.7777777777777778,
              "#fb9f3a"
             ],
             [
              0.8888888888888888,
              "#fdca26"
             ],
             [
              1,
              "#f0f921"
             ]
            ],
            "type": "histogram2dcontour"
           }
          ],
          "mesh3d": [
           {
            "colorbar": {
             "outlinewidth": 0,
             "ticks": ""
            },
            "type": "mesh3d"
           }
          ],
          "parcoords": [
           {
            "line": {
             "colorbar": {
              "outlinewidth": 0,
              "ticks": ""
             }
            },
            "type": "parcoords"
           }
          ],
          "pie": [
           {
            "automargin": true,
            "type": "pie"
           }
          ],
          "scatter": [
           {
            "fillpattern": {
             "fillmode": "overlay",
             "size": 10,
             "solidity": 0.2
            },
            "type": "scatter"
           }
          ],
          "scatter3d": [
           {
            "line": {
             "colorbar": {
              "outlinewidth": 0,
              "ticks": ""
             }
            },
            "marker": {
             "colorbar": {
              "outlinewidth": 0,
              "ticks": ""
             }
            },
            "type": "scatter3d"
           }
          ],
          "scattercarpet": [
           {
            "marker": {
             "colorbar": {
              "outlinewidth": 0,
              "ticks": ""
             }
            },
            "type": "scattercarpet"
           }
          ],
          "scattergeo": [
           {
            "marker": {
             "colorbar": {
              "outlinewidth": 0,
              "ticks": ""
             }
            },
            "type": "scattergeo"
           }
          ],
          "scattergl": [
           {
            "marker": {
             "colorbar": {
              "outlinewidth": 0,
              "ticks": ""
             }
            },
            "type": "scattergl"
           }
          ],
          "scattermapbox": [
           {
            "marker": {
             "colorbar": {
              "outlinewidth": 0,
              "ticks": ""
             }
            },
            "type": "scattermapbox"
           }
          ],
          "scatterpolar": [
           {
            "marker": {
             "colorbar": {
              "outlinewidth": 0,
              "ticks": ""
             }
            },
            "type": "scatterpolar"
           }
          ],
          "scatterpolargl": [
           {
            "marker": {
             "colorbar": {
              "outlinewidth": 0,
              "ticks": ""
             }
            },
            "type": "scatterpolargl"
           }
          ],
          "scatterternary": [
           {
            "marker": {
             "colorbar": {
              "outlinewidth": 0,
              "ticks": ""
             }
            },
            "type": "scatterternary"
           }
          ],
          "surface": [
           {
            "colorbar": {
             "outlinewidth": 0,
             "ticks": ""
            },
            "colorscale": [
             [
              0,
              "#0d0887"
             ],
             [
              0.1111111111111111,
              "#46039f"
             ],
             [
              0.2222222222222222,
              "#7201a8"
             ],
             [
              0.3333333333333333,
              "#9c179e"
             ],
             [
              0.4444444444444444,
              "#bd3786"
             ],
             [
              0.5555555555555556,
              "#d8576b"
             ],
             [
              0.6666666666666666,
              "#ed7953"
             ],
             [
              0.7777777777777778,
              "#fb9f3a"
             ],
             [
              0.8888888888888888,
              "#fdca26"
             ],
             [
              1,
              "#f0f921"
             ]
            ],
            "type": "surface"
           }
          ],
          "table": [
           {
            "cells": {
             "fill": {
              "color": "#EBF0F8"
             },
             "line": {
              "color": "white"
             }
            },
            "header": {
             "fill": {
              "color": "#C8D4E3"
             },
             "line": {
              "color": "white"
             }
            },
            "type": "table"
           }
          ]
         },
         "layout": {
          "annotationdefaults": {
           "arrowcolor": "#2a3f5f",
           "arrowhead": 0,
           "arrowwidth": 1
          },
          "autotypenumbers": "strict",
          "coloraxis": {
           "colorbar": {
            "outlinewidth": 0,
            "ticks": ""
           }
          },
          "colorscale": {
           "diverging": [
            [
             0,
             "#8e0152"
            ],
            [
             0.1,
             "#c51b7d"
            ],
            [
             0.2,
             "#de77ae"
            ],
            [
             0.3,
             "#f1b6da"
            ],
            [
             0.4,
             "#fde0ef"
            ],
            [
             0.5,
             "#f7f7f7"
            ],
            [
             0.6,
             "#e6f5d0"
            ],
            [
             0.7,
             "#b8e186"
            ],
            [
             0.8,
             "#7fbc41"
            ],
            [
             0.9,
             "#4d9221"
            ],
            [
             1,
             "#276419"
            ]
           ],
           "sequential": [
            [
             0,
             "#0d0887"
            ],
            [
             0.1111111111111111,
             "#46039f"
            ],
            [
             0.2222222222222222,
             "#7201a8"
            ],
            [
             0.3333333333333333,
             "#9c179e"
            ],
            [
             0.4444444444444444,
             "#bd3786"
            ],
            [
             0.5555555555555556,
             "#d8576b"
            ],
            [
             0.6666666666666666,
             "#ed7953"
            ],
            [
             0.7777777777777778,
             "#fb9f3a"
            ],
            [
             0.8888888888888888,
             "#fdca26"
            ],
            [
             1,
             "#f0f921"
            ]
           ],
           "sequentialminus": [
            [
             0,
             "#0d0887"
            ],
            [
             0.1111111111111111,
             "#46039f"
            ],
            [
             0.2222222222222222,
             "#7201a8"
            ],
            [
             0.3333333333333333,
             "#9c179e"
            ],
            [
             0.4444444444444444,
             "#bd3786"
            ],
            [
             0.5555555555555556,
             "#d8576b"
            ],
            [
             0.6666666666666666,
             "#ed7953"
            ],
            [
             0.7777777777777778,
             "#fb9f3a"
            ],
            [
             0.8888888888888888,
             "#fdca26"
            ],
            [
             1,
             "#f0f921"
            ]
           ]
          },
          "colorway": [
           "#636efa",
           "#EF553B",
           "#00cc96",
           "#ab63fa",
           "#FFA15A",
           "#19d3f3",
           "#FF6692",
           "#B6E880",
           "#FF97FF",
           "#FECB52"
          ],
          "font": {
           "color": "#2a3f5f"
          },
          "geo": {
           "bgcolor": "white",
           "lakecolor": "white",
           "landcolor": "#E5ECF6",
           "showlakes": true,
           "showland": true,
           "subunitcolor": "white"
          },
          "hoverlabel": {
           "align": "left"
          },
          "hovermode": "closest",
          "mapbox": {
           "style": "light"
          },
          "paper_bgcolor": "white",
          "plot_bgcolor": "#E5ECF6",
          "polar": {
           "angularaxis": {
            "gridcolor": "white",
            "linecolor": "white",
            "ticks": ""
           },
           "bgcolor": "#E5ECF6",
           "radialaxis": {
            "gridcolor": "white",
            "linecolor": "white",
            "ticks": ""
           }
          },
          "scene": {
           "xaxis": {
            "backgroundcolor": "#E5ECF6",
            "gridcolor": "white",
            "gridwidth": 2,
            "linecolor": "white",
            "showbackground": true,
            "ticks": "",
            "zerolinecolor": "white"
           },
           "yaxis": {
            "backgroundcolor": "#E5ECF6",
            "gridcolor": "white",
            "gridwidth": 2,
            "linecolor": "white",
            "showbackground": true,
            "ticks": "",
            "zerolinecolor": "white"
           },
           "zaxis": {
            "backgroundcolor": "#E5ECF6",
            "gridcolor": "white",
            "gridwidth": 2,
            "linecolor": "white",
            "showbackground": true,
            "ticks": "",
            "zerolinecolor": "white"
           }
          },
          "shapedefaults": {
           "line": {
            "color": "#2a3f5f"
           }
          },
          "ternary": {
           "aaxis": {
            "gridcolor": "white",
            "linecolor": "white",
            "ticks": ""
           },
           "baxis": {
            "gridcolor": "white",
            "linecolor": "white",
            "ticks": ""
           },
           "bgcolor": "#E5ECF6",
           "caxis": {
            "gridcolor": "white",
            "linecolor": "white",
            "ticks": ""
           }
          },
          "title": {
           "x": 0.05
          },
          "xaxis": {
           "automargin": true,
           "gridcolor": "white",
           "linecolor": "white",
           "ticks": "",
           "title": {
            "standoff": 15
           },
           "zerolinecolor": "white",
           "zerolinewidth": 2
          },
          "yaxis": {
           "automargin": true,
           "gridcolor": "white",
           "linecolor": "white",
           "ticks": "",
           "title": {
            "standoff": 15
           },
           "zerolinecolor": "white",
           "zerolinewidth": 2
          }
         }
        },
        "title": {
         "text": "US Map with Circles Representing Number of Studies"
        }
       }
      }
     },
     "metadata": {},
     "output_type": "display_data"
    }
   ],
   "source": [
    "'''\n",
    "US has so many studies that it's hard to see the other countries on the map.\n",
    "Removing US to see the other countries alone. \n",
    "Creating plot with international countries excluding US. \n",
    "'''\n",
    "\n",
    "# create dataframe for number of studies from each country\n",
    "countries = df['Author country']\n",
    "countries = countries.astype(str)\n",
    "countries = countries.str.strip().str.lower().str.replace('.', '')\n",
    "replacements = {\n",
    "    \"usa\": \"united states\",\n",
    "    \"uk\": \"united kingdom\",\n",
    "    \"romani\": \"romania\",\n",
    "    'the netherlands': 'netherlands'\n",
    "}\n",
    "countries.replace(replacements, inplace=True)\n",
    "\n",
    "# calculate df without US\n",
    "countries_noUS = countries[countries != 'united states']\n",
    "unique_countries_noUS, counts_noUS = np.unique(countries_noUS, return_counts=True)\n",
    "country_counts_df = pd.DataFrame({\n",
    "    'Country': unique_countries_noUS,\n",
    "    'Count': counts_noUS\n",
    "})\n",
    "\n",
    "# Create a plotly scatter_geo plot\n",
    "fig3_noUS = px.scatter_geo(country_counts_df, locations=\"Country\", locationmode='country names',\n",
    "                     size=\"Count\", projection=\"natural earth\",\n",
    "                     title=\"World Map with Circles Representing Number of Studies\",\n",
    "                     color_continuous_scale=\"Viridis\")\n",
    "fig3_noUS.show()\n",
    "\n",
    "'''\n",
    "Now, create a plot with only the US to see the distribution of studies within the US.\n",
    "'''\n",
    "\n",
    "usa = df[['Author country', 'First author state']]\n",
    "usa = usa.map(lambda x: x.strip().lower().replace('.', ''))\n",
    "usa.replace({\"usa\": \"united states\"}, inplace=True)\n",
    "usa = usa[usa['Author country'] == 'united states']\n",
    "\n",
    "city_replacements = {\n",
    "    'chicago': 'illinois',\n",
    "    'pittsburgh': 'pennsylvania',\n",
    "}\n",
    "usa.replace(city_replacements, inplace=True)\n",
    "\n",
    "states_unique, states_counts = np.unique(usa['First author state'], return_counts=True)\n",
    "states_counts = states_counts.astype(int)\n",
    "\n",
    "usa_counts_df = pd.DataFrame({\n",
    "    'Country': states_unique,\n",
    "    'Count': states_counts\n",
    "})\n",
    "# Dictionary to convert state names to abbreviations\n",
    "state_abbrev = {\n",
    "    'alabama': 'AL', 'alaska': 'AK', 'arizona': 'AZ', 'arkansas': 'AR', 'california': 'CA',\n",
    "    'colorado': 'CO', 'connecticut': 'CT', 'delaware': 'DE', 'florida': 'FL', 'georgia': 'GA',\n",
    "    'hawaii': 'HI', 'idaho': 'ID', 'illinois': 'IL', 'indiana': 'IN', 'iowa': 'IA',\n",
    "    'kansas': 'KS', 'kentucky': 'KY', 'louisiana': 'LA', 'maine': 'ME', 'maryland': 'MD',\n",
    "    'massachusetts': 'MA', 'michigan': 'MI', 'minnesota': 'MN', 'mississippi': 'MS', 'missouri': 'MO',\n",
    "    'montana': 'MT', 'nebraska': 'NE', 'nevada': 'NV', 'new hampshire': 'NH', 'new jersey': 'NJ',\n",
    "    'new mexico': 'NM', 'new york': 'NY', 'north carolina': 'NC', 'north dakota': 'ND', 'ohio': 'OH',\n",
    "    'oklahoma': 'OK', 'oregon': 'OR', 'pennsylvania': 'PA', 'rhode island': 'RI', 'south carolina': 'SC',\n",
    "    'south dakota': 'SD', 'tennessee': 'TN', 'texas': 'TX', 'utah': 'UT', 'vermont': 'VT',\n",
    "    'virginia': 'VA', 'washington': 'WA', 'west virginia': 'WV', 'wisconsin': 'WI', 'wyoming': 'WY'\n",
    "}\n",
    "# Convert state names to abbreviations\n",
    "usa_counts_df['Country'] = usa_counts_df['Country'].map(state_abbrev).fillna(usa_counts_df['Country'])\n",
    "\n",
    "\n",
    "fig3_us = px.scatter_geo(usa_counts_df, locations=\"Country\", locationmode='USA-states',\n",
    "                     size=\"Count\", projection=\"albers usa\",\n",
    "                     title=\"US Map with Circles Representing Number of Studies\",\n",
    "                     color_continuous_scale=\"Viridis\")\n",
    "fig3_us.show()"
   ]
  },
  {
   "cell_type": "markdown",
   "metadata": {},
   "source": [
    "### Figure 4\n",
    "\n",
    "Figure 4 - Published date x number of datasets x modality\n",
    "\n",
    "A line graph showing the number of publications over time, segmented by modality\n",
    "\n",
    "denote that all of the data is combination - like mri is eeg-mri\n",
    "\n",
    "denote this is over evolution of nemar/openneuro, thats how old database is\n",
    "\n",
    "take top 3 eeg/meg/ieeg on one plot, and then the other modalities on another plot"
   ]
  },
  {
   "cell_type": "code",
   "execution_count": null,
   "metadata": {},
   "outputs": [
    {
     "name": "stderr",
     "output_type": "stream",
     "text": [
      "/var/folders/ds/qxmx4zy969v_twj4bz2m_zvw0000gn/T/ipykernel_9738/3315669864.py:21: SettingWithCopyWarning:\n",
      "\n",
      "\n",
      "A value is trying to be set on a copy of a slice from a DataFrame\n",
      "\n",
      "See the caveats in the documentation: https://pandas.pydata.org/pandas-docs/stable/user_guide/indexing.html#returning-a-view-versus-a-copy\n",
      "\n"
     ]
    },
    {
     "data": {
      "application/vnd.plotly.v1+json": {
       "config": {
        "plotlyServerURL": "https://plot.ly"
       },
       "data": [
        {
         "mode": "lines",
         "name": "EEG",
         "type": "scatter",
         "x": [
          "2019-03-08T05:11:02",
          "2019-03-08T05:11:02",
          "2019-03-09T00:48:05",
          "2019-05-28T11:48:47",
          "2019-06-07T19:41:04",
          "2019-08-02T15:03:21",
          "2019-08-22T14:07:44",
          "2019-08-24T11:03:34",
          "2019-10-03T05:24:27",
          "2019-12-04T14:40:17",
          "2019-12-04T14:48:34",
          "2020-02-21T19:41:52",
          "2020-03-19T13:15:51",
          "2020-04-09T00:50:39",
          "2020-04-09T00:54:52",
          "2020-04-21T23:09:57",
          "2020-04-24T15:25:17",
          "2020-04-24T15:27:04",
          "2020-04-24T15:28:26",
          "2020-04-24T15:29:36",
          "2020-04-24T15:31:22",
          "2020-04-24T18:49:36",
          "2020-05-06T05:35:53",
          "2020-06-29T23:47:19",
          "2020-07-10T00:05:52",
          "2020-07-17T20:53:39",
          "2020-07-17T20:54:59",
          "2020-08-19T00:37:07",
          "2020-10-01T05:10:17",
          "2020-10-13T00:43:48",
          "2020-10-13T00:44:11",
          "2020-11-12T07:14:08",
          "2020-11-22T09:06:42",
          "2020-12-08T22:53:32",
          "2020-12-08T23:04:00",
          "2021-01-04T22:45:12",
          "2021-01-18T19:50:00",
          "2021-01-27T18:22:50",
          "2021-02-05T20:07:58",
          "2021-02-05T21:40:47",
          "2021-02-08T22:26:43",
          "2021-02-12T17:59:37",
          "2021-02-15T18:10:24",
          "2021-02-16T18:03:02",
          "2021-02-17T17:12:37",
          "2021-02-19T22:38:34",
          "2021-02-22T20:47:30",
          "2021-02-26T13:26:53",
          "2021-03-06T01:41:25",
          "2021-03-11T07:46:16",
          "2021-03-20T08:07:03",
          "2021-03-26T13:31:27",
          "2021-04-17T19:51:37",
          "2021-04-20T02:21:41",
          "2021-05-20T16:20:52",
          "2021-05-20T17:51:13",
          "2021-06-10T08:35:24",
          "2021-06-15T17:10:15",
          "2021-07-10T22:21:41",
          "2021-07-12T19:38:41",
          "2021-07-23T00:06:01",
          "2021-08-08T03:26:55",
          "2021-08-17T16:50:30",
          "2021-08-19T13:50:18",
          "2021-08-24T07:53:32",
          "2021-08-25T12:12:25",
          "2021-09-17T19:50:42",
          "2021-09-20T13:44:22",
          "2021-09-25T10:34:29",
          "2021-09-28T20:17:41",
          "2021-09-28T20:17:41",
          "2021-09-28T20:20:55",
          "2021-09-29T17:02:08",
          "2021-09-29T17:02:18",
          "2021-10-01T03:34:07",
          "2021-10-19T13:51:25",
          "2021-10-20T08:50:55",
          "2021-11-12T05:57:06",
          "2021-11-12T06:37:59",
          "2021-11-15T12:45:01",
          "2022-01-03T18:38:28",
          "2022-01-20T13:46:46",
          "2022-01-24T19:04:37",
          "2022-01-24T19:05:25",
          "2022-01-26T19:34:34",
          "2022-02-01T20:21:02",
          "2022-02-09T07:00:37",
          "2022-02-09T22:18:37",
          "2022-02-15T02:13:14",
          "2022-02-15T04:52:06",
          "2022-02-24T03:20:20",
          "2022-02-25T03:17:40",
          "2022-03-13T21:32:33",
          "2022-03-18T01:48:59",
          "2022-03-30T09:29:01",
          "2022-04-14T17:41:56",
          "2022-04-29T20:29:26",
          "2022-05-04T22:55:48",
          "2022-05-04T22:56:21",
          "2022-05-04T22:56:55",
          "2022-05-04T22:57:30",
          "2022-05-04T22:57:53",
          "2022-05-04T22:58:22",
          "2022-05-05T13:49:31",
          "2022-05-06T12:42:43",
          "2022-05-15T17:04:27",
          "2022-06-07T15:05:27",
          "2022-06-13T08:35:00",
          "2022-06-14T15:45:13",
          "2022-06-14T18:40:59",
          "2022-06-16T23:23:02",
          "2022-06-17T10:33:00",
          "2022-07-11T11:47:42",
          "2022-07-27T17:15:46",
          "2022-08-17T09:52:46",
          "2022-09-07T12:52:02",
          "2022-09-13T14:57:06",
          "2022-10-15T16:44:29",
          "2022-10-27T05:10:59",
          "2022-10-27T16:57:51",
          "2022-11-28T17:08:56",
          "2022-12-01T08:29:38",
          "2022-12-06T03:04:16",
          "2022-12-12T17:34:53",
          "2022-12-15T12:45:27",
          "2022-12-15T13:00:15",
          "2022-12-15T16:24:41",
          "2023-01-20T15:17:31",
          "2023-01-24T22:01:03",
          "2023-01-25T12:35:02",
          "2023-01-25T16:30:22",
          "2023-01-26T05:19:08",
          "2023-01-26T05:19:30",
          "2023-02-03T09:56:13",
          "2023-02-06T14:16:24",
          "2023-02-08T16:28:07",
          "2023-02-16T23:40:24",
          "2023-02-17T08:53:52",
          "2023-03-04T01:33:53",
          "2023-03-06T17:31:31",
          "2023-03-07T18:35:41",
          "2023-03-16T16:17:50",
          "2023-03-17T15:10:54",
          "2023-03-30T17:04:08",
          "2023-04-02T15:14:21",
          "2023-04-21T16:15:57",
          "2023-04-26T06:43:02",
          "2023-04-26T11:21:50",
          "2023-05-04T00:31:19",
          "2023-05-24T17:04:50",
          "2023-05-25T10:59:59",
          "2023-05-25T16:05:35",
          "2023-05-25T16:41:59",
          "2023-05-25T16:55:56",
          "2023-06-01T03:00:26",
          "2023-06-01T11:51:40",
          "2023-06-07T21:22:39",
          "2023-06-09T21:11:02",
          "2023-06-13T03:10:20",
          "2023-06-13T21:09:06",
          "2023-07-05T00:22:01",
          "2023-07-11T22:03:22",
          "2023-07-21T19:05:20",
          "2023-07-28T15:58:30",
          "2023-07-31T17:42:53",
          "2023-08-02T22:50:05",
          "2023-08-05T03:11:25",
          "2023-08-05T16:56:32",
          "2023-08-05T16:56:43",
          "2023-08-07T12:06:38",
          "2023-08-23T16:36:12",
          "2023-09-13T16:26:52",
          "2023-09-14T07:37:42",
          "2023-09-25T03:48:57",
          "2023-10-02T13:59:41",
          "2023-10-12T13:01:56",
          "2023-10-19T10:58:01",
          "2023-10-26T00:01:25",
          "2023-10-26T00:01:55",
          "2023-10-30T04:20:59",
          "2023-11-12T22:23:16",
          "2023-11-13T17:59:29",
          "2023-11-13T18:17:55",
          "2023-11-13T19:01:55",
          "2023-11-13T19:24:20",
          "2023-11-23T17:52:39",
          "2023-12-20T10:28:10",
          "2023-12-20T15:06:58",
          "2023-12-21T12:36:16",
          "2024-02-03T04:43:05",
          "2024-02-08T18:15:58",
          "2024-02-12T14:43:20",
          "2024-02-18T10:39:31",
          "2024-02-18T10:39:31",
          "2024-02-23T13:49:25",
          "2024-02-28T05:59:22",
          "2024-03-11T00:31:33",
          "2024-03-20T18:56:20",
          "2024-03-24T01:05:36",
          "2024-03-25T18:16:23",
          "2024-04-09T21:19:25",
          "2024-04-18T07:47:09",
          "2024-04-19T22:01:11",
          "2024-04-26T05:35:07",
          "2024-04-29T20:16:29",
          "2024-05-02T19:42:50",
          "2024-05-10T18:56:23",
          "2024-05-10T18:56:23",
          "2024-05-23T16:20:23",
          "2024-05-24T08:20:28",
          "2024-05-28T06:57:01",
          "2024-06-01T19:05:41",
          "2024-06-05T14:38:29",
          "2024-06-17T18:11:35",
          "2024-06-22T16:40:07",
          "2024-06-28T11:20:39",
          "2024-06-28T23:25:07",
          "2024-07-03T13:13:08",
          "2024-07-04T08:07:00",
          "2024-07-07T09:38:41",
          "2024-07-15T19:31:33"
         ],
         "y": [
          1,
          2,
          3,
          4,
          5,
          6,
          7,
          8,
          9,
          10,
          11,
          12,
          13,
          14,
          15,
          16,
          17,
          18,
          19,
          20,
          21,
          22,
          23,
          24,
          25,
          26,
          27,
          28,
          29,
          30,
          31,
          32,
          33,
          34,
          35,
          36,
          37,
          38,
          39,
          40,
          41,
          42,
          43,
          44,
          45,
          46,
          47,
          48,
          49,
          50,
          51,
          52,
          53,
          54,
          55,
          56,
          57,
          58,
          59,
          60,
          61,
          62,
          63,
          64,
          65,
          66,
          67,
          68,
          69,
          70,
          71,
          72,
          73,
          74,
          75,
          76,
          77,
          78,
          79,
          80,
          81,
          82,
          83,
          84,
          85,
          86,
          87,
          88,
          89,
          90,
          91,
          92,
          93,
          94,
          95,
          96,
          97,
          98,
          99,
          100,
          101,
          102,
          103,
          104,
          105,
          106,
          107,
          108,
          109,
          110,
          111,
          112,
          113,
          114,
          115,
          116,
          117,
          118,
          119,
          120,
          121,
          122,
          123,
          124,
          125,
          126,
          127,
          128,
          129,
          130,
          131,
          132,
          133,
          134,
          135,
          136,
          137,
          138,
          139,
          140,
          141,
          142,
          143,
          144,
          145,
          146,
          147,
          148,
          149,
          150,
          151,
          152,
          153,
          154,
          155,
          156,
          157,
          158,
          159,
          160,
          161,
          162,
          163,
          164,
          165,
          166,
          167,
          168,
          169,
          170,
          171,
          172,
          173,
          174,
          175,
          176,
          177,
          178,
          179,
          180,
          181,
          182,
          183,
          184,
          185,
          186,
          187,
          188,
          189,
          190,
          191,
          192,
          193,
          194,
          195,
          196,
          197,
          198,
          199,
          200,
          201,
          202,
          203,
          204,
          205,
          206,
          207,
          208,
          209,
          210,
          211,
          212,
          213,
          214,
          215,
          216,
          217,
          218,
          219,
          220,
          221
         ]
        },
        {
         "mode": "lines",
         "name": "MEG",
         "type": "scatter",
         "x": [
          "2018-03-30T10:34:05",
          "2018-03-30T13:14:28",
          "2018-03-30T14:58:53",
          "2018-03-30T18:40:38",
          "2019-06-28T18:20:34",
          "2020-02-18T20:21:07",
          "2020-05-15T07:08:56",
          "2020-08-31T07:30:43",
          "2020-09-07T08:38:13",
          "2020-11-03T21:07:28",
          "2020-11-20T20:41:26",
          "2020-11-20T20:41:26",
          "2020-11-30T21:41:33",
          "2021-01-24T10:37:19",
          "2021-03-16T21:47:34",
          "2021-05-16T07:35:57",
          "2021-05-20T17:51:13",
          "2021-06-05T23:01:30",
          "2021-06-23T07:43:39",
          "2021-07-13T12:17:12",
          "2022-02-08T02:58:36",
          "2022-04-11T13:09:08",
          "2022-04-22T19:51:09",
          "2022-05-02T14:15:02",
          "2022-08-02T18:33:45",
          "2022-08-05T19:55:55",
          "2022-08-05T19:55:55",
          "2022-08-05T19:55:55",
          "2022-08-05T19:55:55",
          "2022-08-05T19:55:55",
          "2022-08-05T19:55:55",
          "2022-08-05T19:55:55",
          "2022-08-05T19:55:55",
          "2022-08-05T19:55:55",
          "2022-09-26T16:19:30",
          "2022-10-07T15:21:12",
          "2022-11-08T11:21:52",
          "2022-11-30T17:54:29",
          "2023-01-05T14:14:13",
          "2023-01-23T14:29:41",
          "2023-07-07T16:31:14",
          "2023-11-02T20:12:01",
          "2023-12-21T17:05:19",
          "2024-03-06T18:07:06",
          "2024-04-09T14:11:08",
          "2024-06-08T10:01:15",
          "2024-06-12T15:58:04",
          "2024-06-25T16:13:19",
          "2024-06-26T06:05:45"
         ],
         "y": [
          1,
          2,
          3,
          4,
          5,
          6,
          7,
          8,
          9,
          10,
          11,
          12,
          13,
          14,
          15,
          16,
          17,
          18,
          19,
          20,
          21,
          22,
          23,
          24,
          25,
          26,
          27,
          28,
          29,
          30,
          31,
          32,
          33,
          34,
          35,
          36,
          37,
          38,
          39,
          40,
          41,
          42,
          43,
          44,
          45,
          46,
          47,
          48,
          49
         ]
        },
        {
         "mode": "lines",
         "name": "iEEG",
         "type": "scatter",
         "x": [
          "2020-05-18T16:49:05",
          "2020-08-17T06:46:03",
          "2020-11-11T18:39:48",
          "2020-12-02T21:03:31",
          "2021-03-10T15:56:12",
          "2021-06-13T20:10:30",
          "2021-06-13T20:10:30",
          "2021-06-23T18:53:45",
          "2021-08-06T02:20:39",
          "2021-10-16T12:00:01",
          "2021-10-22T12:45:11",
          "2022-07-06T15:43:04",
          "2022-08-04T18:02:09",
          "2023-02-08T00:47:59",
          "2023-02-23T19:33:50",
          "2023-04-07T11:11:05",
          "2023-05-17T20:25:49",
          "2023-06-30T21:13:17",
          "2023-07-31T08:40:13",
          "2023-08-16T13:32:23",
          "2023-08-18T13:22:54",
          "2023-09-13T16:26:52",
          "2023-09-22T19:54:52",
          "2023-10-10T22:55:36",
          "2023-10-20T00:10:03",
          "2023-11-23T04:12:37",
          "2023-11-29T20:55:51",
          "2024-01-30T13:49:34",
          "2024-02-26T01:22:25",
          "2024-03-05T16:27:50",
          "2024-03-07T19:23:34",
          "2024-04-03T22:24:23",
          "2024-04-10T22:04:27",
          "2024-05-13T17:39:02",
          "2024-05-22T11:05:49"
         ],
         "y": [
          1,
          2,
          3,
          4,
          5,
          6,
          7,
          8,
          9,
          10,
          11,
          12,
          13,
          14,
          15,
          16,
          17,
          18,
          19,
          20,
          21,
          22,
          23,
          24,
          25,
          26,
          27,
          28,
          29,
          30,
          31,
          32,
          33,
          34,
          35
         ]
        }
       ],
       "layout": {
        "template": {
         "data": {
          "bar": [
           {
            "error_x": {
             "color": "#2a3f5f"
            },
            "error_y": {
             "color": "#2a3f5f"
            },
            "marker": {
             "line": {
              "color": "#E5ECF6",
              "width": 0.5
             },
             "pattern": {
              "fillmode": "overlay",
              "size": 10,
              "solidity": 0.2
             }
            },
            "type": "bar"
           }
          ],
          "barpolar": [
           {
            "marker": {
             "line": {
              "color": "#E5ECF6",
              "width": 0.5
             },
             "pattern": {
              "fillmode": "overlay",
              "size": 10,
              "solidity": 0.2
             }
            },
            "type": "barpolar"
           }
          ],
          "carpet": [
           {
            "aaxis": {
             "endlinecolor": "#2a3f5f",
             "gridcolor": "white",
             "linecolor": "white",
             "minorgridcolor": "white",
             "startlinecolor": "#2a3f5f"
            },
            "baxis": {
             "endlinecolor": "#2a3f5f",
             "gridcolor": "white",
             "linecolor": "white",
             "minorgridcolor": "white",
             "startlinecolor": "#2a3f5f"
            },
            "type": "carpet"
           }
          ],
          "choropleth": [
           {
            "colorbar": {
             "outlinewidth": 0,
             "ticks": ""
            },
            "type": "choropleth"
           }
          ],
          "contour": [
           {
            "colorbar": {
             "outlinewidth": 0,
             "ticks": ""
            },
            "colorscale": [
             [
              0,
              "#0d0887"
             ],
             [
              0.1111111111111111,
              "#46039f"
             ],
             [
              0.2222222222222222,
              "#7201a8"
             ],
             [
              0.3333333333333333,
              "#9c179e"
             ],
             [
              0.4444444444444444,
              "#bd3786"
             ],
             [
              0.5555555555555556,
              "#d8576b"
             ],
             [
              0.6666666666666666,
              "#ed7953"
             ],
             [
              0.7777777777777778,
              "#fb9f3a"
             ],
             [
              0.8888888888888888,
              "#fdca26"
             ],
             [
              1,
              "#f0f921"
             ]
            ],
            "type": "contour"
           }
          ],
          "contourcarpet": [
           {
            "colorbar": {
             "outlinewidth": 0,
             "ticks": ""
            },
            "type": "contourcarpet"
           }
          ],
          "heatmap": [
           {
            "colorbar": {
             "outlinewidth": 0,
             "ticks": ""
            },
            "colorscale": [
             [
              0,
              "#0d0887"
             ],
             [
              0.1111111111111111,
              "#46039f"
             ],
             [
              0.2222222222222222,
              "#7201a8"
             ],
             [
              0.3333333333333333,
              "#9c179e"
             ],
             [
              0.4444444444444444,
              "#bd3786"
             ],
             [
              0.5555555555555556,
              "#d8576b"
             ],
             [
              0.6666666666666666,
              "#ed7953"
             ],
             [
              0.7777777777777778,
              "#fb9f3a"
             ],
             [
              0.8888888888888888,
              "#fdca26"
             ],
             [
              1,
              "#f0f921"
             ]
            ],
            "type": "heatmap"
           }
          ],
          "heatmapgl": [
           {
            "colorbar": {
             "outlinewidth": 0,
             "ticks": ""
            },
            "colorscale": [
             [
              0,
              "#0d0887"
             ],
             [
              0.1111111111111111,
              "#46039f"
             ],
             [
              0.2222222222222222,
              "#7201a8"
             ],
             [
              0.3333333333333333,
              "#9c179e"
             ],
             [
              0.4444444444444444,
              "#bd3786"
             ],
             [
              0.5555555555555556,
              "#d8576b"
             ],
             [
              0.6666666666666666,
              "#ed7953"
             ],
             [
              0.7777777777777778,
              "#fb9f3a"
             ],
             [
              0.8888888888888888,
              "#fdca26"
             ],
             [
              1,
              "#f0f921"
             ]
            ],
            "type": "heatmapgl"
           }
          ],
          "histogram": [
           {
            "marker": {
             "pattern": {
              "fillmode": "overlay",
              "size": 10,
              "solidity": 0.2
             }
            },
            "type": "histogram"
           }
          ],
          "histogram2d": [
           {
            "colorbar": {
             "outlinewidth": 0,
             "ticks": ""
            },
            "colorscale": [
             [
              0,
              "#0d0887"
             ],
             [
              0.1111111111111111,
              "#46039f"
             ],
             [
              0.2222222222222222,
              "#7201a8"
             ],
             [
              0.3333333333333333,
              "#9c179e"
             ],
             [
              0.4444444444444444,
              "#bd3786"
             ],
             [
              0.5555555555555556,
              "#d8576b"
             ],
             [
              0.6666666666666666,
              "#ed7953"
             ],
             [
              0.7777777777777778,
              "#fb9f3a"
             ],
             [
              0.8888888888888888,
              "#fdca26"
             ],
             [
              1,
              "#f0f921"
             ]
            ],
            "type": "histogram2d"
           }
          ],
          "histogram2dcontour": [
           {
            "colorbar": {
             "outlinewidth": 0,
             "ticks": ""
            },
            "colorscale": [
             [
              0,
              "#0d0887"
             ],
             [
              0.1111111111111111,
              "#46039f"
             ],
             [
              0.2222222222222222,
              "#7201a8"
             ],
             [
              0.3333333333333333,
              "#9c179e"
             ],
             [
              0.4444444444444444,
              "#bd3786"
             ],
             [
              0.5555555555555556,
              "#d8576b"
             ],
             [
              0.6666666666666666,
              "#ed7953"
             ],
             [
              0.7777777777777778,
              "#fb9f3a"
             ],
             [
              0.8888888888888888,
              "#fdca26"
             ],
             [
              1,
              "#f0f921"
             ]
            ],
            "type": "histogram2dcontour"
           }
          ],
          "mesh3d": [
           {
            "colorbar": {
             "outlinewidth": 0,
             "ticks": ""
            },
            "type": "mesh3d"
           }
          ],
          "parcoords": [
           {
            "line": {
             "colorbar": {
              "outlinewidth": 0,
              "ticks": ""
             }
            },
            "type": "parcoords"
           }
          ],
          "pie": [
           {
            "automargin": true,
            "type": "pie"
           }
          ],
          "scatter": [
           {
            "fillpattern": {
             "fillmode": "overlay",
             "size": 10,
             "solidity": 0.2
            },
            "type": "scatter"
           }
          ],
          "scatter3d": [
           {
            "line": {
             "colorbar": {
              "outlinewidth": 0,
              "ticks": ""
             }
            },
            "marker": {
             "colorbar": {
              "outlinewidth": 0,
              "ticks": ""
             }
            },
            "type": "scatter3d"
           }
          ],
          "scattercarpet": [
           {
            "marker": {
             "colorbar": {
              "outlinewidth": 0,
              "ticks": ""
             }
            },
            "type": "scattercarpet"
           }
          ],
          "scattergeo": [
           {
            "marker": {
             "colorbar": {
              "outlinewidth": 0,
              "ticks": ""
             }
            },
            "type": "scattergeo"
           }
          ],
          "scattergl": [
           {
            "marker": {
             "colorbar": {
              "outlinewidth": 0,
              "ticks": ""
             }
            },
            "type": "scattergl"
           }
          ],
          "scattermapbox": [
           {
            "marker": {
             "colorbar": {
              "outlinewidth": 0,
              "ticks": ""
             }
            },
            "type": "scattermapbox"
           }
          ],
          "scatterpolar": [
           {
            "marker": {
             "colorbar": {
              "outlinewidth": 0,
              "ticks": ""
             }
            },
            "type": "scatterpolar"
           }
          ],
          "scatterpolargl": [
           {
            "marker": {
             "colorbar": {
              "outlinewidth": 0,
              "ticks": ""
             }
            },
            "type": "scatterpolargl"
           }
          ],
          "scatterternary": [
           {
            "marker": {
             "colorbar": {
              "outlinewidth": 0,
              "ticks": ""
             }
            },
            "type": "scatterternary"
           }
          ],
          "surface": [
           {
            "colorbar": {
             "outlinewidth": 0,
             "ticks": ""
            },
            "colorscale": [
             [
              0,
              "#0d0887"
             ],
             [
              0.1111111111111111,
              "#46039f"
             ],
             [
              0.2222222222222222,
              "#7201a8"
             ],
             [
              0.3333333333333333,
              "#9c179e"
             ],
             [
              0.4444444444444444,
              "#bd3786"
             ],
             [
              0.5555555555555556,
              "#d8576b"
             ],
             [
              0.6666666666666666,
              "#ed7953"
             ],
             [
              0.7777777777777778,
              "#fb9f3a"
             ],
             [
              0.8888888888888888,
              "#fdca26"
             ],
             [
              1,
              "#f0f921"
             ]
            ],
            "type": "surface"
           }
          ],
          "table": [
           {
            "cells": {
             "fill": {
              "color": "#EBF0F8"
             },
             "line": {
              "color": "white"
             }
            },
            "header": {
             "fill": {
              "color": "#C8D4E3"
             },
             "line": {
              "color": "white"
             }
            },
            "type": "table"
           }
          ]
         },
         "layout": {
          "annotationdefaults": {
           "arrowcolor": "#2a3f5f",
           "arrowhead": 0,
           "arrowwidth": 1
          },
          "autotypenumbers": "strict",
          "coloraxis": {
           "colorbar": {
            "outlinewidth": 0,
            "ticks": ""
           }
          },
          "colorscale": {
           "diverging": [
            [
             0,
             "#8e0152"
            ],
            [
             0.1,
             "#c51b7d"
            ],
            [
             0.2,
             "#de77ae"
            ],
            [
             0.3,
             "#f1b6da"
            ],
            [
             0.4,
             "#fde0ef"
            ],
            [
             0.5,
             "#f7f7f7"
            ],
            [
             0.6,
             "#e6f5d0"
            ],
            [
             0.7,
             "#b8e186"
            ],
            [
             0.8,
             "#7fbc41"
            ],
            [
             0.9,
             "#4d9221"
            ],
            [
             1,
             "#276419"
            ]
           ],
           "sequential": [
            [
             0,
             "#0d0887"
            ],
            [
             0.1111111111111111,
             "#46039f"
            ],
            [
             0.2222222222222222,
             "#7201a8"
            ],
            [
             0.3333333333333333,
             "#9c179e"
            ],
            [
             0.4444444444444444,
             "#bd3786"
            ],
            [
             0.5555555555555556,
             "#d8576b"
            ],
            [
             0.6666666666666666,
             "#ed7953"
            ],
            [
             0.7777777777777778,
             "#fb9f3a"
            ],
            [
             0.8888888888888888,
             "#fdca26"
            ],
            [
             1,
             "#f0f921"
            ]
           ],
           "sequentialminus": [
            [
             0,
             "#0d0887"
            ],
            [
             0.1111111111111111,
             "#46039f"
            ],
            [
             0.2222222222222222,
             "#7201a8"
            ],
            [
             0.3333333333333333,
             "#9c179e"
            ],
            [
             0.4444444444444444,
             "#bd3786"
            ],
            [
             0.5555555555555556,
             "#d8576b"
            ],
            [
             0.6666666666666666,
             "#ed7953"
            ],
            [
             0.7777777777777778,
             "#fb9f3a"
            ],
            [
             0.8888888888888888,
             "#fdca26"
            ],
            [
             1,
             "#f0f921"
            ]
           ]
          },
          "colorway": [
           "#636efa",
           "#EF553B",
           "#00cc96",
           "#ab63fa",
           "#FFA15A",
           "#19d3f3",
           "#FF6692",
           "#B6E880",
           "#FF97FF",
           "#FECB52"
          ],
          "font": {
           "color": "#2a3f5f"
          },
          "geo": {
           "bgcolor": "white",
           "lakecolor": "white",
           "landcolor": "#E5ECF6",
           "showlakes": true,
           "showland": true,
           "subunitcolor": "white"
          },
          "hoverlabel": {
           "align": "left"
          },
          "hovermode": "closest",
          "mapbox": {
           "style": "light"
          },
          "paper_bgcolor": "white",
          "plot_bgcolor": "#E5ECF6",
          "polar": {
           "angularaxis": {
            "gridcolor": "white",
            "linecolor": "white",
            "ticks": ""
           },
           "bgcolor": "#E5ECF6",
           "radialaxis": {
            "gridcolor": "white",
            "linecolor": "white",
            "ticks": ""
           }
          },
          "scene": {
           "xaxis": {
            "backgroundcolor": "#E5ECF6",
            "gridcolor": "white",
            "gridwidth": 2,
            "linecolor": "white",
            "showbackground": true,
            "ticks": "",
            "zerolinecolor": "white"
           },
           "yaxis": {
            "backgroundcolor": "#E5ECF6",
            "gridcolor": "white",
            "gridwidth": 2,
            "linecolor": "white",
            "showbackground": true,
            "ticks": "",
            "zerolinecolor": "white"
           },
           "zaxis": {
            "backgroundcolor": "#E5ECF6",
            "gridcolor": "white",
            "gridwidth": 2,
            "linecolor": "white",
            "showbackground": true,
            "ticks": "",
            "zerolinecolor": "white"
           }
          },
          "shapedefaults": {
           "line": {
            "color": "#2a3f5f"
           }
          },
          "ternary": {
           "aaxis": {
            "gridcolor": "white",
            "linecolor": "white",
            "ticks": ""
           },
           "baxis": {
            "gridcolor": "white",
            "linecolor": "white",
            "ticks": ""
           },
           "bgcolor": "#E5ECF6",
           "caxis": {
            "gridcolor": "white",
            "linecolor": "white",
            "ticks": ""
           }
          },
          "title": {
           "x": 0.05
          },
          "xaxis": {
           "automargin": true,
           "gridcolor": "white",
           "linecolor": "white",
           "ticks": "",
           "title": {
            "standoff": 15
           },
           "zerolinecolor": "white",
           "zerolinewidth": 2
          },
          "yaxis": {
           "automargin": true,
           "gridcolor": "white",
           "linecolor": "white",
           "ticks": "",
           "title": {
            "standoff": 15
           },
           "zerolinecolor": "white",
           "zerolinewidth": 2
          }
         }
        },
        "title": {
         "text": "Cumulative Publications Over Time for All Modalities"
        },
        "xaxis": {
         "title": {
          "text": "Published Date"
         }
        },
        "yaxis": {
         "title": {
          "text": "Cumulative Number of Publications"
         }
        }
       }
      }
     },
     "metadata": {},
     "output_type": "display_data"
    },
    {
     "data": {
      "application/vnd.plotly.v1+json": {
       "config": {
        "plotlyServerURL": "https://plot.ly"
       },
       "data": [
        {
         "mode": "lines",
         "name": "MRI",
         "type": "scatter",
         "x": [
          "2018-03-30T10:34:05",
          "2018-03-30T13:14:28",
          "2018-03-30T14:58:53",
          "2018-03-30T18:40:38",
          "2019-03-08T05:11:02",
          "2019-03-08T05:11:02",
          "2019-06-28T18:20:34",
          "2019-08-22T14:07:44",
          "2019-12-04T14:40:17",
          "2019-12-04T14:48:34",
          "2020-02-18T20:21:07",
          "2020-02-21T19:41:52",
          "2020-04-21T23:09:57",
          "2020-05-18T16:49:05",
          "2020-08-17T06:46:03",
          "2020-08-31T07:30:43",
          "2020-11-20T20:41:26",
          "2020-11-20T20:41:26",
          "2020-11-22T09:06:42",
          "2020-11-30T21:41:33",
          "2021-03-11T07:46:16",
          "2021-03-16T21:47:34",
          "2021-03-26T13:31:27",
          "2021-05-16T07:35:57",
          "2021-05-20T17:51:13",
          "2021-06-13T20:10:30",
          "2021-06-13T20:10:30",
          "2021-08-06T02:20:39",
          "2021-08-17T16:50:30",
          "2021-10-22T12:45:11",
          "2022-02-15T02:13:14",
          "2022-04-11T13:09:08",
          "2022-04-22T19:51:09",
          "2022-05-02T14:15:02",
          "2022-07-06T15:43:04",
          "2022-08-05T19:55:55",
          "2022-08-05T19:55:55",
          "2022-08-05T19:55:55",
          "2022-08-05T19:55:55",
          "2022-08-05T19:55:55",
          "2022-08-05T19:55:55",
          "2022-08-05T19:55:55",
          "2022-08-05T19:55:55",
          "2022-08-05T19:55:55",
          "2022-11-30T17:54:29",
          "2023-01-05T14:14:13",
          "2023-02-08T00:47:59",
          "2023-03-30T17:04:08",
          "2023-04-26T11:21:50",
          "2023-06-30T21:13:17",
          "2023-07-31T17:42:53",
          "2023-08-16T13:32:23",
          "2023-10-30T04:20:59",
          "2023-11-02T20:12:01",
          "2024-02-18T10:39:31",
          "2024-02-18T10:39:31",
          "2024-02-26T01:22:25",
          "2024-03-05T16:27:50",
          "2024-05-22T11:05:49",
          "2024-05-23T16:20:23",
          "2024-06-08T10:01:15",
          "2024-06-25T16:13:19"
         ],
         "y": [
          1,
          2,
          3,
          4,
          5,
          6,
          7,
          8,
          9,
          10,
          11,
          12,
          13,
          14,
          15,
          16,
          17,
          18,
          19,
          20,
          21,
          22,
          23,
          24,
          25,
          26,
          27,
          28,
          29,
          30,
          31,
          32,
          33,
          34,
          35,
          36,
          37,
          38,
          39,
          40,
          41,
          42,
          43,
          44,
          45,
          46,
          47,
          48,
          49,
          50,
          51,
          52,
          53,
          54,
          55,
          56,
          57,
          58,
          59,
          60,
          61,
          62
         ]
        },
        {
         "mode": "lines",
         "name": "EOG",
         "type": "scatter",
         "x": [
          "2020-11-30T21:41:33",
          "2021-06-23T07:43:39",
          "2021-07-23T00:06:01",
          "2022-01-03T18:38:28",
          "2022-01-20T13:46:46",
          "2022-01-24T19:04:37",
          "2022-01-24T19:05:25",
          "2022-02-01T20:21:02",
          "2022-04-22T19:51:09",
          "2022-05-04T22:55:48",
          "2022-05-04T22:56:21",
          "2022-05-04T22:56:55",
          "2022-05-04T22:57:30",
          "2022-05-04T22:57:53",
          "2022-05-04T22:58:22",
          "2022-06-16T23:23:02"
         ],
         "y": [
          1,
          2,
          3,
          4,
          5,
          6,
          7,
          8,
          9,
          10,
          11,
          12,
          13,
          14,
          15,
          16
         ]
        },
        {
         "mode": "lines",
         "name": "Behavioral",
         "type": "scatter",
         "x": [
          "2018-03-30T13:14:28",
          "2018-03-30T14:58:53",
          "2019-03-08T05:11:02",
          "2019-03-08T05:11:02",
          "2019-06-07T19:41:04",
          "2019-08-24T11:03:34",
          "2020-02-18T20:21:07",
          "2020-03-19T13:15:51",
          "2021-03-11T07:46:16",
          "2021-05-20T17:51:13",
          "2021-06-05T23:01:30",
          "2021-08-24T07:53:32",
          "2021-08-25T12:12:25",
          "2021-09-25T10:34:29",
          "2021-09-29T17:02:18",
          "2021-10-19T13:51:25",
          "2022-01-03T18:38:28",
          "2022-01-20T13:46:46",
          "2022-01-24T19:04:37",
          "2022-01-24T19:05:25",
          "2022-02-01T20:21:02",
          "2022-03-13T21:32:33",
          "2022-04-11T13:09:08",
          "2022-04-29T20:29:26",
          "2022-05-04T22:55:48",
          "2022-05-04T22:56:21",
          "2022-05-04T22:56:55",
          "2022-05-04T22:57:30",
          "2022-05-04T22:57:53",
          "2022-05-04T22:58:22",
          "2022-05-05T13:49:31",
          "2022-06-07T15:05:27",
          "2022-06-14T15:45:13",
          "2022-06-17T10:33:00",
          "2022-09-07T12:52:02",
          "2022-09-13T14:57:06",
          "2022-10-07T15:21:12",
          "2022-12-01T08:29:38",
          "2022-12-15T13:00:15",
          "2023-02-08T00:47:59",
          "2023-03-17T15:10:54",
          "2023-05-24T17:04:50",
          "2023-06-01T03:00:26",
          "2023-06-13T03:10:20",
          "2023-08-05T03:11:25",
          "2023-08-07T12:06:38",
          "2023-08-23T16:36:12",
          "2023-10-10T22:55:36",
          "2023-10-20T00:10:03",
          "2023-10-30T04:20:59",
          "2023-11-29T20:55:51",
          "2023-12-20T10:28:10",
          "2024-03-20T18:56:20",
          "2024-04-03T22:24:23",
          "2024-04-09T21:19:25",
          "2024-05-10T18:56:23",
          "2024-05-10T18:56:23",
          "2024-05-28T06:57:01",
          "2024-06-05T14:38:29",
          "2024-06-25T16:13:19",
          "2024-06-26T06:05:45",
          "2024-06-28T11:20:39",
          "2024-07-04T08:07:00"
         ],
         "y": [
          1,
          2,
          3,
          4,
          5,
          6,
          7,
          8,
          9,
          10,
          11,
          12,
          13,
          14,
          15,
          16,
          17,
          18,
          19,
          20,
          21,
          22,
          23,
          24,
          25,
          26,
          27,
          28,
          29,
          30,
          31,
          32,
          33,
          34,
          35,
          36,
          37,
          38,
          39,
          40,
          41,
          42,
          43,
          44,
          45,
          46,
          47,
          48,
          49,
          50,
          51,
          52,
          53,
          54,
          55,
          56,
          57,
          58,
          59,
          60,
          61,
          62,
          63
         ]
        },
        {
         "mode": "lines",
         "name": "fMRI",
         "type": "scatter",
         "x": [
          "2020-04-24T18:49:36",
          "2021-08-17T16:50:30",
          "2022-04-11T13:09:08",
          "2022-08-05T19:55:55",
          "2022-08-05T19:55:55",
          "2022-08-05T19:55:55",
          "2022-08-05T19:55:55",
          "2022-08-05T19:55:55",
          "2022-08-05T19:55:55",
          "2022-08-05T19:55:55",
          "2022-08-05T19:55:55",
          "2022-08-05T19:55:55",
          "2024-02-26T01:22:25",
          "2024-05-23T16:20:23"
         ],
         "y": [
          1,
          2,
          3,
          4,
          5,
          6,
          7,
          8,
          9,
          10,
          11,
          12,
          13,
          14
         ]
        },
        {
         "mode": "lines",
         "name": "EcOg",
         "type": "scatter",
         "x": [
          "2021-10-16T12:00:01",
          "2021-10-22T12:45:11",
          "2022-08-04T18:02:09"
         ],
         "y": [
          1,
          2,
          3
         ]
        },
        {
         "mode": "lines",
         "name": "DBS",
         "type": "scatter",
         "x": [
          "2019-03-08T05:11:02",
          "2019-03-08T05:11:02"
         ],
         "y": [
          1,
          2
         ]
        },
        {
         "mode": "lines",
         "name": "SMI",
         "type": "scatter",
         "x": [
          "2022-04-29T20:29:26",
          "2022-05-04T22:55:48",
          "2022-05-04T22:56:21",
          "2022-05-04T22:56:55",
          "2022-05-04T22:57:30",
          "2022-05-04T22:57:53",
          "2022-05-04T22:58:22",
          "2022-05-05T13:49:31"
         ],
         "y": [
          1,
          2,
          3,
          4,
          5,
          6,
          7,
          8
         ]
        },
        {
         "mode": "lines",
         "name": "EMG",
         "type": "scatter",
         "x": [
          "2019-05-28T11:48:47",
          "2019-06-07T19:41:04",
          "2019-08-02T15:03:21",
          "2019-08-22T14:07:44",
          "2021-07-23T00:06:01",
          "2021-08-08T03:26:55",
          "2021-09-20T13:44:22",
          "2022-01-24T19:04:37",
          "2022-01-24T19:05:25"
         ],
         "y": [
          1,
          2,
          3,
          4,
          5,
          6,
          7,
          8,
          9
         ]
        },
        {
         "mode": "lines",
         "name": "TMS",
         "type": "scatter",
         "x": [
          "2019-08-02T15:03:21",
          "2019-08-22T14:07:44",
          "2022-02-15T02:13:14"
         ],
         "y": [
          1,
          2,
          3
         ]
        },
        {
         "mode": "lines",
         "name": "ECG",
         "type": "scatter",
         "x": [
          "2019-05-28T11:48:47",
          "2020-11-30T21:41:33",
          "2021-06-23T07:43:39",
          "2021-08-08T03:26:55",
          "2021-09-25T10:34:29",
          "2021-10-16T12:00:01",
          "2021-10-19T13:51:25",
          "2021-10-22T12:45:11",
          "2022-01-24T19:04:37",
          "2022-01-24T19:05:25",
          "2022-02-24T03:20:20",
          "2023-05-17T20:25:49"
         ],
         "y": [
          1,
          2,
          3,
          4,
          5,
          6,
          7,
          8,
          9,
          10,
          11,
          12
         ]
        },
        {
         "mode": "lines",
         "name": "SEEG",
         "type": "scatter",
         "x": [
          "2021-08-06T02:20:39",
          "2021-10-16T12:00:01",
          "2021-10-22T12:45:11",
          "2022-08-04T18:02:09",
          "2023-05-17T20:25:49"
         ],
         "y": [
          1,
          2,
          3,
          4,
          5
         ]
        },
        {
         "mode": "lines",
         "name": "fNIRS",
         "type": "scatter",
         "x": [
          "2022-02-15T04:52:06"
         ],
         "y": [
          1
         ]
        },
        {
         "mode": "lines",
         "name": "Blood Tests",
         "type": "scatter",
         "x": [
          "2022-08-05T19:55:55",
          "2022-08-05T19:55:55",
          "2022-08-05T19:55:55",
          "2022-08-05T19:55:55",
          "2022-08-05T19:55:55",
          "2022-08-05T19:55:55",
          "2022-08-05T19:55:55",
          "2022-08-05T19:55:55",
          "2022-08-05T19:55:55",
          "2024-02-18T10:39:31",
          "2024-02-18T10:39:31"
         ],
         "y": [
          1,
          2,
          3,
          4,
          5,
          6,
          7,
          8,
          9,
          10,
          11
         ]
        },
        {
         "mode": "lines",
         "name": "Eye Tracking",
         "type": "scatter",
         "x": [
          "2019-08-24T11:03:34",
          "2021-07-12T19:38:41",
          "2023-06-01T11:51:40",
          "2023-08-05T03:11:25",
          "2024-05-28T06:57:01"
         ],
         "y": [
          1,
          2,
          3,
          4,
          5
         ]
        },
        {
         "mode": "lines",
         "name": "Other",
         "type": "scatter",
         "x": [
          "2019-05-28T11:48:47",
          "2020-04-24T15:27:04",
          "2020-04-24T15:28:26",
          "2020-11-30T21:41:33",
          "2021-03-11T07:46:16",
          "2021-07-12T19:38:41",
          "2021-07-23T00:06:01",
          "2021-08-06T02:20:39",
          "2021-08-08T03:26:55",
          "2021-08-19T13:50:18",
          "2021-09-29T17:02:08",
          "2021-10-19T13:51:25",
          "2022-01-24T19:04:37",
          "2022-01-24T19:05:25",
          "2022-02-09T22:18:37",
          "2022-02-15T02:13:14",
          "2022-02-24T03:20:20",
          "2022-03-30T09:29:01",
          "2023-02-03T09:56:13",
          "2023-02-17T08:53:52",
          "2023-03-30T17:04:08",
          "2023-05-25T16:41:59",
          "2023-05-25T16:55:56",
          "2023-06-01T11:51:40",
          "2023-06-09T21:11:02",
          "2023-06-30T21:13:17",
          "2023-07-05T00:22:01",
          "2023-07-21T19:05:20",
          "2023-07-31T17:42:53",
          "2023-08-05T16:56:43",
          "2023-09-25T03:48:57",
          "2023-10-19T10:58:01",
          "2023-11-12T22:23:16",
          "2024-02-28T05:59:22",
          "2024-06-08T10:01:15",
          "2024-06-25T16:13:19"
         ],
         "y": [
          1,
          2,
          3,
          4,
          5,
          6,
          7,
          8,
          9,
          10,
          11,
          12,
          13,
          14,
          15,
          16,
          17,
          18,
          19,
          20,
          21,
          22,
          23,
          24,
          25,
          26,
          27,
          28,
          29,
          30,
          31,
          32,
          33,
          34,
          35,
          36
         ]
        }
       ],
       "layout": {
        "template": {
         "data": {
          "bar": [
           {
            "error_x": {
             "color": "#2a3f5f"
            },
            "error_y": {
             "color": "#2a3f5f"
            },
            "marker": {
             "line": {
              "color": "#E5ECF6",
              "width": 0.5
             },
             "pattern": {
              "fillmode": "overlay",
              "size": 10,
              "solidity": 0.2
             }
            },
            "type": "bar"
           }
          ],
          "barpolar": [
           {
            "marker": {
             "line": {
              "color": "#E5ECF6",
              "width": 0.5
             },
             "pattern": {
              "fillmode": "overlay",
              "size": 10,
              "solidity": 0.2
             }
            },
            "type": "barpolar"
           }
          ],
          "carpet": [
           {
            "aaxis": {
             "endlinecolor": "#2a3f5f",
             "gridcolor": "white",
             "linecolor": "white",
             "minorgridcolor": "white",
             "startlinecolor": "#2a3f5f"
            },
            "baxis": {
             "endlinecolor": "#2a3f5f",
             "gridcolor": "white",
             "linecolor": "white",
             "minorgridcolor": "white",
             "startlinecolor": "#2a3f5f"
            },
            "type": "carpet"
           }
          ],
          "choropleth": [
           {
            "colorbar": {
             "outlinewidth": 0,
             "ticks": ""
            },
            "type": "choropleth"
           }
          ],
          "contour": [
           {
            "colorbar": {
             "outlinewidth": 0,
             "ticks": ""
            },
            "colorscale": [
             [
              0,
              "#0d0887"
             ],
             [
              0.1111111111111111,
              "#46039f"
             ],
             [
              0.2222222222222222,
              "#7201a8"
             ],
             [
              0.3333333333333333,
              "#9c179e"
             ],
             [
              0.4444444444444444,
              "#bd3786"
             ],
             [
              0.5555555555555556,
              "#d8576b"
             ],
             [
              0.6666666666666666,
              "#ed7953"
             ],
             [
              0.7777777777777778,
              "#fb9f3a"
             ],
             [
              0.8888888888888888,
              "#fdca26"
             ],
             [
              1,
              "#f0f921"
             ]
            ],
            "type": "contour"
           }
          ],
          "contourcarpet": [
           {
            "colorbar": {
             "outlinewidth": 0,
             "ticks": ""
            },
            "type": "contourcarpet"
           }
          ],
          "heatmap": [
           {
            "colorbar": {
             "outlinewidth": 0,
             "ticks": ""
            },
            "colorscale": [
             [
              0,
              "#0d0887"
             ],
             [
              0.1111111111111111,
              "#46039f"
             ],
             [
              0.2222222222222222,
              "#7201a8"
             ],
             [
              0.3333333333333333,
              "#9c179e"
             ],
             [
              0.4444444444444444,
              "#bd3786"
             ],
             [
              0.5555555555555556,
              "#d8576b"
             ],
             [
              0.6666666666666666,
              "#ed7953"
             ],
             [
              0.7777777777777778,
              "#fb9f3a"
             ],
             [
              0.8888888888888888,
              "#fdca26"
             ],
             [
              1,
              "#f0f921"
             ]
            ],
            "type": "heatmap"
           }
          ],
          "heatmapgl": [
           {
            "colorbar": {
             "outlinewidth": 0,
             "ticks": ""
            },
            "colorscale": [
             [
              0,
              "#0d0887"
             ],
             [
              0.1111111111111111,
              "#46039f"
             ],
             [
              0.2222222222222222,
              "#7201a8"
             ],
             [
              0.3333333333333333,
              "#9c179e"
             ],
             [
              0.4444444444444444,
              "#bd3786"
             ],
             [
              0.5555555555555556,
              "#d8576b"
             ],
             [
              0.6666666666666666,
              "#ed7953"
             ],
             [
              0.7777777777777778,
              "#fb9f3a"
             ],
             [
              0.8888888888888888,
              "#fdca26"
             ],
             [
              1,
              "#f0f921"
             ]
            ],
            "type": "heatmapgl"
           }
          ],
          "histogram": [
           {
            "marker": {
             "pattern": {
              "fillmode": "overlay",
              "size": 10,
              "solidity": 0.2
             }
            },
            "type": "histogram"
           }
          ],
          "histogram2d": [
           {
            "colorbar": {
             "outlinewidth": 0,
             "ticks": ""
            },
            "colorscale": [
             [
              0,
              "#0d0887"
             ],
             [
              0.1111111111111111,
              "#46039f"
             ],
             [
              0.2222222222222222,
              "#7201a8"
             ],
             [
              0.3333333333333333,
              "#9c179e"
             ],
             [
              0.4444444444444444,
              "#bd3786"
             ],
             [
              0.5555555555555556,
              "#d8576b"
             ],
             [
              0.6666666666666666,
              "#ed7953"
             ],
             [
              0.7777777777777778,
              "#fb9f3a"
             ],
             [
              0.8888888888888888,
              "#fdca26"
             ],
             [
              1,
              "#f0f921"
             ]
            ],
            "type": "histogram2d"
           }
          ],
          "histogram2dcontour": [
           {
            "colorbar": {
             "outlinewidth": 0,
             "ticks": ""
            },
            "colorscale": [
             [
              0,
              "#0d0887"
             ],
             [
              0.1111111111111111,
              "#46039f"
             ],
             [
              0.2222222222222222,
              "#7201a8"
             ],
             [
              0.3333333333333333,
              "#9c179e"
             ],
             [
              0.4444444444444444,
              "#bd3786"
             ],
             [
              0.5555555555555556,
              "#d8576b"
             ],
             [
              0.6666666666666666,
              "#ed7953"
             ],
             [
              0.7777777777777778,
              "#fb9f3a"
             ],
             [
              0.8888888888888888,
              "#fdca26"
             ],
             [
              1,
              "#f0f921"
             ]
            ],
            "type": "histogram2dcontour"
           }
          ],
          "mesh3d": [
           {
            "colorbar": {
             "outlinewidth": 0,
             "ticks": ""
            },
            "type": "mesh3d"
           }
          ],
          "parcoords": [
           {
            "line": {
             "colorbar": {
              "outlinewidth": 0,
              "ticks": ""
             }
            },
            "type": "parcoords"
           }
          ],
          "pie": [
           {
            "automargin": true,
            "type": "pie"
           }
          ],
          "scatter": [
           {
            "fillpattern": {
             "fillmode": "overlay",
             "size": 10,
             "solidity": 0.2
            },
            "type": "scatter"
           }
          ],
          "scatter3d": [
           {
            "line": {
             "colorbar": {
              "outlinewidth": 0,
              "ticks": ""
             }
            },
            "marker": {
             "colorbar": {
              "outlinewidth": 0,
              "ticks": ""
             }
            },
            "type": "scatter3d"
           }
          ],
          "scattercarpet": [
           {
            "marker": {
             "colorbar": {
              "outlinewidth": 0,
              "ticks": ""
             }
            },
            "type": "scattercarpet"
           }
          ],
          "scattergeo": [
           {
            "marker": {
             "colorbar": {
              "outlinewidth": 0,
              "ticks": ""
             }
            },
            "type": "scattergeo"
           }
          ],
          "scattergl": [
           {
            "marker": {
             "colorbar": {
              "outlinewidth": 0,
              "ticks": ""
             }
            },
            "type": "scattergl"
           }
          ],
          "scattermapbox": [
           {
            "marker": {
             "colorbar": {
              "outlinewidth": 0,
              "ticks": ""
             }
            },
            "type": "scattermapbox"
           }
          ],
          "scatterpolar": [
           {
            "marker": {
             "colorbar": {
              "outlinewidth": 0,
              "ticks": ""
             }
            },
            "type": "scatterpolar"
           }
          ],
          "scatterpolargl": [
           {
            "marker": {
             "colorbar": {
              "outlinewidth": 0,
              "ticks": ""
             }
            },
            "type": "scatterpolargl"
           }
          ],
          "scatterternary": [
           {
            "marker": {
             "colorbar": {
              "outlinewidth": 0,
              "ticks": ""
             }
            },
            "type": "scatterternary"
           }
          ],
          "surface": [
           {
            "colorbar": {
             "outlinewidth": 0,
             "ticks": ""
            },
            "colorscale": [
             [
              0,
              "#0d0887"
             ],
             [
              0.1111111111111111,
              "#46039f"
             ],
             [
              0.2222222222222222,
              "#7201a8"
             ],
             [
              0.3333333333333333,
              "#9c179e"
             ],
             [
              0.4444444444444444,
              "#bd3786"
             ],
             [
              0.5555555555555556,
              "#d8576b"
             ],
             [
              0.6666666666666666,
              "#ed7953"
             ],
             [
              0.7777777777777778,
              "#fb9f3a"
             ],
             [
              0.8888888888888888,
              "#fdca26"
             ],
             [
              1,
              "#f0f921"
             ]
            ],
            "type": "surface"
           }
          ],
          "table": [
           {
            "cells": {
             "fill": {
              "color": "#EBF0F8"
             },
             "line": {
              "color": "white"
             }
            },
            "header": {
             "fill": {
              "color": "#C8D4E3"
             },
             "line": {
              "color": "white"
             }
            },
            "type": "table"
           }
          ]
         },
         "layout": {
          "annotationdefaults": {
           "arrowcolor": "#2a3f5f",
           "arrowhead": 0,
           "arrowwidth": 1
          },
          "autotypenumbers": "strict",
          "coloraxis": {
           "colorbar": {
            "outlinewidth": 0,
            "ticks": ""
           }
          },
          "colorscale": {
           "diverging": [
            [
             0,
             "#8e0152"
            ],
            [
             0.1,
             "#c51b7d"
            ],
            [
             0.2,
             "#de77ae"
            ],
            [
             0.3,
             "#f1b6da"
            ],
            [
             0.4,
             "#fde0ef"
            ],
            [
             0.5,
             "#f7f7f7"
            ],
            [
             0.6,
             "#e6f5d0"
            ],
            [
             0.7,
             "#b8e186"
            ],
            [
             0.8,
             "#7fbc41"
            ],
            [
             0.9,
             "#4d9221"
            ],
            [
             1,
             "#276419"
            ]
           ],
           "sequential": [
            [
             0,
             "#0d0887"
            ],
            [
             0.1111111111111111,
             "#46039f"
            ],
            [
             0.2222222222222222,
             "#7201a8"
            ],
            [
             0.3333333333333333,
             "#9c179e"
            ],
            [
             0.4444444444444444,
             "#bd3786"
            ],
            [
             0.5555555555555556,
             "#d8576b"
            ],
            [
             0.6666666666666666,
             "#ed7953"
            ],
            [
             0.7777777777777778,
             "#fb9f3a"
            ],
            [
             0.8888888888888888,
             "#fdca26"
            ],
            [
             1,
             "#f0f921"
            ]
           ],
           "sequentialminus": [
            [
             0,
             "#0d0887"
            ],
            [
             0.1111111111111111,
             "#46039f"
            ],
            [
             0.2222222222222222,
             "#7201a8"
            ],
            [
             0.3333333333333333,
             "#9c179e"
            ],
            [
             0.4444444444444444,
             "#bd3786"
            ],
            [
             0.5555555555555556,
             "#d8576b"
            ],
            [
             0.6666666666666666,
             "#ed7953"
            ],
            [
             0.7777777777777778,
             "#fb9f3a"
            ],
            [
             0.8888888888888888,
             "#fdca26"
            ],
            [
             1,
             "#f0f921"
            ]
           ]
          },
          "colorway": [
           "#636efa",
           "#EF553B",
           "#00cc96",
           "#ab63fa",
           "#FFA15A",
           "#19d3f3",
           "#FF6692",
           "#B6E880",
           "#FF97FF",
           "#FECB52"
          ],
          "font": {
           "color": "#2a3f5f"
          },
          "geo": {
           "bgcolor": "white",
           "lakecolor": "white",
           "landcolor": "#E5ECF6",
           "showlakes": true,
           "showland": true,
           "subunitcolor": "white"
          },
          "hoverlabel": {
           "align": "left"
          },
          "hovermode": "closest",
          "mapbox": {
           "style": "light"
          },
          "paper_bgcolor": "white",
          "plot_bgcolor": "#E5ECF6",
          "polar": {
           "angularaxis": {
            "gridcolor": "white",
            "linecolor": "white",
            "ticks": ""
           },
           "bgcolor": "#E5ECF6",
           "radialaxis": {
            "gridcolor": "white",
            "linecolor": "white",
            "ticks": ""
           }
          },
          "scene": {
           "xaxis": {
            "backgroundcolor": "#E5ECF6",
            "gridcolor": "white",
            "gridwidth": 2,
            "linecolor": "white",
            "showbackground": true,
            "ticks": "",
            "zerolinecolor": "white"
           },
           "yaxis": {
            "backgroundcolor": "#E5ECF6",
            "gridcolor": "white",
            "gridwidth": 2,
            "linecolor": "white",
            "showbackground": true,
            "ticks": "",
            "zerolinecolor": "white"
           },
           "zaxis": {
            "backgroundcolor": "#E5ECF6",
            "gridcolor": "white",
            "gridwidth": 2,
            "linecolor": "white",
            "showbackground": true,
            "ticks": "",
            "zerolinecolor": "white"
           }
          },
          "shapedefaults": {
           "line": {
            "color": "#2a3f5f"
           }
          },
          "ternary": {
           "aaxis": {
            "gridcolor": "white",
            "linecolor": "white",
            "ticks": ""
           },
           "baxis": {
            "gridcolor": "white",
            "linecolor": "white",
            "ticks": ""
           },
           "bgcolor": "#E5ECF6",
           "caxis": {
            "gridcolor": "white",
            "linecolor": "white",
            "ticks": ""
           }
          },
          "title": {
           "x": 0.05
          },
          "xaxis": {
           "automargin": true,
           "gridcolor": "white",
           "linecolor": "white",
           "ticks": "",
           "title": {
            "standoff": 15
           },
           "zerolinecolor": "white",
           "zerolinewidth": 2
          },
          "yaxis": {
           "automargin": true,
           "gridcolor": "white",
           "linecolor": "white",
           "ticks": "",
           "title": {
            "standoff": 15
           },
           "zerolinecolor": "white",
           "zerolinewidth": 2
          }
         }
        },
        "title": {
         "text": "Cumulative Publications Over Time for All Modalities"
        },
        "xaxis": {
         "title": {
          "text": "Published Date"
         }
        },
        "yaxis": {
         "title": {
          "text": "Cumulative Number of Publications"
         }
        }
       }
      }
     },
     "metadata": {},
     "output_type": "display_data"
    }
   ],
   "source": [
    "df_fig4 = df[['EEG Modality', \n",
    "              'MEG Modality', \n",
    "              'iEEG Modality',\n",
    "              'Has MRI',\n",
    "              'Has EOG',\n",
    "              'Has Behavioral',\n",
    "              'Has fMRi',\n",
    "              'Has EcOg',\n",
    "              'Has DBS',\n",
    "              'Has SMI',\n",
    "              'Has EMG',\n",
    "              'Has TMS',\n",
    "              'Has ECG',\n",
    "              'Has SEEG',\n",
    "              'Has fNIRS',\n",
    "              'Has Blood Tests',\n",
    "              'Eye tracking',\n",
    "              'Other (put in name)',\n",
    "              'Published date']]\n",
    "\n",
    "df_fig4.rename(columns={\n",
    "    'EEG Modality': 'EEG',\n",
    "    'MEG Modality': 'MEG',\n",
    "    'iEEG Modality': 'iEEG',\n",
    "    'Has MRI': 'MRI',\n",
    "    'Has EOG': 'EOG',\n",
    "    'Has Behavioral': 'Behavioral',\n",
    "    'Has fMRi': 'fMRI',\n",
    "    'Has EcOg': 'EcOg',\n",
    "    'Has DBS': 'DBS',\n",
    "    'Has SMI': 'SMI',\n",
    "    'Has EMG': 'EMG',\n",
    "    'Has TMS': 'TMS',\n",
    "    'Has ECG': 'ECG',\n",
    "    'Has SEEG': 'SEEG',\n",
    "    'Has fNIRS': 'fNIRS',\n",
    "    'Has Blood Tests': 'Blood Tests',\n",
    "    'Eye tracking': 'Eye Tracking',\n",
    "    'Other (put in name)': 'Other'\n",
    "}, inplace=True)\n",
    "\n",
    "df_fig4_primaryModalities = df_fig4[['EEG', 'MEG', 'iEEG', 'Published date']]\n",
    "df_fig4_secondaryModalities = df_fig4[['MRI', \n",
    "                                       'EOG', \n",
    "                                       'Behavioral', \n",
    "                                       'fMRI', \n",
    "                                       'EcOg', \n",
    "                                       'DBS', \n",
    "                                       'SMI', \n",
    "                                       'EMG', \n",
    "                                       'TMS', \n",
    "                                       'ECG', \n",
    "                                       'SEEG', \n",
    "                                       'fNIRS', \n",
    "                                       'Blood Tests', \n",
    "                                       'Eye Tracking', \n",
    "                                       'Other', \n",
    "                                       'Published date']]\n",
    "\n",
    "\n",
    "# primary modality graph generation\n",
    "\n",
    "# Initialize the dictionary with empty dataframes\n",
    "dfs_by_modalities = {col: pd.DataFrame(columns=df_fig4.columns) for col in df_fig4_primaryModalities.columns if col != 'Published date'}\n",
    "# Populate the dataframes\n",
    "for index, row in df_fig4_primaryModalities.iterrows():\n",
    "    for col in dfs_by_modalities.keys():\n",
    "        if pd.notna(row[col]):\n",
    "            dfs_by_modalities[col].loc[len(dfs_by_modalities[col])] = row\n",
    "# Convert 'Published date' to datetime for sorting\n",
    "for modality, modality_df in dfs_by_modalities.items():\n",
    "    modality_df['Published date'] = pd.to_datetime(modality_df['Published date'])\n",
    "    dfs_by_modalities[modality] = modality_df.sort_values(by='Published date')\n",
    "    # Create a cumulative count of publications over time for each modality\n",
    "    dfs_by_modalities[modality]['Cumulative Publications'] = range(1, len(modality_df) + 1)\n",
    "# Create a plotly line graph for all modalities\n",
    "df_fig4_primaryModalities = go.Figure()\n",
    "for modality, modality_df in dfs_by_modalities.items():\n",
    "    df_fig4_primaryModalities.add_trace(go.Scatter(\n",
    "        x=modality_df['Published date'],\n",
    "        y=modality_df['Cumulative Publications'],\n",
    "        mode='lines',\n",
    "        name=modality\n",
    "    ))\n",
    "df_fig4_primaryModalities.update_layout(\n",
    "    title='Cumulative Publications Over Time for All Modalities',\n",
    "    xaxis_title='Published Date',\n",
    "    yaxis_title='Cumulative Number of Publications'\n",
    ")\n",
    "\n",
    "# secondary modality graph generation\n",
    "\n",
    "# Initialize the dictionary with empty dataframes\n",
    "dfs_by_modalities = {col: pd.DataFrame(columns=df_fig4.columns) for col in df_fig4_secondaryModalities.columns if col != 'Published date'}\n",
    "# Populate the dataframes\n",
    "for index, row in df_fig4_secondaryModalities.iterrows():\n",
    "    for col in dfs_by_modalities.keys():\n",
    "        if pd.notna(row[col]):\n",
    "            dfs_by_modalities[col].loc[len(dfs_by_modalities[col])] = row\n",
    "# Convert 'Published date' to datetime for sorting\n",
    "for modality, modality_df in dfs_by_modalities.items():\n",
    "    modality_df['Published date'] = pd.to_datetime(modality_df['Published date'])\n",
    "    dfs_by_modalities[modality] = modality_df.sort_values(by='Published date')\n",
    "    # Create a cumulative count of publications over time for each modality\n",
    "    dfs_by_modalities[modality]['Cumulative Publications'] = range(1, len(modality_df) + 1)\n",
    "# Create a plotly line graph for all modalities\n",
    "df_fig4_secondaryModalities = go.Figure()\n",
    "for modality, modality_df in dfs_by_modalities.items():\n",
    "    df_fig4_secondaryModalities.add_trace(go.Scatter(\n",
    "        x=modality_df['Published date'],\n",
    "        y=modality_df['Cumulative Publications'],\n",
    "        mode='lines',\n",
    "        name=modality\n",
    "    ))\n",
    "df_fig4_secondaryModalities.update_layout(\n",
    "    title='Cumulative Publications Over Time for All Modalities',\n",
    "    xaxis_title='Published Date',\n",
    "    yaxis_title='Cumulative Number of Publications'\n",
    ")\n",
    "\n",
    "\n",
    "df_fig4_primaryModalities.show()\n",
    "df_fig4_secondaryModalities.show()"
   ]
  },
  {
   "cell_type": "markdown",
   "metadata": {},
   "source": [
    "### Figure 5\n",
    "\n",
    "Figure 5 - EEG channel histogram (see which are most common)"
   ]
  },
  {
   "cell_type": "code",
   "execution_count": 236,
   "metadata": {},
   "outputs": [
    {
     "name": "stderr",
     "output_type": "stream",
     "text": [
      "/var/folders/ds/qxmx4zy969v_twj4bz2m_zvw0000gn/T/ipykernel_9738/330398589.py:13: SettingWithCopyWarning:\n",
      "\n",
      "\n",
      "A value is trying to be set on a copy of a slice from a DataFrame\n",
      "\n",
      "See the caveats in the documentation: https://pandas.pydata.org/pandas-docs/stable/user_guide/indexing.html#returning-a-view-versus-a-copy\n",
      "\n",
      "/var/folders/ds/qxmx4zy969v_twj4bz2m_zvw0000gn/T/ipykernel_9738/330398589.py:14: SettingWithCopyWarning:\n",
      "\n",
      "\n",
      "A value is trying to be set on a copy of a slice from a DataFrame\n",
      "\n",
      "See the caveats in the documentation: https://pandas.pydata.org/pandas-docs/stable/user_guide/indexing.html#returning-a-view-versus-a-copy\n",
      "\n"
     ]
    },
    {
     "data": {
      "image/png": "[encoded data removed]",
      "text/plain": [
       "<Figure size 1500x800 with 1 Axes>"
      ]
     },
     "metadata": {},
     "output_type": "display_data"
    }
   ],
   "source": [
    "df_eeg_channels = df['EEG channels']\n",
    "df_eeg_channels.replace(\"n/a\", \"\", inplace=True)\n",
    "df_eeg_channels.dropna()\n",
    "\n",
    "# Convert the EEG channels to numeric, forcing errors to NaN\n",
    "df_eeg_channels = pd.to_numeric(df_eeg_channels, errors='coerce')\n",
    "\n",
    "# Drop NaN values\n",
    "df_eeg_channels.dropna(inplace=True)\n",
    "\n",
    "df_eog_channels = df[['EEG channels', \n",
    "                          'EOG channels']]\n",
    "df_eog_channels.dropna(inplace=True)\n",
    "df_eog_channels.drop(columns=['EOG channels'], inplace=True)\n",
    "df_eog_channels = df_eog_channels.apply(pd.to_numeric, errors='coerce')\n",
    "df_eog_channels.dropna(inplace=True)\n",
    "\n",
    "df_eog_channels.head(40)\n",
    "\n",
    "BIN_COUNT = 52\n",
    "BAR_WIDTH = 0.75\n",
    "\n",
    "fig, ax = plt.subplots(figsize=(15, 8))\n",
    "\n",
    "# use numpy histogram so we can perform filtering\n",
    "hist, bin_edges = np.histogram(df_eeg_channels, bins=BIN_COUNT)\n",
    "\n",
    "# so we can remove bins with zero entries\n",
    "non_zero = np.nonzero(hist)\n",
    "# take only entries where bin is non-zero\n",
    "hist = hist[non_zero]\n",
    "bin_edges = bin_edges[non_zero]\n",
    "# generate labels based on bin edge values (maybe use centers?)\n",
    "x_ticks = [str(int(edge)) for edge in bin_edges]\n",
    "for i in range(0, len(x_ticks)-1):\n",
    "    x_ticks[i] = f\"{x_ticks[i]}-{x_ticks[i+1]}\"\n",
    "x_ticks[-1] = f'252'\n",
    "indices = np.arange(len(bin_edges))\n",
    "\n",
    "hist_eog = np.zeros_like(hist)\n",
    "for value in df_eog_channels['EEG channels']:\n",
    "    bin_index = np.digitize(value, bin_edges) - 1\n",
    "    hist_eog[bin_index] += 1\n",
    "    hist[bin_index] -= 1\n",
    "\n",
    "plt.bar(indices, hist, BAR_WIDTH, align='center')\n",
    "plt.bar(indices, hist_eog, BAR_WIDTH, label='Proportion of EOG data', color='salmon', bottom=hist, align='center')\n",
    "plt.xlabel('Number of EEG Channels')\n",
    "plt.ylabel('Frequency')\n",
    "plt.title('Histogram of EEG Channels')\n",
    "plt.xticks(indices, x_ticks, rotation=-45)\n",
    "ax.set_yscale('log')\n",
    "ax.set_ylim(bottom=0.8)  # Set the bottom of the y-axis slightly above 10^0\n",
    "plt.legend()\n",
    "plt.show()\n"
   ]
  },
  {
   "cell_type": "markdown",
   "metadata": {},
   "source": [
    "### Figure 7\n",
    "\n",
    "histogram of age ranges"
   ]
  },
  {
   "cell_type": "code",
   "execution_count": 111,
   "metadata": {},
   "outputs": [
    {
     "name": "stderr",
     "output_type": "stream",
     "text": [
      "/var/folders/ds/qxmx4zy969v_twj4bz2m_zvw0000gn/T/ipykernel_9738/764560467.py:5: FutureWarning:\n",
      "\n",
      "DataFrame.applymap has been deprecated. Use DataFrame.map instead.\n",
      "\n"
     ]
    },
    {
     "data": {
      "application/vnd.plotly.v1+json": {
       "config": {
        "plotlyServerURL": "https://plot.ly"
       },
       "data": [
        {
         "alignmentgroup": "True",
         "hovertemplate": "Age Range=%{x}<br>Count=%{y}<extra></extra>",
         "legendgroup": "",
         "marker": {
          "color": "#636efa",
          "pattern": {
           "shape": ""
          }
         },
         "name": "",
         "offsetgroup": "",
         "orientation": "v",
         "showlegend": false,
         "textposition": "auto",
         "type": "bar",
         "x": [
          0,
          5,
          10,
          15,
          20,
          25,
          30,
          35,
          40,
          45,
          50,
          55,
          60,
          65,
          70,
          75,
          80,
          85,
          90,
          95
         ],
         "xaxis": "x",
         "y": [
          8,
          12,
          21,
          136,
          174,
          170,
          136,
          102,
          79,
          72,
          66,
          52,
          42,
          31,
          25,
          22,
          16,
          11,
          0,
          0
         ],
         "yaxis": "y"
        }
       ],
       "layout": {
        "barmode": "relative",
        "legend": {
         "tracegroupgap": 0
        },
        "template": {
         "data": {
          "bar": [
           {
            "error_x": {
             "color": "#2a3f5f"
            },
            "error_y": {
             "color": "#2a3f5f"
            },
            "marker": {
             "line": {
              "color": "#E5ECF6",
              "width": 0.5
             },
             "pattern": {
              "fillmode": "overlay",
              "size": 10,
              "solidity": 0.2
             }
            },
            "type": "bar"
           }
          ],
          "barpolar": [
           {
            "marker": {
             "line": {
              "color": "#E5ECF6",
              "width": 0.5
             },
             "pattern": {
              "fillmode": "overlay",
              "size": 10,
              "solidity": 0.2
             }
            },
            "type": "barpolar"
           }
          ],
          "carpet": [
           {
            "aaxis": {
             "endlinecolor": "#2a3f5f",
             "gridcolor": "white",
             "linecolor": "white",
             "minorgridcolor": "white",
             "startlinecolor": "#2a3f5f"
            },
            "baxis": {
             "endlinecolor": "#2a3f5f",
             "gridcolor": "white",
             "linecolor": "white",
             "minorgridcolor": "white",
             "startlinecolor": "#2a3f5f"
            },
            "type": "carpet"
           }
          ],
          "choropleth": [
           {
            "colorbar": {
             "outlinewidth": 0,
             "ticks": ""
            },
            "type": "choropleth"
           }
          ],
          "contour": [
           {
            "colorbar": {
             "outlinewidth": 0,
             "ticks": ""
            },
            "colorscale": [
             [
              0,
              "#0d0887"
             ],
             [
              0.1111111111111111,
              "#46039f"
             ],
             [
              0.2222222222222222,
              "#7201a8"
             ],
             [
              0.3333333333333333,
              "#9c179e"
             ],
             [
              0.4444444444444444,
              "#bd3786"
             ],
             [
              0.5555555555555556,
              "#d8576b"
             ],
             [
              0.6666666666666666,
              "#ed7953"
             ],
             [
              0.7777777777777778,
              "#fb9f3a"
             ],
             [
              0.8888888888888888,
              "#fdca26"
             ],
             [
              1,
              "#f0f921"
             ]
            ],
            "type": "contour"
           }
          ],
          "contourcarpet": [
           {
            "colorbar": {
             "outlinewidth": 0,
             "ticks": ""
            },
            "type": "contourcarpet"
           }
          ],
          "heatmap": [
           {
            "colorbar": {
             "outlinewidth": 0,
             "ticks": ""
            },
            "colorscale": [
             [
              0,
              "#0d0887"
             ],
             [
              0.1111111111111111,
              "#46039f"
             ],
             [
              0.2222222222222222,
              "#7201a8"
             ],
             [
              0.3333333333333333,
              "#9c179e"
             ],
             [
              0.4444444444444444,
              "#bd3786"
             ],
             [
              0.5555555555555556,
              "#d8576b"
             ],
             [
              0.6666666666666666,
              "#ed7953"
             ],
             [
              0.7777777777777778,
              "#fb9f3a"
             ],
             [
              0.8888888888888888,
              "#fdca26"
             ],
             [
              1,
              "#f0f921"
             ]
            ],
            "type": "heatmap"
           }
          ],
          "heatmapgl": [
           {
            "colorbar": {
             "outlinewidth": 0,
             "ticks": ""
            },
            "colorscale": [
             [
              0,
              "#0d0887"
             ],
             [
              0.1111111111111111,
              "#46039f"
             ],
             [
              0.2222222222222222,
              "#7201a8"
             ],
             [
              0.3333333333333333,
              "#9c179e"
             ],
             [
              0.4444444444444444,
              "#bd3786"
             ],
             [
              0.5555555555555556,
              "#d8576b"
             ],
             [
              0.6666666666666666,
              "#ed7953"
             ],
             [
              0.7777777777777778,
              "#fb9f3a"
             ],
             [
              0.8888888888888888,
              "#fdca26"
             ],
             [
              1,
              "#f0f921"
             ]
            ],
            "type": "heatmapgl"
           }
          ],
          "histogram": [
           {
            "marker": {
             "pattern": {
              "fillmode": "overlay",
              "size": 10,
              "solidity": 0.2
             }
            },
            "type": "histogram"
           }
          ],
          "histogram2d": [
           {
            "colorbar": {
             "outlinewidth": 0,
             "ticks": ""
            },
            "colorscale": [
             [
              0,
              "#0d0887"
             ],
             [
              0.1111111111111111,
              "#46039f"
             ],
             [
              0.2222222222222222,
              "#7201a8"
             ],
             [
              0.3333333333333333,
              "#9c179e"
             ],
             [
              0.4444444444444444,
              "#bd3786"
             ],
             [
              0.5555555555555556,
              "#d8576b"
             ],
             [
              0.6666666666666666,
              "#ed7953"
             ],
             [
              0.7777777777777778,
              "#fb9f3a"
             ],
             [
              0.8888888888888888,
              "#fdca26"
             ],
             [
              1,
              "#f0f921"
             ]
            ],
            "type": "histogram2d"
           }
          ],
          "histogram2dcontour": [
           {
            "colorbar": {
             "outlinewidth": 0,
             "ticks": ""
            },
            "colorscale": [
             [
              0,
              "#0d0887"
             ],
             [
              0.1111111111111111,
              "#46039f"
             ],
             [
              0.2222222222222222,
              "#7201a8"
             ],
             [
              0.3333333333333333,
              "#9c179e"
             ],
             [
              0.4444444444444444,
              "#bd3786"
             ],
             [
              0.5555555555555556,
              "#d8576b"
             ],
             [
              0.6666666666666666,
              "#ed7953"
             ],
             [
              0.7777777777777778,
              "#fb9f3a"
             ],
             [
              0.8888888888888888,
              "#fdca26"
             ],
             [
              1,
              "#f0f921"
             ]
            ],
            "type": "histogram2dcontour"
           }
          ],
          "mesh3d": [
           {
            "colorbar": {
             "outlinewidth": 0,
             "ticks": ""
            },
            "type": "mesh3d"
           }
          ],
          "parcoords": [
           {
            "line": {
             "colorbar": {
              "outlinewidth": 0,
              "ticks": ""
             }
            },
            "type": "parcoords"
           }
          ],
          "pie": [
           {
            "automargin": true,
            "type": "pie"
           }
          ],
          "scatter": [
           {
            "fillpattern": {
             "fillmode": "overlay",
             "size": 10,
             "solidity": 0.2
            },
            "type": "scatter"
           }
          ],
          "scatter3d": [
           {
            "line": {
             "colorbar": {
              "outlinewidth": 0,
              "ticks": ""
             }
            },
            "marker": {
             "colorbar": {
              "outlinewidth": 0,
              "ticks": ""
             }
            },
            "type": "scatter3d"
           }
          ],
          "scattercarpet": [
           {
            "marker": {
             "colorbar": {
              "outlinewidth": 0,
              "ticks": ""
             }
            },
            "type": "scattercarpet"
           }
          ],
          "scattergeo": [
           {
            "marker": {
             "colorbar": {
              "outlinewidth": 0,
              "ticks": ""
             }
            },
            "type": "scattergeo"
           }
          ],
          "scattergl": [
           {
            "marker": {
             "colorbar": {
              "outlinewidth": 0,
              "ticks": ""
             }
            },
            "type": "scattergl"
           }
          ],
          "scattermapbox": [
           {
            "marker": {
             "colorbar": {
              "outlinewidth": 0,
              "ticks": ""
             }
            },
            "type": "scattermapbox"
           }
          ],
          "scatterpolar": [
           {
            "marker": {
             "colorbar": {
              "outlinewidth": 0,
              "ticks": ""
             }
            },
            "type": "scatterpolar"
           }
          ],
          "scatterpolargl": [
           {
            "marker": {
             "colorbar": {
              "outlinewidth": 0,
              "ticks": ""
             }
            },
            "type": "scatterpolargl"
           }
          ],
          "scatterternary": [
           {
            "marker": {
             "colorbar": {
              "outlinewidth": 0,
              "ticks": ""
             }
            },
            "type": "scatterternary"
           }
          ],
          "surface": [
           {
            "colorbar": {
             "outlinewidth": 0,
             "ticks": ""
            },
            "colorscale": [
             [
              0,
              "#0d0887"
             ],
             [
              0.1111111111111111,
              "#46039f"
             ],
             [
              0.2222222222222222,
              "#7201a8"
             ],
             [
              0.3333333333333333,
              "#9c179e"
             ],
             [
              0.4444444444444444,
              "#bd3786"
             ],
             [
              0.5555555555555556,
              "#d8576b"
             ],
             [
              0.6666666666666666,
              "#ed7953"
             ],
             [
              0.7777777777777778,
              "#fb9f3a"
             ],
             [
              0.8888888888888888,
              "#fdca26"
             ],
             [
              1,
              "#f0f921"
             ]
            ],
            "type": "surface"
           }
          ],
          "table": [
           {
            "cells": {
             "fill": {
              "color": "#EBF0F8"
             },
             "line": {
              "color": "white"
             }
            },
            "header": {
             "fill": {
              "color": "#C8D4E3"
             },
             "line": {
              "color": "white"
             }
            },
            "type": "table"
           }
          ]
         },
         "layout": {
          "annotationdefaults": {
           "arrowcolor": "#2a3f5f",
           "arrowhead": 0,
           "arrowwidth": 1
          },
          "autotypenumbers": "strict",
          "coloraxis": {
           "colorbar": {
            "outlinewidth": 0,
            "ticks": ""
           }
          },
          "colorscale": {
           "diverging": [
            [
             0,
             "#8e0152"
            ],
            [
             0.1,
             "#c51b7d"
            ],
            [
             0.2,
             "#de77ae"
            ],
            [
             0.3,
             "#f1b6da"
            ],
            [
             0.4,
             "#fde0ef"
            ],
            [
             0.5,
             "#f7f7f7"
            ],
            [
             0.6,
             "#e6f5d0"
            ],
            [
             0.7,
             "#b8e186"
            ],
            [
             0.8,
             "#7fbc41"
            ],
            [
             0.9,
             "#4d9221"
            ],
            [
             1,
             "#276419"
            ]
           ],
           "sequential": [
            [
             0,
             "#0d0887"
            ],
            [
             0.1111111111111111,
             "#46039f"
            ],
            [
             0.2222222222222222,
             "#7201a8"
            ],
            [
             0.3333333333333333,
             "#9c179e"
            ],
            [
             0.4444444444444444,
             "#bd3786"
            ],
            [
             0.5555555555555556,
             "#d8576b"
            ],
            [
             0.6666666666666666,
             "#ed7953"
            ],
            [
             0.7777777777777778,
             "#fb9f3a"
            ],
            [
             0.8888888888888888,
             "#fdca26"
            ],
            [
             1,
             "#f0f921"
            ]
           ],
           "sequentialminus": [
            [
             0,
             "#0d0887"
            ],
            [
             0.1111111111111111,
             "#46039f"
            ],
            [
             0.2222222222222222,
             "#7201a8"
            ],
            [
             0.3333333333333333,
             "#9c179e"
            ],
            [
             0.4444444444444444,
             "#bd3786"
            ],
            [
             0.5555555555555556,
             "#d8576b"
            ],
            [
             0.6666666666666666,
             "#ed7953"
            ],
            [
             0.7777777777777778,
             "#fb9f3a"
            ],
            [
             0.8888888888888888,
             "#fdca26"
            ],
            [
             1,
             "#f0f921"
            ]
           ]
          },
          "colorway": [
           "#636efa",
           "#EF553B",
           "#00cc96",
           "#ab63fa",
           "#FFA15A",
           "#19d3f3",
           "#FF6692",
           "#B6E880",
           "#FF97FF",
           "#FECB52"
          ],
          "font": {
           "color": "#2a3f5f"
          },
          "geo": {
           "bgcolor": "white",
           "lakecolor": "white",
           "landcolor": "#E5ECF6",
           "showlakes": true,
           "showland": true,
           "subunitcolor": "white"
          },
          "hoverlabel": {
           "align": "left"
          },
          "hovermode": "closest",
          "mapbox": {
           "style": "light"
          },
          "paper_bgcolor": "white",
          "plot_bgcolor": "#E5ECF6",
          "polar": {
           "angularaxis": {
            "gridcolor": "white",
            "linecolor": "white",
            "ticks": ""
           },
           "bgcolor": "#E5ECF6",
           "radialaxis": {
            "gridcolor": "white",
            "linecolor": "white",
            "ticks": ""
           }
          },
          "scene": {
           "xaxis": {
            "backgroundcolor": "#E5ECF6",
            "gridcolor": "white",
            "gridwidth": 2,
            "linecolor": "white",
            "showbackground": true,
            "ticks": "",
            "zerolinecolor": "white"
           },
           "yaxis": {
            "backgroundcolor": "#E5ECF6",
            "gridcolor": "white",
            "gridwidth": 2,
            "linecolor": "white",
            "showbackground": true,
            "ticks": "",
            "zerolinecolor": "white"
           },
           "zaxis": {
            "backgroundcolor": "#E5ECF6",
            "gridcolor": "white",
            "gridwidth": 2,
            "linecolor": "white",
            "showbackground": true,
            "ticks": "",
            "zerolinecolor": "white"
           }
          },
          "shapedefaults": {
           "line": {
            "color": "#2a3f5f"
           }
          },
          "ternary": {
           "aaxis": {
            "gridcolor": "white",
            "linecolor": "white",
            "ticks": ""
           },
           "baxis": {
            "gridcolor": "white",
            "linecolor": "white",
            "ticks": ""
           },
           "bgcolor": "#E5ECF6",
           "caxis": {
            "gridcolor": "white",
            "linecolor": "white",
            "ticks": ""
           }
          },
          "title": {
           "x": 0.05
          },
          "xaxis": {
           "automargin": true,
           "gridcolor": "white",
           "linecolor": "white",
           "ticks": "",
           "title": {
            "standoff": 15
           },
           "zerolinecolor": "white",
           "zerolinewidth": 2
          },
          "yaxis": {
           "automargin": true,
           "gridcolor": "white",
           "linecolor": "white",
           "ticks": "",
           "title": {
            "standoff": 15
           },
           "zerolinecolor": "white",
           "zerolinewidth": 2
          }
         }
        },
        "title": {
         "text": "Histogram of Age Ranges"
        },
        "xaxis": {
         "anchor": "y",
         "domain": [
          0,
          1
         ],
         "tickmode": "array",
         "ticktext": [
          "0-5",
          "5-10",
          "10-15",
          "15-20",
          "20-25",
          "25-30",
          "30-35",
          "35-40",
          "40-45",
          "45-50",
          "50-55",
          "55-60",
          "60-65",
          "65-70",
          "70-75",
          "75-80",
          "80-85",
          "85-90",
          "90-95",
          "95-100"
         ],
         "tickvals": [
          0,
          5,
          10,
          15,
          20,
          25,
          30,
          35,
          40,
          45,
          50,
          55,
          60,
          65,
          70,
          75,
          80,
          85,
          90,
          95,
          100
         ],
         "title": {
          "text": "Age Range"
         }
        },
        "yaxis": {
         "anchor": "x",
         "domain": [
          0,
          1
         ],
         "title": {
          "text": "Count"
         }
        }
       }
      }
     },
     "metadata": {},
     "output_type": "display_data"
    }
   ],
   "source": [
    "df_fig7 = df['Age range']\n",
    "df_fig7.dropna(inplace=True)\n",
    "df_fig7.str.replace(r'\\s+', '', regex=True)\n",
    "df_fig7_split = df_fig7.str.split('-', expand=True)\n",
    "df_fig7_split = df_fig7_split.applymap(lambda x: x.strip() if isinstance(x, str) else x)\n",
    "df_fig7_split.dropna(inplace=True)\n",
    "df_fig7_split = df_fig7_split.apply(pd.to_numeric, errors='coerce')\n",
    "\n",
    "# Define the bins\n",
    "bins = np.arange(0, 105, 5)\n",
    "bin_counts = np.zeros(len(bins) - 1)\n",
    "\n",
    "# Iterate through each row in df_fig7_split\n",
    "for _, row in df_fig7_split.iterrows():\n",
    "    start_age, end_age = row[0], row[1]\n",
    "    for i in range(len(bins) - 1):\n",
    "        if bins[i] < start_age < bins[i + 1] or bins[i] < end_age < bins[i + 1] or (start_age <= bins[i] and end_age >= bins[i + 1]):\n",
    "            bin_counts[i] += 1\n",
    "\n",
    "# Create a DataFrame for the histogram\n",
    "hist_data = pd.DataFrame({'Age Range': bins[:-1], 'Count': bin_counts})\n",
    "\n",
    "# Create the histogram using plotly\n",
    "fig = px.bar(hist_data, x='Age Range', y='Count', title='Histogram of Age Ranges')\n",
    "fig.update_layout(\n",
    "    xaxis_title='Age Range',\n",
    "    yaxis_title='Count',\n",
    "    xaxis=dict(tickmode='array', tickvals=bins, ticktext=[f'{int(b)}-{int(b+5)}' for b in bins[:-1]])\n",
    ")\n",
    "fig.show()\n",
    "\n",
    "# pd.set_option('display.max_rows', None)\n",
    "# print(df_fig7_split)"
   ]
  },
  {
   "cell_type": "markdown",
   "metadata": {},
   "source": [
    "### Figure 8\n",
    "\n",
    "participants x modality\n"
   ]
  },
  {
   "cell_type": "code",
   "execution_count": 245,
   "metadata": {},
   "outputs": [
    {
     "name": "stderr",
     "output_type": "stream",
     "text": [
      "/var/folders/ds/qxmx4zy969v_twj4bz2m_zvw0000gn/T/ipykernel_9738/1863621679.py:3: SettingWithCopyWarning:\n",
      "\n",
      "\n",
      "A value is trying to be set on a copy of a slice from a DataFrame\n",
      "\n",
      "See the caveats in the documentation: https://pandas.pydata.org/pandas-docs/stable/user_guide/indexing.html#returning-a-view-versus-a-copy\n",
      "\n"
     ]
    },
    {
     "data": {
      "application/vnd.plotly.v1+json": {
       "config": {
        "plotlyServerURL": "https://plot.ly"
       },
       "data": [
        {
         "alignmentgroup": "True",
         "boxpoints": "all",
         "fillcolor": "rgba(255,255,255,0)",
         "hoveron": "points",
         "hovertemplate": "Participants=%{x}<br>Modality=%{y}<extra></extra>",
         "legendgroup": "",
         "line": {
          "color": "rgba(255,255,255,0)"
         },
         "marker": {
          "color": "#636efa"
         },
         "name": "",
         "offsetgroup": "",
         "orientation": "h",
         "pointpos": 0,
         "showlegend": false,
         "type": "box",
         "x": [
          0,
          1,
          1,
          1,
          1,
          1,
          1,
          1,
          1,
          1,
          1,
          1,
          2,
          2,
          3,
          3,
          4,
          4,
          4,
          5,
          5,
          6,
          6,
          6,
          7,
          7,
          7,
          8,
          8,
          8,
          8,
          9,
          9,
          9,
          9,
          10,
          10,
          10,
          10,
          10,
          10,
          10,
          10,
          10,
          10,
          11,
          11,
          11,
          11,
          11,
          12,
          12,
          12,
          12,
          13,
          13,
          13,
          13,
          13,
          13,
          13,
          13,
          14,
          14,
          14,
          14,
          14,
          14,
          14,
          14,
          15,
          15,
          16,
          16,
          16,
          16,
          17,
          17,
          17,
          17,
          17,
          17,
          17,
          18,
          18,
          18,
          18,
          18,
          18,
          18,
          18,
          18,
          19,
          19,
          19,
          19,
          19,
          19,
          19,
          20,
          20,
          20,
          20,
          20,
          20,
          20,
          20,
          20,
          20,
          20,
          20,
          20,
          20,
          20,
          20,
          20,
          20,
          20,
          20,
          20,
          21,
          21,
          21,
          21,
          21,
          21,
          21,
          21,
          21,
          21,
          22,
          22,
          22,
          22,
          22,
          23,
          23,
          23,
          23,
          23,
          24,
          24,
          24,
          24,
          24,
          24,
          24,
          25,
          25,
          25,
          25,
          25,
          25,
          25,
          26,
          26,
          26,
          27,
          27,
          28,
          28,
          29,
          30,
          30,
          30,
          30,
          30,
          30,
          30,
          30,
          30,
          30,
          31,
          31,
          31,
          31,
          32,
          32,
          32,
          33,
          33,
          33,
          34,
          34,
          34,
          34,
          34,
          35,
          35,
          36,
          36,
          36,
          37,
          38,
          39,
          39,
          40,
          40,
          40,
          40,
          40,
          40,
          41,
          42,
          42,
          42,
          43,
          44,
          44,
          45,
          45,
          45,
          45,
          45,
          45,
          45,
          47,
          47,
          48,
          48,
          48,
          49,
          49,
          50,
          50,
          50,
          50,
          51,
          52,
          52,
          52,
          53,
          53,
          54,
          56,
          56,
          56,
          56,
          57,
          57,
          58,
          58,
          60,
          60,
          60,
          61,
          61,
          62,
          62,
          62,
          63,
          63,
          65,
          71,
          71,
          72,
          73,
          74,
          74,
          75,
          79,
          79,
          80,
          82,
          88,
          91,
          91,
          96,
          98,
          103,
          103,
          109,
          109,
          110,
          110,
          111,
          114,
          118,
          122,
          122,
          139,
          146,
          147,
          149,
          156,
          156,
          165,
          172,
          182,
          258,
          280,
          364,
          2951
         ],
         "x0": " ",
         "xaxis": "x",
         "y": [
          "other",
          "other",
          "auditory",
          "visual",
          "motor",
          "auditory",
          "multisensory",
          "multisensory",
          "multisensory",
          "visual",
          "visual",
          "auditory",
          "multisensory",
          "visual",
          "visual",
          "auditory",
          "visual",
          "resting state",
          "visual",
          "resting state",
          "resting state",
          "other",
          "visual",
          "anasthesia",
          "visual",
          "visual",
          "anasthesia",
          "auditory",
          "visual",
          "resting state",
          "multisensory",
          "visual",
          "auditory",
          "sleep",
          "multisensory",
          "auditory",
          "visual",
          "anasthesia",
          "visual",
          "motor",
          "visual",
          "resting state",
          "visual",
          "visual",
          "auditory",
          "multisensory",
          "visual",
          "tactile",
          "multisensory",
          "multisensory",
          "visual",
          "visual",
          "auditory",
          "multisensory",
          "resting state",
          "auditory",
          "multisensory",
          "visual",
          "visual",
          "multisensory",
          "auditory",
          "auditory",
          "visual",
          "resting state",
          "multisensory",
          "visual",
          "other",
          "visual",
          "visual",
          "multisensory",
          "resting state",
          "auditory",
          "visual",
          "visual",
          "visual",
          "visual",
          "multisensory",
          "visual",
          "motor",
          "visual",
          "multisensory",
          "multisensory",
          "visual",
          "visual",
          "auditory",
          "tactile",
          "visual",
          "auditory",
          "multisensory",
          "visual",
          "visual",
          "motor",
          "motor",
          "visual",
          "auditory",
          "auditory",
          "auditory",
          "motor",
          "multisensory",
          "visual",
          "multisensory",
          "multisensory",
          "visual",
          "auditory",
          "multisensory",
          "multisensory",
          "auditory",
          "resting state",
          "visual",
          "auditory",
          "auditory",
          "sleep",
          "tactile",
          "resting state",
          "visual",
          "sleep",
          "visual",
          "visual",
          "visual",
          "visual",
          "multisensory",
          "motor",
          "multisensory",
          "visual",
          "visual",
          "auditory",
          "visual",
          "visual",
          "multisensory",
          "visual",
          "visual",
          "auditory",
          "visual",
          "visual",
          "anasthesia",
          "visual",
          "visual",
          "visual",
          "visual",
          "motor",
          "visual",
          "multisensory",
          "visual",
          "visual",
          "motor",
          "auditory",
          "visual",
          "auditory",
          "visual",
          "visual",
          "motor",
          "visual",
          "visual",
          "visual",
          "multisensory",
          "resting state",
          "multisensory",
          "visual",
          "visual",
          "visual",
          "visual",
          "multisensory",
          "auditory",
          "motor",
          "resting state",
          "visual",
          "visual",
          "motor",
          "visual",
          "visual",
          "visual",
          "visual",
          "auditory",
          "auditory",
          "visual",
          "resting state",
          "visual",
          "motor",
          "multisensory",
          "sleep",
          "visual",
          "visual",
          "sleep",
          "auditory",
          "auditory",
          "visual",
          "visual",
          "auditory",
          "resting state",
          "auditory",
          "visual",
          "visual",
          "visual",
          "visual",
          "resting state",
          "visual",
          "auditory",
          "auditory",
          "multisensory",
          "visual",
          "visual",
          "multisensory",
          "auditory",
          "visual",
          "visual",
          "visual",
          "multisensory",
          "anasthesia",
          "auditory",
          "visual",
          "auditory",
          "visual",
          "visual",
          "resting state",
          "visual",
          "visual",
          "visual",
          "visual",
          "multisensory",
          "visual",
          "visual",
          "visual",
          "multisensory",
          "visual",
          "multisensory",
          "multisensory",
          "auditory",
          "visual",
          "auditory",
          "auditory",
          "visual",
          "multisensory",
          "visual",
          "visual",
          "visual",
          "auditory",
          "visual",
          "visual",
          "visual",
          "multisensory",
          "auditory",
          "auditory",
          "anasthesia",
          "auditory",
          "multisensory",
          "resting state",
          "visual",
          "multisensory",
          "visual",
          "visual",
          "resting state",
          "multisensory",
          "auditory",
          "visual",
          "resting state",
          "auditory",
          "visual",
          "auditory",
          "other",
          "auditory",
          "resting state",
          "visual",
          "visual",
          "resting state",
          "resting state",
          "visual",
          "visual",
          "auditory",
          "auditory",
          "visual",
          "sleep",
          "visual",
          "multisensory",
          "visual",
          "visual",
          "resting state",
          "sleep",
          "visual",
          "resting state",
          "visual",
          "visual",
          "multisensory",
          "visual",
          "resting state",
          "visual",
          "visual",
          "visual",
          "visual",
          "visual",
          "visual",
          "visual",
          "visual",
          "visual"
         ],
         "y0": " ",
         "yaxis": "y"
        }
       ],
       "layout": {
        "boxmode": "overlay",
        "legend": {
         "tracegroupgap": 0
        },
        "template": {
         "data": {
          "bar": [
           {
            "error_x": {
             "color": "#2a3f5f"
            },
            "error_y": {
             "color": "#2a3f5f"
            },
            "marker": {
             "line": {
              "color": "#E5ECF6",
              "width": 0.5
             },
             "pattern": {
              "fillmode": "overlay",
              "size": 10,
              "solidity": 0.2
             }
            },
            "type": "bar"
           }
          ],
          "barpolar": [
           {
            "marker": {
             "line": {
              "color": "#E5ECF6",
              "width": 0.5
             },
             "pattern": {
              "fillmode": "overlay",
              "size": 10,
              "solidity": 0.2
             }
            },
            "type": "barpolar"
           }
          ],
          "carpet": [
           {
            "aaxis": {
             "endlinecolor": "#2a3f5f",
             "gridcolor": "white",
             "linecolor": "white",
             "minorgridcolor": "white",
             "startlinecolor": "#2a3f5f"
            },
            "baxis": {
             "endlinecolor": "#2a3f5f",
             "gridcolor": "white",
             "linecolor": "white",
             "minorgridcolor": "white",
             "startlinecolor": "#2a3f5f"
            },
            "type": "carpet"
           }
          ],
          "choropleth": [
           {
            "colorbar": {
             "outlinewidth": 0,
             "ticks": ""
            },
            "type": "choropleth"
           }
          ],
          "contour": [
           {
            "colorbar": {
             "outlinewidth": 0,
             "ticks": ""
            },
            "colorscale": [
             [
              0,
              "#0d0887"
             ],
             [
              0.1111111111111111,
              "#46039f"
             ],
             [
              0.2222222222222222,
              "#7201a8"
             ],
             [
              0.3333333333333333,
              "#9c179e"
             ],
             [
              0.4444444444444444,
              "#bd3786"
             ],
             [
              0.5555555555555556,
              "#d8576b"
             ],
             [
              0.6666666666666666,
              "#ed7953"
             ],
             [
              0.7777777777777778,
              "#fb9f3a"
             ],
             [
              0.8888888888888888,
              "#fdca26"
             ],
             [
              1,
              "#f0f921"
             ]
            ],
            "type": "contour"
           }
          ],
          "contourcarpet": [
           {
            "colorbar": {
             "outlinewidth": 0,
             "ticks": ""
            },
            "type": "contourcarpet"
           }
          ],
          "heatmap": [
           {
            "colorbar": {
             "outlinewidth": 0,
             "ticks": ""
            },
            "colorscale": [
             [
              0,
              "#0d0887"
             ],
             [
              0.1111111111111111,
              "#46039f"
             ],
             [
              0.2222222222222222,
              "#7201a8"
             ],
             [
              0.3333333333333333,
              "#9c179e"
             ],
             [
              0.4444444444444444,
              "#bd3786"
             ],
             [
              0.5555555555555556,
              "#d8576b"
             ],
             [
              0.6666666666666666,
              "#ed7953"
             ],
             [
              0.7777777777777778,
              "#fb9f3a"
             ],
             [
              0.8888888888888888,
              "#fdca26"
             ],
             [
              1,
              "#f0f921"
             ]
            ],
            "type": "heatmap"
           }
          ],
          "heatmapgl": [
           {
            "colorbar": {
             "outlinewidth": 0,
             "ticks": ""
            },
            "colorscale": [
             [
              0,
              "#0d0887"
             ],
             [
              0.1111111111111111,
              "#46039f"
             ],
             [
              0.2222222222222222,
              "#7201a8"
             ],
             [
              0.3333333333333333,
              "#9c179e"
             ],
             [
              0.4444444444444444,
              "#bd3786"
             ],
             [
              0.5555555555555556,
              "#d8576b"
             ],
             [
              0.6666666666666666,
              "#ed7953"
             ],
             [
              0.7777777777777778,
              "#fb9f3a"
             ],
             [
              0.8888888888888888,
              "#fdca26"
             ],
             [
              1,
              "#f0f921"
             ]
            ],
            "type": "heatmapgl"
           }
          ],
          "histogram": [
           {
            "marker": {
             "pattern": {
              "fillmode": "overlay",
              "size": 10,
              "solidity": 0.2
             }
            },
            "type": "histogram"
           }
          ],
          "histogram2d": [
           {
            "colorbar": {
             "outlinewidth": 0,
             "ticks": ""
            },
            "colorscale": [
             [
              0,
              "#0d0887"
             ],
             [
              0.1111111111111111,
              "#46039f"
             ],
             [
              0.2222222222222222,
              "#7201a8"
             ],
             [
              0.3333333333333333,
              "#9c179e"
             ],
             [
              0.4444444444444444,
              "#bd3786"
             ],
             [
              0.5555555555555556,
              "#d8576b"
             ],
             [
              0.6666666666666666,
              "#ed7953"
             ],
             [
              0.7777777777777778,
              "#fb9f3a"
             ],
             [
              0.8888888888888888,
              "#fdca26"
             ],
             [
              1,
              "#f0f921"
             ]
            ],
            "type": "histogram2d"
           }
          ],
          "histogram2dcontour": [
           {
            "colorbar": {
             "outlinewidth": 0,
             "ticks": ""
            },
            "colorscale": [
             [
              0,
              "#0d0887"
             ],
             [
              0.1111111111111111,
              "#46039f"
             ],
             [
              0.2222222222222222,
              "#7201a8"
             ],
             [
              0.3333333333333333,
              "#9c179e"
             ],
             [
              0.4444444444444444,
              "#bd3786"
             ],
             [
              0.5555555555555556,
              "#d8576b"
             ],
             [
              0.6666666666666666,
              "#ed7953"
             ],
             [
              0.7777777777777778,
              "#fb9f3a"
             ],
             [
              0.8888888888888888,
              "#fdca26"
             ],
             [
              1,
              "#f0f921"
             ]
            ],
            "type": "histogram2dcontour"
           }
          ],
          "mesh3d": [
           {
            "colorbar": {
             "outlinewidth": 0,
             "ticks": ""
            },
            "type": "mesh3d"
           }
          ],
          "parcoords": [
           {
            "line": {
             "colorbar": {
              "outlinewidth": 0,
              "ticks": ""
             }
            },
            "type": "parcoords"
           }
          ],
          "pie": [
           {
            "automargin": true,
            "type": "pie"
           }
          ],
          "scatter": [
           {
            "fillpattern": {
             "fillmode": "overlay",
             "size": 10,
             "solidity": 0.2
            },
            "type": "scatter"
           }
          ],
          "scatter3d": [
           {
            "line": {
             "colorbar": {
              "outlinewidth": 0,
              "ticks": ""
             }
            },
            "marker": {
             "colorbar": {
              "outlinewidth": 0,
              "ticks": ""
             }
            },
            "type": "scatter3d"
           }
          ],
          "scattercarpet": [
           {
            "marker": {
             "colorbar": {
              "outlinewidth": 0,
              "ticks": ""
             }
            },
            "type": "scattercarpet"
           }
          ],
          "scattergeo": [
           {
            "marker": {
             "colorbar": {
              "outlinewidth": 0,
              "ticks": ""
             }
            },
            "type": "scattergeo"
           }
          ],
          "scattergl": [
           {
            "marker": {
             "colorbar": {
              "outlinewidth": 0,
              "ticks": ""
             }
            },
            "type": "scattergl"
           }
          ],
          "scattermapbox": [
           {
            "marker": {
             "colorbar": {
              "outlinewidth": 0,
              "ticks": ""
             }
            },
            "type": "scattermapbox"
           }
          ],
          "scatterpolar": [
           {
            "marker": {
             "colorbar": {
              "outlinewidth": 0,
              "ticks": ""
             }
            },
            "type": "scatterpolar"
           }
          ],
          "scatterpolargl": [
           {
            "marker": {
             "colorbar": {
              "outlinewidth": 0,
              "ticks": ""
             }
            },
            "type": "scatterpolargl"
           }
          ],
          "scatterternary": [
           {
            "marker": {
             "colorbar": {
              "outlinewidth": 0,
              "ticks": ""
             }
            },
            "type": "scatterternary"
           }
          ],
          "surface": [
           {
            "colorbar": {
             "outlinewidth": 0,
             "ticks": ""
            },
            "colorscale": [
             [
              0,
              "#0d0887"
             ],
             [
              0.1111111111111111,
              "#46039f"
             ],
             [
              0.2222222222222222,
              "#7201a8"
             ],
             [
              0.3333333333333333,
              "#9c179e"
             ],
             [
              0.4444444444444444,
              "#bd3786"
             ],
             [
              0.5555555555555556,
              "#d8576b"
             ],
             [
              0.6666666666666666,
              "#ed7953"
             ],
             [
              0.7777777777777778,
              "#fb9f3a"
             ],
             [
              0.8888888888888888,
              "#fdca26"
             ],
             [
              1,
              "#f0f921"
             ]
            ],
            "type": "surface"
           }
          ],
          "table": [
           {
            "cells": {
             "fill": {
              "color": "#EBF0F8"
             },
             "line": {
              "color": "white"
             }
            },
            "header": {
             "fill": {
              "color": "#C8D4E3"
             },
             "line": {
              "color": "white"
             }
            },
            "type": "table"
           }
          ]
         },
         "layout": {
          "annotationdefaults": {
           "arrowcolor": "#2a3f5f",
           "arrowhead": 0,
           "arrowwidth": 1
          },
          "autotypenumbers": "strict",
          "coloraxis": {
           "colorbar": {
            "outlinewidth": 0,
            "ticks": ""
           }
          },
          "colorscale": {
           "diverging": [
            [
             0,
             "#8e0152"
            ],
            [
             0.1,
             "#c51b7d"
            ],
            [
             0.2,
             "#de77ae"
            ],
            [
             0.3,
             "#f1b6da"
            ],
            [
             0.4,
             "#fde0ef"
            ],
            [
             0.5,
             "#f7f7f7"
            ],
            [
             0.6,
             "#e6f5d0"
            ],
            [
             0.7,
             "#b8e186"
            ],
            [
             0.8,
             "#7fbc41"
            ],
            [
             0.9,
             "#4d9221"
            ],
            [
             1,
             "#276419"
            ]
           ],
           "sequential": [
            [
             0,
             "#0d0887"
            ],
            [
             0.1111111111111111,
             "#46039f"
            ],
            [
             0.2222222222222222,
             "#7201a8"
            ],
            [
             0.3333333333333333,
             "#9c179e"
            ],
            [
             0.4444444444444444,
             "#bd3786"
            ],
            [
             0.5555555555555556,
             "#d8576b"
            ],
            [
             0.6666666666666666,
             "#ed7953"
            ],
            [
             0.7777777777777778,
             "#fb9f3a"
            ],
            [
             0.8888888888888888,
             "#fdca26"
            ],
            [
             1,
             "#f0f921"
            ]
           ],
           "sequentialminus": [
            [
             0,
             "#0d0887"
            ],
            [
             0.1111111111111111,
             "#46039f"
            ],
            [
             0.2222222222222222,
             "#7201a8"
            ],
            [
             0.3333333333333333,
             "#9c179e"
            ],
            [
             0.4444444444444444,
             "#bd3786"
            ],
            [
             0.5555555555555556,
             "#d8576b"
            ],
            [
             0.6666666666666666,
             "#ed7953"
            ],
            [
             0.7777777777777778,
             "#fb9f3a"
            ],
            [
             0.8888888888888888,
             "#fdca26"
            ],
            [
             1,
             "#f0f921"
            ]
           ]
          },
          "colorway": [
           "#636efa",
           "#EF553B",
           "#00cc96",
           "#ab63fa",
           "#FFA15A",
           "#19d3f3",
           "#FF6692",
           "#B6E880",
           "#FF97FF",
           "#FECB52"
          ],
          "font": {
           "color": "#2a3f5f"
          },
          "geo": {
           "bgcolor": "white",
           "lakecolor": "white",
           "landcolor": "#E5ECF6",
           "showlakes": true,
           "showland": true,
           "subunitcolor": "white"
          },
          "hoverlabel": {
           "align": "left"
          },
          "hovermode": "closest",
          "mapbox": {
           "style": "light"
          },
          "paper_bgcolor": "white",
          "plot_bgcolor": "#E5ECF6",
          "polar": {
           "angularaxis": {
            "gridcolor": "white",
            "linecolor": "white",
            "ticks": ""
           },
           "bgcolor": "#E5ECF6",
           "radialaxis": {
            "gridcolor": "white",
            "linecolor": "white",
            "ticks": ""
           }
          },
          "scene": {
           "xaxis": {
            "backgroundcolor": "#E5ECF6",
            "gridcolor": "white",
            "gridwidth": 2,
            "linecolor": "white",
            "showbackground": true,
            "ticks": "",
            "zerolinecolor": "white"
           },
           "yaxis": {
            "backgroundcolor": "#E5ECF6",
            "gridcolor": "white",
            "gridwidth": 2,
            "linecolor": "white",
            "showbackground": true,
            "ticks": "",
            "zerolinecolor": "white"
           },
           "zaxis": {
            "backgroundcolor": "#E5ECF6",
            "gridcolor": "white",
            "gridwidth": 2,
            "linecolor": "white",
            "showbackground": true,
            "ticks": "",
            "zerolinecolor": "white"
           }
          },
          "shapedefaults": {
           "line": {
            "color": "#2a3f5f"
           }
          },
          "ternary": {
           "aaxis": {
            "gridcolor": "white",
            "linecolor": "white",
            "ticks": ""
           },
           "baxis": {
            "gridcolor": "white",
            "linecolor": "white",
            "ticks": ""
           },
           "bgcolor": "#E5ECF6",
           "caxis": {
            "gridcolor": "white",
            "linecolor": "white",
            "ticks": ""
           }
          },
          "title": {
           "x": 0.05
          },
          "xaxis": {
           "automargin": true,
           "gridcolor": "white",
           "linecolor": "white",
           "ticks": "",
           "title": {
            "standoff": 15
           },
           "zerolinecolor": "white",
           "zerolinewidth": 2
          },
          "yaxis": {
           "automargin": true,
           "gridcolor": "white",
           "linecolor": "white",
           "ticks": "",
           "title": {
            "standoff": 15
           },
           "zerolinecolor": "white",
           "zerolinewidth": 2
          }
         }
        },
        "title": {
         "text": "Participants by Modality"
        },
        "xaxis": {
         "anchor": "y",
         "domain": [
          0,
          1
         ],
         "title": {
          "text": "Participants"
         }
        },
        "yaxis": {
         "anchor": "x",
         "domain": [
          0,
          1
         ],
         "title": {
          "text": "Modality"
         }
        }
       }
      }
     },
     "metadata": {},
     "output_type": "display_data"
    },
    {
     "data": {
      "application/vnd.plotly.v1+json": {
       "config": {
        "plotlyServerURL": "https://plot.ly"
       },
       "data": [
        {
         "alignmentgroup": "True",
         "boxpoints": "all",
         "fillcolor": "rgba(255,255,255,0)",
         "hoveron": "points",
         "hovertemplate": "Participants=%{x}<br>Modality=%{y}<extra></extra>",
         "legendgroup": "",
         "line": {
          "color": "rgba(255,255,255,0)"
         },
         "marker": {
          "color": "#636efa"
         },
         "name": "",
         "offsetgroup": "",
         "orientation": "h",
         "pointpos": 0,
         "showlegend": false,
         "type": "box",
         "x": [
          0,
          1,
          1,
          1,
          1,
          1,
          1,
          1,
          1,
          1,
          1,
          1,
          2,
          2,
          3,
          3,
          4,
          4,
          4,
          5,
          5,
          6,
          6,
          6,
          7,
          7,
          7,
          8,
          8,
          8,
          8,
          9,
          9,
          9,
          9,
          10,
          10,
          10,
          10,
          10,
          10,
          10,
          10,
          10,
          10,
          11,
          11,
          11,
          11,
          11,
          12,
          12,
          12,
          12,
          13,
          13,
          13,
          13,
          13,
          13,
          13,
          13,
          14,
          14,
          14,
          14,
          14,
          14,
          14,
          14,
          15,
          15,
          16,
          16,
          16,
          16,
          17,
          17,
          17,
          17,
          17,
          17,
          17,
          18,
          18,
          18,
          18,
          18,
          18,
          18,
          18,
          18,
          19,
          19,
          19,
          19,
          19,
          19,
          19,
          20,
          20,
          20,
          20,
          20,
          20,
          20,
          20,
          20,
          20,
          20,
          20,
          20,
          20,
          20,
          20,
          20,
          20,
          20,
          20,
          20,
          21,
          21,
          21,
          21,
          21,
          21,
          21,
          21,
          21,
          21,
          22,
          22,
          22,
          22,
          22,
          23,
          23,
          23,
          23,
          23,
          24,
          24,
          24,
          24,
          24,
          24,
          24,
          25,
          25,
          25,
          25,
          25,
          25,
          25,
          26,
          26,
          26,
          27,
          27,
          28,
          28,
          29,
          30,
          30,
          30,
          30,
          30,
          30,
          30,
          30,
          30,
          30,
          31,
          31,
          31,
          31,
          32,
          32,
          32,
          33,
          33,
          33,
          34,
          34,
          34,
          34,
          34,
          35,
          35,
          36,
          36,
          36,
          37,
          38,
          39,
          39,
          40,
          40,
          40,
          40,
          40,
          40,
          41,
          42,
          42,
          42,
          43,
          44,
          44,
          45,
          45,
          45,
          45,
          45,
          45,
          45,
          47,
          47,
          48,
          48,
          48,
          49,
          49,
          50,
          50,
          50,
          50,
          51,
          52,
          52,
          52,
          53,
          53,
          54,
          56,
          56,
          56,
          56,
          57,
          57,
          58,
          58,
          60,
          60,
          60,
          61,
          61,
          62,
          62,
          62,
          63,
          63,
          65,
          71,
          71,
          72,
          73,
          74,
          74,
          75,
          79,
          79,
          80,
          82,
          88,
          91,
          91,
          96,
          98,
          103,
          103,
          109,
          109,
          110,
          110,
          111,
          114,
          118,
          122,
          122,
          139,
          146,
          147,
          149,
          156,
          156,
          165,
          172,
          182,
          258,
          280,
          364,
          2951
         ],
         "x0": " ",
         "xaxis": "x",
         "y": [
          "other",
          "other",
          "auditory",
          "visual",
          "motor",
          "auditory",
          "multisensory",
          "multisensory",
          "multisensory",
          "visual",
          "visual",
          "auditory",
          "multisensory",
          "visual",
          "visual",
          "auditory",
          "visual",
          "resting state",
          "visual",
          "resting state",
          "resting state",
          "other",
          "visual",
          "anasthesia",
          "visual",
          "visual",
          "anasthesia",
          "auditory",
          "visual",
          "resting state",
          "multisensory",
          "visual",
          "auditory",
          "sleep",
          "multisensory",
          "auditory",
          "visual",
          "anasthesia",
          "visual",
          "motor",
          "visual",
          "resting state",
          "visual",
          "visual",
          "auditory",
          "multisensory",
          "visual",
          "tactile",
          "multisensory",
          "multisensory",
          "visual",
          "visual",
          "auditory",
          "multisensory",
          "resting state",
          "auditory",
          "multisensory",
          "visual",
          "visual",
          "multisensory",
          "auditory",
          "auditory",
          "visual",
          "resting state",
          "multisensory",
          "visual",
          "other",
          "visual",
          "visual",
          "multisensory",
          "resting state",
          "auditory",
          "visual",
          "visual",
          "visual",
          "visual",
          "multisensory",
          "visual",
          "motor",
          "visual",
          "multisensory",
          "multisensory",
          "visual",
          "visual",
          "auditory",
          "tactile",
          "visual",
          "auditory",
          "multisensory",
          "visual",
          "visual",
          "motor",
          "motor",
          "visual",
          "auditory",
          "auditory",
          "auditory",
          "motor",
          "multisensory",
          "visual",
          "multisensory",
          "multisensory",
          "visual",
          "auditory",
          "multisensory",
          "multisensory",
          "auditory",
          "resting state",
          "visual",
          "auditory",
          "auditory",
          "sleep",
          "tactile",
          "resting state",
          "visual",
          "sleep",
          "visual",
          "visual",
          "visual",
          "visual",
          "multisensory",
          "motor",
          "multisensory",
          "visual",
          "visual",
          "auditory",
          "visual",
          "visual",
          "multisensory",
          "visual",
          "visual",
          "auditory",
          "visual",
          "visual",
          "anasthesia",
          "visual",
          "visual",
          "visual",
          "visual",
          "motor",
          "visual",
          "multisensory",
          "visual",
          "visual",
          "motor",
          "auditory",
          "visual",
          "auditory",
          "visual",
          "visual",
          "motor",
          "visual",
          "visual",
          "visual",
          "multisensory",
          "resting state",
          "multisensory",
          "visual",
          "visual",
          "visual",
          "visual",
          "multisensory",
          "auditory",
          "motor",
          "resting state",
          "visual",
          "visual",
          "motor",
          "visual",
          "visual",
          "visual",
          "visual",
          "auditory",
          "auditory",
          "visual",
          "resting state",
          "visual",
          "motor",
          "multisensory",
          "sleep",
          "visual",
          "visual",
          "sleep",
          "auditory",
          "auditory",
          "visual",
          "visual",
          "auditory",
          "resting state",
          "auditory",
          "visual",
          "visual",
          "visual",
          "visual",
          "resting state",
          "visual",
          "auditory",
          "auditory",
          "multisensory",
          "visual",
          "visual",
          "multisensory",
          "auditory",
          "visual",
          "visual",
          "visual",
          "multisensory",
          "anasthesia",
          "auditory",
          "visual",
          "auditory",
          "visual",
          "visual",
          "resting state",
          "visual",
          "visual",
          "visual",
          "visual",
          "multisensory",
          "visual",
          "visual",
          "visual",
          "multisensory",
          "visual",
          "multisensory",
          "multisensory",
          "auditory",
          "visual",
          "auditory",
          "auditory",
          "visual",
          "multisensory",
          "visual",
          "visual",
          "visual",
          "auditory",
          "visual",
          "visual",
          "visual",
          "multisensory",
          "auditory",
          "auditory",
          "anasthesia",
          "auditory",
          "multisensory",
          "resting state",
          "visual",
          "multisensory",
          "visual",
          "visual",
          "resting state",
          "multisensory",
          "auditory",
          "visual",
          "resting state",
          "auditory",
          "visual",
          "auditory",
          "other",
          "auditory",
          "resting state",
          "visual",
          "visual",
          "resting state",
          "resting state",
          "visual",
          "visual",
          "auditory",
          "auditory",
          "visual",
          "sleep",
          "visual",
          "multisensory",
          "visual",
          "visual",
          "resting state",
          "sleep",
          "visual",
          "resting state",
          "visual",
          "visual",
          "multisensory",
          "visual",
          "resting state",
          "visual",
          "visual",
          "visual",
          "visual",
          "visual",
          "visual",
          "visual",
          "visual",
          "visual"
         ],
         "y0": " ",
         "yaxis": "y"
        }
       ],
       "layout": {
        "boxmode": "overlay",
        "legend": {
         "tracegroupgap": 0
        },
        "template": {
         "data": {
          "bar": [
           {
            "error_x": {
             "color": "#2a3f5f"
            },
            "error_y": {
             "color": "#2a3f5f"
            },
            "marker": {
             "line": {
              "color": "#E5ECF6",
              "width": 0.5
             },
             "pattern": {
              "fillmode": "overlay",
              "size": 10,
              "solidity": 0.2
             }
            },
            "type": "bar"
           }
          ],
          "barpolar": [
           {
            "marker": {
             "line": {
              "color": "#E5ECF6",
              "width": 0.5
             },
             "pattern": {
              "fillmode": "overlay",
              "size": 10,
              "solidity": 0.2
             }
            },
            "type": "barpolar"
           }
          ],
          "carpet": [
           {
            "aaxis": {
             "endlinecolor": "#2a3f5f",
             "gridcolor": "white",
             "linecolor": "white",
             "minorgridcolor": "white",
             "startlinecolor": "#2a3f5f"
            },
            "baxis": {
             "endlinecolor": "#2a3f5f",
             "gridcolor": "white",
             "linecolor": "white",
             "minorgridcolor": "white",
             "startlinecolor": "#2a3f5f"
            },
            "type": "carpet"
           }
          ],
          "choropleth": [
           {
            "colorbar": {
             "outlinewidth": 0,
             "ticks": ""
            },
            "type": "choropleth"
           }
          ],
          "contour": [
           {
            "colorbar": {
             "outlinewidth": 0,
             "ticks": ""
            },
            "colorscale": [
             [
              0,
              "#0d0887"
             ],
             [
              0.1111111111111111,
              "#46039f"
             ],
             [
              0.2222222222222222,
              "#7201a8"
             ],
             [
              0.3333333333333333,
              "#9c179e"
             ],
             [
              0.4444444444444444,
              "#bd3786"
             ],
             [
              0.5555555555555556,
              "#d8576b"
             ],
             [
              0.6666666666666666,
              "#ed7953"
             ],
             [
              0.7777777777777778,
              "#fb9f3a"
             ],
             [
              0.8888888888888888,
              "#fdca26"
             ],
             [
              1,
              "#f0f921"
             ]
            ],
            "type": "contour"
           }
          ],
          "contourcarpet": [
           {
            "colorbar": {
             "outlinewidth": 0,
             "ticks": ""
            },
            "type": "contourcarpet"
           }
          ],
          "heatmap": [
           {
            "colorbar": {
             "outlinewidth": 0,
             "ticks": ""
            },
            "colorscale": [
             [
              0,
              "#0d0887"
             ],
             [
              0.1111111111111111,
              "#46039f"
             ],
             [
              0.2222222222222222,
              "#7201a8"
             ],
             [
              0.3333333333333333,
              "#9c179e"
             ],
             [
              0.4444444444444444,
              "#bd3786"
             ],
             [
              0.5555555555555556,
              "#d8576b"
             ],
             [
              0.6666666666666666,
              "#ed7953"
             ],
             [
              0.7777777777777778,
              "#fb9f3a"
             ],
             [
              0.8888888888888888,
              "#fdca26"
             ],
             [
              1,
              "#f0f921"
             ]
            ],
            "type": "heatmap"
           }
          ],
          "heatmapgl": [
           {
            "colorbar": {
             "outlinewidth": 0,
             "ticks": ""
            },
            "colorscale": [
             [
              0,
              "#0d0887"
             ],
             [
              0.1111111111111111,
              "#46039f"
             ],
             [
              0.2222222222222222,
              "#7201a8"
             ],
             [
              0.3333333333333333,
              "#9c179e"
             ],
             [
              0.4444444444444444,
              "#bd3786"
             ],
             [
              0.5555555555555556,
              "#d8576b"
             ],
             [
              0.6666666666666666,
              "#ed7953"
             ],
             [
              0.7777777777777778,
              "#fb9f3a"
             ],
             [
              0.8888888888888888,
              "#fdca26"
             ],
             [
              1,
              "#f0f921"
             ]
            ],
            "type": "heatmapgl"
           }
          ],
          "histogram": [
           {
            "marker": {
             "pattern": {
              "fillmode": "overlay",
              "size": 10,
              "solidity": 0.2
             }
            },
            "type": "histogram"
           }
          ],
          "histogram2d": [
           {
            "colorbar": {
             "outlinewidth": 0,
             "ticks": ""
            },
            "colorscale": [
             [
              0,
              "#0d0887"
             ],
             [
              0.1111111111111111,
              "#46039f"
             ],
             [
              0.2222222222222222,
              "#7201a8"
             ],
             [
              0.3333333333333333,
              "#9c179e"
             ],
             [
              0.4444444444444444,
              "#bd3786"
             ],
             [
              0.5555555555555556,
              "#d8576b"
             ],
             [
              0.6666666666666666,
              "#ed7953"
             ],
             [
              0.7777777777777778,
              "#fb9f3a"
             ],
             [
              0.8888888888888888,
              "#fdca26"
             ],
             [
              1,
              "#f0f921"
             ]
            ],
            "type": "histogram2d"
           }
          ],
          "histogram2dcontour": [
           {
            "colorbar": {
             "outlinewidth": 0,
             "ticks": ""
            },
            "colorscale": [
             [
              0,
              "#0d0887"
             ],
             [
              0.1111111111111111,
              "#46039f"
             ],
             [
              0.2222222222222222,
              "#7201a8"
             ],
             [
              0.3333333333333333,
              "#9c179e"
             ],
             [
              0.4444444444444444,
              "#bd3786"
             ],
             [
              0.5555555555555556,
              "#d8576b"
             ],
             [
              0.6666666666666666,
              "#ed7953"
             ],
             [
              0.7777777777777778,
              "#fb9f3a"
             ],
             [
              0.8888888888888888,
              "#fdca26"
             ],
             [
              1,
              "#f0f921"
             ]
            ],
            "type": "histogram2dcontour"
           }
          ],
          "mesh3d": [
           {
            "colorbar": {
             "outlinewidth": 0,
             "ticks": ""
            },
            "type": "mesh3d"
           }
          ],
          "parcoords": [
           {
            "line": {
             "colorbar": {
              "outlinewidth": 0,
              "ticks": ""
             }
            },
            "type": "parcoords"
           }
          ],
          "pie": [
           {
            "automargin": true,
            "type": "pie"
           }
          ],
          "scatter": [
           {
            "fillpattern": {
             "fillmode": "overlay",
             "size": 10,
             "solidity": 0.2
            },
            "type": "scatter"
           }
          ],
          "scatter3d": [
           {
            "line": {
             "colorbar": {
              "outlinewidth": 0,
              "ticks": ""
             }
            },
            "marker": {
             "colorbar": {
              "outlinewidth": 0,
              "ticks": ""
             }
            },
            "type": "scatter3d"
           }
          ],
          "scattercarpet": [
           {
            "marker": {
             "colorbar": {
              "outlinewidth": 0,
              "ticks": ""
             }
            },
            "type": "scattercarpet"
           }
          ],
          "scattergeo": [
           {
            "marker": {
             "colorbar": {
              "outlinewidth": 0,
              "ticks": ""
             }
            },
            "type": "scattergeo"
           }
          ],
          "scattergl": [
           {
            "marker": {
             "colorbar": {
              "outlinewidth": 0,
              "ticks": ""
             }
            },
            "type": "scattergl"
           }
          ],
          "scattermapbox": [
           {
            "marker": {
             "colorbar": {
              "outlinewidth": 0,
              "ticks": ""
             }
            },
            "type": "scattermapbox"
           }
          ],
          "scatterpolar": [
           {
            "marker": {
             "colorbar": {
              "outlinewidth": 0,
              "ticks": ""
             }
            },
            "type": "scatterpolar"
           }
          ],
          "scatterpolargl": [
           {
            "marker": {
             "colorbar": {
              "outlinewidth": 0,
              "ticks": ""
             }
            },
            "type": "scatterpolargl"
           }
          ],
          "scatterternary": [
           {
            "marker": {
             "colorbar": {
              "outlinewidth": 0,
              "ticks": ""
             }
            },
            "type": "scatterternary"
           }
          ],
          "surface": [
           {
            "colorbar": {
             "outlinewidth": 0,
             "ticks": ""
            },
            "colorscale": [
             [
              0,
              "#0d0887"
             ],
             [
              0.1111111111111111,
              "#46039f"
             ],
             [
              0.2222222222222222,
              "#7201a8"
             ],
             [
              0.3333333333333333,
              "#9c179e"
             ],
             [
              0.4444444444444444,
              "#bd3786"
             ],
             [
              0.5555555555555556,
              "#d8576b"
             ],
             [
              0.6666666666666666,
              "#ed7953"
             ],
             [
              0.7777777777777778,
              "#fb9f3a"
             ],
             [
              0.8888888888888888,
              "#fdca26"
             ],
             [
              1,
              "#f0f921"
             ]
            ],
            "type": "surface"
           }
          ],
          "table": [
           {
            "cells": {
             "fill": {
              "color": "#EBF0F8"
             },
             "line": {
              "color": "white"
             }
            },
            "header": {
             "fill": {
              "color": "#C8D4E3"
             },
             "line": {
              "color": "white"
             }
            },
            "type": "table"
           }
          ]
         },
         "layout": {
          "annotationdefaults": {
           "arrowcolor": "#2a3f5f",
           "arrowhead": 0,
           "arrowwidth": 1
          },
          "autotypenumbers": "strict",
          "coloraxis": {
           "colorbar": {
            "outlinewidth": 0,
            "ticks": ""
           }
          },
          "colorscale": {
           "diverging": [
            [
             0,
             "#8e0152"
            ],
            [
             0.1,
             "#c51b7d"
            ],
            [
             0.2,
             "#de77ae"
            ],
            [
             0.3,
             "#f1b6da"
            ],
            [
             0.4,
             "#fde0ef"
            ],
            [
             0.5,
             "#f7f7f7"
            ],
            [
             0.6,
             "#e6f5d0"
            ],
            [
             0.7,
             "#b8e186"
            ],
            [
             0.8,
             "#7fbc41"
            ],
            [
             0.9,
             "#4d9221"
            ],
            [
             1,
             "#276419"
            ]
           ],
           "sequential": [
            [
             0,
             "#0d0887"
            ],
            [
             0.1111111111111111,
             "#46039f"
            ],
            [
             0.2222222222222222,
             "#7201a8"
            ],
            [
             0.3333333333333333,
             "#9c179e"
            ],
            [
             0.4444444444444444,
             "#bd3786"
            ],
            [
             0.5555555555555556,
             "#d8576b"
            ],
            [
             0.6666666666666666,
             "#ed7953"
            ],
            [
             0.7777777777777778,
             "#fb9f3a"
            ],
            [
             0.8888888888888888,
             "#fdca26"
            ],
            [
             1,
             "#f0f921"
            ]
           ],
           "sequentialminus": [
            [
             0,
             "#0d0887"
            ],
            [
             0.1111111111111111,
             "#46039f"
            ],
            [
             0.2222222222222222,
             "#7201a8"
            ],
            [
             0.3333333333333333,
             "#9c179e"
            ],
            [
             0.4444444444444444,
             "#bd3786"
            ],
            [
             0.5555555555555556,
             "#d8576b"
            ],
            [
             0.6666666666666666,
             "#ed7953"
            ],
            [
             0.7777777777777778,
             "#fb9f3a"
            ],
            [
             0.8888888888888888,
             "#fdca26"
            ],
            [
             1,
             "#f0f921"
            ]
           ]
          },
          "colorway": [
           "#636efa",
           "#EF553B",
           "#00cc96",
           "#ab63fa",
           "#FFA15A",
           "#19d3f3",
           "#FF6692",
           "#B6E880",
           "#FF97FF",
           "#FECB52"
          ],
          "font": {
           "color": "#2a3f5f"
          },
          "geo": {
           "bgcolor": "white",
           "lakecolor": "white",
           "landcolor": "#E5ECF6",
           "showlakes": true,
           "showland": true,
           "subunitcolor": "white"
          },
          "hoverlabel": {
           "align": "left"
          },
          "hovermode": "closest",
          "mapbox": {
           "style": "light"
          },
          "paper_bgcolor": "white",
          "plot_bgcolor": "#E5ECF6",
          "polar": {
           "angularaxis": {
            "gridcolor": "white",
            "linecolor": "white",
            "ticks": ""
           },
           "bgcolor": "#E5ECF6",
           "radialaxis": {
            "gridcolor": "white",
            "linecolor": "white",
            "ticks": ""
           }
          },
          "scene": {
           "xaxis": {
            "backgroundcolor": "#E5ECF6",
            "gridcolor": "white",
            "gridwidth": 2,
            "linecolor": "white",
            "showbackground": true,
            "ticks": "",
            "zerolinecolor": "white"
           },
           "yaxis": {
            "backgroundcolor": "#E5ECF6",
            "gridcolor": "white",
            "gridwidth": 2,
            "linecolor": "white",
            "showbackground": true,
            "ticks": "",
            "zerolinecolor": "white"
           },
           "zaxis": {
            "backgroundcolor": "#E5ECF6",
            "gridcolor": "white",
            "gridwidth": 2,
            "linecolor": "white",
            "showbackground": true,
            "ticks": "",
            "zerolinecolor": "white"
           }
          },
          "shapedefaults": {
           "line": {
            "color": "#2a3f5f"
           }
          },
          "ternary": {
           "aaxis": {
            "gridcolor": "white",
            "linecolor": "white",
            "ticks": ""
           },
           "baxis": {
            "gridcolor": "white",
            "linecolor": "white",
            "ticks": ""
           },
           "bgcolor": "#E5ECF6",
           "caxis": {
            "gridcolor": "white",
            "linecolor": "white",
            "ticks": ""
           }
          },
          "title": {
           "x": 0.05
          },
          "xaxis": {
           "automargin": true,
           "gridcolor": "white",
           "linecolor": "white",
           "ticks": "",
           "title": {
            "standoff": 15
           },
           "zerolinecolor": "white",
           "zerolinewidth": 2
          },
          "yaxis": {
           "automargin": true,
           "gridcolor": "white",
           "linecolor": "white",
           "ticks": "",
           "title": {
            "standoff": 15
           },
           "zerolinecolor": "white",
           "zerolinewidth": 2
          }
         }
        },
        "title": {
         "text": "Participants by Modality (log)"
        },
        "xaxis": {
         "anchor": "y",
         "domain": [
          0,
          1
         ],
         "title": {
          "text": "Participants"
         },
         "type": "log"
        },
        "yaxis": {
         "anchor": "x",
         "domain": [
          0,
          1
         ],
         "title": {
          "text": "Modality"
         }
        }
       }
      }
     },
     "metadata": {},
     "output_type": "display_data"
    },
    {
     "data": {
      "application/vnd.plotly.v1+json": {
       "config": {
        "plotlyServerURL": "https://plot.ly"
       },
       "data": [
        {
         "alignmentgroup": "True",
         "boxpoints": "all",
         "fillcolor": "rgba(255,255,255,0)",
         "hoveron": "points",
         "hovertemplate": "Participants=%{x}<br>Modality=%{y}<extra></extra>",
         "legendgroup": "",
         "line": {
          "color": "rgba(255,255,255,0)"
         },
         "marker": {
          "color": "#636efa"
         },
         "name": "",
         "offsetgroup": "",
         "orientation": "h",
         "pointpos": 0,
         "showlegend": false,
         "type": "box",
         "x": [
          0,
          1,
          1,
          1,
          1,
          1,
          1,
          1,
          1,
          1,
          1,
          1,
          2,
          2,
          3,
          3,
          4,
          4,
          4,
          5,
          5,
          6,
          6,
          6,
          7,
          7,
          7,
          8,
          8,
          8,
          8,
          9,
          9,
          9,
          9,
          10,
          10,
          10,
          10,
          10,
          10,
          10,
          10,
          10,
          10,
          11,
          11,
          11,
          11,
          11,
          12,
          12,
          12,
          12,
          13,
          13,
          13,
          13,
          13,
          13,
          13,
          13,
          14,
          14,
          14,
          14,
          14,
          14,
          14,
          14,
          15,
          15,
          16,
          16,
          16,
          16,
          17,
          17,
          17,
          17,
          17,
          17,
          17,
          18,
          18,
          18,
          18,
          18,
          18,
          18,
          18,
          18,
          19,
          19,
          19,
          19,
          19,
          19,
          19,
          20,
          20,
          20,
          20,
          20,
          20,
          20,
          20,
          20,
          20,
          20,
          20,
          20,
          20,
          20,
          20,
          20,
          20,
          20,
          20,
          20,
          21,
          21,
          21,
          21,
          21,
          21,
          21,
          21,
          21,
          21,
          22,
          22,
          22,
          22,
          22,
          23,
          23,
          23,
          23,
          23,
          24,
          24,
          24,
          24,
          24,
          24,
          24,
          25,
          25,
          25,
          25,
          25,
          25,
          25,
          26,
          26,
          26,
          27,
          27,
          28,
          28,
          29,
          30,
          30,
          30,
          30,
          30,
          30,
          30,
          30,
          30,
          30,
          31,
          31,
          31,
          31,
          32,
          32,
          32,
          33,
          33,
          33,
          34,
          34,
          34,
          34,
          34,
          35,
          35,
          36,
          36,
          36,
          37,
          38,
          39,
          39,
          40,
          40,
          40,
          40,
          40,
          40,
          41,
          42,
          42,
          42,
          43,
          44,
          44,
          45,
          45,
          45,
          45,
          45,
          45,
          45,
          47,
          47,
          48,
          48,
          48,
          49,
          49,
          50,
          50,
          50,
          50,
          51,
          52,
          52,
          52,
          53,
          53,
          54,
          56,
          56,
          56,
          56,
          57,
          57,
          58,
          58,
          60,
          60,
          60,
          61,
          61,
          62,
          62,
          62,
          63,
          63,
          65,
          71,
          71,
          72,
          73,
          74,
          74,
          75,
          79,
          79,
          80,
          82,
          88,
          91,
          91,
          96,
          98,
          103,
          103,
          109,
          109,
          110,
          110,
          111,
          114,
          118,
          122,
          122,
          139,
          146,
          147,
          149,
          156,
          156,
          165,
          172,
          182,
          258,
          280,
          364
         ],
         "x0": " ",
         "xaxis": "x",
         "y": [
          "other",
          "other",
          "auditory",
          "visual",
          "motor",
          "auditory",
          "multisensory",
          "multisensory",
          "multisensory",
          "visual",
          "visual",
          "auditory",
          "multisensory",
          "visual",
          "visual",
          "auditory",
          "visual",
          "resting state",
          "visual",
          "resting state",
          "resting state",
          "other",
          "visual",
          "anasthesia",
          "visual",
          "visual",
          "anasthesia",
          "auditory",
          "visual",
          "resting state",
          "multisensory",
          "visual",
          "auditory",
          "sleep",
          "multisensory",
          "auditory",
          "visual",
          "anasthesia",
          "visual",
          "motor",
          "visual",
          "resting state",
          "visual",
          "visual",
          "auditory",
          "multisensory",
          "visual",
          "tactile",
          "multisensory",
          "multisensory",
          "visual",
          "multisensory",
          "auditory",
          "visual",
          "multisensory",
          "auditory",
          "resting state",
          "auditory",
          "multisensory",
          "auditory",
          "visual",
          "visual",
          "resting state",
          "multisensory",
          "multisensory",
          "visual",
          "visual",
          "visual",
          "other",
          "visual",
          "resting state",
          "auditory",
          "visual",
          "visual",
          "visual",
          "visual",
          "multisensory",
          "multisensory",
          "motor",
          "visual",
          "visual",
          "visual",
          "multisensory",
          "tactile",
          "visual",
          "visual",
          "visual",
          "auditory",
          "auditory",
          "multisensory",
          "motor",
          "visual",
          "auditory",
          "visual",
          "multisensory",
          "auditory",
          "motor",
          "motor",
          "auditory",
          "visual",
          "visual",
          "multisensory",
          "sleep",
          "visual",
          "visual",
          "sleep",
          "auditory",
          "visual",
          "multisensory",
          "multisensory",
          "auditory",
          "auditory",
          "resting state",
          "auditory",
          "tactile",
          "multisensory",
          "visual",
          "resting state",
          "visual",
          "visual",
          "visual",
          "motor",
          "multisensory",
          "multisensory",
          "visual",
          "visual",
          "visual",
          "multisensory",
          "auditory",
          "visual",
          "auditory",
          "anasthesia",
          "visual",
          "visual",
          "visual",
          "visual",
          "visual",
          "motor",
          "visual",
          "visual",
          "visual",
          "visual",
          "auditory",
          "motor",
          "visual",
          "visual",
          "multisensory",
          "visual",
          "visual",
          "motor",
          "auditory",
          "visual",
          "visual",
          "visual",
          "multisensory",
          "resting state",
          "multisensory",
          "visual",
          "visual",
          "visual",
          "visual",
          "multisensory",
          "visual",
          "motor",
          "visual",
          "visual",
          "visual",
          "motor",
          "visual",
          "auditory",
          "visual",
          "resting state",
          "visual",
          "auditory",
          "auditory",
          "resting state",
          "motor",
          "visual",
          "multisensory",
          "sleep",
          "visual",
          "visual",
          "visual",
          "visual",
          "auditory",
          "sleep",
          "auditory",
          "resting state",
          "auditory",
          "visual",
          "visual",
          "auditory",
          "visual",
          "visual",
          "resting state",
          "visual",
          "auditory",
          "auditory",
          "multisensory",
          "visual",
          "multisensory",
          "visual",
          "auditory",
          "visual",
          "visual",
          "visual",
          "multisensory",
          "anasthesia",
          "auditory",
          "visual",
          "resting state",
          "auditory",
          "visual",
          "visual",
          "visual",
          "visual",
          "visual",
          "visual",
          "visual",
          "multisensory",
          "visual",
          "visual",
          "multisensory",
          "multisensory",
          "multisensory",
          "auditory",
          "visual",
          "visual",
          "auditory",
          "auditory",
          "visual",
          "visual",
          "multisensory",
          "visual",
          "auditory",
          "visual",
          "visual",
          "visual",
          "visual",
          "multisensory",
          "auditory",
          "auditory",
          "anasthesia",
          "auditory",
          "multisensory",
          "visual",
          "resting state",
          "visual",
          "visual",
          "multisensory",
          "multisensory",
          "resting state",
          "auditory",
          "visual",
          "resting state",
          "auditory",
          "visual",
          "other",
          "auditory",
          "auditory",
          "visual",
          "resting state",
          "visual",
          "resting state",
          "resting state",
          "visual",
          "visual",
          "auditory",
          "auditory",
          "sleep",
          "visual",
          "multisensory",
          "visual",
          "visual",
          "visual",
          "resting state",
          "sleep",
          "visual",
          "visual",
          "resting state",
          "visual",
          "multisensory",
          "visual",
          "resting state",
          "visual",
          "visual",
          "visual",
          "visual",
          "visual",
          "visual",
          "visual",
          "visual"
         ],
         "y0": " ",
         "yaxis": "y"
        }
       ],
       "layout": {
        "boxmode": "overlay",
        "legend": {
         "tracegroupgap": 0
        },
        "template": {
         "data": {
          "bar": [
           {
            "error_x": {
             "color": "#2a3f5f"
            },
            "error_y": {
             "color": "#2a3f5f"
            },
            "marker": {
             "line": {
              "color": "#E5ECF6",
              "width": 0.5
             },
             "pattern": {
              "fillmode": "overlay",
              "size": 10,
              "solidity": 0.2
             }
            },
            "type": "bar"
           }
          ],
          "barpolar": [
           {
            "marker": {
             "line": {
              "color": "#E5ECF6",
              "width": 0.5
             },
             "pattern": {
              "fillmode": "overlay",
              "size": 10,
              "solidity": 0.2
             }
            },
            "type": "barpolar"
           }
          ],
          "carpet": [
           {
            "aaxis": {
             "endlinecolor": "#2a3f5f",
             "gridcolor": "white",
             "linecolor": "white",
             "minorgridcolor": "white",
             "startlinecolor": "#2a3f5f"
            },
            "baxis": {
             "endlinecolor": "#2a3f5f",
             "gridcolor": "white",
             "linecolor": "white",
             "minorgridcolor": "white",
             "startlinecolor": "#2a3f5f"
            },
            "type": "carpet"
           }
          ],
          "choropleth": [
           {
            "colorbar": {
             "outlinewidth": 0,
             "ticks": ""
            },
            "type": "choropleth"
           }
          ],
          "contour": [
           {
            "colorbar": {
             "outlinewidth": 0,
             "ticks": ""
            },
            "colorscale": [
             [
              0,
              "#0d0887"
             ],
             [
              0.1111111111111111,
              "#46039f"
             ],
             [
              0.2222222222222222,
              "#7201a8"
             ],
             [
              0.3333333333333333,
              "#9c179e"
             ],
             [
              0.4444444444444444,
              "#bd3786"
             ],
             [
              0.5555555555555556,
              "#d8576b"
             ],
             [
              0.6666666666666666,
              "#ed7953"
             ],
             [
              0.7777777777777778,
              "#fb9f3a"
             ],
             [
              0.8888888888888888,
              "#fdca26"
             ],
             [
              1,
              "#f0f921"
             ]
            ],
            "type": "contour"
           }
          ],
          "contourcarpet": [
           {
            "colorbar": {
             "outlinewidth": 0,
             "ticks": ""
            },
            "type": "contourcarpet"
           }
          ],
          "heatmap": [
           {
            "colorbar": {
             "outlinewidth": 0,
             "ticks": ""
            },
            "colorscale": [
             [
              0,
              "#0d0887"
             ],
             [
              0.1111111111111111,
              "#46039f"
             ],
             [
              0.2222222222222222,
              "#7201a8"
             ],
             [
              0.3333333333333333,
              "#9c179e"
             ],
             [
              0.4444444444444444,
              "#bd3786"
             ],
             [
              0.5555555555555556,
              "#d8576b"
             ],
             [
              0.6666666666666666,
              "#ed7953"
             ],
             [
              0.7777777777777778,
              "#fb9f3a"
             ],
             [
              0.8888888888888888,
              "#fdca26"
             ],
             [
              1,
              "#f0f921"
             ]
            ],
            "type": "heatmap"
           }
          ],
          "heatmapgl": [
           {
            "colorbar": {
             "outlinewidth": 0,
             "ticks": ""
            },
            "colorscale": [
             [
              0,
              "#0d0887"
             ],
             [
              0.1111111111111111,
              "#46039f"
             ],
             [
              0.2222222222222222,
              "#7201a8"
             ],
             [
              0.3333333333333333,
              "#9c179e"
             ],
             [
              0.4444444444444444,
              "#bd3786"
             ],
             [
              0.5555555555555556,
              "#d8576b"
             ],
             [
              0.6666666666666666,
              "#ed7953"
             ],
             [
              0.7777777777777778,
              "#fb9f3a"
             ],
             [
              0.8888888888888888,
              "#fdca26"
             ],
             [
              1,
              "#f0f921"
             ]
            ],
            "type": "heatmapgl"
           }
          ],
          "histogram": [
           {
            "marker": {
             "pattern": {
              "fillmode": "overlay",
              "size": 10,
              "solidity": 0.2
             }
            },
            "type": "histogram"
           }
          ],
          "histogram2d": [
           {
            "colorbar": {
             "outlinewidth": 0,
             "ticks": ""
            },
            "colorscale": [
             [
              0,
              "#0d0887"
             ],
             [
              0.1111111111111111,
              "#46039f"
             ],
             [
              0.2222222222222222,
              "#7201a8"
             ],
             [
              0.3333333333333333,
              "#9c179e"
             ],
             [
              0.4444444444444444,
              "#bd3786"
             ],
             [
              0.5555555555555556,
              "#d8576b"
             ],
             [
              0.6666666666666666,
              "#ed7953"
             ],
             [
              0.7777777777777778,
              "#fb9f3a"
             ],
             [
              0.8888888888888888,
              "#fdca26"
             ],
             [
              1,
              "#f0f921"
             ]
            ],
            "type": "histogram2d"
           }
          ],
          "histogram2dcontour": [
           {
            "colorbar": {
             "outlinewidth": 0,
             "ticks": ""
            },
            "colorscale": [
             [
              0,
              "#0d0887"
             ],
             [
              0.1111111111111111,
              "#46039f"
             ],
             [
              0.2222222222222222,
              "#7201a8"
             ],
             [
              0.3333333333333333,
              "#9c179e"
             ],
             [
              0.4444444444444444,
              "#bd3786"
             ],
             [
              0.5555555555555556,
              "#d8576b"
             ],
             [
              0.6666666666666666,
              "#ed7953"
             ],
             [
              0.7777777777777778,
              "#fb9f3a"
             ],
             [
              0.8888888888888888,
              "#fdca26"
             ],
             [
              1,
              "#f0f921"
             ]
            ],
            "type": "histogram2dcontour"
           }
          ],
          "mesh3d": [
           {
            "colorbar": {
             "outlinewidth": 0,
             "ticks": ""
            },
            "type": "mesh3d"
           }
          ],
          "parcoords": [
           {
            "line": {
             "colorbar": {
              "outlinewidth": 0,
              "ticks": ""
             }
            },
            "type": "parcoords"
           }
          ],
          "pie": [
           {
            "automargin": true,
            "type": "pie"
           }
          ],
          "scatter": [
           {
            "fillpattern": {
             "fillmode": "overlay",
             "size": 10,
             "solidity": 0.2
            },
            "type": "scatter"
           }
          ],
          "scatter3d": [
           {
            "line": {
             "colorbar": {
              "outlinewidth": 0,
              "ticks": ""
             }
            },
            "marker": {
             "colorbar": {
              "outlinewidth": 0,
              "ticks": ""
             }
            },
            "type": "scatter3d"
           }
          ],
          "scattercarpet": [
           {
            "marker": {
             "colorbar": {
              "outlinewidth": 0,
              "ticks": ""
             }
            },
            "type": "scattercarpet"
           }
          ],
          "scattergeo": [
           {
            "marker": {
             "colorbar": {
              "outlinewidth": 0,
              "ticks": ""
             }
            },
            "type": "scattergeo"
           }
          ],
          "scattergl": [
           {
            "marker": {
             "colorbar": {
              "outlinewidth": 0,
              "ticks": ""
             }
            },
            "type": "scattergl"
           }
          ],
          "scattermapbox": [
           {
            "marker": {
             "colorbar": {
              "outlinewidth": 0,
              "ticks": ""
             }
            },
            "type": "scattermapbox"
           }
          ],
          "scatterpolar": [
           {
            "marker": {
             "colorbar": {
              "outlinewidth": 0,
              "ticks": ""
             }
            },
            "type": "scatterpolar"
           }
          ],
          "scatterpolargl": [
           {
            "marker": {
             "colorbar": {
              "outlinewidth": 0,
              "ticks": ""
             }
            },
            "type": "scatterpolargl"
           }
          ],
          "scatterternary": [
           {
            "marker": {
             "colorbar": {
              "outlinewidth": 0,
              "ticks": ""
             }
            },
            "type": "scatterternary"
           }
          ],
          "surface": [
           {
            "colorbar": {
             "outlinewidth": 0,
             "ticks": ""
            },
            "colorscale": [
             [
              0,
              "#0d0887"
             ],
             [
              0.1111111111111111,
              "#46039f"
             ],
             [
              0.2222222222222222,
              "#7201a8"
             ],
             [
              0.3333333333333333,
              "#9c179e"
             ],
             [
              0.4444444444444444,
              "#bd3786"
             ],
             [
              0.5555555555555556,
              "#d8576b"
             ],
             [
              0.6666666666666666,
              "#ed7953"
             ],
             [
              0.7777777777777778,
              "#fb9f3a"
             ],
             [
              0.8888888888888888,
              "#fdca26"
             ],
             [
              1,
              "#f0f921"
             ]
            ],
            "type": "surface"
           }
          ],
          "table": [
           {
            "cells": {
             "fill": {
              "color": "#EBF0F8"
             },
             "line": {
              "color": "white"
             }
            },
            "header": {
             "fill": {
              "color": "#C8D4E3"
             },
             "line": {
              "color": "white"
             }
            },
            "type": "table"
           }
          ]
         },
         "layout": {
          "annotationdefaults": {
           "arrowcolor": "#2a3f5f",
           "arrowhead": 0,
           "arrowwidth": 1
          },
          "autotypenumbers": "strict",
          "coloraxis": {
           "colorbar": {
            "outlinewidth": 0,
            "ticks": ""
           }
          },
          "colorscale": {
           "diverging": [
            [
             0,
             "#8e0152"
            ],
            [
             0.1,
             "#c51b7d"
            ],
            [
             0.2,
             "#de77ae"
            ],
            [
             0.3,
             "#f1b6da"
            ],
            [
             0.4,
             "#fde0ef"
            ],
            [
             0.5,
             "#f7f7f7"
            ],
            [
             0.6,
             "#e6f5d0"
            ],
            [
             0.7,
             "#b8e186"
            ],
            [
             0.8,
             "#7fbc41"
            ],
            [
             0.9,
             "#4d9221"
            ],
            [
             1,
             "#276419"
            ]
           ],
           "sequential": [
            [
             0,
             "#0d0887"
            ],
            [
             0.1111111111111111,
             "#46039f"
            ],
            [
             0.2222222222222222,
             "#7201a8"
            ],
            [
             0.3333333333333333,
             "#9c179e"
            ],
            [
             0.4444444444444444,
             "#bd3786"
            ],
            [
             0.5555555555555556,
             "#d8576b"
            ],
            [
             0.6666666666666666,
             "#ed7953"
            ],
            [
             0.7777777777777778,
             "#fb9f3a"
            ],
            [
             0.8888888888888888,
             "#fdca26"
            ],
            [
             1,
             "#f0f921"
            ]
           ],
           "sequentialminus": [
            [
             0,
             "#0d0887"
            ],
            [
             0.1111111111111111,
             "#46039f"
            ],
            [
             0.2222222222222222,
             "#7201a8"
            ],
            [
             0.3333333333333333,
             "#9c179e"
            ],
            [
             0.4444444444444444,
             "#bd3786"
            ],
            [
             0.5555555555555556,
             "#d8576b"
            ],
            [
             0.6666666666666666,
             "#ed7953"
            ],
            [
             0.7777777777777778,
             "#fb9f3a"
            ],
            [
             0.8888888888888888,
             "#fdca26"
            ],
            [
             1,
             "#f0f921"
            ]
           ]
          },
          "colorway": [
           "#636efa",
           "#EF553B",
           "#00cc96",
           "#ab63fa",
           "#FFA15A",
           "#19d3f3",
           "#FF6692",
           "#B6E880",
           "#FF97FF",
           "#FECB52"
          ],
          "font": {
           "color": "#2a3f5f"
          },
          "geo": {
           "bgcolor": "white",
           "lakecolor": "white",
           "landcolor": "#E5ECF6",
           "showlakes": true,
           "showland": true,
           "subunitcolor": "white"
          },
          "hoverlabel": {
           "align": "left"
          },
          "hovermode": "closest",
          "mapbox": {
           "style": "light"
          },
          "paper_bgcolor": "white",
          "plot_bgcolor": "#E5ECF6",
          "polar": {
           "angularaxis": {
            "gridcolor": "white",
            "linecolor": "white",
            "ticks": ""
           },
           "bgcolor": "#E5ECF6",
           "radialaxis": {
            "gridcolor": "white",
            "linecolor": "white",
            "ticks": ""
           }
          },
          "scene": {
           "xaxis": {
            "backgroundcolor": "#E5ECF6",
            "gridcolor": "white",
            "gridwidth": 2,
            "linecolor": "white",
            "showbackground": true,
            "ticks": "",
            "zerolinecolor": "white"
           },
           "yaxis": {
            "backgroundcolor": "#E5ECF6",
            "gridcolor": "white",
            "gridwidth": 2,
            "linecolor": "white",
            "showbackground": true,
            "ticks": "",
            "zerolinecolor": "white"
           },
           "zaxis": {
            "backgroundcolor": "#E5ECF6",
            "gridcolor": "white",
            "gridwidth": 2,
            "linecolor": "white",
            "showbackground": true,
            "ticks": "",
            "zerolinecolor": "white"
           }
          },
          "shapedefaults": {
           "line": {
            "color": "#2a3f5f"
           }
          },
          "ternary": {
           "aaxis": {
            "gridcolor": "white",
            "linecolor": "white",
            "ticks": ""
           },
           "baxis": {
            "gridcolor": "white",
            "linecolor": "white",
            "ticks": ""
           },
           "bgcolor": "#E5ECF6",
           "caxis": {
            "gridcolor": "white",
            "linecolor": "white",
            "ticks": ""
           }
          },
          "title": {
           "x": 0.05
          },
          "xaxis": {
           "automargin": true,
           "gridcolor": "white",
           "linecolor": "white",
           "ticks": "",
           "title": {
            "standoff": 15
           },
           "zerolinecolor": "white",
           "zerolinewidth": 2
          },
          "yaxis": {
           "automargin": true,
           "gridcolor": "white",
           "linecolor": "white",
           "ticks": "",
           "title": {
            "standoff": 15
           },
           "zerolinecolor": "white",
           "zerolinewidth": 2
          }
         }
        },
        "title": {
         "text": "Participants by Modality (Without Outlier)"
        },
        "xaxis": {
         "anchor": "y",
         "domain": [
          0,
          1
         ],
         "title": {
          "text": "Participants"
         }
        },
        "yaxis": {
         "anchor": "x",
         "domain": [
          0,
          1
         ],
         "title": {
          "text": "Modality"
         }
        }
       }
      }
     },
     "metadata": {},
     "output_type": "display_data"
    },
    {
     "data": {
      "application/vnd.plotly.v1+json": {
       "config": {
        "plotlyServerURL": "https://plot.ly"
       },
       "data": [
        {
         "alignmentgroup": "True",
         "boxpoints": "all",
         "fillcolor": "rgba(255,255,255,0)",
         "hoveron": "points",
         "hovertemplate": "Participants=%{x}<br>Modality=%{y}<extra></extra>",
         "legendgroup": "",
         "line": {
          "color": "rgba(255,255,255,0)"
         },
         "marker": {
          "color": "#636efa"
         },
         "name": "",
         "offsetgroup": "",
         "orientation": "h",
         "pointpos": 0,
         "showlegend": false,
         "type": "box",
         "x": [
          0,
          1,
          1,
          1,
          1,
          1,
          1,
          1,
          1,
          1,
          1,
          1,
          2,
          2,
          3,
          3,
          4,
          4,
          4,
          5,
          5,
          6,
          6,
          6,
          7,
          7,
          7,
          8,
          8,
          8,
          8,
          9,
          9,
          9,
          9,
          10,
          10,
          10,
          10,
          10,
          10,
          10,
          10,
          10,
          10,
          11,
          11,
          11,
          11,
          11,
          12,
          12,
          12,
          12,
          13,
          13,
          13,
          13,
          13,
          13,
          13,
          13,
          14,
          14,
          14,
          14,
          14,
          14,
          14,
          14,
          15,
          15,
          16,
          16,
          16,
          16,
          17,
          17,
          17,
          17,
          17,
          17,
          17,
          18,
          18,
          18,
          18,
          18,
          18,
          18,
          18,
          18,
          19,
          19,
          19,
          19,
          19,
          19,
          19,
          20,
          20,
          20,
          20,
          20,
          20,
          20,
          20,
          20,
          20,
          20,
          20,
          20,
          20,
          20,
          20,
          20,
          20,
          20,
          20,
          20,
          21,
          21,
          21,
          21,
          21,
          21,
          21,
          21,
          21,
          21,
          22,
          22,
          22,
          22,
          22,
          23,
          23,
          23,
          23,
          23,
          24,
          24,
          24,
          24,
          24,
          24,
          24,
          25,
          25,
          25,
          25,
          25,
          25,
          25,
          26,
          26,
          26,
          27,
          27,
          28,
          28,
          29,
          30,
          30,
          30,
          30,
          30,
          30,
          30,
          30,
          30,
          30,
          31,
          31,
          31,
          31,
          32,
          32,
          32,
          33,
          33,
          33,
          34,
          34,
          34,
          34,
          34,
          35,
          35,
          36,
          36,
          36,
          37,
          38,
          39,
          39,
          40,
          40,
          40,
          40,
          40,
          40,
          41,
          42,
          42,
          42,
          43,
          44,
          44,
          45,
          45,
          45,
          45,
          45,
          45,
          45,
          47,
          47,
          48,
          48,
          48,
          49,
          49,
          50,
          50,
          50,
          50,
          51,
          52,
          52,
          52,
          53,
          53,
          54,
          56,
          56,
          56,
          56,
          57,
          57,
          58,
          58,
          60,
          60,
          60,
          61,
          61,
          62,
          62,
          62,
          63,
          63,
          65,
          71,
          71,
          72,
          73,
          74,
          74,
          75,
          79,
          79,
          80,
          82,
          88,
          91,
          91,
          96,
          98,
          103,
          103,
          109,
          109,
          110,
          110,
          111,
          114,
          118,
          122,
          122,
          139,
          146,
          147,
          149,
          156,
          156,
          165,
          172,
          182,
          258,
          280,
          364
         ],
         "x0": " ",
         "xaxis": "x",
         "y": [
          "other",
          "other",
          "auditory",
          "visual",
          "motor",
          "auditory",
          "multisensory",
          "multisensory",
          "multisensory",
          "visual",
          "visual",
          "auditory",
          "multisensory",
          "visual",
          "visual",
          "auditory",
          "visual",
          "resting state",
          "visual",
          "resting state",
          "resting state",
          "other",
          "visual",
          "anasthesia",
          "visual",
          "visual",
          "anasthesia",
          "auditory",
          "visual",
          "resting state",
          "multisensory",
          "visual",
          "auditory",
          "sleep",
          "multisensory",
          "auditory",
          "visual",
          "anasthesia",
          "visual",
          "motor",
          "visual",
          "resting state",
          "visual",
          "visual",
          "auditory",
          "multisensory",
          "visual",
          "tactile",
          "multisensory",
          "multisensory",
          "visual",
          "multisensory",
          "auditory",
          "visual",
          "multisensory",
          "auditory",
          "resting state",
          "auditory",
          "multisensory",
          "auditory",
          "visual",
          "visual",
          "resting state",
          "multisensory",
          "multisensory",
          "visual",
          "visual",
          "visual",
          "other",
          "visual",
          "resting state",
          "auditory",
          "visual",
          "visual",
          "visual",
          "visual",
          "multisensory",
          "multisensory",
          "motor",
          "visual",
          "visual",
          "visual",
          "multisensory",
          "tactile",
          "visual",
          "visual",
          "visual",
          "auditory",
          "auditory",
          "multisensory",
          "motor",
          "visual",
          "auditory",
          "visual",
          "multisensory",
          "auditory",
          "motor",
          "motor",
          "auditory",
          "visual",
          "visual",
          "multisensory",
          "sleep",
          "visual",
          "visual",
          "sleep",
          "auditory",
          "visual",
          "multisensory",
          "multisensory",
          "auditory",
          "auditory",
          "resting state",
          "auditory",
          "tactile",
          "multisensory",
          "visual",
          "resting state",
          "visual",
          "visual",
          "visual",
          "motor",
          "multisensory",
          "multisensory",
          "visual",
          "visual",
          "visual",
          "multisensory",
          "auditory",
          "visual",
          "auditory",
          "anasthesia",
          "visual",
          "visual",
          "visual",
          "visual",
          "visual",
          "motor",
          "visual",
          "visual",
          "visual",
          "visual",
          "auditory",
          "motor",
          "visual",
          "visual",
          "multisensory",
          "visual",
          "visual",
          "motor",
          "auditory",
          "visual",
          "visual",
          "visual",
          "multisensory",
          "resting state",
          "multisensory",
          "visual",
          "visual",
          "visual",
          "visual",
          "multisensory",
          "visual",
          "motor",
          "visual",
          "visual",
          "visual",
          "motor",
          "visual",
          "auditory",
          "visual",
          "resting state",
          "visual",
          "auditory",
          "auditory",
          "resting state",
          "motor",
          "visual",
          "multisensory",
          "sleep",
          "visual",
          "visual",
          "visual",
          "visual",
          "auditory",
          "sleep",
          "auditory",
          "resting state",
          "auditory",
          "visual",
          "visual",
          "auditory",
          "visual",
          "visual",
          "resting state",
          "visual",
          "auditory",
          "auditory",
          "multisensory",
          "visual",
          "multisensory",
          "visual",
          "auditory",
          "visual",
          "visual",
          "visual",
          "multisensory",
          "anasthesia",
          "auditory",
          "visual",
          "resting state",
          "auditory",
          "visual",
          "visual",
          "visual",
          "visual",
          "visual",
          "visual",
          "visual",
          "multisensory",
          "visual",
          "visual",
          "multisensory",
          "multisensory",
          "multisensory",
          "auditory",
          "visual",
          "visual",
          "auditory",
          "auditory",
          "visual",
          "visual",
          "multisensory",
          "visual",
          "auditory",
          "visual",
          "visual",
          "visual",
          "visual",
          "multisensory",
          "auditory",
          "auditory",
          "anasthesia",
          "auditory",
          "multisensory",
          "visual",
          "resting state",
          "visual",
          "visual",
          "multisensory",
          "multisensory",
          "resting state",
          "auditory",
          "visual",
          "resting state",
          "auditory",
          "visual",
          "other",
          "auditory",
          "auditory",
          "visual",
          "resting state",
          "visual",
          "resting state",
          "resting state",
          "visual",
          "visual",
          "auditory",
          "auditory",
          "sleep",
          "visual",
          "multisensory",
          "visual",
          "visual",
          "visual",
          "resting state",
          "sleep",
          "visual",
          "visual",
          "resting state",
          "visual",
          "multisensory",
          "visual",
          "resting state",
          "visual",
          "visual",
          "visual",
          "visual",
          "visual",
          "visual",
          "visual",
          "visual"
         ],
         "y0": " ",
         "yaxis": "y"
        }
       ],
       "layout": {
        "boxmode": "overlay",
        "legend": {
         "tracegroupgap": 0
        },
        "template": {
         "data": {
          "bar": [
           {
            "error_x": {
             "color": "#2a3f5f"
            },
            "error_y": {
             "color": "#2a3f5f"
            },
            "marker": {
             "line": {
              "color": "#E5ECF6",
              "width": 0.5
             },
             "pattern": {
              "fillmode": "overlay",
              "size": 10,
              "solidity": 0.2
             }
            },
            "type": "bar"
           }
          ],
          "barpolar": [
           {
            "marker": {
             "line": {
              "color": "#E5ECF6",
              "width": 0.5
             },
             "pattern": {
              "fillmode": "overlay",
              "size": 10,
              "solidity": 0.2
             }
            },
            "type": "barpolar"
           }
          ],
          "carpet": [
           {
            "aaxis": {
             "endlinecolor": "#2a3f5f",
             "gridcolor": "white",
             "linecolor": "white",
             "minorgridcolor": "white",
             "startlinecolor": "#2a3f5f"
            },
            "baxis": {
             "endlinecolor": "#2a3f5f",
             "gridcolor": "white",
             "linecolor": "white",
             "minorgridcolor": "white",
             "startlinecolor": "#2a3f5f"
            },
            "type": "carpet"
           }
          ],
          "choropleth": [
           {
            "colorbar": {
             "outlinewidth": 0,
             "ticks": ""
            },
            "type": "choropleth"
           }
          ],
          "contour": [
           {
            "colorbar": {
             "outlinewidth": 0,
             "ticks": ""
            },
            "colorscale": [
             [
              0,
              "#0d0887"
             ],
             [
              0.1111111111111111,
              "#46039f"
             ],
             [
              0.2222222222222222,
              "#7201a8"
             ],
             [
              0.3333333333333333,
              "#9c179e"
             ],
             [
              0.4444444444444444,
              "#bd3786"
             ],
             [
              0.5555555555555556,
              "#d8576b"
             ],
             [
              0.6666666666666666,
              "#ed7953"
             ],
             [
              0.7777777777777778,
              "#fb9f3a"
             ],
             [
              0.8888888888888888,
              "#fdca26"
             ],
             [
              1,
              "#f0f921"
             ]
            ],
            "type": "contour"
           }
          ],
          "contourcarpet": [
           {
            "colorbar": {
             "outlinewidth": 0,
             "ticks": ""
            },
            "type": "contourcarpet"
           }
          ],
          "heatmap": [
           {
            "colorbar": {
             "outlinewidth": 0,
             "ticks": ""
            },
            "colorscale": [
             [
              0,
              "#0d0887"
             ],
             [
              0.1111111111111111,
              "#46039f"
             ],
             [
              0.2222222222222222,
              "#7201a8"
             ],
             [
              0.3333333333333333,
              "#9c179e"
             ],
             [
              0.4444444444444444,
              "#bd3786"
             ],
             [
              0.5555555555555556,
              "#d8576b"
             ],
             [
              0.6666666666666666,
              "#ed7953"
             ],
             [
              0.7777777777777778,
              "#fb9f3a"
             ],
             [
              0.8888888888888888,
              "#fdca26"
             ],
             [
              1,
              "#f0f921"
             ]
            ],
            "type": "heatmap"
           }
          ],
          "heatmapgl": [
           {
            "colorbar": {
             "outlinewidth": 0,
             "ticks": ""
            },
            "colorscale": [
             [
              0,
              "#0d0887"
             ],
             [
              0.1111111111111111,
              "#46039f"
             ],
             [
              0.2222222222222222,
              "#7201a8"
             ],
             [
              0.3333333333333333,
              "#9c179e"
             ],
             [
              0.4444444444444444,
              "#bd3786"
             ],
             [
              0.5555555555555556,
              "#d8576b"
             ],
             [
              0.6666666666666666,
              "#ed7953"
             ],
             [
              0.7777777777777778,
              "#fb9f3a"
             ],
             [
              0.8888888888888888,
              "#fdca26"
             ],
             [
              1,
              "#f0f921"
             ]
            ],
            "type": "heatmapgl"
           }
          ],
          "histogram": [
           {
            "marker": {
             "pattern": {
              "fillmode": "overlay",
              "size": 10,
              "solidity": 0.2
             }
            },
            "type": "histogram"
           }
          ],
          "histogram2d": [
           {
            "colorbar": {
             "outlinewidth": 0,
             "ticks": ""
            },
            "colorscale": [
             [
              0,
              "#0d0887"
             ],
             [
              0.1111111111111111,
              "#46039f"
             ],
             [
              0.2222222222222222,
              "#7201a8"
             ],
             [
              0.3333333333333333,
              "#9c179e"
             ],
             [
              0.4444444444444444,
              "#bd3786"
             ],
             [
              0.5555555555555556,
              "#d8576b"
             ],
             [
              0.6666666666666666,
              "#ed7953"
             ],
             [
              0.7777777777777778,
              "#fb9f3a"
             ],
             [
              0.8888888888888888,
              "#fdca26"
             ],
             [
              1,
              "#f0f921"
             ]
            ],
            "type": "histogram2d"
           }
          ],
          "histogram2dcontour": [
           {
            "colorbar": {
             "outlinewidth": 0,
             "ticks": ""
            },
            "colorscale": [
             [
              0,
              "#0d0887"
             ],
             [
              0.1111111111111111,
              "#46039f"
             ],
             [
              0.2222222222222222,
              "#7201a8"
             ],
             [
              0.3333333333333333,
              "#9c179e"
             ],
             [
              0.4444444444444444,
              "#bd3786"
             ],
             [
              0.5555555555555556,
              "#d8576b"
             ],
             [
              0.6666666666666666,
              "#ed7953"
             ],
             [
              0.7777777777777778,
              "#fb9f3a"
             ],
             [
              0.8888888888888888,
              "#fdca26"
             ],
             [
              1,
              "#f0f921"
             ]
            ],
            "type": "histogram2dcontour"
           }
          ],
          "mesh3d": [
           {
            "colorbar": {
             "outlinewidth": 0,
             "ticks": ""
            },
            "type": "mesh3d"
           }
          ],
          "parcoords": [
           {
            "line": {
             "colorbar": {
              "outlinewidth": 0,
              "ticks": ""
             }
            },
            "type": "parcoords"
           }
          ],
          "pie": [
           {
            "automargin": true,
            "type": "pie"
           }
          ],
          "scatter": [
           {
            "fillpattern": {
             "fillmode": "overlay",
             "size": 10,
             "solidity": 0.2
            },
            "type": "scatter"
           }
          ],
          "scatter3d": [
           {
            "line": {
             "colorbar": {
              "outlinewidth": 0,
              "ticks": ""
             }
            },
            "marker": {
             "colorbar": {
              "outlinewidth": 0,
              "ticks": ""
             }
            },
            "type": "scatter3d"
           }
          ],
          "scattercarpet": [
           {
            "marker": {
             "colorbar": {
              "outlinewidth": 0,
              "ticks": ""
             }
            },
            "type": "scattercarpet"
           }
          ],
          "scattergeo": [
           {
            "marker": {
             "colorbar": {
              "outlinewidth": 0,
              "ticks": ""
             }
            },
            "type": "scattergeo"
           }
          ],
          "scattergl": [
           {
            "marker": {
             "colorbar": {
              "outlinewidth": 0,
              "ticks": ""
             }
            },
            "type": "scattergl"
           }
          ],
          "scattermapbox": [
           {
            "marker": {
             "colorbar": {
              "outlinewidth": 0,
              "ticks": ""
             }
            },
            "type": "scattermapbox"
           }
          ],
          "scatterpolar": [
           {
            "marker": {
             "colorbar": {
              "outlinewidth": 0,
              "ticks": ""
             }
            },
            "type": "scatterpolar"
           }
          ],
          "scatterpolargl": [
           {
            "marker": {
             "colorbar": {
              "outlinewidth": 0,
              "ticks": ""
             }
            },
            "type": "scatterpolargl"
           }
          ],
          "scatterternary": [
           {
            "marker": {
             "colorbar": {
              "outlinewidth": 0,
              "ticks": ""
             }
            },
            "type": "scatterternary"
           }
          ],
          "surface": [
           {
            "colorbar": {
             "outlinewidth": 0,
             "ticks": ""
            },
            "colorscale": [
             [
              0,
              "#0d0887"
             ],
             [
              0.1111111111111111,
              "#46039f"
             ],
             [
              0.2222222222222222,
              "#7201a8"
             ],
             [
              0.3333333333333333,
              "#9c179e"
             ],
             [
              0.4444444444444444,
              "#bd3786"
             ],
             [
              0.5555555555555556,
              "#d8576b"
             ],
             [
              0.6666666666666666,
              "#ed7953"
             ],
             [
              0.7777777777777778,
              "#fb9f3a"
             ],
             [
              0.8888888888888888,
              "#fdca26"
             ],
             [
              1,
              "#f0f921"
             ]
            ],
            "type": "surface"
           }
          ],
          "table": [
           {
            "cells": {
             "fill": {
              "color": "#EBF0F8"
             },
             "line": {
              "color": "white"
             }
            },
            "header": {
             "fill": {
              "color": "#C8D4E3"
             },
             "line": {
              "color": "white"
             }
            },
            "type": "table"
           }
          ]
         },
         "layout": {
          "annotationdefaults": {
           "arrowcolor": "#2a3f5f",
           "arrowhead": 0,
           "arrowwidth": 1
          },
          "autotypenumbers": "strict",
          "coloraxis": {
           "colorbar": {
            "outlinewidth": 0,
            "ticks": ""
           }
          },
          "colorscale": {
           "diverging": [
            [
             0,
             "#8e0152"
            ],
            [
             0.1,
             "#c51b7d"
            ],
            [
             0.2,
             "#de77ae"
            ],
            [
             0.3,
             "#f1b6da"
            ],
            [
             0.4,
             "#fde0ef"
            ],
            [
             0.5,
             "#f7f7f7"
            ],
            [
             0.6,
             "#e6f5d0"
            ],
            [
             0.7,
             "#b8e186"
            ],
            [
             0.8,
             "#7fbc41"
            ],
            [
             0.9,
             "#4d9221"
            ],
            [
             1,
             "#276419"
            ]
           ],
           "sequential": [
            [
             0,
             "#0d0887"
            ],
            [
             0.1111111111111111,
             "#46039f"
            ],
            [
             0.2222222222222222,
             "#7201a8"
            ],
            [
             0.3333333333333333,
             "#9c179e"
            ],
            [
             0.4444444444444444,
             "#bd3786"
            ],
            [
             0.5555555555555556,
             "#d8576b"
            ],
            [
             0.6666666666666666,
             "#ed7953"
            ],
            [
             0.7777777777777778,
             "#fb9f3a"
            ],
            [
             0.8888888888888888,
             "#fdca26"
            ],
            [
             1,
             "#f0f921"
            ]
           ],
           "sequentialminus": [
            [
             0,
             "#0d0887"
            ],
            [
             0.1111111111111111,
             "#46039f"
            ],
            [
             0.2222222222222222,
             "#7201a8"
            ],
            [
             0.3333333333333333,
             "#9c179e"
            ],
            [
             0.4444444444444444,
             "#bd3786"
            ],
            [
             0.5555555555555556,
             "#d8576b"
            ],
            [
             0.6666666666666666,
             "#ed7953"
            ],
            [
             0.7777777777777778,
             "#fb9f3a"
            ],
            [
             0.8888888888888888,
             "#fdca26"
            ],
            [
             1,
             "#f0f921"
            ]
           ]
          },
          "colorway": [
           "#636efa",
           "#EF553B",
           "#00cc96",
           "#ab63fa",
           "#FFA15A",
           "#19d3f3",
           "#FF6692",
           "#B6E880",
           "#FF97FF",
           "#FECB52"
          ],
          "font": {
           "color": "#2a3f5f"
          },
          "geo": {
           "bgcolor": "white",
           "lakecolor": "white",
           "landcolor": "#E5ECF6",
           "showlakes": true,
           "showland": true,
           "subunitcolor": "white"
          },
          "hoverlabel": {
           "align": "left"
          },
          "hovermode": "closest",
          "mapbox": {
           "style": "light"
          },
          "paper_bgcolor": "white",
          "plot_bgcolor": "#E5ECF6",
          "polar": {
           "angularaxis": {
            "gridcolor": "white",
            "linecolor": "white",
            "ticks": ""
           },
           "bgcolor": "#E5ECF6",
           "radialaxis": {
            "gridcolor": "white",
            "linecolor": "white",
            "ticks": ""
           }
          },
          "scene": {
           "xaxis": {
            "backgroundcolor": "#E5ECF6",
            "gridcolor": "white",
            "gridwidth": 2,
            "linecolor": "white",
            "showbackground": true,
            "ticks": "",
            "zerolinecolor": "white"
           },
           "yaxis": {
            "backgroundcolor": "#E5ECF6",
            "gridcolor": "white",
            "gridwidth": 2,
            "linecolor": "white",
            "showbackground": true,
            "ticks": "",
            "zerolinecolor": "white"
           },
           "zaxis": {
            "backgroundcolor": "#E5ECF6",
            "gridcolor": "white",
            "gridwidth": 2,
            "linecolor": "white",
            "showbackground": true,
            "ticks": "",
            "zerolinecolor": "white"
           }
          },
          "shapedefaults": {
           "line": {
            "color": "#2a3f5f"
           }
          },
          "ternary": {
           "aaxis": {
            "gridcolor": "white",
            "linecolor": "white",
            "ticks": ""
           },
           "baxis": {
            "gridcolor": "white",
            "linecolor": "white",
            "ticks": ""
           },
           "bgcolor": "#E5ECF6",
           "caxis": {
            "gridcolor": "white",
            "linecolor": "white",
            "ticks": ""
           }
          },
          "title": {
           "x": 0.05
          },
          "xaxis": {
           "automargin": true,
           "gridcolor": "white",
           "linecolor": "white",
           "ticks": "",
           "title": {
            "standoff": 15
           },
           "zerolinecolor": "white",
           "zerolinewidth": 2
          },
          "yaxis": {
           "automargin": true,
           "gridcolor": "white",
           "linecolor": "white",
           "ticks": "",
           "title": {
            "standoff": 15
           },
           "zerolinecolor": "white",
           "zerolinewidth": 2
          }
         }
        },
        "title": {
         "text": "Participants by Modality (Without Outlier) (log)"
        },
        "xaxis": {
         "anchor": "y",
         "domain": [
          0,
          1
         ],
         "title": {
          "text": "Participants"
         },
         "type": "log"
        },
        "yaxis": {
         "anchor": "x",
         "domain": [
          0,
          1
         ],
         "title": {
          "text": "Modality"
         }
        }
       }
      }
     },
     "metadata": {},
     "output_type": "display_data"
    }
   ],
   "source": [
    "df_fig8 = df[['Participants',\n",
    "              'FOR FIGURE - modality of exp']]\n",
    "df_fig8.dropna(inplace=True)\n",
    "\n",
    "modalities_fig8 = df_fig8['FOR FIGURE - modality of exp'].unique()\n",
    "\n",
    "# Initialize the dictionary with empty dataframes\n",
    "dfs_by_modalities_fig8 = {modality: pd.DataFrame(columns=df_fig8.columns) for modality in modalities_fig8}\n",
    "\n",
    "# Populate the dataframes\n",
    "for index, row in df_fig8.iterrows():\n",
    "    for modality in modalities_fig8:\n",
    "        if modality in str(row['FOR FIGURE - modality of exp']).lower():\n",
    "            dfs_by_modalities_fig8[modality].loc[len(dfs_by_modalities_fig8[modality])] = row\n",
    "\n",
    "# Combine all dataframes in dfs_by_modalities_fig8 into a single dataframe\n",
    "combined_df = pd.concat(dfs_by_modalities_fig8.values(), keys=dfs_by_modalities_fig8.keys()).reset_index(level=0).rename(columns={'level_0': 'Modality'})\n",
    "\n",
    "# Convert Participants to numeric for sorting\n",
    "combined_df['Participants'] = pd.to_numeric(combined_df['Participants'], errors='coerce')\n",
    "\n",
    "# Create the strip plot with sorted x-axis\n",
    "fig_strip = px.strip(combined_df.sort_values(by='Participants'), x='Participants', y='Modality', title='Participants by Modality', stripmode='overlay')\n",
    "\n",
    "# Create a log version of fig_strip\n",
    "fig_strip_log = px.strip(combined_df.sort_values(by='Participants'), x='Participants', y='Modality', title='Participants by Modality (log)', stripmode='overlay')\n",
    "fig_strip_log.update_xaxes(type=\"log\")\n",
    "\n",
    "# Filter out the outlier\n",
    "filtered_combined_df = combined_df[combined_df['Participants'] != 2951]\n",
    "\n",
    "# Create the second strip plot without the outlier\n",
    "fig_strip_no_outlier = px.strip(filtered_combined_df.sort_values(by='Participants'), \n",
    "                                x='Participants', y='Modality', \n",
    "                                title='Participants by Modality (Without Outlier)', \n",
    "                                stripmode='overlay')\n",
    "\n",
    "# Create a log version of the second fig_strip without the outlier\n",
    "fig_strip_no_outlier_log = px.strip(filtered_combined_df.sort_values(by='Participants'), x='Participants', y='Modality', title='Participants by Modality (Without Outlier) (log)', stripmode='overlay')\n",
    "fig_strip_no_outlier_log.update_xaxes(type=\"log\")\n",
    "\n",
    "fig_strip.show()\n",
    "fig_strip_log.show()\n",
    "fig_strip_no_outlier.show()\n",
    "fig_strip_no_outlier_log.show()"
   ]
  },
  {
   "cell_type": "code",
   "execution_count": null,
   "metadata": {},
   "outputs": [],
   "source": []
  }
 ],
 "metadata": {
  "kernelspec": {
   "display_name": "Python (venv_gpu)",
   "language": "python",
   "name": "venv_gpu"
  },
  "language_info": {
   "codemirror_mode": {
    "name": "ipython",
    "version": 3
   },
   "file_extension": ".py",
   "mimetype": "text/x-python",
   "name": "python",
   "nbconvert_exporter": "python",
   "pygments_lexer": "ipython3",
   "version": "3.11.10"
  }
 },
 "nbformat": 4,
 "nbformat_minor": 2
}
